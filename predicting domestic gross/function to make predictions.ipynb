{
 "cells": [
  {
   "cell_type": "code",
   "execution_count": 1,
   "id": "18baf41a-2f7d-4592-8642-0e60dbcfa861",
   "metadata": {},
   "outputs": [],
   "source": [
    "import pandas as pd\n",
    "import numpy as np\n",
    "from sklearn.model_selection import train_test_split\n",
    "from sklearn.ensemble import RandomForestRegressor\n",
    "from sklearn.decomposition import PCA\n",
    "from sklearn.preprocessing import PowerTransformer, MinMaxScaler"
   ]
  },
  {
   "cell_type": "code",
   "execution_count": 2,
   "id": "fbc6b372-19d4-4243-b244-f9b095420dbe",
   "metadata": {},
   "outputs": [],
   "source": [
    "df = pd.read_csv('D:\\projects\\Movies_success_predictor\\data\\movie_success_rate_with_budgets.csv',\n",
    "                 index_col=0)\n",
    "df.drop(index=df.query('DomesticGross==0').index,\n",
    "        inplace=True)\n",
    "df.drop('Success', axis=1, inplace=True)"
   ]
  },
  {
   "cell_type": "code",
   "execution_count": 3,
   "id": "4b2bc23c-8c51-4c2f-95fd-bfe55a596b2d",
   "metadata": {},
   "outputs": [],
   "source": [
    "boxcox_production = PowerTransformer(method='box-cox')\n",
    "boxcox_gross = PowerTransformer(method='box-cox')\n",
    "# %% loading a minmax scaler for time of the movie\n",
    "minmax = MinMaxScaler()\n",
    "\n",
    "# %% loading a PCA to reduce the genre col\n",
    "pca = PCA(n_components=3)"
   ]
  },
  {
   "cell_type": "code",
   "execution_count": 4,
   "id": "4c959540-3e5f-4689-936f-1e3dc6ef3ad9",
   "metadata": {},
   "outputs": [],
   "source": [
    "train_df, test_df = train_test_split(df, test_size=0.2, random_state=0)"
   ]
  },
  {
   "cell_type": "code",
   "execution_count": 5,
   "id": "dfcfb0d3-7849-4256-a083-a9aae4883cca",
   "metadata": {},
   "outputs": [],
   "source": [
    "data={}\n",
    "data['runtime']= 0.0\n",
    "data['production']= 1.0\n",
    "data['genre']= 1,0,0,1,0,0,0,0,0,0,0,0,0,0,0,0,0,0,0,0"
   ]
  },
  {
   "cell_type": "code",
   "execution_count": 6,
   "id": "550a5048-2a68-474a-bdea-96ad4a809d4d",
   "metadata": {},
   "outputs": [],
   "source": [
    "boxcox_production.fit( train_df.loc[:, 'ProductionBudget'].values.reshape(-1, 1) )\n",
    "boxcox_gross.fit( train_df.loc[:, 'DomesticGross'].values.reshape(-1, 1) )\n",
    "minmax.fit( train_df.loc[:, 'Runtime (Minutes)'].values.reshape(-1, 1) )\n",
    "pca.fit( train_df.iloc[:, 5:25] )\n",
    "\n",
    "data['runtime']= minmax.transform( np.array( data['runtime'] ).reshape(1, -1) )[0]\n",
    "data['production']= boxcox_production.transform( np.array( data['production']).reshape(1, -1) )[0]\n",
    "data['c1'], data['c2'], data['c3'] = zip( *pca.transform( np.array( data['genre']).reshape(1, -1) ))"
   ]
  },
  {
   "cell_type": "code",
   "execution_count": 19,
   "outputs": [],
   "source": [
    "import pickle\n",
    "pickle.dump(boxcox_production, open('production_scale.sav', 'wb' ))\n",
    "pickle.dump(boxcox_gross, open('gross_scale.sav', 'wb' ))\n",
    "pickle.dump(minmax, open('runtime_scale.sav', 'wb' ))\n",
    "pickle.dump(pca, open('genres_pca.sav', 'wb' ))"
   ],
   "metadata": {
    "collapsed": false,
    "pycharm": {
     "name": "#%%\n"
    }
   }
  },
  {
   "cell_type": "code",
   "execution_count": 9,
   "id": "7eca35a0-49cd-4595-aeb6-3eaaa1c0aaea",
   "metadata": {},
   "outputs": [],
   "source": [
    "del data['genre']"
   ]
  },
  {
   "cell_type": "code",
   "execution_count": 10,
   "id": "faed6420-1f00-43aa-84bb-7c27263d06ed",
   "metadata": {},
   "outputs": [
    {
     "data": {
      "text/plain": "{'runtime': array([-0.54545455]),\n 'production': array([-3.76939142]),\n 'c1': (-217272.22650070605,),\n 'c2': (-29.11028045247712,),\n 'c3': (-115.03716876610791,)}"
     },
     "execution_count": 10,
     "metadata": {},
     "output_type": "execute_result"
    }
   ],
   "source": [
    "data"
   ]
  },
  {
   "cell_type": "code",
   "execution_count": 11,
   "id": "c7470fc3-45c6-455a-924a-1ff5853e4d8e",
   "metadata": {},
   "outputs": [
    {
     "data": {
      "text/plain": "array({'runtime': array([-0.54545455]), 'production': array([-3.76939142]), 'c1': (-217272.22650070605,), 'c2': (-29.11028045247712,), 'c3': (-115.03716876610791,)},\n      dtype=object)"
     },
     "execution_count": 11,
     "metadata": {},
     "output_type": "execute_result"
    }
   ],
   "source": [
    "np.array( data )"
   ]
  },
  {
   "cell_type": "code",
   "execution_count": 12,
   "id": "f32ec615-f782-4dc5-9057-ace38ec3d310",
   "metadata": {},
   "outputs": [
    {
     "data": {
      "text/plain": "    runtime  production             c1        c2          c3\n0 -0.545455   -3.769391 -217272.226501 -29.11028 -115.037169",
      "text/html": "<div>\n<style scoped>\n    .dataframe tbody tr th:only-of-type {\n        vertical-align: middle;\n    }\n\n    .dataframe tbody tr th {\n        vertical-align: top;\n    }\n\n    .dataframe thead th {\n        text-align: right;\n    }\n</style>\n<table border=\"1\" class=\"dataframe\">\n  <thead>\n    <tr style=\"text-align: right;\">\n      <th></th>\n      <th>runtime</th>\n      <th>production</th>\n      <th>c1</th>\n      <th>c2</th>\n      <th>c3</th>\n    </tr>\n  </thead>\n  <tbody>\n    <tr>\n      <th>0</th>\n      <td>-0.545455</td>\n      <td>-3.769391</td>\n      <td>-217272.226501</td>\n      <td>-29.11028</td>\n      <td>-115.037169</td>\n    </tr>\n  </tbody>\n</table>\n</div>"
     },
     "execution_count": 12,
     "metadata": {},
     "output_type": "execute_result"
    }
   ],
   "source": [
    "pd.DataFrame(data)"
   ]
  },
  {
   "cell_type": "markdown",
   "id": "2aeac549-d1e0-4005-9560-2f93435c68a3",
   "metadata": {},
   "source": [
    "# create a function to fill other genres\n"
   ]
  },
  {
   "cell_type": "code",
   "execution_count": 13,
   "id": "006b5162-30be-4f71-927e-aff491e9bf4b",
   "metadata": {},
   "outputs": [],
   "source": [
    "genres= train_df.columns[10:30].values"
   ]
  },
  {
   "cell_type": "code",
   "execution_count": 14,
   "id": "e664898e-f134-42a2-9309-630bb3728c25",
   "metadata": {},
   "outputs": [
    {
     "data": {
      "text/plain": "array(['Action', 'Adventure', 'Aniimation', 'Biography', 'Comedy',\n       'Crime', 'Drama', 'Family', 'Fantasy', 'History', 'Horror',\n       'Music', 'Musical', 'Mystery', 'Romance', 'Sci-Fi', 'Sport',\n       'Thriller', 'War', 'Western'], dtype=object)"
     },
     "execution_count": 14,
     "metadata": {},
     "output_type": "execute_result"
    }
   ],
   "source": [
    "genres"
   ]
  },
  {
   "cell_type": "code",
   "execution_count": 15,
   "id": "01c3d3ce-7522-4c69-877f-65e5ecd5da88",
   "metadata": {},
   "outputs": [],
   "source": [
    "given= ['Action','War']"
   ]
  },
  {
   "cell_type": "code",
   "execution_count": 16,
   "outputs": [
    {
     "data": {
      "text/plain": "(array([18], dtype=int64),)"
     },
     "execution_count": 16,
     "metadata": {},
     "output_type": "execute_result"
    }
   ],
   "source": [
    "np.where(genres == 'War' )"
   ],
   "metadata": {
    "collapsed": false,
    "pycharm": {
     "name": "#%%\n"
    }
   }
  },
  {
   "cell_type": "code",
   "execution_count": 35,
   "id": "d5086e62-6f78-4f8c-9ad4-04840c15d76a",
   "metadata": {},
   "outputs": [],
   "source": [
    "idxs= [ np.where(genres == g )[0].tolist()[0] for g in given ]"
   ]
  },
  {
   "cell_type": "code",
   "execution_count": 20,
   "outputs": [],
   "source": [
    "pickle.dump(genres, open('genres_vector.sav', 'wb' ))"
   ],
   "metadata": {
    "collapsed": false,
    "pycharm": {
     "name": "#%%\n"
    }
   }
  },
  {
   "cell_type": "code",
   "execution_count": 36,
   "id": "b9382c8a-5f74-4086-a7cc-4b0dd2606cc0",
   "metadata": {},
   "outputs": [
    {
     "data": {
      "text/plain": "[0, 18]"
     },
     "execution_count": 36,
     "metadata": {},
     "output_type": "execute_result"
    }
   ],
   "source": [
    "idxs"
   ]
  },
  {
   "cell_type": "code",
   "execution_count": 37,
   "id": "1b26603f-fb79-4a47-9723-b3e37e05a4f2",
   "metadata": {},
   "outputs": [
    {
     "data": {
      "text/plain": "array(['Action', 'War'], dtype=object)"
     },
     "execution_count": 37,
     "metadata": {},
     "output_type": "execute_result"
    }
   ],
   "source": [
    "genres[idxs]"
   ]
  },
  {
   "cell_type": "code",
   "execution_count": 38,
   "id": "77a66b20-7481-4057-9160-b6eebcd40fcf",
   "metadata": {},
   "outputs": [],
   "source": [
    "genre_ip= np.zeros_like(genres)"
   ]
  },
  {
   "cell_type": "code",
   "execution_count": 39,
   "id": "be352b05-f924-47fc-90e6-c1fc476ef40e",
   "metadata": {},
   "outputs": [],
   "source": [
    "genre_ip[idxs]=1"
   ]
  },
  {
   "cell_type": "code",
   "execution_count": 40,
   "id": "1b9a6f48-54d7-4da5-84ee-89531d4dc7df",
   "metadata": {},
   "outputs": [
    {
     "data": {
      "text/plain": "array([1, 0, 0, 0, 0, 0, 0, 0, 0, 0, 0, 0, 0, 0, 0, 0, 0, 0, 1, 0],\n      dtype=object)"
     },
     "execution_count": 40,
     "metadata": {},
     "output_type": "execute_result"
    }
   ],
   "source": [
    "genre_ip"
   ]
  },
  {
   "cell_type": "code",
   "execution_count": 45,
   "id": "aa55531b-88e0-4b65-a57c-9c4329161a4c",
   "metadata": {},
   "outputs": [],
   "source": [
    "def full_genres( given  ):\n",
    "    give= [cat.lower() for cat in given]\n",
    "    genres= np.array( ['action', 'adventure', 'aniimation', 'biography', 'comedy',\n",
    "       'crime', 'drama', 'family', 'fantasy', 'history', 'horror',\n",
    "       'music', 'musical', 'mystery', 'romance', 'sci-fi', 'sport',\n",
    "       'thriller', 'war', 'western'] )\n",
    "    genre_ip= np.zeros_like(genres, dtype=int)\n",
    "    \n",
    "    idx= [ np.where(genres == g )[0].tolist()[0] for g in given ] # returns the idx for the given genres\n",
    "    \n",
    "    genre_ip[idx]=1\n",
    "    \n",
    "    return genre_ip"
   ]
  },
  {
   "cell_type": "code",
   "execution_count": 46,
   "id": "6a0215e9-8c45-4501-8673-3a84472ea26c",
   "metadata": {},
   "outputs": [
    {
     "ename": "IndexError",
     "evalue": "list index out of range",
     "output_type": "error",
     "traceback": [
      "\u001B[1;31m---------------------------------------------------------------------------\u001B[0m",
      "\u001B[1;31mIndexError\u001B[0m                                Traceback (most recent call last)",
      "\u001B[1;32m~\\AppData\\Local\\Temp/ipykernel_14380/1266266775.py\u001B[0m in \u001B[0;36m<module>\u001B[1;34m\u001B[0m\n\u001B[0;32m      1\u001B[0m \u001B[0mgiven\u001B[0m\u001B[1;33m=\u001B[0m \u001B[1;33m[\u001B[0m\u001B[1;34m'Musical'\u001B[0m \u001B[1;33m,\u001B[0m \u001B[1;34m'Drama'\u001B[0m\u001B[1;33m]\u001B[0m\u001B[1;33m\u001B[0m\u001B[1;33m\u001B[0m\u001B[0m\n\u001B[0;32m      2\u001B[0m \u001B[1;33m\u001B[0m\u001B[0m\n\u001B[1;32m----> 3\u001B[1;33m \u001B[0mfull_genres\u001B[0m\u001B[1;33m(\u001B[0m \u001B[0mgiven\u001B[0m \u001B[1;33m)\u001B[0m\u001B[1;33m\u001B[0m\u001B[1;33m\u001B[0m\u001B[0m\n\u001B[0m",
      "\u001B[1;32m~\\AppData\\Local\\Temp/ipykernel_14380/2927806159.py\u001B[0m in \u001B[0;36mfull_genres\u001B[1;34m(given)\u001B[0m\n\u001B[0;32m      7\u001B[0m     \u001B[0mgenre_ip\u001B[0m\u001B[1;33m=\u001B[0m \u001B[0mnp\u001B[0m\u001B[1;33m.\u001B[0m\u001B[0mzeros_like\u001B[0m\u001B[1;33m(\u001B[0m\u001B[0mgenres\u001B[0m\u001B[1;33m,\u001B[0m \u001B[0mdtype\u001B[0m\u001B[1;33m=\u001B[0m\u001B[0mint\u001B[0m\u001B[1;33m)\u001B[0m\u001B[1;33m\u001B[0m\u001B[1;33m\u001B[0m\u001B[0m\n\u001B[0;32m      8\u001B[0m \u001B[1;33m\u001B[0m\u001B[0m\n\u001B[1;32m----> 9\u001B[1;33m     \u001B[0midx\u001B[0m\u001B[1;33m=\u001B[0m \u001B[1;33m[\u001B[0m \u001B[0mnp\u001B[0m\u001B[1;33m.\u001B[0m\u001B[0mwhere\u001B[0m\u001B[1;33m(\u001B[0m\u001B[0mgenres\u001B[0m \u001B[1;33m==\u001B[0m \u001B[0mg\u001B[0m \u001B[1;33m)\u001B[0m\u001B[1;33m[\u001B[0m\u001B[1;36m0\u001B[0m\u001B[1;33m]\u001B[0m\u001B[1;33m.\u001B[0m\u001B[0mtolist\u001B[0m\u001B[1;33m(\u001B[0m\u001B[1;33m)\u001B[0m\u001B[1;33m[\u001B[0m\u001B[1;36m0\u001B[0m\u001B[1;33m]\u001B[0m \u001B[1;32mfor\u001B[0m \u001B[0mg\u001B[0m \u001B[1;32min\u001B[0m \u001B[0mgiven\u001B[0m \u001B[1;33m]\u001B[0m \u001B[1;31m# returns the idx for the given genres\u001B[0m\u001B[1;33m\u001B[0m\u001B[1;33m\u001B[0m\u001B[0m\n\u001B[0m\u001B[0;32m     10\u001B[0m \u001B[1;33m\u001B[0m\u001B[0m\n\u001B[0;32m     11\u001B[0m     \u001B[0mgenre_ip\u001B[0m\u001B[1;33m[\u001B[0m\u001B[0midx\u001B[0m\u001B[1;33m]\u001B[0m\u001B[1;33m=\u001B[0m\u001B[1;36m1\u001B[0m\u001B[1;33m\u001B[0m\u001B[1;33m\u001B[0m\u001B[0m\n",
      "\u001B[1;32m~\\AppData\\Local\\Temp/ipykernel_14380/2927806159.py\u001B[0m in \u001B[0;36m<listcomp>\u001B[1;34m(.0)\u001B[0m\n\u001B[0;32m      7\u001B[0m     \u001B[0mgenre_ip\u001B[0m\u001B[1;33m=\u001B[0m \u001B[0mnp\u001B[0m\u001B[1;33m.\u001B[0m\u001B[0mzeros_like\u001B[0m\u001B[1;33m(\u001B[0m\u001B[0mgenres\u001B[0m\u001B[1;33m,\u001B[0m \u001B[0mdtype\u001B[0m\u001B[1;33m=\u001B[0m\u001B[0mint\u001B[0m\u001B[1;33m)\u001B[0m\u001B[1;33m\u001B[0m\u001B[1;33m\u001B[0m\u001B[0m\n\u001B[0;32m      8\u001B[0m \u001B[1;33m\u001B[0m\u001B[0m\n\u001B[1;32m----> 9\u001B[1;33m     \u001B[0midx\u001B[0m\u001B[1;33m=\u001B[0m \u001B[1;33m[\u001B[0m \u001B[0mnp\u001B[0m\u001B[1;33m.\u001B[0m\u001B[0mwhere\u001B[0m\u001B[1;33m(\u001B[0m\u001B[0mgenres\u001B[0m \u001B[1;33m==\u001B[0m \u001B[0mg\u001B[0m \u001B[1;33m)\u001B[0m\u001B[1;33m[\u001B[0m\u001B[1;36m0\u001B[0m\u001B[1;33m]\u001B[0m\u001B[1;33m.\u001B[0m\u001B[0mtolist\u001B[0m\u001B[1;33m(\u001B[0m\u001B[1;33m)\u001B[0m\u001B[1;33m[\u001B[0m\u001B[1;36m0\u001B[0m\u001B[1;33m]\u001B[0m \u001B[1;32mfor\u001B[0m \u001B[0mg\u001B[0m \u001B[1;32min\u001B[0m \u001B[0mgiven\u001B[0m \u001B[1;33m]\u001B[0m \u001B[1;31m# returns the idx for the given genres\u001B[0m\u001B[1;33m\u001B[0m\u001B[1;33m\u001B[0m\u001B[0m\n\u001B[0m\u001B[0;32m     10\u001B[0m \u001B[1;33m\u001B[0m\u001B[0m\n\u001B[0;32m     11\u001B[0m     \u001B[0mgenre_ip\u001B[0m\u001B[1;33m[\u001B[0m\u001B[0midx\u001B[0m\u001B[1;33m]\u001B[0m\u001B[1;33m=\u001B[0m\u001B[1;36m1\u001B[0m\u001B[1;33m\u001B[0m\u001B[1;33m\u001B[0m\u001B[0m\n",
      "\u001B[1;31mIndexError\u001B[0m: list index out of range"
     ]
    }
   ],
   "source": [
    "given= ['Musical' , 'Drama']\n",
    "\n",
    "full_genres( given )"
   ]
  },
  {
   "cell_type": "markdown",
   "id": "1c9078f7-812c-48f8-96f1-72f35a519e8e",
   "metadata": {},
   "source": [
    "# let's put this all together "
   ]
  },
  {
   "cell_type": "code",
   "execution_count": 21,
   "id": "456abad2-6143-4889-833f-862a2fa00873",
   "metadata": {},
   "outputs": [],
   "source": [
    "def full_genres( given ):  \n",
    "    genres= np.array( ['action', 'adventure', 'aniimation', 'biography', 'comedy',\n",
    "       'crime', 'drama', 'family', 'fantasy', 'history', 'horror',\n",
    "       'music', 'musical', 'mystery', 'romance', 'sci-fi', 'sport',\n",
    "       'thriller', 'war', 'western'] )\n",
    "    genre_ip= np.zeros_like(genres, dtype=int)\n",
    "    \n",
    "    idx= [ np.where(genres == g.lower() )[0].tolist()[0] for g in given ] # returns the idx for the given genres\n",
    "    \n",
    "    genre_ip[idx]=1\n",
    "    \n",
    "    return genre_ip\n",
    "\n",
    "def predict_gross( data ):\n",
    "\n",
    "    df = pd.read_csv('D:\\projects\\Movies_success_predictor\\data\\provided_data_with_budget.csv',\n",
    "                 index_col=0)\n",
    "    df.drop(index=df.query('DomesticGross==0').index,\n",
    "            inplace=True)\n",
    "    df.drop('Success', axis=1, inplace=True)\n",
    "    df, _ = train_test_split(df, test_size=0.2, random_state=0)\n",
    "    \n",
    "    boxcox_production = PowerTransformer(method='box-cox')\n",
    "    boxcox_gross = PowerTransformer(method='box-cox')\n",
    "    minmax = MinMaxScaler()\n",
    "    pca = PCA(n_components=3)\n",
    "    \n",
    "    boxcox_production.fit( df.loc[:, 'ProductionBudget'].values.reshape(-1, 1) )\n",
    "    boxcox_gross.fit( df.loc[:, 'DomesticGross'].values.reshape(-1, 1) )\n",
    "    minmax.fit( df.loc[:, 'Runtime (Minutes)'].values.reshape(-1, 1) )\n",
    "    pca.fit( df.iloc[:, 5:25] )\n",
    "    \n",
    "    model= RandomForestRegressor(10)\n",
    "    \n",
    "    df= pd.read_csv('D:/projects/Movies_success_predictor/data/train_budget_numerical.csv', index_col=0 )\n",
    "    model.fit( X=df.drop('DomesticGross', axis=1),  y=df.DomesticGross)\n",
    "    pickle.dump(model, open('model.sav', 'wb' ))\n",
    "    data['runtime']= minmax.transform( np.array( data['runtime'] ).reshape(1, -1) )[0]\n",
    "    data['production']= boxcox_production.transform( np.array( data['production']).reshape(1, -1) )[0]\n",
    "    data['c1'], data['c2'], data['c3'] = zip( *pca.transform( full_genres( data['genre'] ).reshape(1, -1).tolist() ) )\n",
    "    \n",
    "    #zip( *pca.transform( np.array( data['genre']).reshape(1, -1) ))\n",
    "\n",
    "    del data['genre']\n",
    "    \n",
    "    return boxcox_gross.inverse_transform( model.predict( pd.DataFrame(data)).reshape(1, -1)  ).tolist()[0][0]"
   ]
  },
  {
   "cell_type": "code",
   "execution_count": 22,
   "id": "758dc30d-f5f4-4df3-80d7-cc68e150c493",
   "metadata": {},
   "outputs": [
    {
     "name": "stdout",
     "output_type": "stream",
     "text": [
      "\n",
      "Enter genres carefully from here: \n",
      "action, adventure, aniimation, biography,\n",
      "comedy, crime, drama, family, \n",
      "fantasy, history, horror, musis, \n",
      "musical, mystery, romance, sci-fi, \n",
      "sport,thriller, war, western\n",
      "\n"
     ]
    },
    {
     "ename": "IndexError",
     "evalue": "list index out of range",
     "output_type": "error",
     "traceback": [
      "\u001B[1;31m---------------------------------------------------------------------------\u001B[0m",
      "\u001B[1;31mIndexError\u001B[0m                                Traceback (most recent call last)",
      "\u001B[1;32m~\\AppData\\Local\\Temp/ipykernel_7740/3785800369.py\u001B[0m in \u001B[0;36m<module>\u001B[1;34m\u001B[0m\n\u001B[0;32m     12\u001B[0m \u001B[0mdata\u001B[0m\u001B[1;33m[\u001B[0m\u001B[1;34m'genre'\u001B[0m\u001B[1;33m]\u001B[0m\u001B[1;33m=\u001B[0m \u001B[1;33m[\u001B[0m\u001B[0minput\u001B[0m\u001B[1;33m(\u001B[0m\u001B[1;34m'Enter genre\\n'\u001B[0m\u001B[1;33m)\u001B[0m \u001B[1;32mfor\u001B[0m \u001B[0mi\u001B[0m \u001B[1;32min\u001B[0m \u001B[0mrange\u001B[0m\u001B[1;33m(\u001B[0m\u001B[1;36m3\u001B[0m\u001B[1;33m)\u001B[0m\u001B[1;33m]\u001B[0m\u001B[1;33m\u001B[0m\u001B[1;33m\u001B[0m\u001B[0m\n\u001B[0;32m     13\u001B[0m \u001B[1;33m\u001B[0m\u001B[0m\n\u001B[1;32m---> 14\u001B[1;33m \u001B[0mprint\u001B[0m\u001B[1;33m(\u001B[0m \u001B[1;34mf'\\nPredicted gross= {np.floor(predict_gross(data))} $'\u001B[0m\u001B[1;33m)\u001B[0m\u001B[1;33m\u001B[0m\u001B[1;33m\u001B[0m\u001B[0m\n\u001B[0m",
      "\u001B[1;32m~\\AppData\\Local\\Temp/ipykernel_7740/3854937318.py\u001B[0m in \u001B[0;36mpredict_gross\u001B[1;34m(data)\u001B[0m\n\u001B[0;32m     38\u001B[0m     \u001B[0mdata\u001B[0m\u001B[1;33m[\u001B[0m\u001B[1;34m'runtime'\u001B[0m\u001B[1;33m]\u001B[0m\u001B[1;33m=\u001B[0m \u001B[0mminmax\u001B[0m\u001B[1;33m.\u001B[0m\u001B[0mtransform\u001B[0m\u001B[1;33m(\u001B[0m \u001B[0mnp\u001B[0m\u001B[1;33m.\u001B[0m\u001B[0marray\u001B[0m\u001B[1;33m(\u001B[0m \u001B[0mdata\u001B[0m\u001B[1;33m[\u001B[0m\u001B[1;34m'runtime'\u001B[0m\u001B[1;33m]\u001B[0m \u001B[1;33m)\u001B[0m\u001B[1;33m.\u001B[0m\u001B[0mreshape\u001B[0m\u001B[1;33m(\u001B[0m\u001B[1;36m1\u001B[0m\u001B[1;33m,\u001B[0m \u001B[1;33m-\u001B[0m\u001B[1;36m1\u001B[0m\u001B[1;33m)\u001B[0m \u001B[1;33m)\u001B[0m\u001B[1;33m[\u001B[0m\u001B[1;36m0\u001B[0m\u001B[1;33m]\u001B[0m\u001B[1;33m\u001B[0m\u001B[1;33m\u001B[0m\u001B[0m\n\u001B[0;32m     39\u001B[0m     \u001B[0mdata\u001B[0m\u001B[1;33m[\u001B[0m\u001B[1;34m'production'\u001B[0m\u001B[1;33m]\u001B[0m\u001B[1;33m=\u001B[0m \u001B[0mboxcox_production\u001B[0m\u001B[1;33m.\u001B[0m\u001B[0mtransform\u001B[0m\u001B[1;33m(\u001B[0m \u001B[0mnp\u001B[0m\u001B[1;33m.\u001B[0m\u001B[0marray\u001B[0m\u001B[1;33m(\u001B[0m \u001B[0mdata\u001B[0m\u001B[1;33m[\u001B[0m\u001B[1;34m'production'\u001B[0m\u001B[1;33m]\u001B[0m\u001B[1;33m)\u001B[0m\u001B[1;33m.\u001B[0m\u001B[0mreshape\u001B[0m\u001B[1;33m(\u001B[0m\u001B[1;36m1\u001B[0m\u001B[1;33m,\u001B[0m \u001B[1;33m-\u001B[0m\u001B[1;36m1\u001B[0m\u001B[1;33m)\u001B[0m \u001B[1;33m)\u001B[0m\u001B[1;33m[\u001B[0m\u001B[1;36m0\u001B[0m\u001B[1;33m]\u001B[0m\u001B[1;33m\u001B[0m\u001B[1;33m\u001B[0m\u001B[0m\n\u001B[1;32m---> 40\u001B[1;33m     \u001B[0mdata\u001B[0m\u001B[1;33m[\u001B[0m\u001B[1;34m'c1'\u001B[0m\u001B[1;33m]\u001B[0m\u001B[1;33m,\u001B[0m \u001B[0mdata\u001B[0m\u001B[1;33m[\u001B[0m\u001B[1;34m'c2'\u001B[0m\u001B[1;33m]\u001B[0m\u001B[1;33m,\u001B[0m \u001B[0mdata\u001B[0m\u001B[1;33m[\u001B[0m\u001B[1;34m'c3'\u001B[0m\u001B[1;33m]\u001B[0m \u001B[1;33m=\u001B[0m \u001B[0mzip\u001B[0m\u001B[1;33m(\u001B[0m \u001B[1;33m*\u001B[0m\u001B[0mpca\u001B[0m\u001B[1;33m.\u001B[0m\u001B[0mtransform\u001B[0m\u001B[1;33m(\u001B[0m \u001B[0mfull_genres\u001B[0m\u001B[1;33m(\u001B[0m \u001B[0mdata\u001B[0m\u001B[1;33m[\u001B[0m\u001B[1;34m'genre'\u001B[0m\u001B[1;33m]\u001B[0m \u001B[1;33m)\u001B[0m\u001B[1;33m.\u001B[0m\u001B[0mreshape\u001B[0m\u001B[1;33m(\u001B[0m\u001B[1;36m1\u001B[0m\u001B[1;33m,\u001B[0m \u001B[1;33m-\u001B[0m\u001B[1;36m1\u001B[0m\u001B[1;33m)\u001B[0m\u001B[1;33m.\u001B[0m\u001B[0mtolist\u001B[0m\u001B[1;33m(\u001B[0m\u001B[1;33m)\u001B[0m \u001B[1;33m)\u001B[0m \u001B[1;33m)\u001B[0m\u001B[1;33m\u001B[0m\u001B[1;33m\u001B[0m\u001B[0m\n\u001B[0m\u001B[0;32m     41\u001B[0m \u001B[1;33m\u001B[0m\u001B[0m\n\u001B[0;32m     42\u001B[0m     \u001B[1;31m#zip( *pca.transform( np.array( data['genre']).reshape(1, -1) ))\u001B[0m\u001B[1;33m\u001B[0m\u001B[1;33m\u001B[0m\u001B[0m\n",
      "\u001B[1;32m~\\AppData\\Local\\Temp/ipykernel_7740/3854937318.py\u001B[0m in \u001B[0;36mfull_genres\u001B[1;34m(given)\u001B[0m\n\u001B[0;32m      6\u001B[0m     \u001B[0mgenre_ip\u001B[0m\u001B[1;33m=\u001B[0m \u001B[0mnp\u001B[0m\u001B[1;33m.\u001B[0m\u001B[0mzeros_like\u001B[0m\u001B[1;33m(\u001B[0m\u001B[0mgenres\u001B[0m\u001B[1;33m,\u001B[0m \u001B[0mdtype\u001B[0m\u001B[1;33m=\u001B[0m\u001B[0mint\u001B[0m\u001B[1;33m)\u001B[0m\u001B[1;33m\u001B[0m\u001B[1;33m\u001B[0m\u001B[0m\n\u001B[0;32m      7\u001B[0m \u001B[1;33m\u001B[0m\u001B[0m\n\u001B[1;32m----> 8\u001B[1;33m     \u001B[0midx\u001B[0m\u001B[1;33m=\u001B[0m \u001B[1;33m[\u001B[0m \u001B[0mnp\u001B[0m\u001B[1;33m.\u001B[0m\u001B[0mwhere\u001B[0m\u001B[1;33m(\u001B[0m\u001B[0mgenres\u001B[0m \u001B[1;33m==\u001B[0m \u001B[0mg\u001B[0m\u001B[1;33m.\u001B[0m\u001B[0mlower\u001B[0m\u001B[1;33m(\u001B[0m\u001B[1;33m)\u001B[0m \u001B[1;33m)\u001B[0m\u001B[1;33m[\u001B[0m\u001B[1;36m0\u001B[0m\u001B[1;33m]\u001B[0m\u001B[1;33m.\u001B[0m\u001B[0mtolist\u001B[0m\u001B[1;33m(\u001B[0m\u001B[1;33m)\u001B[0m\u001B[1;33m[\u001B[0m\u001B[1;36m0\u001B[0m\u001B[1;33m]\u001B[0m \u001B[1;32mfor\u001B[0m \u001B[0mg\u001B[0m \u001B[1;32min\u001B[0m \u001B[0mgiven\u001B[0m \u001B[1;33m]\u001B[0m \u001B[1;31m# returns the idx for the given genres\u001B[0m\u001B[1;33m\u001B[0m\u001B[1;33m\u001B[0m\u001B[0m\n\u001B[0m\u001B[0;32m      9\u001B[0m \u001B[1;33m\u001B[0m\u001B[0m\n\u001B[0;32m     10\u001B[0m     \u001B[0mgenre_ip\u001B[0m\u001B[1;33m[\u001B[0m\u001B[0midx\u001B[0m\u001B[1;33m]\u001B[0m\u001B[1;33m=\u001B[0m\u001B[1;36m1\u001B[0m\u001B[1;33m\u001B[0m\u001B[1;33m\u001B[0m\u001B[0m\n",
      "\u001B[1;32m~\\AppData\\Local\\Temp/ipykernel_7740/3854937318.py\u001B[0m in \u001B[0;36m<listcomp>\u001B[1;34m(.0)\u001B[0m\n\u001B[0;32m      6\u001B[0m     \u001B[0mgenre_ip\u001B[0m\u001B[1;33m=\u001B[0m \u001B[0mnp\u001B[0m\u001B[1;33m.\u001B[0m\u001B[0mzeros_like\u001B[0m\u001B[1;33m(\u001B[0m\u001B[0mgenres\u001B[0m\u001B[1;33m,\u001B[0m \u001B[0mdtype\u001B[0m\u001B[1;33m=\u001B[0m\u001B[0mint\u001B[0m\u001B[1;33m)\u001B[0m\u001B[1;33m\u001B[0m\u001B[1;33m\u001B[0m\u001B[0m\n\u001B[0;32m      7\u001B[0m \u001B[1;33m\u001B[0m\u001B[0m\n\u001B[1;32m----> 8\u001B[1;33m     \u001B[0midx\u001B[0m\u001B[1;33m=\u001B[0m \u001B[1;33m[\u001B[0m \u001B[0mnp\u001B[0m\u001B[1;33m.\u001B[0m\u001B[0mwhere\u001B[0m\u001B[1;33m(\u001B[0m\u001B[0mgenres\u001B[0m \u001B[1;33m==\u001B[0m \u001B[0mg\u001B[0m\u001B[1;33m.\u001B[0m\u001B[0mlower\u001B[0m\u001B[1;33m(\u001B[0m\u001B[1;33m)\u001B[0m \u001B[1;33m)\u001B[0m\u001B[1;33m[\u001B[0m\u001B[1;36m0\u001B[0m\u001B[1;33m]\u001B[0m\u001B[1;33m.\u001B[0m\u001B[0mtolist\u001B[0m\u001B[1;33m(\u001B[0m\u001B[1;33m)\u001B[0m\u001B[1;33m[\u001B[0m\u001B[1;36m0\u001B[0m\u001B[1;33m]\u001B[0m \u001B[1;32mfor\u001B[0m \u001B[0mg\u001B[0m \u001B[1;32min\u001B[0m \u001B[0mgiven\u001B[0m \u001B[1;33m]\u001B[0m \u001B[1;31m# returns the idx for the given genres\u001B[0m\u001B[1;33m\u001B[0m\u001B[1;33m\u001B[0m\u001B[0m\n\u001B[0m\u001B[0;32m      9\u001B[0m \u001B[1;33m\u001B[0m\u001B[0m\n\u001B[0;32m     10\u001B[0m     \u001B[0mgenre_ip\u001B[0m\u001B[1;33m[\u001B[0m\u001B[0midx\u001B[0m\u001B[1;33m]\u001B[0m\u001B[1;33m=\u001B[0m\u001B[1;36m1\u001B[0m\u001B[1;33m\u001B[0m\u001B[1;33m\u001B[0m\u001B[0m\n",
      "\u001B[1;31mIndexError\u001B[0m: list index out of range"
     ]
    }
   ],
   "source": [
    "import pandas as pd\n",
    "import numpy as np\n",
    "from sklearn.model_selection import train_test_split\n",
    "from sklearn.ensemble import RandomForestRegressor\n",
    "from sklearn.decomposition import PCA\n",
    "from sklearn.preprocessing import PowerTransformer, MinMaxScaler\n",
    "    \n",
    "data={}\n",
    "data['runtime']= input('Enter runtime\\n')\n",
    "data['production']= input('Enter production price\\n')\n",
    "print('\\nEnter genres carefully from here: \\naction, adventure, aniimation, biography,\\ncomedy, crime, drama, family, \\nfantasy, history, horror, musis, \\nmusical, mystery, romance, sci-fi, \\nsport,thriller, war, western\\n' )\n",
    "data['genre']= [input('Enter genre\\n') for i in range(3)]\n",
    "\n",
    "print( f'\\nPredicted gross= {np.floor(predict_gross(data))} $')"
   ]
  },
  {
   "cell_type": "code",
   "execution_count": null,
   "id": "bf8e1742-cd46-44e1-bea5-855a19ae45c1",
   "metadata": {},
   "outputs": [],
   "source": []
  }
 ],
 "metadata": {
  "kernelspec": {
   "display_name": "Python 3 (ipykernel)",
   "language": "python",
   "name": "python3"
  },
  "language_info": {
   "codemirror_mode": {
    "name": "ipython",
    "version": 3
   },
   "file_extension": ".py",
   "mimetype": "text/x-python",
   "name": "python",
   "nbconvert_exporter": "python",
   "pygments_lexer": "ipython3",
   "version": "3.8.8"
  }
 },
 "nbformat": 4,
 "nbformat_minor": 5
}