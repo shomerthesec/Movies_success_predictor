{
 "cells": [
  {
   "cell_type": "code",
   "execution_count": 3,
   "id": "18baf41a-2f7d-4592-8642-0e60dbcfa861",
   "metadata": {},
   "outputs": [],
   "source": [
    "import pandas as pd\n",
    "import numpy as np\n",
    "from sklearn.model_selection import train_test_split\n",
    "from sklearn.ensemble import RandomForestRegressor\n",
    "from sklearn.decomposition import PCA\n",
    "from sklearn.preprocessing import PowerTransformer, MinMaxScaler"
   ]
  },
  {
   "cell_type": "code",
   "execution_count": 4,
   "id": "fbc6b372-19d4-4243-b244-f9b095420dbe",
   "metadata": {},
   "outputs": [],
   "source": [
    "df = pd.read_csv('data/provided_data_with_budget.csv',\n",
    "                 index_col=0)\n",
    "df.drop(index=df.query('DomesticGross==0').index,\n",
    "        inplace=True)\n",
    "df.drop('Success', axis=1, inplace=True)"
   ]
  },
  {
   "cell_type": "code",
   "execution_count": 5,
   "id": "4b2bc23c-8c51-4c2f-95fd-bfe55a596b2d",
   "metadata": {},
   "outputs": [],
   "source": [
    "boxcox_production = PowerTransformer(method='box-cox')\n",
    "boxcox_gross = PowerTransformer(method='box-cox')\n",
    "# %% loading a minmax scaler for time of the movie\n",
    "minmax = MinMaxScaler()\n",
    "\n",
    "# %% loading a PCA to reduce the genre col\n",
    "pca = PCA(n_components=3)"
   ]
  },
  {
   "cell_type": "code",
   "execution_count": 6,
   "id": "4c959540-3e5f-4689-936f-1e3dc6ef3ad9",
   "metadata": {},
   "outputs": [],
   "source": [
    "train_df, test_df = train_test_split(df, test_size=0.2, random_state=0)"
   ]
  },
  {
   "cell_type": "code",
   "execution_count": 92,
   "id": "dfcfb0d3-7849-4256-a083-a9aae4883cca",
   "metadata": {},
   "outputs": [],
   "source": [
    "data={}\n",
    "data['runtime']= 0.0\n",
    "data['production']= 1.0\n",
    "data['genre']= 1,0,0,1,0,0,0,0,0,0,0,0,0,0,0,0,0,0,0,0"
   ]
  },
  {
   "cell_type": "code",
   "execution_count": 93,
   "id": "550a5048-2a68-474a-bdea-96ad4a809d4d",
   "metadata": {},
   "outputs": [],
   "source": [
    "boxcox_production.fit( train_df.loc[:, 'ProductionBudget'].values.reshape(-1, 1) )\n",
    "boxcox_gross.fit( train_df.loc[:, 'DomesticGross'].values.reshape(-1, 1) )\n",
    "minmax.fit( train_df.loc[:, 'Runtime (Minutes)'].values.reshape(-1, 1) )\n",
    "pca.fit( train_df.iloc[:, 5:25] )\n",
    "\n",
    "data['runtime']= minmax.transform( np.array( data['runtime'] ).reshape(1, -1) )[0]\n",
    "data['production']= boxcox_production.transform( np.array( data['production']).reshape(1, -1) )[0]\n",
    "data['c1'], data['c2'], data['c3'] = zip( *pca.transform( np.array( data['genre']).reshape(1, -1) ))\n",
    "\n"
   ]
  },
  {
   "cell_type": "code",
   "execution_count": 94,
   "id": "7eca35a0-49cd-4595-aeb6-3eaaa1c0aaea",
   "metadata": {},
   "outputs": [],
   "source": [
    "del data['genre']"
   ]
  },
  {
   "cell_type": "code",
   "execution_count": 167,
   "id": "faed6420-1f00-43aa-84bb-7c27263d06ed",
   "metadata": {},
   "outputs": [
    {
     "data": {
      "text/plain": [
       "{'runtime': array([-0.54545455]),\n",
       " 'production': array([-3.76939142]),\n",
       " 'c1': (0.37021620390228055,),\n",
       " 'c2': (-0.28834081365018527,),\n",
       " 'c3': (0.0038748148703996415,)}"
      ]
     },
     "execution_count": 167,
     "metadata": {},
     "output_type": "execute_result"
    }
   ],
   "source": [
    "data"
   ]
  },
  {
   "cell_type": "code",
   "execution_count": 213,
   "id": "c7470fc3-45c6-455a-924a-1ff5853e4d8e",
   "metadata": {},
   "outputs": [
    {
     "data": {
      "text/plain": [
       "array({'runtime': array([0.28099174]), 'production': array([-2.13846619]), 'c1': (0.3099110330230638,), 'c2': (-0.14651587136887356,), 'c3': (0.33874869231061694,)},\n",
       "      dtype=object)"
      ]
     },
     "execution_count": 213,
     "metadata": {},
     "output_type": "execute_result"
    }
   ],
   "source": [
    "np.array( data )"
   ]
  },
  {
   "cell_type": "code",
   "execution_count": 95,
   "id": "f32ec615-f782-4dc5-9057-ace38ec3d310",
   "metadata": {},
   "outputs": [
    {
     "data": {
      "text/html": [
       "<div>\n",
       "<style scoped>\n",
       "    .dataframe tbody tr th:only-of-type {\n",
       "        vertical-align: middle;\n",
       "    }\n",
       "\n",
       "    .dataframe tbody tr th {\n",
       "        vertical-align: top;\n",
       "    }\n",
       "\n",
       "    .dataframe thead th {\n",
       "        text-align: right;\n",
       "    }\n",
       "</style>\n",
       "<table border=\"1\" class=\"dataframe\">\n",
       "  <thead>\n",
       "    <tr style=\"text-align: right;\">\n",
       "      <th></th>\n",
       "      <th>runtime</th>\n",
       "      <th>production</th>\n",
       "      <th>c1</th>\n",
       "      <th>c2</th>\n",
       "      <th>c3</th>\n",
       "    </tr>\n",
       "  </thead>\n",
       "  <tbody>\n",
       "    <tr>\n",
       "      <th>0</th>\n",
       "      <td>-0.545455</td>\n",
       "      <td>-3.769391</td>\n",
       "      <td>0.370216</td>\n",
       "      <td>-0.288341</td>\n",
       "      <td>0.003875</td>\n",
       "    </tr>\n",
       "  </tbody>\n",
       "</table>\n",
       "</div>"
      ],
      "text/plain": [
       "    runtime  production        c1        c2        c3\n",
       "0 -0.545455   -3.769391  0.370216 -0.288341  0.003875"
      ]
     },
     "execution_count": 95,
     "metadata": {},
     "output_type": "execute_result"
    }
   ],
   "source": [
    "pd.DataFrame(data)"
   ]
  },
  {
   "cell_type": "markdown",
   "id": "2aeac549-d1e0-4005-9560-2f93435c68a3",
   "metadata": {},
   "source": [
    "# create a function to fill other genres\n"
   ]
  },
  {
   "cell_type": "code",
   "execution_count": 99,
   "id": "006b5162-30be-4f71-927e-aff491e9bf4b",
   "metadata": {},
   "outputs": [],
   "source": [
    "genres= train_df.columns[5:25].values"
   ]
  },
  {
   "cell_type": "code",
   "execution_count": 100,
   "id": "e664898e-f134-42a2-9309-630bb3728c25",
   "metadata": {},
   "outputs": [
    {
     "data": {
      "text/plain": [
       "array(['Action', 'Adventure', 'Aniimation', 'Biography', 'Comedy',\n",
       "       'Crime', 'Drama', 'Family', 'Fantasy', 'History', 'Horror',\n",
       "       'Music', 'Musical', 'Mystery', 'Romance', 'Sci-Fi', 'Sport',\n",
       "       'Thriller', 'War', 'Western'], dtype=object)"
      ]
     },
     "execution_count": 100,
     "metadata": {},
     "output_type": "execute_result"
    }
   ],
   "source": [
    "genres"
   ]
  },
  {
   "cell_type": "code",
   "execution_count": 109,
   "id": "01c3d3ce-7522-4c69-877f-65e5ecd5da88",
   "metadata": {},
   "outputs": [],
   "source": [
    "given= ['Action','War']"
   ]
  },
  {
   "cell_type": "code",
   "execution_count": 150,
   "id": "d5086e62-6f78-4f8c-9ad4-04840c15d76a",
   "metadata": {},
   "outputs": [],
   "source": [
    "\n",
    "idxs= [ np.where(genres == g )[0].tolist()[0] for g in given ] "
   ]
  },
  {
   "cell_type": "code",
   "execution_count": 151,
   "id": "b9382c8a-5f74-4086-a7cc-4b0dd2606cc0",
   "metadata": {},
   "outputs": [
    {
     "data": {
      "text/plain": [
       "[0, 18]"
      ]
     },
     "execution_count": 151,
     "metadata": {},
     "output_type": "execute_result"
    }
   ],
   "source": [
    "idxs"
   ]
  },
  {
   "cell_type": "code",
   "execution_count": 143,
   "id": "1b26603f-fb79-4a47-9723-b3e37e05a4f2",
   "metadata": {},
   "outputs": [
    {
     "data": {
      "text/plain": [
       "array(['Action', 'War'], dtype=object)"
      ]
     },
     "execution_count": 143,
     "metadata": {},
     "output_type": "execute_result"
    }
   ],
   "source": [
    "genres[idxs]"
   ]
  },
  {
   "cell_type": "code",
   "execution_count": 146,
   "id": "77a66b20-7481-4057-9160-b6eebcd40fcf",
   "metadata": {},
   "outputs": [],
   "source": [
    "genre_ip= np.zeros_like(genres)"
   ]
  },
  {
   "cell_type": "code",
   "execution_count": 148,
   "id": "be352b05-f924-47fc-90e6-c1fc476ef40e",
   "metadata": {},
   "outputs": [],
   "source": [
    "genre_ip[idxs]=1"
   ]
  },
  {
   "cell_type": "code",
   "execution_count": 149,
   "id": "1b9a6f48-54d7-4da5-84ee-89531d4dc7df",
   "metadata": {},
   "outputs": [
    {
     "data": {
      "text/plain": [
       "array([1, 0, 0, 0, 0, 0, 0, 0, 0, 0, 0, 0, 0, 0, 0, 0, 0, 0, 1, 0],\n",
       "      dtype=object)"
      ]
     },
     "execution_count": 149,
     "metadata": {},
     "output_type": "execute_result"
    }
   ],
   "source": [
    "genre_ip"
   ]
  },
  {
   "cell_type": "code",
   "execution_count": 161,
   "id": "aa55531b-88e0-4b65-a57c-9c4329161a4c",
   "metadata": {},
   "outputs": [],
   "source": [
    "def full_genres( given  ):\n",
    "    \n",
    "    genres= np.array( ['action', 'adventure', 'aniimation', 'biography', 'comedy',\n",
    "       'crime', 'drama', 'family', 'fantasy', 'history', 'horror',\n",
    "       'music', 'musical', 'mystery', 'romance', 'sci-fi', 'sport',\n",
    "       'thriller', 'war', 'western'] )\n",
    "    genre_ip= np.zeros_like(genres, dtype=int)\n",
    "    \n",
    "    idx= [ np.where(genres == g )[0].tolist()[0] for g in given ] # returns the idx for the given genres\n",
    "    \n",
    "    genre_ip[idx]=1\n",
    "    \n",
    "    return genre_ip"
   ]
  },
  {
   "cell_type": "code",
   "execution_count": 162,
   "id": "6a0215e9-8c45-4501-8673-3a84472ea26c",
   "metadata": {},
   "outputs": [
    {
     "data": {
      "text/plain": [
       "array([0, 0, 0, 0, 0, 0, 1, 0, 0, 0, 0, 0, 1, 0, 0, 0, 0, 0, 0, 0])"
      ]
     },
     "execution_count": 162,
     "metadata": {},
     "output_type": "execute_result"
    }
   ],
   "source": [
    "given= ['Musical' , 'Drama']\n",
    "\n",
    "full_genres( given )"
   ]
  },
  {
   "cell_type": "markdown",
   "id": "1c9078f7-812c-48f8-96f1-72f35a519e8e",
   "metadata": {},
   "source": [
    "# let's put this all together "
   ]
  },
  {
   "cell_type": "code",
   "execution_count": 225,
   "id": "456abad2-6143-4889-833f-862a2fa00873",
   "metadata": {},
   "outputs": [],
   "source": [
    "def full_genres( given ):  \n",
    "    genres= np.array( ['action', 'adventure', 'aniimation', 'biography', 'comedy',\n",
    "       'crime', 'drama', 'family', 'fantasy', 'history', 'horror',\n",
    "       'music', 'musical', 'mystery', 'romance', 'sci-fi', 'sport',\n",
    "       'thriller', 'war', 'western'] )\n",
    "    genre_ip= np.zeros_like(genres, dtype=int)\n",
    "    \n",
    "    idx= [ np.where(genres == g.lower() )[0].tolist()[0] for g in given ] # returns the idx for the given genres\n",
    "    \n",
    "    genre_ip[idx]=1\n",
    "    \n",
    "    return genre_ip\n",
    "\n",
    "def predict_gross( data ):\n",
    "\n",
    "    df = pd.read_csv('data/provided_data_with_budget.csv',\n",
    "                 index_col=0)\n",
    "    df.drop(index=df.query('DomesticGross==0').index,\n",
    "            inplace=True)\n",
    "    df.drop('Success', axis=1, inplace=True)\n",
    "    df, _ = train_test_split(df, test_size=0.2, random_state=0)\n",
    "    \n",
    "    boxcox_production = PowerTransformer(method='box-cox')\n",
    "    boxcox_gross = PowerTransformer(method='box-cox')\n",
    "    minmax = MinMaxScaler()\n",
    "    pca = PCA(n_components=3)\n",
    "    \n",
    "    boxcox_production.fit( df.loc[:, 'ProductionBudget'].values.reshape(-1, 1) )\n",
    "    boxcox_gross.fit( df.loc[:, 'DomesticGross'].values.reshape(-1, 1) )\n",
    "    minmax.fit( df.loc[:, 'Runtime (Minutes)'].values.reshape(-1, 1) )\n",
    "    pca.fit( df.iloc[:, 5:25] )\n",
    "    \n",
    "    model= RandomForestRegressor(10)\n",
    "    \n",
    "    df= pd.read_csv('S:/Movie_success_predictor/data/train_budget_numerical.csv', index_col=0 )\n",
    "    model.fit( X=df.drop('DomesticGross', axis=1),  y=df.DomesticGross)\n",
    "        \n",
    "    data['runtime']= minmax.transform( np.array( data['runtime'] ).reshape(1, -1) )[0]\n",
    "    data['production']= boxcox_production.transform( np.array( data['production']).reshape(1, -1) )[0]\n",
    "    data['c1'], data['c2'], data['c3'] = zip( *pca.transform( full_genres( data['genre'] ).reshape(1, -1).tolist() ) )\n",
    "    \n",
    "    #zip( *pca.transform( np.array( data['genre']).reshape(1, -1) ))\n",
    "    \n",
    "    del data['genre']\n",
    "    \n",
    "    return boxcox_gross.inverse_transform( model.predict( pd.DataFrame(data)).reshape(1, -1)  ).tolist()[0][0]"
   ]
  },
  {
   "cell_type": "code",
   "execution_count": 226,
   "id": "758dc30d-f5f4-4df3-80d7-cc68e150c493",
   "metadata": {},
   "outputs": [
    {
     "name": "stdin",
     "output_type": "stream",
     "text": [
      "Enter runtime\n",
      " 140\n",
      "Enter production price\n",
      " 6000000\n"
     ]
    },
    {
     "name": "stdout",
     "output_type": "stream",
     "text": [
      "\n",
      "Enter genres carefully from here: \n",
      "action, adventure, aniimation, biography,\n",
      "comedy, crime, drama, family, \n",
      "fantasy, history, horror, musis, \n",
      "musical, mystery, romance, sci-fi, \n",
      "sport,thriller, war, western\n",
      "\n"
     ]
    },
    {
     "name": "stdin",
     "output_type": "stream",
     "text": [
      "Enter genre\n",
      " horror\n",
      "Enter genre\n",
      " drama\n",
      "Enter genre\n",
      " crime\n"
     ]
    },
    {
     "name": "stdout",
     "output_type": "stream",
     "text": [
      "\n",
      "Predicted gross= 6736912.116856329 $\n"
     ]
    }
   ],
   "source": [
    "import pandas as pd\n",
    "import numpy as np\n",
    "from sklearn.model_selection import train_test_split\n",
    "from sklearn.ensemble import RandomForestRegressor\n",
    "from sklearn.decomposition import PCA\n",
    "from sklearn.preprocessing import PowerTransformer, MinMaxScaler\n",
    "    \n",
    "data={}\n",
    "data['runtime']= input('Enter runtime\\n')\n",
    "data['production']= input('Enter production price\\n')\n",
    "print('\\nEnter genres carefully from here: \\naction, adventure, aniimation, biography,\\ncomedy, crime, drama, family, \\nfantasy, history, horror, musis, \\nmusical, mystery, romance, sci-fi, \\nsport,thriller, war, western\\n' )\n",
    "data['genre']= [input('Enter genre\\n') for i in range(3)]\n",
    "\n",
    "print( f'\\nPredicted gross= {np.floor(predict_gross(data))} $')"
   ]
  },
  {
   "cell_type": "code",
   "execution_count": null,
   "id": "bf8e1742-cd46-44e1-bea5-855a19ae45c1",
   "metadata": {},
   "outputs": [],
   "source": []
  }
 ],
 "metadata": {
  "kernelspec": {
   "display_name": "Python 3 (ipykernel)",
   "language": "python",
   "name": "python3"
  },
  "language_info": {
   "codemirror_mode": {
    "name": "ipython",
    "version": 3
   },
   "file_extension": ".py",
   "mimetype": "text/x-python",
   "name": "python",
   "nbconvert_exporter": "python",
   "pygments_lexer": "ipython3",
   "version": "3.8.8"
  }
 },
 "nbformat": 4,
 "nbformat_minor": 5
}
