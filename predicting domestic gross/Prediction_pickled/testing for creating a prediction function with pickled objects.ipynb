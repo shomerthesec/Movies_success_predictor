{
 "cells": [
  {
   "cell_type": "code",
   "execution_count": 1,
   "outputs": [],
   "source": [
    "import pickle\n",
    "import numpy as np\n",
    "import pandas as pd\n"
   ],
   "metadata": {
    "collapsed": false,
    "pycharm": {
     "name": "#%%\n"
    }
   }
  },
  {
   "cell_type": "code",
   "execution_count": 7,
   "outputs": [],
   "source": [
    "production_scale = pickle.load(open('production_scale.sav', 'rb'))\n",
    "gross_scale = pickle.load(open('gross_scale.sav', 'rb'))\n",
    "runtime_scale = pickle.load(open('runtime_scale.sav', 'rb'))\n",
    "genres_pca = pickle.load(open('genres_pca.sav', 'rb'))\n",
    "\n",
    "\n",
    "def full_genres( given  ):\n",
    "    genres = np.array( ['action', 'adventure', 'aniimation', 'biography', 'comedy',\n",
    "                       'crime', 'drama', 'family', 'fantasy', 'history', 'horror',\n",
    "                       'music', 'musical', 'mystery', 'romance', 'sci-fi', 'sport',\n",
    "                       'thriller', 'war', 'western'] )\n",
    "    given = [cat.lower() for cat in given]\n",
    "    genre_ip= np.zeros_like(genres, dtype=int)\n",
    "    idx= [ np.where(genres == g )[0].tolist()[0] for g in given ] # returns the idx for the given genres\n",
    "    genre_ip[idx]=1\n",
    "    return genre_ip\n",
    "\n",
    "def predict_gross( data ):\n",
    "    model= pickle.load(open('model.sav', 'rb'))\n",
    "    print('data is= \\n', data)\n",
    "\n",
    "    data['runtime']= runtime_scale.transform( np.array( data['runtime'] ).reshape(1, -1) )[0]\n",
    "    print('data after runtime is= \\n', data)\n",
    "\n",
    "    data['production']= production_scale.transform( np.array( data['production']).reshape(1, -1) )[0]\n",
    "    print('data after production is = \\n', data)\n",
    "\n",
    "    data['c1'], data['c2'], data['c3'] = zip( *genres_pca.transform( full_genres( data['genre'] ).reshape(1, -1).tolist() ) )\n",
    "    print('data after pca is= \\n', data)\n",
    "\n",
    "    del data['genre']\n",
    "    return gross_scale.inverse_transform( model.predict( pd.DataFrame(data)).reshape(1, -1)  ).tolist()[0][0]"
   ],
   "metadata": {
    "collapsed": false,
    "pycharm": {
     "name": "#%%\n"
    }
   }
  },
  {
   "cell_type": "code",
   "execution_count": 8,
   "outputs": [
    {
     "name": "stdout",
     "output_type": "stream",
     "text": [
      "\n",
      "Enter genres carefully from here: \n",
      "action, adventure, aniimation, biography,\n",
      "comedy, crime, drama, family, \n",
      "fantasy, history, horror, musis, \n",
      "musical, mystery, romance, sci-fi, \n",
      "sport,thriller, war, western\n",
      "\n",
      "data is= \n",
      " {'runtime': '122', 'production': '2165485', 'genre': ['war', 'action', 'crime']}\n",
      "data after runtime is= \n",
      " {'runtime': array([0.46280992]), 'production': '2165485', 'genre': ['war', 'action', 'crime']}\n",
      "data after production is = \n",
      " {'runtime': array([0.46280992]), 'production': array([-1.90430173]), 'genre': ['war', 'action', 'crime']}\n",
      "data after pca is= \n",
      " {'runtime': array([0.46280992]), 'production': array([-1.90430173]), 'genre': ['war', 'action', 'crime'], 'c1': (-217272.22678371976,), 'c2': (-30.109341040149616,), 'c3': (-115.0291093440213,)}\n",
      "\n",
      "Predicted gross= 1162302.0 $\n"
     ]
    }
   ],
   "source": [
    "data={}\n",
    "data['runtime']= input('Enter runtime\\n')\n",
    "data['production']= input('Enter production price\\n')\n",
    "print('\\nEnter genres carefully from here: \\naction, adventure, aniimation, biography,\\ncomedy, crime, drama, family, \\nfantasy, history, horror, musis, \\nmusical, mystery, romance, sci-fi, \\nsport,thriller, war, western\\n' )\n",
    "data['genre']= [input('Enter genre\\n') for i in range(3)]\n",
    "\n",
    "print( f'\\nPredicted gross= {np.floor(predict_gross(data))} $')\n"
   ],
   "metadata": {
    "collapsed": false,
    "pycharm": {
     "name": "#%%\n"
    }
   }
  },
  {
   "cell_type": "code",
   "execution_count": null,
   "metadata": {
    "collapsed": true
   },
   "outputs": [],
   "source": []
  }
 ],
 "metadata": {
  "kernelspec": {
   "display_name": "Python 3",
   "language": "python",
   "name": "python3"
  },
  "language_info": {
   "codemirror_mode": {
    "name": "ipython",
    "version": 2
   },
   "file_extension": ".py",
   "mimetype": "text/x-python",
   "name": "python",
   "nbconvert_exporter": "python",
   "pygments_lexer": "ipython2",
   "version": "2.7.6"
  }
 },
 "nbformat": 4,
 "nbformat_minor": 0
}