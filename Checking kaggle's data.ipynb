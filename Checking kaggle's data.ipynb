{
 "cells": [
  {
   "cell_type": "code",
   "execution_count": 1,
   "metadata": {
    "collapsed": true
   },
   "outputs": [],
   "source": [
    "import pandas as pd\n",
    "import numpy as np\n",
    "import matplotlib.pyplot as plt\n",
    "import seaborn as sns"
   ]
  },
  {
   "cell_type": "code",
   "execution_count": 4,
   "outputs": [
    {
     "name": "stderr",
     "output_type": "stream",
     "text": [
      "C:\\Users\\shomer\\anaconda3\\lib\\site-packages\\IPython\\core\\interactiveshell.py:3444: DtypeWarning: Columns (10) have mixed types.Specify dtype option on import or set low_memory=False.\n",
      "  exec(code_obj, self.user_global_ns, self.user_ns)\n"
     ]
    }
   ],
   "source": [
    "movies= pd.read_csv('new set of data/kaggle data/movies_metadata.csv',\n",
    "                    na_values=0)"
   ],
   "metadata": {
    "collapsed": false,
    "pycharm": {
     "name": "#%%\n"
    }
   }
  },
  {
   "cell_type": "code",
   "execution_count": 3,
   "outputs": [
    {
     "data": {
      "text/plain": "Index(['adult', 'belongs_to_collection', 'budget', 'genres', 'homepage', 'id',\n       'imdb_id', 'original_language', 'original_title', 'overview',\n       'popularity', 'poster_path', 'production_companies',\n       'production_countries', 'release_date', 'revenue', 'runtime',\n       'spoken_languages', 'status', 'tagline', 'title', 'video',\n       'vote_average', 'vote_count'],\n      dtype='object')"
     },
     "execution_count": 3,
     "metadata": {},
     "output_type": "execute_result"
    }
   ],
   "source": [
    "movies.columns"
   ],
   "metadata": {
    "collapsed": false,
    "pycharm": {
     "name": "#%%\n"
    }
   }
  },
  {
   "cell_type": "code",
   "execution_count": 9,
   "outputs": [
    {
     "data": {
      "text/plain": "       adult                              belongs_to_collection    budget  \\\n0      False  {'id': 10194, 'name': 'Toy Story Collection', ...  30000000   \n1      False                                                NaN  65000000   \n2      False  {'id': 119050, 'name': 'Grumpy Old Men Collect...       NaN   \n3      False                                                NaN  16000000   \n4      False  {'id': 96871, 'name': 'Father of the Bride Col...       NaN   \n...      ...                                                ...       ...   \n45461  False                                                NaN       NaN   \n45462  False                                                NaN       NaN   \n45463  False                                                NaN       NaN   \n45464  False                                                NaN       NaN   \n45465  False                                                NaN       NaN   \n\n                                                  genres  \\\n0      [{'id': 16, 'name': 'Animation'}, {'id': 35, '...   \n1      [{'id': 12, 'name': 'Adventure'}, {'id': 14, '...   \n2      [{'id': 10749, 'name': 'Romance'}, {'id': 35, ...   \n3      [{'id': 35, 'name': 'Comedy'}, {'id': 18, 'nam...   \n4                         [{'id': 35, 'name': 'Comedy'}]   \n...                                                  ...   \n45461  [{'id': 18, 'name': 'Drama'}, {'id': 10751, 'n...   \n45462                      [{'id': 18, 'name': 'Drama'}]   \n45463  [{'id': 28, 'name': 'Action'}, {'id': 18, 'nam...   \n45464                                                 []   \n45465                                                 []   \n\n                                   homepage      id    imdb_id  \\\n0      http://toystory.disney.com/toy-story     862  tt0114709   \n1                                       NaN    8844  tt0113497   \n2                                       NaN   15602  tt0113228   \n3                                       NaN   31357  tt0114885   \n4                                       NaN   11862  tt0113041   \n...                                     ...     ...        ...   \n45461  http://www.imdb.com/title/tt6209470/  439050  tt6209470   \n45462                                   NaN  111109  tt2028550   \n45463                                   NaN   67758  tt0303758   \n45464                                   NaN  227506  tt0008536   \n45465                                   NaN  461257  tt6980792   \n\n      original_language               original_title  \\\n0                    en                    Toy Story   \n1                    en                      Jumanji   \n2                    en             Grumpier Old Men   \n3                    en            Waiting to Exhale   \n4                    en  Father of the Bride Part II   \n...                 ...                          ...   \n45461                fa                      رگ خواب   \n45462                tl          Siglo ng Pagluluwal   \n45463                en                     Betrayal   \n45464                en          Satana likuyushchiy   \n45465                en                     Queerama   \n\n                                                overview  ... release_date  \\\n0      Led by Woody, Andy's toys live happily in his ...  ...   1995-10-30   \n1      When siblings Judy and Peter discover an encha...  ...   1995-12-15   \n2      A family wedding reignites the ancient feud be...  ...   1995-12-22   \n3      Cheated on, mistreated and stepped on, the wom...  ...   1995-12-22   \n4      Just when George Banks has recovered from his ...  ...   1995-02-10   \n...                                                  ...  ...          ...   \n45461        Rising and falling between a man and woman.  ...          NaN   \n45462  An artist struggles to finish his work while a...  ...   2011-11-17   \n45463  When one of her hits goes wrong, a professiona...  ...   2003-08-01   \n45464  In a small town live two brothers, one a minis...  ...   1917-10-21   \n45465  50 years after decriminalisation of homosexual...  ...   2017-06-09   \n\n           revenue runtime                                   spoken_languages  \\\n0      373554033.0    81.0           [{'iso_639_1': 'en', 'name': 'English'}]   \n1      262797249.0   104.0  [{'iso_639_1': 'en', 'name': 'English'}, {'iso...   \n2              NaN   101.0           [{'iso_639_1': 'en', 'name': 'English'}]   \n3       81452156.0   127.0           [{'iso_639_1': 'en', 'name': 'English'}]   \n4       76578911.0   106.0           [{'iso_639_1': 'en', 'name': 'English'}]   \n...            ...     ...                                                ...   \n45461          NaN    90.0             [{'iso_639_1': 'fa', 'name': 'فارسی'}]   \n45462          NaN   360.0                  [{'iso_639_1': 'tl', 'name': ''}]   \n45463          NaN    90.0           [{'iso_639_1': 'en', 'name': 'English'}]   \n45464          NaN    87.0                                                 []   \n45465          NaN    75.0           [{'iso_639_1': 'en', 'name': 'English'}]   \n\n         status                                            tagline  \\\n0      Released                                                NaN   \n1      Released          Roll the dice and unleash the excitement!   \n2      Released  Still Yelling. Still Fighting. Still Ready for...   \n3      Released  Friends are the people who let you be yourself...   \n4      Released  Just When His World Is Back To Normal... He's ...   \n...         ...                                                ...   \n45461  Released         Rising and falling between a man and woman   \n45462  Released                                                NaN   \n45463  Released                             A deadly game of wits.   \n45464  Released                                                NaN   \n45465  Released                                                NaN   \n\n                             title  video vote_average vote_count  \n0                        Toy Story  False          7.7     5415.0  \n1                          Jumanji  False          6.9     2413.0  \n2                 Grumpier Old Men  False          6.5       92.0  \n3                Waiting to Exhale  False          6.1       34.0  \n4      Father of the Bride Part II  False          5.7      173.0  \n...                            ...    ...          ...        ...  \n45461                       Subdue  False          4.0        1.0  \n45462          Century of Birthing  False          9.0        3.0  \n45463                     Betrayal  False          3.8        6.0  \n45464             Satan Triumphant  False          NaN        NaN  \n45465                     Queerama  False          NaN        NaN  \n\n[45466 rows x 24 columns]",
      "text/html": "<div>\n<style scoped>\n    .dataframe tbody tr th:only-of-type {\n        vertical-align: middle;\n    }\n\n    .dataframe tbody tr th {\n        vertical-align: top;\n    }\n\n    .dataframe thead th {\n        text-align: right;\n    }\n</style>\n<table border=\"1\" class=\"dataframe\">\n  <thead>\n    <tr style=\"text-align: right;\">\n      <th></th>\n      <th>adult</th>\n      <th>belongs_to_collection</th>\n      <th>budget</th>\n      <th>genres</th>\n      <th>homepage</th>\n      <th>id</th>\n      <th>imdb_id</th>\n      <th>original_language</th>\n      <th>original_title</th>\n      <th>overview</th>\n      <th>...</th>\n      <th>release_date</th>\n      <th>revenue</th>\n      <th>runtime</th>\n      <th>spoken_languages</th>\n      <th>status</th>\n      <th>tagline</th>\n      <th>title</th>\n      <th>video</th>\n      <th>vote_average</th>\n      <th>vote_count</th>\n    </tr>\n  </thead>\n  <tbody>\n    <tr>\n      <th>0</th>\n      <td>False</td>\n      <td>{'id': 10194, 'name': 'Toy Story Collection', ...</td>\n      <td>30000000</td>\n      <td>[{'id': 16, 'name': 'Animation'}, {'id': 35, '...</td>\n      <td>http://toystory.disney.com/toy-story</td>\n      <td>862</td>\n      <td>tt0114709</td>\n      <td>en</td>\n      <td>Toy Story</td>\n      <td>Led by Woody, Andy's toys live happily in his ...</td>\n      <td>...</td>\n      <td>1995-10-30</td>\n      <td>373554033.0</td>\n      <td>81.0</td>\n      <td>[{'iso_639_1': 'en', 'name': 'English'}]</td>\n      <td>Released</td>\n      <td>NaN</td>\n      <td>Toy Story</td>\n      <td>False</td>\n      <td>7.7</td>\n      <td>5415.0</td>\n    </tr>\n    <tr>\n      <th>1</th>\n      <td>False</td>\n      <td>NaN</td>\n      <td>65000000</td>\n      <td>[{'id': 12, 'name': 'Adventure'}, {'id': 14, '...</td>\n      <td>NaN</td>\n      <td>8844</td>\n      <td>tt0113497</td>\n      <td>en</td>\n      <td>Jumanji</td>\n      <td>When siblings Judy and Peter discover an encha...</td>\n      <td>...</td>\n      <td>1995-12-15</td>\n      <td>262797249.0</td>\n      <td>104.0</td>\n      <td>[{'iso_639_1': 'en', 'name': 'English'}, {'iso...</td>\n      <td>Released</td>\n      <td>Roll the dice and unleash the excitement!</td>\n      <td>Jumanji</td>\n      <td>False</td>\n      <td>6.9</td>\n      <td>2413.0</td>\n    </tr>\n    <tr>\n      <th>2</th>\n      <td>False</td>\n      <td>{'id': 119050, 'name': 'Grumpy Old Men Collect...</td>\n      <td>NaN</td>\n      <td>[{'id': 10749, 'name': 'Romance'}, {'id': 35, ...</td>\n      <td>NaN</td>\n      <td>15602</td>\n      <td>tt0113228</td>\n      <td>en</td>\n      <td>Grumpier Old Men</td>\n      <td>A family wedding reignites the ancient feud be...</td>\n      <td>...</td>\n      <td>1995-12-22</td>\n      <td>NaN</td>\n      <td>101.0</td>\n      <td>[{'iso_639_1': 'en', 'name': 'English'}]</td>\n      <td>Released</td>\n      <td>Still Yelling. Still Fighting. Still Ready for...</td>\n      <td>Grumpier Old Men</td>\n      <td>False</td>\n      <td>6.5</td>\n      <td>92.0</td>\n    </tr>\n    <tr>\n      <th>3</th>\n      <td>False</td>\n      <td>NaN</td>\n      <td>16000000</td>\n      <td>[{'id': 35, 'name': 'Comedy'}, {'id': 18, 'nam...</td>\n      <td>NaN</td>\n      <td>31357</td>\n      <td>tt0114885</td>\n      <td>en</td>\n      <td>Waiting to Exhale</td>\n      <td>Cheated on, mistreated and stepped on, the wom...</td>\n      <td>...</td>\n      <td>1995-12-22</td>\n      <td>81452156.0</td>\n      <td>127.0</td>\n      <td>[{'iso_639_1': 'en', 'name': 'English'}]</td>\n      <td>Released</td>\n      <td>Friends are the people who let you be yourself...</td>\n      <td>Waiting to Exhale</td>\n      <td>False</td>\n      <td>6.1</td>\n      <td>34.0</td>\n    </tr>\n    <tr>\n      <th>4</th>\n      <td>False</td>\n      <td>{'id': 96871, 'name': 'Father of the Bride Col...</td>\n      <td>NaN</td>\n      <td>[{'id': 35, 'name': 'Comedy'}]</td>\n      <td>NaN</td>\n      <td>11862</td>\n      <td>tt0113041</td>\n      <td>en</td>\n      <td>Father of the Bride Part II</td>\n      <td>Just when George Banks has recovered from his ...</td>\n      <td>...</td>\n      <td>1995-02-10</td>\n      <td>76578911.0</td>\n      <td>106.0</td>\n      <td>[{'iso_639_1': 'en', 'name': 'English'}]</td>\n      <td>Released</td>\n      <td>Just When His World Is Back To Normal... He's ...</td>\n      <td>Father of the Bride Part II</td>\n      <td>False</td>\n      <td>5.7</td>\n      <td>173.0</td>\n    </tr>\n    <tr>\n      <th>...</th>\n      <td>...</td>\n      <td>...</td>\n      <td>...</td>\n      <td>...</td>\n      <td>...</td>\n      <td>...</td>\n      <td>...</td>\n      <td>...</td>\n      <td>...</td>\n      <td>...</td>\n      <td>...</td>\n      <td>...</td>\n      <td>...</td>\n      <td>...</td>\n      <td>...</td>\n      <td>...</td>\n      <td>...</td>\n      <td>...</td>\n      <td>...</td>\n      <td>...</td>\n      <td>...</td>\n    </tr>\n    <tr>\n      <th>45461</th>\n      <td>False</td>\n      <td>NaN</td>\n      <td>NaN</td>\n      <td>[{'id': 18, 'name': 'Drama'}, {'id': 10751, 'n...</td>\n      <td>http://www.imdb.com/title/tt6209470/</td>\n      <td>439050</td>\n      <td>tt6209470</td>\n      <td>fa</td>\n      <td>رگ خواب</td>\n      <td>Rising and falling between a man and woman.</td>\n      <td>...</td>\n      <td>NaN</td>\n      <td>NaN</td>\n      <td>90.0</td>\n      <td>[{'iso_639_1': 'fa', 'name': 'فارسی'}]</td>\n      <td>Released</td>\n      <td>Rising and falling between a man and woman</td>\n      <td>Subdue</td>\n      <td>False</td>\n      <td>4.0</td>\n      <td>1.0</td>\n    </tr>\n    <tr>\n      <th>45462</th>\n      <td>False</td>\n      <td>NaN</td>\n      <td>NaN</td>\n      <td>[{'id': 18, 'name': 'Drama'}]</td>\n      <td>NaN</td>\n      <td>111109</td>\n      <td>tt2028550</td>\n      <td>tl</td>\n      <td>Siglo ng Pagluluwal</td>\n      <td>An artist struggles to finish his work while a...</td>\n      <td>...</td>\n      <td>2011-11-17</td>\n      <td>NaN</td>\n      <td>360.0</td>\n      <td>[{'iso_639_1': 'tl', 'name': ''}]</td>\n      <td>Released</td>\n      <td>NaN</td>\n      <td>Century of Birthing</td>\n      <td>False</td>\n      <td>9.0</td>\n      <td>3.0</td>\n    </tr>\n    <tr>\n      <th>45463</th>\n      <td>False</td>\n      <td>NaN</td>\n      <td>NaN</td>\n      <td>[{'id': 28, 'name': 'Action'}, {'id': 18, 'nam...</td>\n      <td>NaN</td>\n      <td>67758</td>\n      <td>tt0303758</td>\n      <td>en</td>\n      <td>Betrayal</td>\n      <td>When one of her hits goes wrong, a professiona...</td>\n      <td>...</td>\n      <td>2003-08-01</td>\n      <td>NaN</td>\n      <td>90.0</td>\n      <td>[{'iso_639_1': 'en', 'name': 'English'}]</td>\n      <td>Released</td>\n      <td>A deadly game of wits.</td>\n      <td>Betrayal</td>\n      <td>False</td>\n      <td>3.8</td>\n      <td>6.0</td>\n    </tr>\n    <tr>\n      <th>45464</th>\n      <td>False</td>\n      <td>NaN</td>\n      <td>NaN</td>\n      <td>[]</td>\n      <td>NaN</td>\n      <td>227506</td>\n      <td>tt0008536</td>\n      <td>en</td>\n      <td>Satana likuyushchiy</td>\n      <td>In a small town live two brothers, one a minis...</td>\n      <td>...</td>\n      <td>1917-10-21</td>\n      <td>NaN</td>\n      <td>87.0</td>\n      <td>[]</td>\n      <td>Released</td>\n      <td>NaN</td>\n      <td>Satan Triumphant</td>\n      <td>False</td>\n      <td>NaN</td>\n      <td>NaN</td>\n    </tr>\n    <tr>\n      <th>45465</th>\n      <td>False</td>\n      <td>NaN</td>\n      <td>NaN</td>\n      <td>[]</td>\n      <td>NaN</td>\n      <td>461257</td>\n      <td>tt6980792</td>\n      <td>en</td>\n      <td>Queerama</td>\n      <td>50 years after decriminalisation of homosexual...</td>\n      <td>...</td>\n      <td>2017-06-09</td>\n      <td>NaN</td>\n      <td>75.0</td>\n      <td>[{'iso_639_1': 'en', 'name': 'English'}]</td>\n      <td>Released</td>\n      <td>NaN</td>\n      <td>Queerama</td>\n      <td>False</td>\n      <td>NaN</td>\n      <td>NaN</td>\n    </tr>\n  </tbody>\n</table>\n<p>45466 rows × 24 columns</p>\n</div>"
     },
     "execution_count": 9,
     "metadata": {},
     "output_type": "execute_result"
    }
   ],
   "source": [
    "movies"
   ],
   "metadata": {
    "collapsed": false,
    "pycharm": {
     "name": "#%%\n"
    }
   }
  },
  {
   "cell_type": "code",
   "execution_count": 10,
   "outputs": [],
   "source": [
    "movies.drop(columns=['belongs_to_collection',\n",
    "                     'homepage',\n",
    "                     'original_title',\n",
    "                     'poster_path',\n",
    "                     'status',\n",
    "                     'video'],\n",
    "            inplace=True)"
   ],
   "metadata": {
    "collapsed": false,
    "pycharm": {
     "name": "#%%\n"
    }
   }
  },
  {
   "cell_type": "code",
   "execution_count": 12,
   "outputs": [
    {
     "data": {
      "text/plain": "adult                       0\nbudget                  36573\ngenres                      0\nid                          0\nimdb_id                    20\noriginal_language          11\noverview                  954\npopularity                 71\nproduction_companies        3\nproduction_countries        3\nrelease_date               87\nrevenue                 38058\nruntime                  1821\nspoken_languages            6\ntagline                 25054\ntitle                       6\nvote_average             3004\nvote_count               2905\ndtype: int64"
     },
     "execution_count": 12,
     "metadata": {},
     "output_type": "execute_result"
    }
   ],
   "source": [
    "movies.isna().sum()"
   ],
   "metadata": {
    "collapsed": false,
    "pycharm": {
     "name": "#%%\n"
    }
   }
  },
  {
   "cell_type": "code",
   "execution_count": 16,
   "outputs": [],
   "source": [
    "movies=movies[movies['revenue'].notnull()]"
   ],
   "metadata": {
    "collapsed": false,
    "pycharm": {
     "name": "#%%\n"
    }
   }
  },
  {
   "cell_type": "code",
   "execution_count": 17,
   "outputs": [],
   "source": [
    "movies=movies[movies['budget'].notnull()]"
   ],
   "metadata": {
    "collapsed": false,
    "pycharm": {
     "name": "#%%\n"
    }
   }
  },
  {
   "cell_type": "code",
   "execution_count": 18,
   "outputs": [
    {
     "data": {
      "text/plain": "       adult    budget                                             genres  \\\n0      False  30000000  [{'id': 16, 'name': 'Animation'}, {'id': 35, '...   \n1      False  65000000  [{'id': 12, 'name': 'Adventure'}, {'id': 14, '...   \n3      False  16000000  [{'id': 35, 'name': 'Comedy'}, {'id': 18, 'nam...   \n5      False  60000000  [{'id': 28, 'name': 'Action'}, {'id': 80, 'nam...   \n8      False  35000000  [{'id': 28, 'name': 'Action'}, {'id': 12, 'nam...   \n...      ...       ...                                                ...   \n45250  False  12000000  [{'id': 28, 'name': 'Action'}, {'id': 35, 'nam...   \n45399  False    750000  [{'id': 80, 'name': 'Crime'}, {'id': 35, 'name...   \n45409  False    800000  [{'id': 35, 'name': 'Comedy'}, {'id': 18, 'nam...   \n45412  False   2000000  [{'id': 10749, 'name': 'Romance'}, {'id': 18, ...   \n45422  False   5000000  [{'id': 28, 'name': 'Action'}, {'id': 35, 'nam...   \n\n           id    imdb_id original_language  \\\n0         862  tt0114709                en   \n1        8844  tt0113497                en   \n3       31357  tt0114885                en   \n5         949  tt0113277                en   \n8        9091  tt0114576                en   \n...       ...        ...               ...   \n45250   24049  tt0479751                ta   \n45399  280422  tt3805180                ru   \n45409   62757  tt0933361                en   \n45412   63281  tt1718881                en   \n45422   63898  tt1110037                ru   \n\n                                                overview popularity  \\\n0      Led by Woody, Andy's toys live happily in his ...  21.946943   \n1      When siblings Judy and Peter discover an encha...  17.015539   \n3      Cheated on, mistreated and stepped on, the wom...   3.859495   \n5      Obsessive master thief, Neil McCauley leads a ...  17.924927   \n8      International action superstar Jean Claude Van...    5.23158   \n...                                                  ...        ...   \n45250  Corrupt police and politicians target a comput...   1.323587   \n45399                                                NaN   0.201582   \n45409  The sea, August, interesting and simple people...   0.903061   \n45412  У девушки Даши, приехавшей с подругой «покорят...   0.121844   \n45422  Failing to complete an important assignment wi...   0.039793   \n\n                                    production_companies  \\\n0         [{'name': 'Pixar Animation Studios', 'id': 3}]   \n1      [{'name': 'TriStar Pictures', 'id': 559}, {'na...   \n3      [{'name': 'Twentieth Century Fox Film Corporat...   \n5      [{'name': 'Regency Enterprises', 'id': 508}, {...   \n8      [{'name': 'Universal Pictures', 'id': 33}, {'n...   \n...                                                  ...   \n45250         [{'name': 'AVM Productions', 'id': 16424}]   \n45399  [{'name': 'Кинокомпания «Lunapark»', 'id': 420...   \n45409                                                 []   \n45412                  [{'name': 'Profit', 'id': 21163}]   \n45422                                                 []   \n\n                                    production_countries release_date  \\\n0      [{'iso_3166_1': 'US', 'name': 'United States o...   1995-10-30   \n1      [{'iso_3166_1': 'US', 'name': 'United States o...   1995-12-15   \n3      [{'iso_3166_1': 'US', 'name': 'United States o...   1995-12-22   \n5      [{'iso_3166_1': 'US', 'name': 'United States o...   1995-12-15   \n8      [{'iso_3166_1': 'US', 'name': 'United States o...   1995-12-22   \n...                                                  ...          ...   \n45250            [{'iso_3166_1': 'IN', 'name': 'India'}]   2007-06-14   \n45399           [{'iso_3166_1': 'RU', 'name': 'Russia'}]   2014-06-05   \n45409                                                 []   2006-11-23   \n45412           [{'iso_3166_1': 'RU', 'name': 'Russia'}]   2010-09-30   \n45422           [{'iso_3166_1': 'RU', 'name': 'Russia'}]   2007-09-06   \n\n           revenue  runtime  \\\n0      373554033.0     81.0   \n1      262797249.0    104.0   \n3       81452156.0    127.0   \n5      187436818.0    170.0   \n8       64350171.0    106.0   \n...            ...      ...   \n45250   19000000.0    185.0   \n45399          3.0      NaN   \n45409    1328612.0    100.0   \n45412    1268793.0    107.0   \n45422    1413000.0     91.0   \n\n                                        spoken_languages  \\\n0               [{'iso_639_1': 'en', 'name': 'English'}]   \n1      [{'iso_639_1': 'en', 'name': 'English'}, {'iso...   \n3               [{'iso_639_1': 'en', 'name': 'English'}]   \n5      [{'iso_639_1': 'en', 'name': 'English'}, {'iso...   \n8               [{'iso_639_1': 'en', 'name': 'English'}]   \n...                                                  ...   \n45250  [{'iso_639_1': 'ta', 'name': 'தமிழ்'}, {'iso_6...   \n45399           [{'iso_639_1': 'ru', 'name': 'Pусский'}]   \n45409           [{'iso_639_1': 'ru', 'name': 'Pусский'}]   \n45412           [{'iso_639_1': 'ru', 'name': 'Pусский'}]   \n45422           [{'iso_639_1': 'ru', 'name': 'Pусский'}]   \n\n                                                 tagline              title  \\\n0                                                    NaN          Toy Story   \n1              Roll the dice and unleash the excitement!            Jumanji   \n3      Friends are the people who let you be yourself...  Waiting to Exhale   \n5                               A Los Angeles Crime Saga               Heat   \n8                             Terror goes into overtime.       Sudden Death   \n...                                                  ...                ...   \n45250                                                NaN   Sivaji: The Boss   \n45399                                                NaN        All at Once   \n45409                                                NaN            Savages   \n45412                                                NaN        Pro Lyuboff   \n45422                                                NaN            Antidur   \n\n       vote_average  vote_count  \n0               7.7      5415.0  \n1               6.9      2413.0  \n3               6.1        34.0  \n5               7.7      1886.0  \n8               5.5       174.0  \n...             ...         ...  \n45250           6.9        25.0  \n45399           6.0         4.0  \n45409           5.8         6.0  \n45412           4.0         3.0  \n45422           1.0         1.0  \n\n[5381 rows x 18 columns]",
      "text/html": "<div>\n<style scoped>\n    .dataframe tbody tr th:only-of-type {\n        vertical-align: middle;\n    }\n\n    .dataframe tbody tr th {\n        vertical-align: top;\n    }\n\n    .dataframe thead th {\n        text-align: right;\n    }\n</style>\n<table border=\"1\" class=\"dataframe\">\n  <thead>\n    <tr style=\"text-align: right;\">\n      <th></th>\n      <th>adult</th>\n      <th>budget</th>\n      <th>genres</th>\n      <th>id</th>\n      <th>imdb_id</th>\n      <th>original_language</th>\n      <th>overview</th>\n      <th>popularity</th>\n      <th>production_companies</th>\n      <th>production_countries</th>\n      <th>release_date</th>\n      <th>revenue</th>\n      <th>runtime</th>\n      <th>spoken_languages</th>\n      <th>tagline</th>\n      <th>title</th>\n      <th>vote_average</th>\n      <th>vote_count</th>\n    </tr>\n  </thead>\n  <tbody>\n    <tr>\n      <th>0</th>\n      <td>False</td>\n      <td>30000000</td>\n      <td>[{'id': 16, 'name': 'Animation'}, {'id': 35, '...</td>\n      <td>862</td>\n      <td>tt0114709</td>\n      <td>en</td>\n      <td>Led by Woody, Andy's toys live happily in his ...</td>\n      <td>21.946943</td>\n      <td>[{'name': 'Pixar Animation Studios', 'id': 3}]</td>\n      <td>[{'iso_3166_1': 'US', 'name': 'United States o...</td>\n      <td>1995-10-30</td>\n      <td>373554033.0</td>\n      <td>81.0</td>\n      <td>[{'iso_639_1': 'en', 'name': 'English'}]</td>\n      <td>NaN</td>\n      <td>Toy Story</td>\n      <td>7.7</td>\n      <td>5415.0</td>\n    </tr>\n    <tr>\n      <th>1</th>\n      <td>False</td>\n      <td>65000000</td>\n      <td>[{'id': 12, 'name': 'Adventure'}, {'id': 14, '...</td>\n      <td>8844</td>\n      <td>tt0113497</td>\n      <td>en</td>\n      <td>When siblings Judy and Peter discover an encha...</td>\n      <td>17.015539</td>\n      <td>[{'name': 'TriStar Pictures', 'id': 559}, {'na...</td>\n      <td>[{'iso_3166_1': 'US', 'name': 'United States o...</td>\n      <td>1995-12-15</td>\n      <td>262797249.0</td>\n      <td>104.0</td>\n      <td>[{'iso_639_1': 'en', 'name': 'English'}, {'iso...</td>\n      <td>Roll the dice and unleash the excitement!</td>\n      <td>Jumanji</td>\n      <td>6.9</td>\n      <td>2413.0</td>\n    </tr>\n    <tr>\n      <th>3</th>\n      <td>False</td>\n      <td>16000000</td>\n      <td>[{'id': 35, 'name': 'Comedy'}, {'id': 18, 'nam...</td>\n      <td>31357</td>\n      <td>tt0114885</td>\n      <td>en</td>\n      <td>Cheated on, mistreated and stepped on, the wom...</td>\n      <td>3.859495</td>\n      <td>[{'name': 'Twentieth Century Fox Film Corporat...</td>\n      <td>[{'iso_3166_1': 'US', 'name': 'United States o...</td>\n      <td>1995-12-22</td>\n      <td>81452156.0</td>\n      <td>127.0</td>\n      <td>[{'iso_639_1': 'en', 'name': 'English'}]</td>\n      <td>Friends are the people who let you be yourself...</td>\n      <td>Waiting to Exhale</td>\n      <td>6.1</td>\n      <td>34.0</td>\n    </tr>\n    <tr>\n      <th>5</th>\n      <td>False</td>\n      <td>60000000</td>\n      <td>[{'id': 28, 'name': 'Action'}, {'id': 80, 'nam...</td>\n      <td>949</td>\n      <td>tt0113277</td>\n      <td>en</td>\n      <td>Obsessive master thief, Neil McCauley leads a ...</td>\n      <td>17.924927</td>\n      <td>[{'name': 'Regency Enterprises', 'id': 508}, {...</td>\n      <td>[{'iso_3166_1': 'US', 'name': 'United States o...</td>\n      <td>1995-12-15</td>\n      <td>187436818.0</td>\n      <td>170.0</td>\n      <td>[{'iso_639_1': 'en', 'name': 'English'}, {'iso...</td>\n      <td>A Los Angeles Crime Saga</td>\n      <td>Heat</td>\n      <td>7.7</td>\n      <td>1886.0</td>\n    </tr>\n    <tr>\n      <th>8</th>\n      <td>False</td>\n      <td>35000000</td>\n      <td>[{'id': 28, 'name': 'Action'}, {'id': 12, 'nam...</td>\n      <td>9091</td>\n      <td>tt0114576</td>\n      <td>en</td>\n      <td>International action superstar Jean Claude Van...</td>\n      <td>5.23158</td>\n      <td>[{'name': 'Universal Pictures', 'id': 33}, {'n...</td>\n      <td>[{'iso_3166_1': 'US', 'name': 'United States o...</td>\n      <td>1995-12-22</td>\n      <td>64350171.0</td>\n      <td>106.0</td>\n      <td>[{'iso_639_1': 'en', 'name': 'English'}]</td>\n      <td>Terror goes into overtime.</td>\n      <td>Sudden Death</td>\n      <td>5.5</td>\n      <td>174.0</td>\n    </tr>\n    <tr>\n      <th>...</th>\n      <td>...</td>\n      <td>...</td>\n      <td>...</td>\n      <td>...</td>\n      <td>...</td>\n      <td>...</td>\n      <td>...</td>\n      <td>...</td>\n      <td>...</td>\n      <td>...</td>\n      <td>...</td>\n      <td>...</td>\n      <td>...</td>\n      <td>...</td>\n      <td>...</td>\n      <td>...</td>\n      <td>...</td>\n      <td>...</td>\n    </tr>\n    <tr>\n      <th>45250</th>\n      <td>False</td>\n      <td>12000000</td>\n      <td>[{'id': 28, 'name': 'Action'}, {'id': 35, 'nam...</td>\n      <td>24049</td>\n      <td>tt0479751</td>\n      <td>ta</td>\n      <td>Corrupt police and politicians target a comput...</td>\n      <td>1.323587</td>\n      <td>[{'name': 'AVM Productions', 'id': 16424}]</td>\n      <td>[{'iso_3166_1': 'IN', 'name': 'India'}]</td>\n      <td>2007-06-14</td>\n      <td>19000000.0</td>\n      <td>185.0</td>\n      <td>[{'iso_639_1': 'ta', 'name': 'தமிழ்'}, {'iso_6...</td>\n      <td>NaN</td>\n      <td>Sivaji: The Boss</td>\n      <td>6.9</td>\n      <td>25.0</td>\n    </tr>\n    <tr>\n      <th>45399</th>\n      <td>False</td>\n      <td>750000</td>\n      <td>[{'id': 80, 'name': 'Crime'}, {'id': 35, 'name...</td>\n      <td>280422</td>\n      <td>tt3805180</td>\n      <td>ru</td>\n      <td>NaN</td>\n      <td>0.201582</td>\n      <td>[{'name': 'Кинокомпания «Lunapark»', 'id': 420...</td>\n      <td>[{'iso_3166_1': 'RU', 'name': 'Russia'}]</td>\n      <td>2014-06-05</td>\n      <td>3.0</td>\n      <td>NaN</td>\n      <td>[{'iso_639_1': 'ru', 'name': 'Pусский'}]</td>\n      <td>NaN</td>\n      <td>All at Once</td>\n      <td>6.0</td>\n      <td>4.0</td>\n    </tr>\n    <tr>\n      <th>45409</th>\n      <td>False</td>\n      <td>800000</td>\n      <td>[{'id': 35, 'name': 'Comedy'}, {'id': 18, 'nam...</td>\n      <td>62757</td>\n      <td>tt0933361</td>\n      <td>en</td>\n      <td>The sea, August, interesting and simple people...</td>\n      <td>0.903061</td>\n      <td>[]</td>\n      <td>[]</td>\n      <td>2006-11-23</td>\n      <td>1328612.0</td>\n      <td>100.0</td>\n      <td>[{'iso_639_1': 'ru', 'name': 'Pусский'}]</td>\n      <td>NaN</td>\n      <td>Savages</td>\n      <td>5.8</td>\n      <td>6.0</td>\n    </tr>\n    <tr>\n      <th>45412</th>\n      <td>False</td>\n      <td>2000000</td>\n      <td>[{'id': 10749, 'name': 'Romance'}, {'id': 18, ...</td>\n      <td>63281</td>\n      <td>tt1718881</td>\n      <td>en</td>\n      <td>У девушки Даши, приехавшей с подругой «покорят...</td>\n      <td>0.121844</td>\n      <td>[{'name': 'Profit', 'id': 21163}]</td>\n      <td>[{'iso_3166_1': 'RU', 'name': 'Russia'}]</td>\n      <td>2010-09-30</td>\n      <td>1268793.0</td>\n      <td>107.0</td>\n      <td>[{'iso_639_1': 'ru', 'name': 'Pусский'}]</td>\n      <td>NaN</td>\n      <td>Pro Lyuboff</td>\n      <td>4.0</td>\n      <td>3.0</td>\n    </tr>\n    <tr>\n      <th>45422</th>\n      <td>False</td>\n      <td>5000000</td>\n      <td>[{'id': 28, 'name': 'Action'}, {'id': 35, 'nam...</td>\n      <td>63898</td>\n      <td>tt1110037</td>\n      <td>ru</td>\n      <td>Failing to complete an important assignment wi...</td>\n      <td>0.039793</td>\n      <td>[]</td>\n      <td>[{'iso_3166_1': 'RU', 'name': 'Russia'}]</td>\n      <td>2007-09-06</td>\n      <td>1413000.0</td>\n      <td>91.0</td>\n      <td>[{'iso_639_1': 'ru', 'name': 'Pусский'}]</td>\n      <td>NaN</td>\n      <td>Antidur</td>\n      <td>1.0</td>\n      <td>1.0</td>\n    </tr>\n  </tbody>\n</table>\n<p>5381 rows × 18 columns</p>\n</div>"
     },
     "execution_count": 18,
     "metadata": {},
     "output_type": "execute_result"
    }
   ],
   "source": [
    "movies"
   ],
   "metadata": {
    "collapsed": false,
    "pycharm": {
     "name": "#%%\n"
    }
   }
  },
  {
   "cell_type": "code",
   "execution_count": 34,
   "outputs": [],
   "source": [
    "movies= movies[(movies.production_companies.index != False)\n",
    "               & (movies.genres != False)]"
   ],
   "metadata": {
    "collapsed": false,
    "pycharm": {
     "name": "#%%\n"
    }
   }
  },
  {
   "cell_type": "code",
   "execution_count": 35,
   "outputs": [
    {
     "data": {
      "text/plain": "       adult    budget                                             genres  \\\n1      False  65000000  [{'id': 12, 'name': 'Adventure'}, {'id': 14, '...   \n3      False  16000000  [{'id': 35, 'name': 'Comedy'}, {'id': 18, 'nam...   \n5      False  60000000  [{'id': 28, 'name': 'Action'}, {'id': 80, 'nam...   \n8      False  35000000  [{'id': 28, 'name': 'Action'}, {'id': 12, 'nam...   \n9      False  58000000  [{'id': 12, 'name': 'Adventure'}, {'id': 28, '...   \n...      ...       ...                                                ...   \n45250  False  12000000  [{'id': 28, 'name': 'Action'}, {'id': 35, 'nam...   \n45399  False    750000  [{'id': 80, 'name': 'Crime'}, {'id': 35, 'name...   \n45409  False    800000  [{'id': 35, 'name': 'Comedy'}, {'id': 18, 'nam...   \n45412  False   2000000  [{'id': 10749, 'name': 'Romance'}, {'id': 18, ...   \n45422  False   5000000  [{'id': 28, 'name': 'Action'}, {'id': 35, 'nam...   \n\n           id    imdb_id original_language  \\\n1        8844  tt0113497                en   \n3       31357  tt0114885                en   \n5         949  tt0113277                en   \n8        9091  tt0114576                en   \n9         710  tt0113189                en   \n...       ...        ...               ...   \n45250   24049  tt0479751                ta   \n45399  280422  tt3805180                ru   \n45409   62757  tt0933361                en   \n45412   63281  tt1718881                en   \n45422   63898  tt1110037                ru   \n\n                                                overview popularity  \\\n1      When siblings Judy and Peter discover an encha...  17.015539   \n3      Cheated on, mistreated and stepped on, the wom...   3.859495   \n5      Obsessive master thief, Neil McCauley leads a ...  17.924927   \n8      International action superstar Jean Claude Van...    5.23158   \n9      James Bond must unmask the mysterious head of ...  14.686036   \n...                                                  ...        ...   \n45250  Corrupt police and politicians target a comput...   1.323587   \n45399                                                NaN   0.201582   \n45409  The sea, August, interesting and simple people...   0.903061   \n45412  У девушки Даши, приехавшей с подругой «покорят...   0.121844   \n45422  Failing to complete an important assignment wi...   0.039793   \n\n                                    production_companies  \\\n1      [{'name': 'TriStar Pictures', 'id': 559}, {'na...   \n3      [{'name': 'Twentieth Century Fox Film Corporat...   \n5      [{'name': 'Regency Enterprises', 'id': 508}, {...   \n8      [{'name': 'Universal Pictures', 'id': 33}, {'n...   \n9      [{'name': 'United Artists', 'id': 60}, {'name'...   \n...                                                  ...   \n45250         [{'name': 'AVM Productions', 'id': 16424}]   \n45399  [{'name': 'Кинокомпания «Lunapark»', 'id': 420...   \n45409                                                 []   \n45412                  [{'name': 'Profit', 'id': 21163}]   \n45422                                                 []   \n\n                                    production_countries release_date  \\\n1      [{'iso_3166_1': 'US', 'name': 'United States o...   1995-12-15   \n3      [{'iso_3166_1': 'US', 'name': 'United States o...   1995-12-22   \n5      [{'iso_3166_1': 'US', 'name': 'United States o...   1995-12-15   \n8      [{'iso_3166_1': 'US', 'name': 'United States o...   1995-12-22   \n9      [{'iso_3166_1': 'GB', 'name': 'United Kingdom'...   1995-11-16   \n...                                                  ...          ...   \n45250            [{'iso_3166_1': 'IN', 'name': 'India'}]   2007-06-14   \n45399           [{'iso_3166_1': 'RU', 'name': 'Russia'}]   2014-06-05   \n45409                                                 []   2006-11-23   \n45412           [{'iso_3166_1': 'RU', 'name': 'Russia'}]   2010-09-30   \n45422           [{'iso_3166_1': 'RU', 'name': 'Russia'}]   2007-09-06   \n\n           revenue  runtime  \\\n1      262797249.0    104.0   \n3       81452156.0    127.0   \n5      187436818.0    170.0   \n8       64350171.0    106.0   \n9      352194034.0    130.0   \n...            ...      ...   \n45250   19000000.0    185.0   \n45399          3.0      NaN   \n45409    1328612.0    100.0   \n45412    1268793.0    107.0   \n45422    1413000.0     91.0   \n\n                                        spoken_languages  \\\n1      [{'iso_639_1': 'en', 'name': 'English'}, {'iso...   \n3               [{'iso_639_1': 'en', 'name': 'English'}]   \n5      [{'iso_639_1': 'en', 'name': 'English'}, {'iso...   \n8               [{'iso_639_1': 'en', 'name': 'English'}]   \n9      [{'iso_639_1': 'en', 'name': 'English'}, {'iso...   \n...                                                  ...   \n45250  [{'iso_639_1': 'ta', 'name': 'தமிழ்'}, {'iso_6...   \n45399           [{'iso_639_1': 'ru', 'name': 'Pусский'}]   \n45409           [{'iso_639_1': 'ru', 'name': 'Pусский'}]   \n45412           [{'iso_639_1': 'ru', 'name': 'Pусский'}]   \n45422           [{'iso_639_1': 'ru', 'name': 'Pусский'}]   \n\n                                                 tagline              title  \\\n1              Roll the dice and unleash the excitement!            Jumanji   \n3      Friends are the people who let you be yourself...  Waiting to Exhale   \n5                               A Los Angeles Crime Saga               Heat   \n8                             Terror goes into overtime.       Sudden Death   \n9                   No limits. No fears. No substitutes.          GoldenEye   \n...                                                  ...                ...   \n45250                                                NaN   Sivaji: The Boss   \n45399                                                NaN        All at Once   \n45409                                                NaN            Savages   \n45412                                                NaN        Pro Lyuboff   \n45422                                                NaN            Antidur   \n\n       vote_average  vote_count  \n1               6.9      2413.0  \n3               6.1        34.0  \n5               7.7      1886.0  \n8               5.5       174.0  \n9               6.6      1194.0  \n...             ...         ...  \n45250           6.9        25.0  \n45399           6.0         4.0  \n45409           5.8         6.0  \n45412           4.0         3.0  \n45422           1.0         1.0  \n\n[5380 rows x 18 columns]",
      "text/html": "<div>\n<style scoped>\n    .dataframe tbody tr th:only-of-type {\n        vertical-align: middle;\n    }\n\n    .dataframe tbody tr th {\n        vertical-align: top;\n    }\n\n    .dataframe thead th {\n        text-align: right;\n    }\n</style>\n<table border=\"1\" class=\"dataframe\">\n  <thead>\n    <tr style=\"text-align: right;\">\n      <th></th>\n      <th>adult</th>\n      <th>budget</th>\n      <th>genres</th>\n      <th>id</th>\n      <th>imdb_id</th>\n      <th>original_language</th>\n      <th>overview</th>\n      <th>popularity</th>\n      <th>production_companies</th>\n      <th>production_countries</th>\n      <th>release_date</th>\n      <th>revenue</th>\n      <th>runtime</th>\n      <th>spoken_languages</th>\n      <th>tagline</th>\n      <th>title</th>\n      <th>vote_average</th>\n      <th>vote_count</th>\n    </tr>\n  </thead>\n  <tbody>\n    <tr>\n      <th>1</th>\n      <td>False</td>\n      <td>65000000</td>\n      <td>[{'id': 12, 'name': 'Adventure'}, {'id': 14, '...</td>\n      <td>8844</td>\n      <td>tt0113497</td>\n      <td>en</td>\n      <td>When siblings Judy and Peter discover an encha...</td>\n      <td>17.015539</td>\n      <td>[{'name': 'TriStar Pictures', 'id': 559}, {'na...</td>\n      <td>[{'iso_3166_1': 'US', 'name': 'United States o...</td>\n      <td>1995-12-15</td>\n      <td>262797249.0</td>\n      <td>104.0</td>\n      <td>[{'iso_639_1': 'en', 'name': 'English'}, {'iso...</td>\n      <td>Roll the dice and unleash the excitement!</td>\n      <td>Jumanji</td>\n      <td>6.9</td>\n      <td>2413.0</td>\n    </tr>\n    <tr>\n      <th>3</th>\n      <td>False</td>\n      <td>16000000</td>\n      <td>[{'id': 35, 'name': 'Comedy'}, {'id': 18, 'nam...</td>\n      <td>31357</td>\n      <td>tt0114885</td>\n      <td>en</td>\n      <td>Cheated on, mistreated and stepped on, the wom...</td>\n      <td>3.859495</td>\n      <td>[{'name': 'Twentieth Century Fox Film Corporat...</td>\n      <td>[{'iso_3166_1': 'US', 'name': 'United States o...</td>\n      <td>1995-12-22</td>\n      <td>81452156.0</td>\n      <td>127.0</td>\n      <td>[{'iso_639_1': 'en', 'name': 'English'}]</td>\n      <td>Friends are the people who let you be yourself...</td>\n      <td>Waiting to Exhale</td>\n      <td>6.1</td>\n      <td>34.0</td>\n    </tr>\n    <tr>\n      <th>5</th>\n      <td>False</td>\n      <td>60000000</td>\n      <td>[{'id': 28, 'name': 'Action'}, {'id': 80, 'nam...</td>\n      <td>949</td>\n      <td>tt0113277</td>\n      <td>en</td>\n      <td>Obsessive master thief, Neil McCauley leads a ...</td>\n      <td>17.924927</td>\n      <td>[{'name': 'Regency Enterprises', 'id': 508}, {...</td>\n      <td>[{'iso_3166_1': 'US', 'name': 'United States o...</td>\n      <td>1995-12-15</td>\n      <td>187436818.0</td>\n      <td>170.0</td>\n      <td>[{'iso_639_1': 'en', 'name': 'English'}, {'iso...</td>\n      <td>A Los Angeles Crime Saga</td>\n      <td>Heat</td>\n      <td>7.7</td>\n      <td>1886.0</td>\n    </tr>\n    <tr>\n      <th>8</th>\n      <td>False</td>\n      <td>35000000</td>\n      <td>[{'id': 28, 'name': 'Action'}, {'id': 12, 'nam...</td>\n      <td>9091</td>\n      <td>tt0114576</td>\n      <td>en</td>\n      <td>International action superstar Jean Claude Van...</td>\n      <td>5.23158</td>\n      <td>[{'name': 'Universal Pictures', 'id': 33}, {'n...</td>\n      <td>[{'iso_3166_1': 'US', 'name': 'United States o...</td>\n      <td>1995-12-22</td>\n      <td>64350171.0</td>\n      <td>106.0</td>\n      <td>[{'iso_639_1': 'en', 'name': 'English'}]</td>\n      <td>Terror goes into overtime.</td>\n      <td>Sudden Death</td>\n      <td>5.5</td>\n      <td>174.0</td>\n    </tr>\n    <tr>\n      <th>9</th>\n      <td>False</td>\n      <td>58000000</td>\n      <td>[{'id': 12, 'name': 'Adventure'}, {'id': 28, '...</td>\n      <td>710</td>\n      <td>tt0113189</td>\n      <td>en</td>\n      <td>James Bond must unmask the mysterious head of ...</td>\n      <td>14.686036</td>\n      <td>[{'name': 'United Artists', 'id': 60}, {'name'...</td>\n      <td>[{'iso_3166_1': 'GB', 'name': 'United Kingdom'...</td>\n      <td>1995-11-16</td>\n      <td>352194034.0</td>\n      <td>130.0</td>\n      <td>[{'iso_639_1': 'en', 'name': 'English'}, {'iso...</td>\n      <td>No limits. No fears. No substitutes.</td>\n      <td>GoldenEye</td>\n      <td>6.6</td>\n      <td>1194.0</td>\n    </tr>\n    <tr>\n      <th>...</th>\n      <td>...</td>\n      <td>...</td>\n      <td>...</td>\n      <td>...</td>\n      <td>...</td>\n      <td>...</td>\n      <td>...</td>\n      <td>...</td>\n      <td>...</td>\n      <td>...</td>\n      <td>...</td>\n      <td>...</td>\n      <td>...</td>\n      <td>...</td>\n      <td>...</td>\n      <td>...</td>\n      <td>...</td>\n      <td>...</td>\n    </tr>\n    <tr>\n      <th>45250</th>\n      <td>False</td>\n      <td>12000000</td>\n      <td>[{'id': 28, 'name': 'Action'}, {'id': 35, 'nam...</td>\n      <td>24049</td>\n      <td>tt0479751</td>\n      <td>ta</td>\n      <td>Corrupt police and politicians target a comput...</td>\n      <td>1.323587</td>\n      <td>[{'name': 'AVM Productions', 'id': 16424}]</td>\n      <td>[{'iso_3166_1': 'IN', 'name': 'India'}]</td>\n      <td>2007-06-14</td>\n      <td>19000000.0</td>\n      <td>185.0</td>\n      <td>[{'iso_639_1': 'ta', 'name': 'தமிழ்'}, {'iso_6...</td>\n      <td>NaN</td>\n      <td>Sivaji: The Boss</td>\n      <td>6.9</td>\n      <td>25.0</td>\n    </tr>\n    <tr>\n      <th>45399</th>\n      <td>False</td>\n      <td>750000</td>\n      <td>[{'id': 80, 'name': 'Crime'}, {'id': 35, 'name...</td>\n      <td>280422</td>\n      <td>tt3805180</td>\n      <td>ru</td>\n      <td>NaN</td>\n      <td>0.201582</td>\n      <td>[{'name': 'Кинокомпания «Lunapark»', 'id': 420...</td>\n      <td>[{'iso_3166_1': 'RU', 'name': 'Russia'}]</td>\n      <td>2014-06-05</td>\n      <td>3.0</td>\n      <td>NaN</td>\n      <td>[{'iso_639_1': 'ru', 'name': 'Pусский'}]</td>\n      <td>NaN</td>\n      <td>All at Once</td>\n      <td>6.0</td>\n      <td>4.0</td>\n    </tr>\n    <tr>\n      <th>45409</th>\n      <td>False</td>\n      <td>800000</td>\n      <td>[{'id': 35, 'name': 'Comedy'}, {'id': 18, 'nam...</td>\n      <td>62757</td>\n      <td>tt0933361</td>\n      <td>en</td>\n      <td>The sea, August, interesting and simple people...</td>\n      <td>0.903061</td>\n      <td>[]</td>\n      <td>[]</td>\n      <td>2006-11-23</td>\n      <td>1328612.0</td>\n      <td>100.0</td>\n      <td>[{'iso_639_1': 'ru', 'name': 'Pусский'}]</td>\n      <td>NaN</td>\n      <td>Savages</td>\n      <td>5.8</td>\n      <td>6.0</td>\n    </tr>\n    <tr>\n      <th>45412</th>\n      <td>False</td>\n      <td>2000000</td>\n      <td>[{'id': 10749, 'name': 'Romance'}, {'id': 18, ...</td>\n      <td>63281</td>\n      <td>tt1718881</td>\n      <td>en</td>\n      <td>У девушки Даши, приехавшей с подругой «покорят...</td>\n      <td>0.121844</td>\n      <td>[{'name': 'Profit', 'id': 21163}]</td>\n      <td>[{'iso_3166_1': 'RU', 'name': 'Russia'}]</td>\n      <td>2010-09-30</td>\n      <td>1268793.0</td>\n      <td>107.0</td>\n      <td>[{'iso_639_1': 'ru', 'name': 'Pусский'}]</td>\n      <td>NaN</td>\n      <td>Pro Lyuboff</td>\n      <td>4.0</td>\n      <td>3.0</td>\n    </tr>\n    <tr>\n      <th>45422</th>\n      <td>False</td>\n      <td>5000000</td>\n      <td>[{'id': 28, 'name': 'Action'}, {'id': 35, 'nam...</td>\n      <td>63898</td>\n      <td>tt1110037</td>\n      <td>ru</td>\n      <td>Failing to complete an important assignment wi...</td>\n      <td>0.039793</td>\n      <td>[]</td>\n      <td>[{'iso_3166_1': 'RU', 'name': 'Russia'}]</td>\n      <td>2007-09-06</td>\n      <td>1413000.0</td>\n      <td>91.0</td>\n      <td>[{'iso_639_1': 'ru', 'name': 'Pусский'}]</td>\n      <td>NaN</td>\n      <td>Antidur</td>\n      <td>1.0</td>\n      <td>1.0</td>\n    </tr>\n  </tbody>\n</table>\n<p>5380 rows × 18 columns</p>\n</div>"
     },
     "execution_count": 35,
     "metadata": {},
     "output_type": "execute_result"
    }
   ],
   "source": [
    "movies"
   ],
   "metadata": {
    "collapsed": false,
    "pycharm": {
     "name": "#%%\n"
    }
   }
  },
  {
   "cell_type": "code",
   "execution_count": 41,
   "outputs": [],
   "source": [
    "movies['budget']= movies['budget'].astype(float)"
   ],
   "metadata": {
    "collapsed": false,
    "pycharm": {
     "name": "#%%\n"
    }
   }
  },
  {
   "cell_type": "code",
   "execution_count": 42,
   "outputs": [],
   "source": [
    "movies['revenue_percentage']= movies['revenue'] / movies['budget']"
   ],
   "metadata": {
    "collapsed": false,
    "pycharm": {
     "name": "#%%\n"
    }
   }
  },
  {
   "cell_type": "code",
   "execution_count": 45,
   "outputs": [
    {
     "data": {
      "text/plain": "count    5.380000e+03\nmean     5.566931e+03\nstd      2.168768e+05\nmin      5.217391e-07\n25%      7.869149e-01\n50%      2.056119e+00\n75%      4.241111e+00\nmax      1.239638e+07\nName: revenue_percentage, dtype: float64"
     },
     "execution_count": 45,
     "metadata": {},
     "output_type": "execute_result"
    }
   ],
   "source": [
    "movies['revenue_percentage'].describe()"
   ],
   "metadata": {
    "collapsed": false,
    "pycharm": {
     "name": "#%%\n"
    }
   }
  },
  {
   "cell_type": "code",
   "execution_count": 61,
   "outputs": [
    {
     "data": {
      "text/plain": "1               (2.877, 4.241]\n3               (4.241, 7.512]\n5               (2.877, 4.241]\n8               (1.334, 2.056]\n9               (4.241, 7.512]\n                 ...          \n45250           (1.334, 2.056]\n45399    (-0.000999478, 0.308]\n45409           (1.334, 2.056]\n45412           (0.308, 0.787]\n45422    (-0.000999478, 0.308]\nName: revenue_percentage, Length: 5380, dtype: category\nCategories (8, interval[float64, right]): [(-0.000999478, 0.308] < (0.308, 0.787] < (0.787, 1.334] < (1.334, 2.056] < (2.056, 2.877] < (2.877, 4.241] < (4.241, 7.512] < (7.512, 12396383.0]]"
     },
     "execution_count": 61,
     "metadata": {},
     "output_type": "execute_result"
    }
   ],
   "source": [
    "pd.qcut( movies.revenue_percentage, 8)"
   ],
   "metadata": {
    "collapsed": false,
    "pycharm": {
     "name": "#%%\n"
    }
   }
  },
  {
   "cell_type": "code",
   "execution_count": 72,
   "outputs": [
    {
     "name": "stderr",
     "output_type": "stream",
     "text": [
      "C:\\Users\\shomer\\anaconda3\\lib\\site-packages\\seaborn\\distributions.py:2619: FutureWarning: `distplot` is a deprecated function and will be removed in a future version. Please adapt your code to use either `displot` (a figure-level function with similar flexibility) or `histplot` (an axes-level function for histograms).\n",
      "  warnings.warn(msg, FutureWarning)\n",
      "C:\\Users\\shomer\\anaconda3\\lib\\site-packages\\seaborn\\distributions.py:2103: FutureWarning: The `axis` variable is no longer used and will be removed. Instead, assign variables directly to `x` or `y`.\n",
      "  warnings.warn(msg, FutureWarning)\n"
     ]
    },
    {
     "data": {
      "text/plain": "<AxesSubplot:xlabel='revenue_percentage', ylabel='Density'>"
     },
     "execution_count": 72,
     "metadata": {},
     "output_type": "execute_result"
    },
    {
     "data": {
      "text/plain": "<Figure size 432x288 with 1 Axes>",
      "image/png": "[encoded data removed]"
     },
     "metadata": {
      "needs_background": "light"
     },
     "output_type": "display_data"
    }
   ],
   "source": [
    "sns.distplot(movies.revenue_percentage,rug=True)"
   ],
   "metadata": {
    "collapsed": false,
    "pycharm": {
     "name": "#%%\n"
    }
   }
  },
  {
   "cell_type": "code",
   "execution_count": 83,
   "outputs": [
    {
     "data": {
      "text/plain": "1               (2.056, 4.241]\n3          (4.241, 12396383.0]\n5               (2.056, 4.241]\n8               (0.787, 2.056]\n9          (4.241, 12396383.0]\n                 ...          \n45250           (0.787, 2.056]\n45399    (-0.000999478, 0.787]\n45409           (0.787, 2.056]\n45412    (-0.000999478, 0.787]\n45422    (-0.000999478, 0.787]\nName: revenue_percentage, Length: 5380, dtype: category\nCategories (4, interval[float64, right]): [(-0.000999478, 0.787] < (0.787, 2.056] < (2.056, 4.241] < (4.241, 12396383.0]]"
     },
     "execution_count": 83,
     "metadata": {},
     "output_type": "execute_result"
    }
   ],
   "source": [
    "pd.qcut( movies['revenue_percentage'],4)"
   ],
   "metadata": {
    "collapsed": false,
    "pycharm": {
     "name": "#%%\n"
    }
   }
  },
  {
   "cell_type": "code",
   "execution_count": 84,
   "outputs": [],
   "source": [
    "iqr= 4.241-0.787"
   ],
   "metadata": {
    "collapsed": false,
    "pycharm": {
     "name": "#%%\n"
    }
   }
  },
  {
   "cell_type": "code",
   "execution_count": 86,
   "outputs": [],
   "source": [
    "movies= movies[ movies['revenue_percentage'] < 1.5*iqr ]"
   ],
   "metadata": {
    "collapsed": false,
    "pycharm": {
     "name": "#%%\n"
    }
   }
  },
  {
   "cell_type": "code",
   "execution_count": 87,
   "outputs": [
    {
     "data": {
      "text/plain": "       adult      budget                                             genres  \\\n1      False  65000000.0  [{'id': 12, 'name': 'Adventure'}, {'id': 14, '...   \n3      False  16000000.0  [{'id': 35, 'name': 'Comedy'}, {'id': 18, 'nam...   \n5      False  60000000.0  [{'id': 28, 'name': 'Action'}, {'id': 80, 'nam...   \n8      False  35000000.0  [{'id': 28, 'name': 'Action'}, {'id': 12, 'nam...   \n10     False  62000000.0  [{'id': 35, 'name': 'Comedy'}, {'id': 18, 'nam...   \n...      ...         ...                                                ...   \n45250  False  12000000.0  [{'id': 28, 'name': 'Action'}, {'id': 35, 'nam...   \n45399  False    750000.0  [{'id': 80, 'name': 'Crime'}, {'id': 35, 'name...   \n45409  False    800000.0  [{'id': 35, 'name': 'Comedy'}, {'id': 18, 'nam...   \n45412  False   2000000.0  [{'id': 10749, 'name': 'Romance'}, {'id': 18, ...   \n45422  False   5000000.0  [{'id': 28, 'name': 'Action'}, {'id': 35, 'nam...   \n\n           id    imdb_id original_language  \\\n1        8844  tt0113497                en   \n3       31357  tt0114885                en   \n5         949  tt0113277                en   \n8        9091  tt0114576                en   \n10       9087  tt0112346                en   \n...       ...        ...               ...   \n45250   24049  tt0479751                ta   \n45399  280422  tt3805180                ru   \n45409   62757  tt0933361                en   \n45412   63281  tt1718881                en   \n45422   63898  tt1110037                ru   \n\n                                                overview popularity  \\\n1      When siblings Judy and Peter discover an encha...  17.015539   \n3      Cheated on, mistreated and stepped on, the wom...   3.859495   \n5      Obsessive master thief, Neil McCauley leads a ...  17.924927   \n8      International action superstar Jean Claude Van...    5.23158   \n10     Widowed U.S. president Andrew Shepherd, one of...   6.318445   \n...                                                  ...        ...   \n45250  Corrupt police and politicians target a comput...   1.323587   \n45399                                                NaN   0.201582   \n45409  The sea, August, interesting and simple people...   0.903061   \n45412  У девушки Даши, приехавшей с подругой «покорят...   0.121844   \n45422  Failing to complete an important assignment wi...   0.039793   \n\n                                    production_companies  \\\n1      [{'name': 'TriStar Pictures', 'id': 559}, {'na...   \n3      [{'name': 'Twentieth Century Fox Film Corporat...   \n5      [{'name': 'Regency Enterprises', 'id': 508}, {...   \n8      [{'name': 'Universal Pictures', 'id': 33}, {'n...   \n10     [{'name': 'Columbia Pictures', 'id': 5}, {'nam...   \n...                                                  ...   \n45250         [{'name': 'AVM Productions', 'id': 16424}]   \n45399  [{'name': 'Кинокомпания «Lunapark»', 'id': 420...   \n45409                                                 []   \n45412                  [{'name': 'Profit', 'id': 21163}]   \n45422                                                 []   \n\n                                    production_countries release_date  \\\n1      [{'iso_3166_1': 'US', 'name': 'United States o...   1995-12-15   \n3      [{'iso_3166_1': 'US', 'name': 'United States o...   1995-12-22   \n5      [{'iso_3166_1': 'US', 'name': 'United States o...   1995-12-15   \n8      [{'iso_3166_1': 'US', 'name': 'United States o...   1995-12-22   \n10     [{'iso_3166_1': 'US', 'name': 'United States o...   1995-11-17   \n...                                                  ...          ...   \n45250            [{'iso_3166_1': 'IN', 'name': 'India'}]   2007-06-14   \n45399           [{'iso_3166_1': 'RU', 'name': 'Russia'}]   2014-06-05   \n45409                                                 []   2006-11-23   \n45412           [{'iso_3166_1': 'RU', 'name': 'Russia'}]   2010-09-30   \n45422           [{'iso_3166_1': 'RU', 'name': 'Russia'}]   2007-09-06   \n\n           revenue  runtime  \\\n1      262797249.0    104.0   \n3       81452156.0    127.0   \n5      187436818.0    170.0   \n8       64350171.0    106.0   \n10     107879496.0    106.0   \n...            ...      ...   \n45250   19000000.0    185.0   \n45399          3.0      NaN   \n45409    1328612.0    100.0   \n45412    1268793.0    107.0   \n45422    1413000.0     91.0   \n\n                                        spoken_languages  \\\n1      [{'iso_639_1': 'en', 'name': 'English'}, {'iso...   \n3               [{'iso_639_1': 'en', 'name': 'English'}]   \n5      [{'iso_639_1': 'en', 'name': 'English'}, {'iso...   \n8               [{'iso_639_1': 'en', 'name': 'English'}]   \n10              [{'iso_639_1': 'en', 'name': 'English'}]   \n...                                                  ...   \n45250  [{'iso_639_1': 'ta', 'name': 'தமிழ்'}, {'iso_6...   \n45399           [{'iso_639_1': 'ru', 'name': 'Pусский'}]   \n45409           [{'iso_639_1': 'ru', 'name': 'Pусский'}]   \n45412           [{'iso_639_1': 'ru', 'name': 'Pусский'}]   \n45422           [{'iso_639_1': 'ru', 'name': 'Pусский'}]   \n\n                                                 tagline  \\\n1              Roll the dice and unleash the excitement!   \n3      Friends are the people who let you be yourself...   \n5                               A Los Angeles Crime Saga   \n8                             Terror goes into overtime.   \n10     Why can't the most powerful man in the world h...   \n...                                                  ...   \n45250                                                NaN   \n45399                                                NaN   \n45409                                                NaN   \n45412                                                NaN   \n45422                                                NaN   \n\n                        title  vote_average  vote_count  revenue_percentage  \n1                     Jumanji           6.9      2413.0            4.043035  \n3           Waiting to Exhale           6.1        34.0            5.090760  \n5                        Heat           7.7      1886.0            3.123947  \n8                Sudden Death           5.5       174.0            1.838576  \n10     The American President           6.5       199.0            1.739992  \n...                       ...           ...         ...                 ...  \n45250        Sivaji: The Boss           6.9        25.0            1.583333  \n45399             All at Once           6.0         4.0            0.000004  \n45409                 Savages           5.8         6.0            1.660765  \n45412             Pro Lyuboff           4.0         3.0            0.634397  \n45422                 Antidur           1.0         1.0            0.282600  \n\n[4324 rows x 19 columns]",
      "text/html": "<div>\n<style scoped>\n    .dataframe tbody tr th:only-of-type {\n        vertical-align: middle;\n    }\n\n    .dataframe tbody tr th {\n        vertical-align: top;\n    }\n\n    .dataframe thead th {\n        text-align: right;\n    }\n</style>\n<table border=\"1\" class=\"dataframe\">\n  <thead>\n    <tr style=\"text-align: right;\">\n      <th></th>\n      <th>adult</th>\n      <th>budget</th>\n      <th>genres</th>\n      <th>id</th>\n      <th>imdb_id</th>\n      <th>original_language</th>\n      <th>overview</th>\n      <th>popularity</th>\n      <th>production_companies</th>\n      <th>production_countries</th>\n      <th>release_date</th>\n      <th>revenue</th>\n      <th>runtime</th>\n      <th>spoken_languages</th>\n      <th>tagline</th>\n      <th>title</th>\n      <th>vote_average</th>\n      <th>vote_count</th>\n      <th>revenue_percentage</th>\n    </tr>\n  </thead>\n  <tbody>\n    <tr>\n      <th>1</th>\n      <td>False</td>\n      <td>65000000.0</td>\n      <td>[{'id': 12, 'name': 'Adventure'}, {'id': 14, '...</td>\n      <td>8844</td>\n      <td>tt0113497</td>\n      <td>en</td>\n      <td>When siblings Judy and Peter discover an encha...</td>\n      <td>17.015539</td>\n      <td>[{'name': 'TriStar Pictures', 'id': 559}, {'na...</td>\n      <td>[{'iso_3166_1': 'US', 'name': 'United States o...</td>\n      <td>1995-12-15</td>\n      <td>262797249.0</td>\n      <td>104.0</td>\n      <td>[{'iso_639_1': 'en', 'name': 'English'}, {'iso...</td>\n      <td>Roll the dice and unleash the excitement!</td>\n      <td>Jumanji</td>\n      <td>6.9</td>\n      <td>2413.0</td>\n      <td>4.043035</td>\n    </tr>\n    <tr>\n      <th>3</th>\n      <td>False</td>\n      <td>16000000.0</td>\n      <td>[{'id': 35, 'name': 'Comedy'}, {'id': 18, 'nam...</td>\n      <td>31357</td>\n      <td>tt0114885</td>\n      <td>en</td>\n      <td>Cheated on, mistreated and stepped on, the wom...</td>\n      <td>3.859495</td>\n      <td>[{'name': 'Twentieth Century Fox Film Corporat...</td>\n      <td>[{'iso_3166_1': 'US', 'name': 'United States o...</td>\n      <td>1995-12-22</td>\n      <td>81452156.0</td>\n      <td>127.0</td>\n      <td>[{'iso_639_1': 'en', 'name': 'English'}]</td>\n      <td>Friends are the people who let you be yourself...</td>\n      <td>Waiting to Exhale</td>\n      <td>6.1</td>\n      <td>34.0</td>\n      <td>5.090760</td>\n    </tr>\n    <tr>\n      <th>5</th>\n      <td>False</td>\n      <td>60000000.0</td>\n      <td>[{'id': 28, 'name': 'Action'}, {'id': 80, 'nam...</td>\n      <td>949</td>\n      <td>tt0113277</td>\n      <td>en</td>\n      <td>Obsessive master thief, Neil McCauley leads a ...</td>\n      <td>17.924927</td>\n      <td>[{'name': 'Regency Enterprises', 'id': 508}, {...</td>\n      <td>[{'iso_3166_1': 'US', 'name': 'United States o...</td>\n      <td>1995-12-15</td>\n      <td>187436818.0</td>\n      <td>170.0</td>\n      <td>[{'iso_639_1': 'en', 'name': 'English'}, {'iso...</td>\n      <td>A Los Angeles Crime Saga</td>\n      <td>Heat</td>\n      <td>7.7</td>\n      <td>1886.0</td>\n      <td>3.123947</td>\n    </tr>\n    <tr>\n      <th>8</th>\n      <td>False</td>\n      <td>35000000.0</td>\n      <td>[{'id': 28, 'name': 'Action'}, {'id': 12, 'nam...</td>\n      <td>9091</td>\n      <td>tt0114576</td>\n      <td>en</td>\n      <td>International action superstar Jean Claude Van...</td>\n      <td>5.23158</td>\n      <td>[{'name': 'Universal Pictures', 'id': 33}, {'n...</td>\n      <td>[{'iso_3166_1': 'US', 'name': 'United States o...</td>\n      <td>1995-12-22</td>\n      <td>64350171.0</td>\n      <td>106.0</td>\n      <td>[{'iso_639_1': 'en', 'name': 'English'}]</td>\n      <td>Terror goes into overtime.</td>\n      <td>Sudden Death</td>\n      <td>5.5</td>\n      <td>174.0</td>\n      <td>1.838576</td>\n    </tr>\n    <tr>\n      <th>10</th>\n      <td>False</td>\n      <td>62000000.0</td>\n      <td>[{'id': 35, 'name': 'Comedy'}, {'id': 18, 'nam...</td>\n      <td>9087</td>\n      <td>tt0112346</td>\n      <td>en</td>\n      <td>Widowed U.S. president Andrew Shepherd, one of...</td>\n      <td>6.318445</td>\n      <td>[{'name': 'Columbia Pictures', 'id': 5}, {'nam...</td>\n      <td>[{'iso_3166_1': 'US', 'name': 'United States o...</td>\n      <td>1995-11-17</td>\n      <td>107879496.0</td>\n      <td>106.0</td>\n      <td>[{'iso_639_1': 'en', 'name': 'English'}]</td>\n      <td>Why can't the most powerful man in the world h...</td>\n      <td>The American President</td>\n      <td>6.5</td>\n      <td>199.0</td>\n      <td>1.739992</td>\n    </tr>\n    <tr>\n      <th>...</th>\n      <td>...</td>\n      <td>...</td>\n      <td>...</td>\n      <td>...</td>\n      <td>...</td>\n      <td>...</td>\n      <td>...</td>\n      <td>...</td>\n      <td>...</td>\n      <td>...</td>\n      <td>...</td>\n      <td>...</td>\n      <td>...</td>\n      <td>...</td>\n      <td>...</td>\n      <td>...</td>\n      <td>...</td>\n      <td>...</td>\n      <td>...</td>\n    </tr>\n    <tr>\n      <th>45250</th>\n      <td>False</td>\n      <td>12000000.0</td>\n      <td>[{'id': 28, 'name': 'Action'}, {'id': 35, 'nam...</td>\n      <td>24049</td>\n      <td>tt0479751</td>\n      <td>ta</td>\n      <td>Corrupt police and politicians target a comput...</td>\n      <td>1.323587</td>\n      <td>[{'name': 'AVM Productions', 'id': 16424}]</td>\n      <td>[{'iso_3166_1': 'IN', 'name': 'India'}]</td>\n      <td>2007-06-14</td>\n      <td>19000000.0</td>\n      <td>185.0</td>\n      <td>[{'iso_639_1': 'ta', 'name': 'தமிழ்'}, {'iso_6...</td>\n      <td>NaN</td>\n      <td>Sivaji: The Boss</td>\n      <td>6.9</td>\n      <td>25.0</td>\n      <td>1.583333</td>\n    </tr>\n    <tr>\n      <th>45399</th>\n      <td>False</td>\n      <td>750000.0</td>\n      <td>[{'id': 80, 'name': 'Crime'}, {'id': 35, 'name...</td>\n      <td>280422</td>\n      <td>tt3805180</td>\n      <td>ru</td>\n      <td>NaN</td>\n      <td>0.201582</td>\n      <td>[{'name': 'Кинокомпания «Lunapark»', 'id': 420...</td>\n      <td>[{'iso_3166_1': 'RU', 'name': 'Russia'}]</td>\n      <td>2014-06-05</td>\n      <td>3.0</td>\n      <td>NaN</td>\n      <td>[{'iso_639_1': 'ru', 'name': 'Pусский'}]</td>\n      <td>NaN</td>\n      <td>All at Once</td>\n      <td>6.0</td>\n      <td>4.0</td>\n      <td>0.000004</td>\n    </tr>\n    <tr>\n      <th>45409</th>\n      <td>False</td>\n      <td>800000.0</td>\n      <td>[{'id': 35, 'name': 'Comedy'}, {'id': 18, 'nam...</td>\n      <td>62757</td>\n      <td>tt0933361</td>\n      <td>en</td>\n      <td>The sea, August, interesting and simple people...</td>\n      <td>0.903061</td>\n      <td>[]</td>\n      <td>[]</td>\n      <td>2006-11-23</td>\n      <td>1328612.0</td>\n      <td>100.0</td>\n      <td>[{'iso_639_1': 'ru', 'name': 'Pусский'}]</td>\n      <td>NaN</td>\n      <td>Savages</td>\n      <td>5.8</td>\n      <td>6.0</td>\n      <td>1.660765</td>\n    </tr>\n    <tr>\n      <th>45412</th>\n      <td>False</td>\n      <td>2000000.0</td>\n      <td>[{'id': 10749, 'name': 'Romance'}, {'id': 18, ...</td>\n      <td>63281</td>\n      <td>tt1718881</td>\n      <td>en</td>\n      <td>У девушки Даши, приехавшей с подругой «покорят...</td>\n      <td>0.121844</td>\n      <td>[{'name': 'Profit', 'id': 21163}]</td>\n      <td>[{'iso_3166_1': 'RU', 'name': 'Russia'}]</td>\n      <td>2010-09-30</td>\n      <td>1268793.0</td>\n      <td>107.0</td>\n      <td>[{'iso_639_1': 'ru', 'name': 'Pусский'}]</td>\n      <td>NaN</td>\n      <td>Pro Lyuboff</td>\n      <td>4.0</td>\n      <td>3.0</td>\n      <td>0.634397</td>\n    </tr>\n    <tr>\n      <th>45422</th>\n      <td>False</td>\n      <td>5000000.0</td>\n      <td>[{'id': 28, 'name': 'Action'}, {'id': 35, 'nam...</td>\n      <td>63898</td>\n      <td>tt1110037</td>\n      <td>ru</td>\n      <td>Failing to complete an important assignment wi...</td>\n      <td>0.039793</td>\n      <td>[]</td>\n      <td>[{'iso_3166_1': 'RU', 'name': 'Russia'}]</td>\n      <td>2007-09-06</td>\n      <td>1413000.0</td>\n      <td>91.0</td>\n      <td>[{'iso_639_1': 'ru', 'name': 'Pусский'}]</td>\n      <td>NaN</td>\n      <td>Antidur</td>\n      <td>1.0</td>\n      <td>1.0</td>\n      <td>0.282600</td>\n    </tr>\n  </tbody>\n</table>\n<p>4324 rows × 19 columns</p>\n</div>"
     },
     "execution_count": 87,
     "metadata": {},
     "output_type": "execute_result"
    }
   ],
   "source": [
    "movies"
   ],
   "metadata": {
    "collapsed": false,
    "pycharm": {
     "name": "#%%\n"
    }
   }
  },
  {
   "cell_type": "code",
   "execution_count": 88,
   "outputs": [
    {
     "data": {
      "text/plain": "1                (2.71, 5.181]\n3                (2.71, 5.181]\n5                (2.71, 5.181]\n8                (1.479, 2.71]\n10               (1.479, 2.71]\n                 ...          \n45250            (1.479, 2.71]\n45399    (-0.000999478, 0.588]\n45409            (1.479, 2.71]\n45412           (0.588, 1.479]\n45422    (-0.000999478, 0.588]\nName: revenue_percentage, Length: 4324, dtype: category\nCategories (4, interval[float64, right]): [(-0.000999478, 0.588] < (0.588, 1.479] < (1.479, 2.71] < (2.71, 5.181]]"
     },
     "execution_count": 88,
     "metadata": {},
     "output_type": "execute_result"
    }
   ],
   "source": [
    "pd.qcut( movies['revenue_percentage'],4)"
   ],
   "metadata": {
    "collapsed": false,
    "pycharm": {
     "name": "#%%\n"
    }
   }
  },
  {
   "cell_type": "code",
   "execution_count": 89,
   "outputs": [
    {
     "name": "stderr",
     "output_type": "stream",
     "text": [
      "C:\\Users\\shomer\\anaconda3\\lib\\site-packages\\seaborn\\distributions.py:2619: FutureWarning: `distplot` is a deprecated function and will be removed in a future version. Please adapt your code to use either `displot` (a figure-level function with similar flexibility) or `histplot` (an axes-level function for histograms).\n",
      "  warnings.warn(msg, FutureWarning)\n",
      "C:\\Users\\shomer\\anaconda3\\lib\\site-packages\\seaborn\\distributions.py:2103: FutureWarning: The `axis` variable is no longer used and will be removed. Instead, assign variables directly to `x` or `y`.\n",
      "  warnings.warn(msg, FutureWarning)\n"
     ]
    },
    {
     "data": {
      "text/plain": "<AxesSubplot:xlabel='revenue_percentage', ylabel='Density'>"
     },
     "execution_count": 89,
     "metadata": {},
     "output_type": "execute_result"
    },
    {
     "data": {
      "text/plain": "<Figure size 432x288 with 1 Axes>",
      "image/png": "[encoded data removed]"
     },
     "metadata": {
      "needs_background": "light"
     },
     "output_type": "display_data"
    }
   ],
   "source": [
    "sns.distplot(movies.revenue_percentage,rug=True)"
   ],
   "metadata": {
    "collapsed": false,
    "pycharm": {
     "name": "#%%\n"
    }
   }
  },
  {
   "cell_type": "code",
   "execution_count": 90,
   "outputs": [],
   "source": [
    "movies.to_csv('new set of data/kaggle data/movies_metadata_with_no_outliers.csv')"
   ],
   "metadata": {
    "collapsed": false,
    "pycharm": {
     "name": "#%%\n"
    }
   }
  },
  {
   "cell_type": "code",
   "execution_count": 91,
   "outputs": [
    {
     "data": {
      "text/plain": "       adult      budget                                             genres  \\\n1      False  65000000.0  [{'id': 12, 'name': 'Adventure'}, {'id': 14, '...   \n3      False  16000000.0  [{'id': 35, 'name': 'Comedy'}, {'id': 18, 'nam...   \n5      False  60000000.0  [{'id': 28, 'name': 'Action'}, {'id': 80, 'nam...   \n8      False  35000000.0  [{'id': 28, 'name': 'Action'}, {'id': 12, 'nam...   \n10     False  62000000.0  [{'id': 35, 'name': 'Comedy'}, {'id': 18, 'nam...   \n...      ...         ...                                                ...   \n45250  False  12000000.0  [{'id': 28, 'name': 'Action'}, {'id': 35, 'nam...   \n45399  False    750000.0  [{'id': 80, 'name': 'Crime'}, {'id': 35, 'name...   \n45409  False    800000.0  [{'id': 35, 'name': 'Comedy'}, {'id': 18, 'nam...   \n45412  False   2000000.0  [{'id': 10749, 'name': 'Romance'}, {'id': 18, ...   \n45422  False   5000000.0  [{'id': 28, 'name': 'Action'}, {'id': 35, 'nam...   \n\n           id    imdb_id original_language  \\\n1        8844  tt0113497                en   \n3       31357  tt0114885                en   \n5         949  tt0113277                en   \n8        9091  tt0114576                en   \n10       9087  tt0112346                en   \n...       ...        ...               ...   \n45250   24049  tt0479751                ta   \n45399  280422  tt3805180                ru   \n45409   62757  tt0933361                en   \n45412   63281  tt1718881                en   \n45422   63898  tt1110037                ru   \n\n                                                overview popularity  \\\n1      When siblings Judy and Peter discover an encha...  17.015539   \n3      Cheated on, mistreated and stepped on, the wom...   3.859495   \n5      Obsessive master thief, Neil McCauley leads a ...  17.924927   \n8      International action superstar Jean Claude Van...    5.23158   \n10     Widowed U.S. president Andrew Shepherd, one of...   6.318445   \n...                                                  ...        ...   \n45250  Corrupt police and politicians target a comput...   1.323587   \n45399                                                NaN   0.201582   \n45409  The sea, August, interesting and simple people...   0.903061   \n45412  У девушки Даши, приехавшей с подругой «покорят...   0.121844   \n45422  Failing to complete an important assignment wi...   0.039793   \n\n                                    production_companies  \\\n1      [{'name': 'TriStar Pictures', 'id': 559}, {'na...   \n3      [{'name': 'Twentieth Century Fox Film Corporat...   \n5      [{'name': 'Regency Enterprises', 'id': 508}, {...   \n8      [{'name': 'Universal Pictures', 'id': 33}, {'n...   \n10     [{'name': 'Columbia Pictures', 'id': 5}, {'nam...   \n...                                                  ...   \n45250         [{'name': 'AVM Productions', 'id': 16424}]   \n45399  [{'name': 'Кинокомпания «Lunapark»', 'id': 420...   \n45409                                                 []   \n45412                  [{'name': 'Profit', 'id': 21163}]   \n45422                                                 []   \n\n                                    production_countries release_date  \\\n1      [{'iso_3166_1': 'US', 'name': 'United States o...   1995-12-15   \n3      [{'iso_3166_1': 'US', 'name': 'United States o...   1995-12-22   \n5      [{'iso_3166_1': 'US', 'name': 'United States o...   1995-12-15   \n8      [{'iso_3166_1': 'US', 'name': 'United States o...   1995-12-22   \n10     [{'iso_3166_1': 'US', 'name': 'United States o...   1995-11-17   \n...                                                  ...          ...   \n45250            [{'iso_3166_1': 'IN', 'name': 'India'}]   2007-06-14   \n45399           [{'iso_3166_1': 'RU', 'name': 'Russia'}]   2014-06-05   \n45409                                                 []   2006-11-23   \n45412           [{'iso_3166_1': 'RU', 'name': 'Russia'}]   2010-09-30   \n45422           [{'iso_3166_1': 'RU', 'name': 'Russia'}]   2007-09-06   \n\n           revenue  runtime  \\\n1      262797249.0    104.0   \n3       81452156.0    127.0   \n5      187436818.0    170.0   \n8       64350171.0    106.0   \n10     107879496.0    106.0   \n...            ...      ...   \n45250   19000000.0    185.0   \n45399          3.0      NaN   \n45409    1328612.0    100.0   \n45412    1268793.0    107.0   \n45422    1413000.0     91.0   \n\n                                        spoken_languages  \\\n1      [{'iso_639_1': 'en', 'name': 'English'}, {'iso...   \n3               [{'iso_639_1': 'en', 'name': 'English'}]   \n5      [{'iso_639_1': 'en', 'name': 'English'}, {'iso...   \n8               [{'iso_639_1': 'en', 'name': 'English'}]   \n10              [{'iso_639_1': 'en', 'name': 'English'}]   \n...                                                  ...   \n45250  [{'iso_639_1': 'ta', 'name': 'தமிழ்'}, {'iso_6...   \n45399           [{'iso_639_1': 'ru', 'name': 'Pусский'}]   \n45409           [{'iso_639_1': 'ru', 'name': 'Pусский'}]   \n45412           [{'iso_639_1': 'ru', 'name': 'Pусский'}]   \n45422           [{'iso_639_1': 'ru', 'name': 'Pусский'}]   \n\n                                                 tagline  \\\n1              Roll the dice and unleash the excitement!   \n3      Friends are the people who let you be yourself...   \n5                               A Los Angeles Crime Saga   \n8                             Terror goes into overtime.   \n10     Why can't the most powerful man in the world h...   \n...                                                  ...   \n45250                                                NaN   \n45399                                                NaN   \n45409                                                NaN   \n45412                                                NaN   \n45422                                                NaN   \n\n                        title  vote_average  vote_count  revenue_percentage  \n1                     Jumanji           6.9      2413.0            4.043035  \n3           Waiting to Exhale           6.1        34.0            5.090760  \n5                        Heat           7.7      1886.0            3.123947  \n8                Sudden Death           5.5       174.0            1.838576  \n10     The American President           6.5       199.0            1.739992  \n...                       ...           ...         ...                 ...  \n45250        Sivaji: The Boss           6.9        25.0            1.583333  \n45399             All at Once           6.0         4.0            0.000004  \n45409                 Savages           5.8         6.0            1.660765  \n45412             Pro Lyuboff           4.0         3.0            0.634397  \n45422                 Antidur           1.0         1.0            0.282600  \n\n[4324 rows x 19 columns]",
      "text/html": "<div>\n<style scoped>\n    .dataframe tbody tr th:only-of-type {\n        vertical-align: middle;\n    }\n\n    .dataframe tbody tr th {\n        vertical-align: top;\n    }\n\n    .dataframe thead th {\n        text-align: right;\n    }\n</style>\n<table border=\"1\" class=\"dataframe\">\n  <thead>\n    <tr style=\"text-align: right;\">\n      <th></th>\n      <th>adult</th>\n      <th>budget</th>\n      <th>genres</th>\n      <th>id</th>\n      <th>imdb_id</th>\n      <th>original_language</th>\n      <th>overview</th>\n      <th>popularity</th>\n      <th>production_companies</th>\n      <th>production_countries</th>\n      <th>release_date</th>\n      <th>revenue</th>\n      <th>runtime</th>\n      <th>spoken_languages</th>\n      <th>tagline</th>\n      <th>title</th>\n      <th>vote_average</th>\n      <th>vote_count</th>\n      <th>revenue_percentage</th>\n    </tr>\n  </thead>\n  <tbody>\n    <tr>\n      <th>1</th>\n      <td>False</td>\n      <td>65000000.0</td>\n      <td>[{'id': 12, 'name': 'Adventure'}, {'id': 14, '...</td>\n      <td>8844</td>\n      <td>tt0113497</td>\n      <td>en</td>\n      <td>When siblings Judy and Peter discover an encha...</td>\n      <td>17.015539</td>\n      <td>[{'name': 'TriStar Pictures', 'id': 559}, {'na...</td>\n      <td>[{'iso_3166_1': 'US', 'name': 'United States o...</td>\n      <td>1995-12-15</td>\n      <td>262797249.0</td>\n      <td>104.0</td>\n      <td>[{'iso_639_1': 'en', 'name': 'English'}, {'iso...</td>\n      <td>Roll the dice and unleash the excitement!</td>\n      <td>Jumanji</td>\n      <td>6.9</td>\n      <td>2413.0</td>\n      <td>4.043035</td>\n    </tr>\n    <tr>\n      <th>3</th>\n      <td>False</td>\n      <td>16000000.0</td>\n      <td>[{'id': 35, 'name': 'Comedy'}, {'id': 18, 'nam...</td>\n      <td>31357</td>\n      <td>tt0114885</td>\n      <td>en</td>\n      <td>Cheated on, mistreated and stepped on, the wom...</td>\n      <td>3.859495</td>\n      <td>[{'name': 'Twentieth Century Fox Film Corporat...</td>\n      <td>[{'iso_3166_1': 'US', 'name': 'United States o...</td>\n      <td>1995-12-22</td>\n      <td>81452156.0</td>\n      <td>127.0</td>\n      <td>[{'iso_639_1': 'en', 'name': 'English'}]</td>\n      <td>Friends are the people who let you be yourself...</td>\n      <td>Waiting to Exhale</td>\n      <td>6.1</td>\n      <td>34.0</td>\n      <td>5.090760</td>\n    </tr>\n    <tr>\n      <th>5</th>\n      <td>False</td>\n      <td>60000000.0</td>\n      <td>[{'id': 28, 'name': 'Action'}, {'id': 80, 'nam...</td>\n      <td>949</td>\n      <td>tt0113277</td>\n      <td>en</td>\n      <td>Obsessive master thief, Neil McCauley leads a ...</td>\n      <td>17.924927</td>\n      <td>[{'name': 'Regency Enterprises', 'id': 508}, {...</td>\n      <td>[{'iso_3166_1': 'US', 'name': 'United States o...</td>\n      <td>1995-12-15</td>\n      <td>187436818.0</td>\n      <td>170.0</td>\n      <td>[{'iso_639_1': 'en', 'name': 'English'}, {'iso...</td>\n      <td>A Los Angeles Crime Saga</td>\n      <td>Heat</td>\n      <td>7.7</td>\n      <td>1886.0</td>\n      <td>3.123947</td>\n    </tr>\n    <tr>\n      <th>8</th>\n      <td>False</td>\n      <td>35000000.0</td>\n      <td>[{'id': 28, 'name': 'Action'}, {'id': 12, 'nam...</td>\n      <td>9091</td>\n      <td>tt0114576</td>\n      <td>en</td>\n      <td>International action superstar Jean Claude Van...</td>\n      <td>5.23158</td>\n      <td>[{'name': 'Universal Pictures', 'id': 33}, {'n...</td>\n      <td>[{'iso_3166_1': 'US', 'name': 'United States o...</td>\n      <td>1995-12-22</td>\n      <td>64350171.0</td>\n      <td>106.0</td>\n      <td>[{'iso_639_1': 'en', 'name': 'English'}]</td>\n      <td>Terror goes into overtime.</td>\n      <td>Sudden Death</td>\n      <td>5.5</td>\n      <td>174.0</td>\n      <td>1.838576</td>\n    </tr>\n    <tr>\n      <th>10</th>\n      <td>False</td>\n      <td>62000000.0</td>\n      <td>[{'id': 35, 'name': 'Comedy'}, {'id': 18, 'nam...</td>\n      <td>9087</td>\n      <td>tt0112346</td>\n      <td>en</td>\n      <td>Widowed U.S. president Andrew Shepherd, one of...</td>\n      <td>6.318445</td>\n      <td>[{'name': 'Columbia Pictures', 'id': 5}, {'nam...</td>\n      <td>[{'iso_3166_1': 'US', 'name': 'United States o...</td>\n      <td>1995-11-17</td>\n      <td>107879496.0</td>\n      <td>106.0</td>\n      <td>[{'iso_639_1': 'en', 'name': 'English'}]</td>\n      <td>Why can't the most powerful man in the world h...</td>\n      <td>The American President</td>\n      <td>6.5</td>\n      <td>199.0</td>\n      <td>1.739992</td>\n    </tr>\n    <tr>\n      <th>...</th>\n      <td>...</td>\n      <td>...</td>\n      <td>...</td>\n      <td>...</td>\n      <td>...</td>\n      <td>...</td>\n      <td>...</td>\n      <td>...</td>\n      <td>...</td>\n      <td>...</td>\n      <td>...</td>\n      <td>...</td>\n      <td>...</td>\n      <td>...</td>\n      <td>...</td>\n      <td>...</td>\n      <td>...</td>\n      <td>...</td>\n      <td>...</td>\n    </tr>\n    <tr>\n      <th>45250</th>\n      <td>False</td>\n      <td>12000000.0</td>\n      <td>[{'id': 28, 'name': 'Action'}, {'id': 35, 'nam...</td>\n      <td>24049</td>\n      <td>tt0479751</td>\n      <td>ta</td>\n      <td>Corrupt police and politicians target a comput...</td>\n      <td>1.323587</td>\n      <td>[{'name': 'AVM Productions', 'id': 16424}]</td>\n      <td>[{'iso_3166_1': 'IN', 'name': 'India'}]</td>\n      <td>2007-06-14</td>\n      <td>19000000.0</td>\n      <td>185.0</td>\n      <td>[{'iso_639_1': 'ta', 'name': 'தமிழ்'}, {'iso_6...</td>\n      <td>NaN</td>\n      <td>Sivaji: The Boss</td>\n      <td>6.9</td>\n      <td>25.0</td>\n      <td>1.583333</td>\n    </tr>\n    <tr>\n      <th>45399</th>\n      <td>False</td>\n      <td>750000.0</td>\n      <td>[{'id': 80, 'name': 'Crime'}, {'id': 35, 'name...</td>\n      <td>280422</td>\n      <td>tt3805180</td>\n      <td>ru</td>\n      <td>NaN</td>\n      <td>0.201582</td>\n      <td>[{'name': 'Кинокомпания «Lunapark»', 'id': 420...</td>\n      <td>[{'iso_3166_1': 'RU', 'name': 'Russia'}]</td>\n      <td>2014-06-05</td>\n      <td>3.0</td>\n      <td>NaN</td>\n      <td>[{'iso_639_1': 'ru', 'name': 'Pусский'}]</td>\n      <td>NaN</td>\n      <td>All at Once</td>\n      <td>6.0</td>\n      <td>4.0</td>\n      <td>0.000004</td>\n    </tr>\n    <tr>\n      <th>45409</th>\n      <td>False</td>\n      <td>800000.0</td>\n      <td>[{'id': 35, 'name': 'Comedy'}, {'id': 18, 'nam...</td>\n      <td>62757</td>\n      <td>tt0933361</td>\n      <td>en</td>\n      <td>The sea, August, interesting and simple people...</td>\n      <td>0.903061</td>\n      <td>[]</td>\n      <td>[]</td>\n      <td>2006-11-23</td>\n      <td>1328612.0</td>\n      <td>100.0</td>\n      <td>[{'iso_639_1': 'ru', 'name': 'Pусский'}]</td>\n      <td>NaN</td>\n      <td>Savages</td>\n      <td>5.8</td>\n      <td>6.0</td>\n      <td>1.660765</td>\n    </tr>\n    <tr>\n      <th>45412</th>\n      <td>False</td>\n      <td>2000000.0</td>\n      <td>[{'id': 10749, 'name': 'Romance'}, {'id': 18, ...</td>\n      <td>63281</td>\n      <td>tt1718881</td>\n      <td>en</td>\n      <td>У девушки Даши, приехавшей с подругой «покорят...</td>\n      <td>0.121844</td>\n      <td>[{'name': 'Profit', 'id': 21163}]</td>\n      <td>[{'iso_3166_1': 'RU', 'name': 'Russia'}]</td>\n      <td>2010-09-30</td>\n      <td>1268793.0</td>\n      <td>107.0</td>\n      <td>[{'iso_639_1': 'ru', 'name': 'Pусский'}]</td>\n      <td>NaN</td>\n      <td>Pro Lyuboff</td>\n      <td>4.0</td>\n      <td>3.0</td>\n      <td>0.634397</td>\n    </tr>\n    <tr>\n      <th>45422</th>\n      <td>False</td>\n      <td>5000000.0</td>\n      <td>[{'id': 28, 'name': 'Action'}, {'id': 35, 'nam...</td>\n      <td>63898</td>\n      <td>tt1110037</td>\n      <td>ru</td>\n      <td>Failing to complete an important assignment wi...</td>\n      <td>0.039793</td>\n      <td>[]</td>\n      <td>[{'iso_3166_1': 'RU', 'name': 'Russia'}]</td>\n      <td>2007-09-06</td>\n      <td>1413000.0</td>\n      <td>91.0</td>\n      <td>[{'iso_639_1': 'ru', 'name': 'Pусский'}]</td>\n      <td>NaN</td>\n      <td>Antidur</td>\n      <td>1.0</td>\n      <td>1.0</td>\n      <td>0.282600</td>\n    </tr>\n  </tbody>\n</table>\n<p>4324 rows × 19 columns</p>\n</div>"
     },
     "execution_count": 91,
     "metadata": {},
     "output_type": "execute_result"
    }
   ],
   "source": [
    "movies"
   ],
   "metadata": {
    "collapsed": false,
    "pycharm": {
     "name": "#%%\n"
    }
   }
  },
  {
   "cell_type": "code",
   "execution_count": 128,
   "outputs": [],
   "source": [
    "import ast\n",
    "\n",
    "def production_companies(row):\n",
    "    tmp=[]\n",
    "    row= ast.literal_eval(row)\n",
    "    for dics in row:\n",
    "        tmp.append(dics['name'].lower())\n",
    "    return tmp"
   ],
   "metadata": {
    "collapsed": false,
    "pycharm": {
     "name": "#%%\n"
    }
   }
  },
  {
   "cell_type": "code",
   "execution_count": 129,
   "outputs": [
    {
     "data": {
      "text/plain": "['tristar pictures', 'teitler film', 'interscope communications']"
     },
     "execution_count": 129,
     "metadata": {},
     "output_type": "execute_result"
    }
   ],
   "source": [
    "production_companies( movies['production_companies'].iloc[0] )"
   ],
   "metadata": {
    "collapsed": false,
    "pycharm": {
     "name": "#%%\n"
    }
   }
  },
  {
   "cell_type": "code",
   "execution_count": 131,
   "outputs": [
    {
     "name": "stderr",
     "output_type": "stream",
     "text": [
      "C:\\Users\\shomer\\anaconda3\\lib\\site-packages\\ipykernel_launcher.py:1: SettingWithCopyWarning: \n",
      "A value is trying to be set on a copy of a slice from a DataFrame.\n",
      "Try using .loc[row_indexer,col_indexer] = value instead\n",
      "\n",
      "See the caveats in the documentation: https://pandas.pydata.org/pandas-docs/stable/user_guide/indexing.html#returning-a-view-versus-a-copy\n",
      "  \"\"\"Entry point for launching an IPython kernel.\n"
     ]
    }
   ],
   "source": [
    "movies['production_companies']= movies['production_companies'].map(production_companies)"
   ],
   "metadata": {
    "collapsed": false,
    "pycharm": {
     "name": "#%%\n"
    }
   }
  },
  {
   "cell_type": "code",
   "execution_count": 132,
   "outputs": [
    {
     "data": {
      "text/plain": "1        [tristar pictures, teitler film, interscope co...\n3                 [twentieth century fox film corporation]\n5        [regency enterprises, forward pass, warner bros.]\n8        [universal pictures, imperial entertainment, s...\n10          [columbia pictures, castle rock entertainment]\n                               ...                        \n45250                                    [avm productions]\n45399              [кинокомпания «lunapark», инвада фильм]\n45409                                                   []\n45412                                             [profit]\n45422                                                   []\nName: production_companies, Length: 4324, dtype: object"
     },
     "execution_count": 132,
     "metadata": {},
     "output_type": "execute_result"
    }
   ],
   "source": [
    "movies['production_companies']"
   ],
   "metadata": {
    "collapsed": false,
    "pycharm": {
     "name": "#%%\n"
    }
   }
  },
  {
   "cell_type": "code",
   "execution_count": 133,
   "outputs": [],
   "source": [
    "movies.to_csv('new set of data/kaggle data/movies_metadata_production_companies_split.csv')"
   ],
   "metadata": {
    "collapsed": false,
    "pycharm": {
     "name": "#%%\n"
    }
   }
  },
  {
   "cell_type": "code",
   "execution_count": 142,
   "outputs": [],
   "source": [
    "movies= movies.set_index('id')"
   ],
   "metadata": {
    "collapsed": false,
    "pycharm": {
     "name": "#%%\n"
    }
   }
  },
  {
   "cell_type": "code",
   "execution_count": 143,
   "outputs": [
    {
     "data": {
      "text/plain": "        adult      budget                                             genres  \\\nid                                                                             \n8844    False  65000000.0  [{'id': 12, 'name': 'Adventure'}, {'id': 14, '...   \n31357   False  16000000.0  [{'id': 35, 'name': 'Comedy'}, {'id': 18, 'nam...   \n949     False  60000000.0  [{'id': 28, 'name': 'Action'}, {'id': 80, 'nam...   \n9091    False  35000000.0  [{'id': 28, 'name': 'Action'}, {'id': 12, 'nam...   \n9087    False  62000000.0  [{'id': 35, 'name': 'Comedy'}, {'id': 18, 'nam...   \n...       ...         ...                                                ...   \n24049   False  12000000.0  [{'id': 28, 'name': 'Action'}, {'id': 35, 'nam...   \n280422  False    750000.0  [{'id': 80, 'name': 'Crime'}, {'id': 35, 'name...   \n62757   False    800000.0  [{'id': 35, 'name': 'Comedy'}, {'id': 18, 'nam...   \n63281   False   2000000.0  [{'id': 10749, 'name': 'Romance'}, {'id': 18, ...   \n63898   False   5000000.0  [{'id': 28, 'name': 'Action'}, {'id': 35, 'nam...   \n\n          imdb_id original_language  \\\nid                                    \n8844    tt0113497                en   \n31357   tt0114885                en   \n949     tt0113277                en   \n9091    tt0114576                en   \n9087    tt0112346                en   \n...           ...               ...   \n24049   tt0479751                ta   \n280422  tt3805180                ru   \n62757   tt0933361                en   \n63281   tt1718881                en   \n63898   tt1110037                ru   \n\n                                                 overview popularity  \\\nid                                                                     \n8844    When siblings Judy and Peter discover an encha...  17.015539   \n31357   Cheated on, mistreated and stepped on, the wom...   3.859495   \n949     Obsessive master thief, Neil McCauley leads a ...  17.924927   \n9091    International action superstar Jean Claude Van...    5.23158   \n9087    Widowed U.S. president Andrew Shepherd, one of...   6.318445   \n...                                                   ...        ...   \n24049   Corrupt police and politicians target a comput...   1.323587   \n280422                                                NaN   0.201582   \n62757   The sea, August, interesting and simple people...   0.903061   \n63281   У девушки Даши, приехавшей с подругой «покорят...   0.121844   \n63898   Failing to complete an important assignment wi...   0.039793   \n\n                                     production_companies  \\\nid                                                          \n8844    [tristar pictures, teitler film, interscope co...   \n31357            [twentieth century fox film corporation]   \n949     [regency enterprises, forward pass, warner bros.]   \n9091    [universal pictures, imperial entertainment, s...   \n9087       [columbia pictures, castle rock entertainment]   \n...                                                   ...   \n24049                                   [avm productions]   \n280422            [кинокомпания «lunapark», инвада фильм]   \n62757                                                  []   \n63281                                            [profit]   \n63898                                                  []   \n\n                                     production_countries release_date  \\\nid                                                                       \n8844    [{'iso_3166_1': 'US', 'name': 'United States o...   1995-12-15   \n31357   [{'iso_3166_1': 'US', 'name': 'United States o...   1995-12-22   \n949     [{'iso_3166_1': 'US', 'name': 'United States o...   1995-12-15   \n9091    [{'iso_3166_1': 'US', 'name': 'United States o...   1995-12-22   \n9087    [{'iso_3166_1': 'US', 'name': 'United States o...   1995-11-17   \n...                                                   ...          ...   \n24049             [{'iso_3166_1': 'IN', 'name': 'India'}]   2007-06-14   \n280422           [{'iso_3166_1': 'RU', 'name': 'Russia'}]   2014-06-05   \n62757                                                  []   2006-11-23   \n63281            [{'iso_3166_1': 'RU', 'name': 'Russia'}]   2010-09-30   \n63898            [{'iso_3166_1': 'RU', 'name': 'Russia'}]   2007-09-06   \n\n            revenue  runtime  \\\nid                             \n8844    262797249.0    104.0   \n31357    81452156.0    127.0   \n949     187436818.0    170.0   \n9091     64350171.0    106.0   \n9087    107879496.0    106.0   \n...             ...      ...   \n24049    19000000.0    185.0   \n280422          3.0      NaN   \n62757     1328612.0    100.0   \n63281     1268793.0    107.0   \n63898     1413000.0     91.0   \n\n                                         spoken_languages  \\\nid                                                          \n8844    [{'iso_639_1': 'en', 'name': 'English'}, {'iso...   \n31357            [{'iso_639_1': 'en', 'name': 'English'}]   \n949     [{'iso_639_1': 'en', 'name': 'English'}, {'iso...   \n9091             [{'iso_639_1': 'en', 'name': 'English'}]   \n9087             [{'iso_639_1': 'en', 'name': 'English'}]   \n...                                                   ...   \n24049   [{'iso_639_1': 'ta', 'name': 'தமிழ்'}, {'iso_6...   \n280422           [{'iso_639_1': 'ru', 'name': 'Pусский'}]   \n62757            [{'iso_639_1': 'ru', 'name': 'Pусский'}]   \n63281            [{'iso_639_1': 'ru', 'name': 'Pусский'}]   \n63898            [{'iso_639_1': 'ru', 'name': 'Pусский'}]   \n\n                                                  tagline  \\\nid                                                          \n8844            Roll the dice and unleash the excitement!   \n31357   Friends are the people who let you be yourself...   \n949                              A Los Angeles Crime Saga   \n9091                           Terror goes into overtime.   \n9087    Why can't the most powerful man in the world h...   \n...                                                   ...   \n24049                                                 NaN   \n280422                                                NaN   \n62757                                                 NaN   \n63281                                                 NaN   \n63898                                                 NaN   \n\n                         title  vote_average  vote_count  revenue_percentage  \nid                                                                            \n8844                   Jumanji           6.9      2413.0            4.043035  \n31357        Waiting to Exhale           6.1        34.0            5.090760  \n949                       Heat           7.7      1886.0            3.123947  \n9091              Sudden Death           5.5       174.0            1.838576  \n9087    The American President           6.5       199.0            1.739992  \n...                        ...           ...         ...                 ...  \n24049         Sivaji: The Boss           6.9        25.0            1.583333  \n280422             All at Once           6.0         4.0            0.000004  \n62757                  Savages           5.8         6.0            1.660765  \n63281              Pro Lyuboff           4.0         3.0            0.634397  \n63898                  Antidur           1.0         1.0            0.282600  \n\n[4324 rows x 18 columns]",
      "text/html": "<div>\n<style scoped>\n    .dataframe tbody tr th:only-of-type {\n        vertical-align: middle;\n    }\n\n    .dataframe tbody tr th {\n        vertical-align: top;\n    }\n\n    .dataframe thead th {\n        text-align: right;\n    }\n</style>\n<table border=\"1\" class=\"dataframe\">\n  <thead>\n    <tr style=\"text-align: right;\">\n      <th></th>\n      <th>adult</th>\n      <th>budget</th>\n      <th>genres</th>\n      <th>imdb_id</th>\n      <th>original_language</th>\n      <th>overview</th>\n      <th>popularity</th>\n      <th>production_companies</th>\n      <th>production_countries</th>\n      <th>release_date</th>\n      <th>revenue</th>\n      <th>runtime</th>\n      <th>spoken_languages</th>\n      <th>tagline</th>\n      <th>title</th>\n      <th>vote_average</th>\n      <th>vote_count</th>\n      <th>revenue_percentage</th>\n    </tr>\n    <tr>\n      <th>id</th>\n      <th></th>\n      <th></th>\n      <th></th>\n      <th></th>\n      <th></th>\n      <th></th>\n      <th></th>\n      <th></th>\n      <th></th>\n      <th></th>\n      <th></th>\n      <th></th>\n      <th></th>\n      <th></th>\n      <th></th>\n      <th></th>\n      <th></th>\n      <th></th>\n    </tr>\n  </thead>\n  <tbody>\n    <tr>\n      <th>8844</th>\n      <td>False</td>\n      <td>65000000.0</td>\n      <td>[{'id': 12, 'name': 'Adventure'}, {'id': 14, '...</td>\n      <td>tt0113497</td>\n      <td>en</td>\n      <td>When siblings Judy and Peter discover an encha...</td>\n      <td>17.015539</td>\n      <td>[tristar pictures, teitler film, interscope co...</td>\n      <td>[{'iso_3166_1': 'US', 'name': 'United States o...</td>\n      <td>1995-12-15</td>\n      <td>262797249.0</td>\n      <td>104.0</td>\n      <td>[{'iso_639_1': 'en', 'name': 'English'}, {'iso...</td>\n      <td>Roll the dice and unleash the excitement!</td>\n      <td>Jumanji</td>\n      <td>6.9</td>\n      <td>2413.0</td>\n      <td>4.043035</td>\n    </tr>\n    <tr>\n      <th>31357</th>\n      <td>False</td>\n      <td>16000000.0</td>\n      <td>[{'id': 35, 'name': 'Comedy'}, {'id': 18, 'nam...</td>\n      <td>tt0114885</td>\n      <td>en</td>\n      <td>Cheated on, mistreated and stepped on, the wom...</td>\n      <td>3.859495</td>\n      <td>[twentieth century fox film corporation]</td>\n      <td>[{'iso_3166_1': 'US', 'name': 'United States o...</td>\n      <td>1995-12-22</td>\n      <td>81452156.0</td>\n      <td>127.0</td>\n      <td>[{'iso_639_1': 'en', 'name': 'English'}]</td>\n      <td>Friends are the people who let you be yourself...</td>\n      <td>Waiting to Exhale</td>\n      <td>6.1</td>\n      <td>34.0</td>\n      <td>5.090760</td>\n    </tr>\n    <tr>\n      <th>949</th>\n      <td>False</td>\n      <td>60000000.0</td>\n      <td>[{'id': 28, 'name': 'Action'}, {'id': 80, 'nam...</td>\n      <td>tt0113277</td>\n      <td>en</td>\n      <td>Obsessive master thief, Neil McCauley leads a ...</td>\n      <td>17.924927</td>\n      <td>[regency enterprises, forward pass, warner bros.]</td>\n      <td>[{'iso_3166_1': 'US', 'name': 'United States o...</td>\n      <td>1995-12-15</td>\n      <td>187436818.0</td>\n      <td>170.0</td>\n      <td>[{'iso_639_1': 'en', 'name': 'English'}, {'iso...</td>\n      <td>A Los Angeles Crime Saga</td>\n      <td>Heat</td>\n      <td>7.7</td>\n      <td>1886.0</td>\n      <td>3.123947</td>\n    </tr>\n    <tr>\n      <th>9091</th>\n      <td>False</td>\n      <td>35000000.0</td>\n      <td>[{'id': 28, 'name': 'Action'}, {'id': 12, 'nam...</td>\n      <td>tt0114576</td>\n      <td>en</td>\n      <td>International action superstar Jean Claude Van...</td>\n      <td>5.23158</td>\n      <td>[universal pictures, imperial entertainment, s...</td>\n      <td>[{'iso_3166_1': 'US', 'name': 'United States o...</td>\n      <td>1995-12-22</td>\n      <td>64350171.0</td>\n      <td>106.0</td>\n      <td>[{'iso_639_1': 'en', 'name': 'English'}]</td>\n      <td>Terror goes into overtime.</td>\n      <td>Sudden Death</td>\n      <td>5.5</td>\n      <td>174.0</td>\n      <td>1.838576</td>\n    </tr>\n    <tr>\n      <th>9087</th>\n      <td>False</td>\n      <td>62000000.0</td>\n      <td>[{'id': 35, 'name': 'Comedy'}, {'id': 18, 'nam...</td>\n      <td>tt0112346</td>\n      <td>en</td>\n      <td>Widowed U.S. president Andrew Shepherd, one of...</td>\n      <td>6.318445</td>\n      <td>[columbia pictures, castle rock entertainment]</td>\n      <td>[{'iso_3166_1': 'US', 'name': 'United States o...</td>\n      <td>1995-11-17</td>\n      <td>107879496.0</td>\n      <td>106.0</td>\n      <td>[{'iso_639_1': 'en', 'name': 'English'}]</td>\n      <td>Why can't the most powerful man in the world h...</td>\n      <td>The American President</td>\n      <td>6.5</td>\n      <td>199.0</td>\n      <td>1.739992</td>\n    </tr>\n    <tr>\n      <th>...</th>\n      <td>...</td>\n      <td>...</td>\n      <td>...</td>\n      <td>...</td>\n      <td>...</td>\n      <td>...</td>\n      <td>...</td>\n      <td>...</td>\n      <td>...</td>\n      <td>...</td>\n      <td>...</td>\n      <td>...</td>\n      <td>...</td>\n      <td>...</td>\n      <td>...</td>\n      <td>...</td>\n      <td>...</td>\n      <td>...</td>\n    </tr>\n    <tr>\n      <th>24049</th>\n      <td>False</td>\n      <td>12000000.0</td>\n      <td>[{'id': 28, 'name': 'Action'}, {'id': 35, 'nam...</td>\n      <td>tt0479751</td>\n      <td>ta</td>\n      <td>Corrupt police and politicians target a comput...</td>\n      <td>1.323587</td>\n      <td>[avm productions]</td>\n      <td>[{'iso_3166_1': 'IN', 'name': 'India'}]</td>\n      <td>2007-06-14</td>\n      <td>19000000.0</td>\n      <td>185.0</td>\n      <td>[{'iso_639_1': 'ta', 'name': 'தமிழ்'}, {'iso_6...</td>\n      <td>NaN</td>\n      <td>Sivaji: The Boss</td>\n      <td>6.9</td>\n      <td>25.0</td>\n      <td>1.583333</td>\n    </tr>\n    <tr>\n      <th>280422</th>\n      <td>False</td>\n      <td>750000.0</td>\n      <td>[{'id': 80, 'name': 'Crime'}, {'id': 35, 'name...</td>\n      <td>tt3805180</td>\n      <td>ru</td>\n      <td>NaN</td>\n      <td>0.201582</td>\n      <td>[кинокомпания «lunapark», инвада фильм]</td>\n      <td>[{'iso_3166_1': 'RU', 'name': 'Russia'}]</td>\n      <td>2014-06-05</td>\n      <td>3.0</td>\n      <td>NaN</td>\n      <td>[{'iso_639_1': 'ru', 'name': 'Pусский'}]</td>\n      <td>NaN</td>\n      <td>All at Once</td>\n      <td>6.0</td>\n      <td>4.0</td>\n      <td>0.000004</td>\n    </tr>\n    <tr>\n      <th>62757</th>\n      <td>False</td>\n      <td>800000.0</td>\n      <td>[{'id': 35, 'name': 'Comedy'}, {'id': 18, 'nam...</td>\n      <td>tt0933361</td>\n      <td>en</td>\n      <td>The sea, August, interesting and simple people...</td>\n      <td>0.903061</td>\n      <td>[]</td>\n      <td>[]</td>\n      <td>2006-11-23</td>\n      <td>1328612.0</td>\n      <td>100.0</td>\n      <td>[{'iso_639_1': 'ru', 'name': 'Pусский'}]</td>\n      <td>NaN</td>\n      <td>Savages</td>\n      <td>5.8</td>\n      <td>6.0</td>\n      <td>1.660765</td>\n    </tr>\n    <tr>\n      <th>63281</th>\n      <td>False</td>\n      <td>2000000.0</td>\n      <td>[{'id': 10749, 'name': 'Romance'}, {'id': 18, ...</td>\n      <td>tt1718881</td>\n      <td>en</td>\n      <td>У девушки Даши, приехавшей с подругой «покорят...</td>\n      <td>0.121844</td>\n      <td>[profit]</td>\n      <td>[{'iso_3166_1': 'RU', 'name': 'Russia'}]</td>\n      <td>2010-09-30</td>\n      <td>1268793.0</td>\n      <td>107.0</td>\n      <td>[{'iso_639_1': 'ru', 'name': 'Pусский'}]</td>\n      <td>NaN</td>\n      <td>Pro Lyuboff</td>\n      <td>4.0</td>\n      <td>3.0</td>\n      <td>0.634397</td>\n    </tr>\n    <tr>\n      <th>63898</th>\n      <td>False</td>\n      <td>5000000.0</td>\n      <td>[{'id': 28, 'name': 'Action'}, {'id': 35, 'nam...</td>\n      <td>tt1110037</td>\n      <td>ru</td>\n      <td>Failing to complete an important assignment wi...</td>\n      <td>0.039793</td>\n      <td>[]</td>\n      <td>[{'iso_3166_1': 'RU', 'name': 'Russia'}]</td>\n      <td>2007-09-06</td>\n      <td>1413000.0</td>\n      <td>91.0</td>\n      <td>[{'iso_639_1': 'ru', 'name': 'Pусский'}]</td>\n      <td>NaN</td>\n      <td>Antidur</td>\n      <td>1.0</td>\n      <td>1.0</td>\n      <td>0.282600</td>\n    </tr>\n  </tbody>\n</table>\n<p>4324 rows × 18 columns</p>\n</div>"
     },
     "execution_count": 143,
     "metadata": {},
     "output_type": "execute_result"
    }
   ],
   "source": [
    "movies"
   ],
   "metadata": {
    "collapsed": false,
    "pycharm": {
     "name": "#%%\n"
    }
   }
  },
  {
   "cell_type": "code",
   "execution_count": 138,
   "outputs": [],
   "source": [
    "credits=pd.read_csv('new set of data/kaggle data/credits.csv', index_col='id')"
   ],
   "metadata": {
    "collapsed": false,
    "pycharm": {
     "name": "#%%\n"
    }
   }
  },
  {
   "cell_type": "code",
   "execution_count": 139,
   "outputs": [
    {
     "data": {
      "text/plain": "                                                     cast  \\\nid                                                          \n862     [{'cast_id': 14, 'character': 'Woody (voice)',...   \n8844    [{'cast_id': 1, 'character': 'Alan Parrish', '...   \n15602   [{'cast_id': 2, 'character': 'Max Goldman', 'c...   \n31357   [{'cast_id': 1, 'character': \"Savannah 'Vannah...   \n11862   [{'cast_id': 1, 'character': 'George Banks', '...   \n...                                                   ...   \n439050  [{'cast_id': 0, 'character': '', 'credit_id': ...   \n111109  [{'cast_id': 1002, 'character': 'Sister Angela...   \n67758   [{'cast_id': 6, 'character': 'Emily Shaw', 'cr...   \n227506  [{'cast_id': 2, 'character': '', 'credit_id': ...   \n461257                                                 []   \n\n                                                     crew  \nid                                                         \n862     [{'credit_id': '52fe4284c3a36847f8024f49', 'de...  \n8844    [{'credit_id': '52fe44bfc3a36847f80a7cd1', 'de...  \n15602   [{'credit_id': '52fe466a9251416c75077a89', 'de...  \n31357   [{'credit_id': '52fe44779251416c91011acb', 'de...  \n11862   [{'credit_id': '52fe44959251416c75039ed7', 'de...  \n...                                                   ...  \n439050  [{'credit_id': '5894a97d925141426c00818c', 'de...  \n111109  [{'credit_id': '52fe4af1c3a36847f81e9b15', 'de...  \n67758   [{'credit_id': '52fe4776c3a368484e0c8387', 'de...  \n227506  [{'credit_id': '533bccebc3a36844cf0011a7', 'de...  \n461257  [{'credit_id': '593e676c92514105b702e68e', 'de...  \n\n[45476 rows x 2 columns]",
      "text/html": "<div>\n<style scoped>\n    .dataframe tbody tr th:only-of-type {\n        vertical-align: middle;\n    }\n\n    .dataframe tbody tr th {\n        vertical-align: top;\n    }\n\n    .dataframe thead th {\n        text-align: right;\n    }\n</style>\n<table border=\"1\" class=\"dataframe\">\n  <thead>\n    <tr style=\"text-align: right;\">\n      <th></th>\n      <th>cast</th>\n      <th>crew</th>\n    </tr>\n    <tr>\n      <th>id</th>\n      <th></th>\n      <th></th>\n    </tr>\n  </thead>\n  <tbody>\n    <tr>\n      <th>862</th>\n      <td>[{'cast_id': 14, 'character': 'Woody (voice)',...</td>\n      <td>[{'credit_id': '52fe4284c3a36847f8024f49', 'de...</td>\n    </tr>\n    <tr>\n      <th>8844</th>\n      <td>[{'cast_id': 1, 'character': 'Alan Parrish', '...</td>\n      <td>[{'credit_id': '52fe44bfc3a36847f80a7cd1', 'de...</td>\n    </tr>\n    <tr>\n      <th>15602</th>\n      <td>[{'cast_id': 2, 'character': 'Max Goldman', 'c...</td>\n      <td>[{'credit_id': '52fe466a9251416c75077a89', 'de...</td>\n    </tr>\n    <tr>\n      <th>31357</th>\n      <td>[{'cast_id': 1, 'character': \"Savannah 'Vannah...</td>\n      <td>[{'credit_id': '52fe44779251416c91011acb', 'de...</td>\n    </tr>\n    <tr>\n      <th>11862</th>\n      <td>[{'cast_id': 1, 'character': 'George Banks', '...</td>\n      <td>[{'credit_id': '52fe44959251416c75039ed7', 'de...</td>\n    </tr>\n    <tr>\n      <th>...</th>\n      <td>...</td>\n      <td>...</td>\n    </tr>\n    <tr>\n      <th>439050</th>\n      <td>[{'cast_id': 0, 'character': '', 'credit_id': ...</td>\n      <td>[{'credit_id': '5894a97d925141426c00818c', 'de...</td>\n    </tr>\n    <tr>\n      <th>111109</th>\n      <td>[{'cast_id': 1002, 'character': 'Sister Angela...</td>\n      <td>[{'credit_id': '52fe4af1c3a36847f81e9b15', 'de...</td>\n    </tr>\n    <tr>\n      <th>67758</th>\n      <td>[{'cast_id': 6, 'character': 'Emily Shaw', 'cr...</td>\n      <td>[{'credit_id': '52fe4776c3a368484e0c8387', 'de...</td>\n    </tr>\n    <tr>\n      <th>227506</th>\n      <td>[{'cast_id': 2, 'character': '', 'credit_id': ...</td>\n      <td>[{'credit_id': '533bccebc3a36844cf0011a7', 'de...</td>\n    </tr>\n    <tr>\n      <th>461257</th>\n      <td>[]</td>\n      <td>[{'credit_id': '593e676c92514105b702e68e', 'de...</td>\n    </tr>\n  </tbody>\n</table>\n<p>45476 rows × 2 columns</p>\n</div>"
     },
     "execution_count": 139,
     "metadata": {},
     "output_type": "execute_result"
    }
   ],
   "source": [
    "credits"
   ],
   "metadata": {
    "collapsed": false,
    "pycharm": {
     "name": "#%%\n"
    }
   }
  },
  {
   "cell_type": "code",
   "execution_count": 147,
   "outputs": [
    {
     "data": {
      "text/plain": "\"[{'credit_id': '52fe426ec3a36847f801e14b', 'department': 'Directing', 'gender': 2, 'id': 10702, 'job': 'Director', 'name': 'Martin Campbell', 'profile_path': '/qhx0AySf8yH3kiHrinWknUJbr1y.jpg'}, {'credit_id': '52fe426ec3a36847f801e151', 'department': 'Writing', 'gender': 2, 'id': 9856, 'job': 'Characters', 'name': 'Ian Fleming', 'profile_path': '/3Pld5n7f5AAVjP0HdsAkgSvrlJg.jpg'}, {'credit_id': '52fe426ec3a36847f801e157', 'department': 'Writing', 'gender': 2, 'id': 10704, 'job': 'Screenplay', 'name': 'Jeffrey Caine', 'profile_path': None}, {'credit_id': '52fe426ec3a36847f801e15d', 'department': 'Writing', 'gender': 2, 'id': 10705, 'job': 'Screenplay', 'name': 'Bruce Feirstein', 'profile_path': None}, {'credit_id': '52fe426ec3a36847f801e163', 'department': 'Production', 'gender': 1, 'id': 10666, 'job': 'Producer', 'name': 'Barbara Broccoli', 'profile_path': '/pHTiuUR93mTJhsThZv0Es4xMerS.jpg'}, {'credit_id': '52fe426ec3a36847f801e169', 'department': 'Production', 'gender': 2, 'id': 10493, 'job': 'Executive Producer', 'name': 'Tom Pevsner', 'profile_path': None}, {'credit_id': '52fe426ec3a36847f801e16f', 'department': 'Sound', 'gender': 0, 'id': 996, 'job': 'Original Music Composer', 'name': 'Eric Serra', 'profile_path': '/iY45MsVHxI4DLTqk9zKEl3XHRmd.jpg'}, {'credit_id': '52fe426ec3a36847f801e175', 'department': 'Sound', 'gender': 1, 'id': 1459, 'job': 'Songs', 'name': 'Tina Turner', 'profile_path': '/yhA10YPoQwGWtvd4TUm4X6tkv1x.jpg'}, {'credit_id': '52fe426ec3a36847f801e17b', 'department': 'Camera', 'gender': 0, 'id': 10709, 'job': 'Director of Photography', 'name': 'Phil Meheux', 'profile_path': '/7dvzEurZ3sI5L2RYxvHjS4RLNl3.jpg'}, {'credit_id': '52fe426ec3a36847f801e181', 'department': 'Editing', 'gender': 2, 'id': 5056, 'job': 'Editor', 'name': 'Terry Rawlings', 'profile_path': None}, {'credit_id': '52fe426ec3a36847f801e187', 'department': 'Production', 'gender': 1, 'id': 10496, 'job': 'Casting', 'name': 'Debbie McWilliams', 'profile_path': None}, {'credit_id': '52fe426ec3a36847f801e18d', 'department': 'Art', 'gender': 0, 'id': 8524, 'job': 'Production Design', 'name': 'Peter Lamont', 'profile_path': '/auOeNxa9viwhGN3XIO33q4v6Jcq.jpg'}, {'credit_id': '52fe426ec3a36847f801e193', 'department': 'Art', 'gender': 2, 'id': 10710, 'job': 'Art Direction', 'name': 'Andrew Ackland-Snow', 'profile_path': None}, {'credit_id': '52fe426ec3a36847f801e199', 'department': 'Art', 'gender': 0, 'id': 10711, 'job': 'Art Direction', 'name': 'Kathrin Brunner', 'profile_path': None}, {'credit_id': '52fe426ec3a36847f801e19f', 'department': 'Art', 'gender': 0, 'id': 10712, 'job': 'Art Direction', 'name': 'Charles Dwight Lee', 'profile_path': None}, {'credit_id': '52fe426ec3a36847f801e1a5', 'department': 'Art', 'gender': 2, 'id': 8526, 'job': 'Set Decoration', 'name': 'Michael Ford', 'profile_path': None}, {'credit_id': '52fe426ec3a36847f801e1ab', 'department': 'Costume & Make-Up', 'gender': 1, 'id': 10714, 'job': 'Costume Design', 'name': 'Lindy Hemming', 'profile_path': '/8DiTuVH0dysJ6j1psjXE0XQ4BKR.jpg'}, {'credit_id': '52fe426ec3a36847f801e1b1', 'department': 'Production', 'gender': 2, 'id': 69678, 'job': 'Producer', 'name': 'Michael G. Wilson', 'profile_path': '/j9E7oKJMgprlrwkUkk2JXdY5tnJ.jpg'}, {'credit_id': '52fe426ec3a36847f801e1b7', 'department': 'Production', 'gender': 2, 'id': 10706, 'job': 'Producer', 'name': 'Anthony Waye', 'profile_path': '/jvM7joua7tQ6scIpTM1sdbUzI67.jpg'}, {'credit_id': '5860426ec3a3681a720265da', 'department': 'Writing', 'gender': 2, 'id': 10703, 'job': 'Story', 'name': 'Michael France', 'profile_path': None}, {'credit_id': '586042bb92514115cf0235e8', 'department': 'Art', 'gender': 0, 'id': 1593072, 'job': 'Assistant Art Director', 'name': 'Michael Boone', 'profile_path': None}, {'credit_id': '586042d1c3a3681a65020465', 'department': 'Art', 'gender': 2, 'id': 10788, 'job': 'Assistant Art Director', 'name': 'Steven Lawrence', 'profile_path': None}, {'credit_id': '586042f992514115d3023a3f', 'department': 'Art', 'gender': 0, 'id': 1727828, 'job': 'Construction Coordinator', 'name': 'Tony Graysmark', 'profile_path': None}, {'credit_id': '58604310c3a3681a77023199', 'department': 'Art', 'gender': 0, 'id': 1325211, 'job': 'Supervising Art Director', 'name': 'Neil Lamont', 'profile_path': None}, {'credit_id': '5860435c92514115be023307', 'department': 'Production', 'gender': 1, 'id': 18457, 'job': 'Casting', 'name': 'Pam Dixon', 'profile_path': None}, {'credit_id': '5860439192514115c002371e', 'department': 'Sound', 'gender': 2, 'id': 5062, 'job': 'Music Editor', 'name': 'Robert Hathaway', 'profile_path': None}, {'credit_id': '586043acc3a3681a7d0216b5', 'department': 'Crew', 'gender': 0, 'id': 1532215, 'job': 'Armorer', 'name': 'Charles Bodycomb', 'profile_path': None}, {'credit_id': '586043c692514115ca023e28', 'department': 'Directing', 'gender': 0, 'id': 1398136, 'job': 'Script Supervisor', 'name': 'June Randall', 'profile_path': None}, {'credit_id': '5860440bc3a3681a77023239', 'department': 'Camera', 'gender': 2, 'id': 40747, 'job': 'Camera Operator', 'name': 'Harvey Harrison', 'profile_path': None}, {'credit_id': '5860441d92514115c70240c7', 'department': 'Camera', 'gender': 2, 'id': 1408816, 'job': 'Camera Operator', 'name': 'Roger Pearce', 'profile_path': None}, {'credit_id': '58604431c3a3681a680277eb', 'department': 'Camera', 'gender': 0, 'id': 1485317, 'job': 'Camera Operator', 'name': 'Herbert Raditschnig', 'profile_path': None}, {'credit_id': '5860444ac3a3681a62024cac', 'department': 'Camera', 'gender': 0, 'id': 1189807, 'job': 'Camera Operator', 'name': 'Tim Wooster', 'profile_path': None}, {'credit_id': '5860446492514115c70240f4', 'department': 'Camera', 'gender': 2, 'id': 1425502, 'job': 'Still Photographer', 'name': 'Keith Hamshere', 'profile_path': None}, {'credit_id': '5860447c92514115c7024108', 'department': 'Camera', 'gender': 0, 'id': 1427545, 'job': 'Still Photographer', 'name': 'George Whitear', 'profile_path': None}, {'credit_id': '5860449592514115c00237cd', 'department': 'Lighting', 'gender': 0, 'id': 1727833, 'job': 'Gaffer', 'name': 'Bill Pochetty', 'profile_path': None}, {'credit_id': '586044ac92514115c402506a', 'department': 'Lighting', 'gender': 0, 'id': 1727834, 'job': 'Gaffer', 'name': 'Luigi Bisioli', 'profile_path': None}, {'credit_id': '586044fc92514115c40250a8', 'department': 'Lighting', 'gender': 0, 'id': 1727835, 'job': 'Gaffer', 'name': 'Steve Foster', 'profile_path': None}, {'credit_id': '58604571c3a3681a720267df', 'department': 'Visual Effects', 'gender': 0, 'id': 1081073, 'job': 'Special Effects Supervisor', 'name': 'Chris Corbould', 'profile_path': None}, {'credit_id': '58604584c3a3681a720267eb', 'department': 'Visual Effects', 'gender': 0, 'id': 1392704, 'job': 'Visual Effects Coordinator', 'name': 'Mara Bryan', 'profile_path': None}, {'credit_id': '5860459e92514115cf0237cf', 'department': 'Crew', 'gender': 0, 'id': 1413507, 'job': 'Visual Effects Editor', 'name': 'Tim Grover', 'profile_path': None}, {'credit_id': '586045c792514115cd0234dc', 'department': 'Editing', 'gender': 0, 'id': 38362, 'job': 'Dialogue Editor', 'name': 'Peter Musgrave', 'profile_path': None}, {'credit_id': '586046b1c3a3681a650206b0', 'department': 'Sound', 'gender': 0, 'id': 1340118, 'job': 'Sound Re-Recording Mixer', 'name': 'Michael A. Carter', 'profile_path': None}, {'credit_id': '586046c5c3a3681a6b02371f', 'department': 'Sound', 'gender': 0, 'id': 1561880, 'job': 'Sound Re-Recording Mixer', 'name': 'Graham V. Hartstone', 'profile_path': None}, {'credit_id': '586046dac3a3681a720268f3', 'department': 'Sound', 'gender': 0, 'id': 40818, 'job': 'Sound Re-Recording Mixer', 'name': 'John Hayward', 'profile_path': None}, {'credit_id': '5860470192514115be023583', 'department': 'Sound', 'gender': 2, 'id': 9854, 'job': 'Supervising Sound Editor', 'name': 'Jim Shields', 'profile_path': None}, {'credit_id': '5949b8b1925141459b00121c', 'department': 'Sound', 'gender': 2, 'id': 1576017, 'job': 'Sound Recordist', 'name': 'David John', 'profile_path': None}]\""
     },
     "execution_count": 147,
     "metadata": {},
     "output_type": "execute_result"
    }
   ],
   "source": [
    "credits['crew'][710]"
   ],
   "metadata": {
    "collapsed": false,
    "pycharm": {
     "name": "#%%\n"
    }
   }
  },
  {
   "cell_type": "code",
   "execution_count": 149,
   "outputs": [
    {
     "data": {
      "text/plain": "[{'credit_id': '52fe4270c3a36847f801e943',\n  'department': 'Sound',\n  'gender': 2,\n  'id': 7752,\n  'job': 'Original Music Composer',\n  'name': 'Ron Goodwin',\n  'profile_path': None},\n {'credit_id': '52fe4270c3a36847f801e91f',\n  'department': 'Directing',\n  'gender': 2,\n  'id': 11118,\n  'job': 'Director',\n  'name': 'George Pollock',\n  'profile_path': None},\n {'credit_id': '52fe4270c3a36847f801e925',\n  'department': 'Writing',\n  'gender': 1,\n  'id': 47562,\n  'job': 'Novel',\n  'name': 'Agatha Christie',\n  'profile_path': '/ODuKn32LKTdE0vdPONk2FEbkcl.jpg'},\n {'credit_id': '52fe4270c3a36847f801e92b',\n  'department': 'Writing',\n  'gender': 0,\n  'id': 11119,\n  'job': 'Screenplay',\n  'name': 'David D. Osborn',\n  'profile_path': None},\n {'credit_id': '52fe4270c3a36847f801e931',\n  'department': 'Writing',\n  'gender': 2,\n  'id': 11120,\n  'job': 'Screenplay',\n  'name': 'David Pursall',\n  'profile_path': None},\n {'credit_id': '52fe4270c3a36847f801e937',\n  'department': 'Writing',\n  'gender': 0,\n  'id': 11121,\n  'job': 'Screenplay',\n  'name': 'Jack Seddon',\n  'profile_path': None},\n {'credit_id': '52fe4270c3a36847f801e93d',\n  'department': 'Production',\n  'gender': 2,\n  'id': 11122,\n  'job': 'Producer',\n  'name': 'George H. Brown',\n  'profile_path': None},\n {'credit_id': '52fe4270c3a36847f801e949',\n  'department': 'Camera',\n  'gender': 2,\n  'id': 11123,\n  'job': 'Director of Photography',\n  'name': 'Geoffrey Faithfull',\n  'profile_path': None},\n {'credit_id': '52fe4270c3a36847f801e94f',\n  'department': 'Editing',\n  'gender': 0,\n  'id': 11124,\n  'job': 'Editor',\n  'name': 'Ernest Walter',\n  'profile_path': None},\n {'credit_id': '52fe4270c3a36847f801e955',\n  'department': 'Art',\n  'gender': 0,\n  'id': 11125,\n  'job': 'Art Direction',\n  'name': 'Harry White',\n  'profile_path': None},\n {'credit_id': '52fe4270c3a36847f801e95b',\n  'department': 'Costume & Make-Up',\n  'gender': 0,\n  'id': 11126,\n  'job': 'Makeup Artist',\n  'name': 'Eddie Knight',\n  'profile_path': None}]"
     },
     "execution_count": 149,
     "metadata": {},
     "output_type": "execute_result"
    }
   ],
   "source": [
    "ast.literal_eval( credits['crew'][750] )"
   ],
   "metadata": {
    "collapsed": false,
    "pycharm": {
     "name": "#%%\n"
    }
   }
  },
  {
   "cell_type": "code",
   "execution_count": 159,
   "outputs": [],
   "source": [
    "def directors_names(row):\n",
    "    tmp=[]\n",
    "    row= ast.literal_eval(row)\n",
    "    for dics in row:\n",
    "        if dics['job'] =='Director' :\n",
    "            tmp.append(dics['name'].lower())\n",
    "    return tmp"
   ],
   "metadata": {
    "collapsed": false,
    "pycharm": {
     "name": "#%%\n"
    }
   }
  },
  {
   "cell_type": "code",
   "execution_count": 161,
   "outputs": [
    {
     "data": {
      "text/plain": "['george pollock']"
     },
     "execution_count": 161,
     "metadata": {},
     "output_type": "execute_result"
    }
   ],
   "source": [
    "directors_names( credits['crew'][750] )"
   ],
   "metadata": {
    "collapsed": false,
    "pycharm": {
     "name": "#%%\n"
    }
   }
  },
  {
   "cell_type": "code",
   "execution_count": 160,
   "outputs": [],
   "source": [
    "credits['directors']= credits['crew'].map( directors_names )"
   ],
   "metadata": {
    "collapsed": false,
    "pycharm": {
     "name": "#%%\n"
    }
   }
  },
  {
   "cell_type": "code",
   "execution_count": 162,
   "outputs": [
    {
     "data": {
      "text/plain": "id\n862          [john lasseter]\n8844          [joe johnston]\n15602        [howard deutch]\n31357      [forest whitaker]\n11862        [charles shyer]\n                 ...        \n439050    [hamid nematollah]\n111109            [lav diaz]\n67758       [mark l. lester]\n227506    [yakov protazanov]\n461257       [daisy asquith]\nName: directors, Length: 45476, dtype: object"
     },
     "execution_count": 162,
     "metadata": {},
     "output_type": "execute_result"
    }
   ],
   "source": [
    "credits['directors']"
   ],
   "metadata": {
    "collapsed": false,
    "pycharm": {
     "name": "#%%\n"
    }
   }
  },
  {
   "cell_type": "code",
   "execution_count": 163,
   "outputs": [
    {
     "data": {
      "text/plain": "                                                     cast  \\\nid                                                          \n862     [{'cast_id': 14, 'character': 'Woody (voice)',...   \n8844    [{'cast_id': 1, 'character': 'Alan Parrish', '...   \n15602   [{'cast_id': 2, 'character': 'Max Goldman', 'c...   \n31357   [{'cast_id': 1, 'character': \"Savannah 'Vannah...   \n11862   [{'cast_id': 1, 'character': 'George Banks', '...   \n...                                                   ...   \n439050  [{'cast_id': 0, 'character': '', 'credit_id': ...   \n111109  [{'cast_id': 1002, 'character': 'Sister Angela...   \n67758   [{'cast_id': 6, 'character': 'Emily Shaw', 'cr...   \n227506  [{'cast_id': 2, 'character': '', 'credit_id': ...   \n461257                                                 []   \n\n                                                     crew           directors  \nid                                                                             \n862     [{'credit_id': '52fe4284c3a36847f8024f49', 'de...     [john lasseter]  \n8844    [{'credit_id': '52fe44bfc3a36847f80a7cd1', 'de...      [joe johnston]  \n15602   [{'credit_id': '52fe466a9251416c75077a89', 'de...     [howard deutch]  \n31357   [{'credit_id': '52fe44779251416c91011acb', 'de...   [forest whitaker]  \n11862   [{'credit_id': '52fe44959251416c75039ed7', 'de...     [charles shyer]  \n...                                                   ...                 ...  \n439050  [{'credit_id': '5894a97d925141426c00818c', 'de...  [hamid nematollah]  \n111109  [{'credit_id': '52fe4af1c3a36847f81e9b15', 'de...          [lav diaz]  \n67758   [{'credit_id': '52fe4776c3a368484e0c8387', 'de...    [mark l. lester]  \n227506  [{'credit_id': '533bccebc3a36844cf0011a7', 'de...  [yakov protazanov]  \n461257  [{'credit_id': '593e676c92514105b702e68e', 'de...     [daisy asquith]  \n\n[45476 rows x 3 columns]",
      "text/html": "<div>\n<style scoped>\n    .dataframe tbody tr th:only-of-type {\n        vertical-align: middle;\n    }\n\n    .dataframe tbody tr th {\n        vertical-align: top;\n    }\n\n    .dataframe thead th {\n        text-align: right;\n    }\n</style>\n<table border=\"1\" class=\"dataframe\">\n  <thead>\n    <tr style=\"text-align: right;\">\n      <th></th>\n      <th>cast</th>\n      <th>crew</th>\n      <th>directors</th>\n    </tr>\n    <tr>\n      <th>id</th>\n      <th></th>\n      <th></th>\n      <th></th>\n    </tr>\n  </thead>\n  <tbody>\n    <tr>\n      <th>862</th>\n      <td>[{'cast_id': 14, 'character': 'Woody (voice)',...</td>\n      <td>[{'credit_id': '52fe4284c3a36847f8024f49', 'de...</td>\n      <td>[john lasseter]</td>\n    </tr>\n    <tr>\n      <th>8844</th>\n      <td>[{'cast_id': 1, 'character': 'Alan Parrish', '...</td>\n      <td>[{'credit_id': '52fe44bfc3a36847f80a7cd1', 'de...</td>\n      <td>[joe johnston]</td>\n    </tr>\n    <tr>\n      <th>15602</th>\n      <td>[{'cast_id': 2, 'character': 'Max Goldman', 'c...</td>\n      <td>[{'credit_id': '52fe466a9251416c75077a89', 'de...</td>\n      <td>[howard deutch]</td>\n    </tr>\n    <tr>\n      <th>31357</th>\n      <td>[{'cast_id': 1, 'character': \"Savannah 'Vannah...</td>\n      <td>[{'credit_id': '52fe44779251416c91011acb', 'de...</td>\n      <td>[forest whitaker]</td>\n    </tr>\n    <tr>\n      <th>11862</th>\n      <td>[{'cast_id': 1, 'character': 'George Banks', '...</td>\n      <td>[{'credit_id': '52fe44959251416c75039ed7', 'de...</td>\n      <td>[charles shyer]</td>\n    </tr>\n    <tr>\n      <th>...</th>\n      <td>...</td>\n      <td>...</td>\n      <td>...</td>\n    </tr>\n    <tr>\n      <th>439050</th>\n      <td>[{'cast_id': 0, 'character': '', 'credit_id': ...</td>\n      <td>[{'credit_id': '5894a97d925141426c00818c', 'de...</td>\n      <td>[hamid nematollah]</td>\n    </tr>\n    <tr>\n      <th>111109</th>\n      <td>[{'cast_id': 1002, 'character': 'Sister Angela...</td>\n      <td>[{'credit_id': '52fe4af1c3a36847f81e9b15', 'de...</td>\n      <td>[lav diaz]</td>\n    </tr>\n    <tr>\n      <th>67758</th>\n      <td>[{'cast_id': 6, 'character': 'Emily Shaw', 'cr...</td>\n      <td>[{'credit_id': '52fe4776c3a368484e0c8387', 'de...</td>\n      <td>[mark l. lester]</td>\n    </tr>\n    <tr>\n      <th>227506</th>\n      <td>[{'cast_id': 2, 'character': '', 'credit_id': ...</td>\n      <td>[{'credit_id': '533bccebc3a36844cf0011a7', 'de...</td>\n      <td>[yakov protazanov]</td>\n    </tr>\n    <tr>\n      <th>461257</th>\n      <td>[]</td>\n      <td>[{'credit_id': '593e676c92514105b702e68e', 'de...</td>\n      <td>[daisy asquith]</td>\n    </tr>\n  </tbody>\n</table>\n<p>45476 rows × 3 columns</p>\n</div>"
     },
     "execution_count": 163,
     "metadata": {},
     "output_type": "execute_result"
    }
   ],
   "source": [
    "credits"
   ],
   "metadata": {
    "collapsed": false,
    "pycharm": {
     "name": "#%%\n"
    }
   }
  },
  {
   "cell_type": "code",
   "execution_count": 171,
   "outputs": [
    {
     "data": {
      "text/plain": "                                                     cast  \\\nid                                                          \n862     [{'cast_id': 14, 'character': 'Woody (voice)',...   \n8844    [{'cast_id': 1, 'character': 'Alan Parrish', '...   \n15602   [{'cast_id': 2, 'character': 'Max Goldman', 'c...   \n31357   [{'cast_id': 1, 'character': \"Savannah 'Vannah...   \n11862   [{'cast_id': 1, 'character': 'George Banks', '...   \n...                                                   ...   \n439050  [{'cast_id': 0, 'character': '', 'credit_id': ...   \n111109  [{'cast_id': 1002, 'character': 'Sister Angela...   \n67758   [{'cast_id': 6, 'character': 'Emily Shaw', 'cr...   \n227506  [{'cast_id': 2, 'character': '', 'credit_id': ...   \n461257                                                 []   \n\n                                                     crew           directors  \nid                                                                             \n862     [{'credit_id': '52fe4284c3a36847f8024f49', 'de...     [john lasseter]  \n8844    [{'credit_id': '52fe44bfc3a36847f80a7cd1', 'de...      [joe johnston]  \n15602   [{'credit_id': '52fe466a9251416c75077a89', 'de...     [howard deutch]  \n31357   [{'credit_id': '52fe44779251416c91011acb', 'de...   [forest whitaker]  \n11862   [{'credit_id': '52fe44959251416c75039ed7', 'de...     [charles shyer]  \n...                                                   ...                 ...  \n439050  [{'credit_id': '5894a97d925141426c00818c', 'de...  [hamid nematollah]  \n111109  [{'credit_id': '52fe4af1c3a36847f81e9b15', 'de...          [lav diaz]  \n67758   [{'credit_id': '52fe4776c3a368484e0c8387', 'de...    [mark l. lester]  \n227506  [{'credit_id': '533bccebc3a36844cf0011a7', 'de...  [yakov protazanov]  \n461257  [{'credit_id': '593e676c92514105b702e68e', 'de...     [daisy asquith]  \n\n[45476 rows x 3 columns]",
      "text/html": "<div>\n<style scoped>\n    .dataframe tbody tr th:only-of-type {\n        vertical-align: middle;\n    }\n\n    .dataframe tbody tr th {\n        vertical-align: top;\n    }\n\n    .dataframe thead th {\n        text-align: right;\n    }\n</style>\n<table border=\"1\" class=\"dataframe\">\n  <thead>\n    <tr style=\"text-align: right;\">\n      <th></th>\n      <th>cast</th>\n      <th>crew</th>\n      <th>directors</th>\n    </tr>\n    <tr>\n      <th>id</th>\n      <th></th>\n      <th></th>\n      <th></th>\n    </tr>\n  </thead>\n  <tbody>\n    <tr>\n      <th>862</th>\n      <td>[{'cast_id': 14, 'character': 'Woody (voice)',...</td>\n      <td>[{'credit_id': '52fe4284c3a36847f8024f49', 'de...</td>\n      <td>[john lasseter]</td>\n    </tr>\n    <tr>\n      <th>8844</th>\n      <td>[{'cast_id': 1, 'character': 'Alan Parrish', '...</td>\n      <td>[{'credit_id': '52fe44bfc3a36847f80a7cd1', 'de...</td>\n      <td>[joe johnston]</td>\n    </tr>\n    <tr>\n      <th>15602</th>\n      <td>[{'cast_id': 2, 'character': 'Max Goldman', 'c...</td>\n      <td>[{'credit_id': '52fe466a9251416c75077a89', 'de...</td>\n      <td>[howard deutch]</td>\n    </tr>\n    <tr>\n      <th>31357</th>\n      <td>[{'cast_id': 1, 'character': \"Savannah 'Vannah...</td>\n      <td>[{'credit_id': '52fe44779251416c91011acb', 'de...</td>\n      <td>[forest whitaker]</td>\n    </tr>\n    <tr>\n      <th>11862</th>\n      <td>[{'cast_id': 1, 'character': 'George Banks', '...</td>\n      <td>[{'credit_id': '52fe44959251416c75039ed7', 'de...</td>\n      <td>[charles shyer]</td>\n    </tr>\n    <tr>\n      <th>...</th>\n      <td>...</td>\n      <td>...</td>\n      <td>...</td>\n    </tr>\n    <tr>\n      <th>439050</th>\n      <td>[{'cast_id': 0, 'character': '', 'credit_id': ...</td>\n      <td>[{'credit_id': '5894a97d925141426c00818c', 'de...</td>\n      <td>[hamid nematollah]</td>\n    </tr>\n    <tr>\n      <th>111109</th>\n      <td>[{'cast_id': 1002, 'character': 'Sister Angela...</td>\n      <td>[{'credit_id': '52fe4af1c3a36847f81e9b15', 'de...</td>\n      <td>[lav diaz]</td>\n    </tr>\n    <tr>\n      <th>67758</th>\n      <td>[{'cast_id': 6, 'character': 'Emily Shaw', 'cr...</td>\n      <td>[{'credit_id': '52fe4776c3a368484e0c8387', 'de...</td>\n      <td>[mark l. lester]</td>\n    </tr>\n    <tr>\n      <th>227506</th>\n      <td>[{'cast_id': 2, 'character': '', 'credit_id': ...</td>\n      <td>[{'credit_id': '533bccebc3a36844cf0011a7', 'de...</td>\n      <td>[yakov protazanov]</td>\n    </tr>\n    <tr>\n      <th>461257</th>\n      <td>[]</td>\n      <td>[{'credit_id': '593e676c92514105b702e68e', 'de...</td>\n      <td>[daisy asquith]</td>\n    </tr>\n  </tbody>\n</table>\n<p>45476 rows × 3 columns</p>\n</div>"
     },
     "execution_count": 171,
     "metadata": {},
     "output_type": "execute_result"
    }
   ],
   "source": [
    "credits[ (credits.directors != False) ]"
   ],
   "metadata": {
    "collapsed": false,
    "pycharm": {
     "name": "#%%\n"
    }
   }
  },
  {
   "cell_type": "code",
   "execution_count": 186,
   "outputs": [],
   "source": [
    "credits= credits[ credits['directors'].map( len ) > 0 ]"
   ],
   "metadata": {
    "collapsed": false,
    "pycharm": {
     "name": "#%%\n"
    }
   }
  },
  {
   "cell_type": "code",
   "execution_count": 187,
   "outputs": [],
   "source": [
    "credits.to_csv('new set of data/kaggle data/credits_without_outliers_with_directors.csv')"
   ],
   "metadata": {
    "collapsed": false,
    "pycharm": {
     "name": "#%%\n"
    }
   }
  },
  {
   "cell_type": "code",
   "execution_count": 189,
   "outputs": [
    {
     "data": {
      "text/plain": "Int64Index([   862,   8844,  15602,  31357,  11862,    949,  11860,  45325,\n              9091,    710,\n            ...\n             84419, 390959, 289923, 222848,  30840, 439050, 111109,  67758,\n            227506, 461257],\n           dtype='int64', name='id', length=44589)"
     },
     "execution_count": 189,
     "metadata": {},
     "output_type": "execute_result"
    }
   ],
   "source": [
    "credits.index"
   ],
   "metadata": {
    "collapsed": false,
    "pycharm": {
     "name": "#%%\n"
    }
   }
  },
  {
   "cell_type": "code",
   "execution_count": 193,
   "outputs": [],
   "source": [
    "movies.index= movies.index.astype(int)"
   ],
   "metadata": {
    "collapsed": false,
    "pycharm": {
     "name": "#%%\n"
    }
   }
  },
  {
   "cell_type": "code",
   "execution_count": 195,
   "outputs": [],
   "source": [
    "m_d= movies.join(credits, how='inner' )"
   ],
   "metadata": {
    "collapsed": false,
    "pycharm": {
     "name": "#%%\n"
    }
   }
  },
  {
   "cell_type": "code",
   "execution_count": 196,
   "outputs": [
    {
     "data": {
      "text/plain": "        adult       budget                                             genres  \\\nid                                                                              \n5       False    4000000.0  [{'id': 80, 'name': 'Crime'}, {'id': 35, 'name...   \n16      False   12800000.0  [{'id': 18, 'name': 'Drama'}, {'id': 80, 'name...   \n18      False   90000000.0  [{'id': 12, 'name': 'Adventure'}, {'id': 14, '...   \n19      False   92620000.0  [{'id': 18, 'name': 'Drama'}, {'id': 878, 'nam...   \n22      False  140000000.0  [{'id': 12, 'name': 'Adventure'}, {'id': 14, '...   \n...       ...          ...                                                ...   \n422603  False     450000.0  [{'id': 12, 'name': 'Adventure'}, {'id': 35, '...   \n425942  False    4000000.0  [{'id': 9648, 'name': 'Mystery'}, {'id': 18, '...   \n433356  False   40000000.0  [{'id': 10749, 'name': 'Romance'}, {'id': 18, ...   \n440642  False    7075038.0  [{'id': 12, 'name': 'Adventure'}, {'id': 18, '...   \n443319  False    2800000.0  [{'id': 27, 'name': 'Horror'}, {'id': 9648, 'n...   \n\n          imdb_id original_language  \\\nid                                    \n5       tt0113101                en   \n16      tt0168629                en   \n18      tt0119116                en   \n19      tt0017136                de   \n22      tt0325980                en   \n...           ...               ...   \n422603  tt5998104                ml   \n425942  tt5614612                es   \n433356  tt4943322                en   \n440642  tt6673840                ru   \n443319  tt6574272                en   \n\n                                                 overview popularity  \\\nid                                                                     \n5       It's Ted the Bellhop's first night on the job....   9.026586   \n16      Selma, a Czech immigrant on the verge of blind...  10.684806   \n18      In 2257, a taxi driver is unintentionally give...   24.30526   \n19      In a futuristic city sharply divided between t...  14.487867   \n22      Jack Sparrow, a freewheeling 17th-century pira...  47.326665   \n...                                                   ...        ...   \n422603  Aanandam is a 2016 Indian Malayalam campus mus...   0.354748   \n425942  Accused of killing his brother during adolesce...  10.067238   \n433356  Lillie, a determined American woman, ventures ...  13.256679   \n440642  March 1965. In the heat of the Cold War, the U...     10.181   \n443319  20 years after three teenagers disappeared in ...  12.560942   \n\n                                     production_companies  \\\nid                                                          \n5                           [miramax films, a band apart]   \n16      [fine line features, zentropa entertainments, ...   \n18                           [columbia pictures, gaumont]   \n19             [paramount pictures, universum film (ufa)]   \n22        [walt disney pictures, jerry bruckheimer films]   \n...                                                   ...   \n422603                      [cast n' crew, habit of life]   \n425942  [telefe, a contracorriente films, pampa films,...   \n433356                            [eastern sunrise films]   \n440642                              [bazelevs production]   \n443319            [scott free productions, cinelou films]   \n\n                                     production_countries release_date  ...  \\\nid                                                                      ...   \n5       [{'iso_3166_1': 'US', 'name': 'United States o...   1995-12-09  ...   \n16      [{'iso_3166_1': 'AR', 'name': 'Argentina'}, {'...   2000-05-17  ...   \n18               [{'iso_3166_1': 'FR', 'name': 'France'}]   1997-05-07  ...   \n19              [{'iso_3166_1': 'DE', 'name': 'Germany'}]   1927-01-10  ...   \n22      [{'iso_3166_1': 'US', 'name': 'United States o...   2003-07-09  ...   \n...                                                   ...          ...  ...   \n422603            [{'iso_3166_1': 'IN', 'name': 'India'}]   2016-10-21  ...   \n425942  [{'iso_3166_1': 'ES', 'name': 'Spain'}, {'iso_...   2017-01-19  ...   \n433356  [{'iso_3166_1': 'TR', 'name': 'Turkey'}, {'iso...   2017-03-10  ...   \n440642           [{'iso_3166_1': 'RU', 'name': 'Russia'}]   2017-04-12  ...   \n443319  [{'iso_3166_1': 'US', 'name': 'United States o...   2017-04-21  ...   \n\n        runtime                                   spoken_languages  \\\nid                                                                   \n5          98.0           [{'iso_639_1': 'en', 'name': 'English'}]   \n16        140.0           [{'iso_639_1': 'en', 'name': 'English'}]   \n18        126.0  [{'iso_639_1': 'en', 'name': 'English'}, {'iso...   \n19        153.0       [{'iso_639_1': 'xx', 'name': 'No Language'}]   \n22        143.0           [{'iso_639_1': 'en', 'name': 'English'}]   \n...         ...                                                ...   \n422603    134.0  [{'iso_639_1': 'en', 'name': 'English'}, {'iso...   \n425942     90.0           [{'iso_639_1': 'es', 'name': 'Español'}]   \n433356    111.0           [{'iso_639_1': 'en', 'name': 'English'}]   \n440642    140.0           [{'iso_639_1': 'ru', 'name': 'Pусский'}]   \n443319     80.0           [{'iso_639_1': 'en', 'name': 'English'}]   \n\n                                                  tagline  \\\nid                                                          \n5       Twelve outrageous guests. Four scandalous requ...   \n16                            You don't need eyes to see.   \n18                         There is no future without it.   \n19      There can be no understanding between the hand...   \n22                  Prepare to be blown out of the water.   \n...                                                   ...   \n422603                                                NaN   \n425942                Would you be able to keep a secret?   \n433356  The Ottoman Lieutenant is a love story between...   \n440642             So far from home, so close to disaster   \n443319               Based on Shocking Untold True Events   \n\n                                                    title vote_average  \\\nid                                                                       \n5                                              Four Rooms          6.5   \n16                                     Dancer in the Dark          7.7   \n18                                      The Fifth Element          7.3   \n19                                             Metropolis          8.0   \n22      Pirates of the Caribbean: The Curse of the Bla...          7.5   \n...                                                   ...          ...   \n422603                                           Aanandam          6.4   \n425942                                         Black Snow          6.0   \n433356                             The Ottoman Lieutenant          6.5   \n440642                                    The Spacewalker          7.4   \n443319                                  Phoenix Forgotten          5.7   \n\n        vote_count  revenue_percentage  \\\nid                                       \n5            539.0            1.075000   \n16           392.0            3.127491   \n18          3962.0            2.932446   \n19           666.0            0.007022   \n22          7191.0            4.678652   \n...            ...                 ...   \n422603         7.0            5.111111   \n425942        39.0            0.360000   \n433356        38.0            0.006024   \n440642        20.0            1.394896   \n443319        52.0            1.285714   \n\n                                                     cast  \\\nid                                                          \n5       [{'cast_id': 42, 'character': 'Ted the Bellhop...   \n16      [{'cast_id': 33, 'character': 'Selma Jezkova',...   \n18      [{'cast_id': 5, 'character': 'Korben Dallas', ...   \n19      [{'cast_id': 10, 'character': 'Maria', 'credit...   \n22      [{'cast_id': 12, 'character': 'Captain Jack Sp...   \n...                                                   ...   \n422603  [{'cast_id': 9, 'character': 'Diaa', 'credit_i...   \n425942  [{'cast_id': 0, 'character': 'Salvador', 'cred...   \n433356  [{'cast_id': 4, 'character': 'Ismail', 'credit...   \n440642  [{'cast_id': 3, 'character': 'Alexey Leonov', ...   \n443319  [{'cast_id': 2, 'character': 'Sophie', 'credit...   \n\n                                                     crew  \\\nid                                                          \n5       [{'credit_id': '52fe420dc3a36847f800011b', 'de...   \n16      [{'credit_id': '52fe420ec3a36847f8000981', 'de...   \n18      [{'credit_id': '52fe420fc3a36847f8000c09', 'de...   \n19      [{'credit_id': '52fe420fc3a36847f8000c55', 'de...   \n22      [{'credit_id': '52fe420fc3a36847f8000e95', 'de...   \n...                                                   ...   \n422603  [{'credit_id': '580e4dc8c3a368599e001c50', 'de...   \n425942  [{'credit_id': '582933ec9251417b1a033e06', 'de...   \n433356  [{'credit_id': '586e336292514129630067ca', 'de...   \n440642  [{'credit_id': '589c5145c3a3684cde007fb5', 'de...   \n443319  [{'credit_id': '58b30eca92514177a8006e71', 'de...   \n\n                                                directors  \nid                                                         \n5       [allison anders, alexandre rockwell, robert ro...  \n16                                       [lars von trier]  \n18                                           [luc besson]  \n19                                           [fritz lang]  \n22                                       [gore verbinski]  \n...                                                   ...  \n422603                                       [ganesh raj]  \n425942                                    [martín hodara]  \n433356                                     [joseph ruben]  \n440642                                  [dmitriy kiselev]  \n443319                                    [justin barber]  \n\n[4329 rows x 21 columns]",
      "text/html": "<div>\n<style scoped>\n    .dataframe tbody tr th:only-of-type {\n        vertical-align: middle;\n    }\n\n    .dataframe tbody tr th {\n        vertical-align: top;\n    }\n\n    .dataframe thead th {\n        text-align: right;\n    }\n</style>\n<table border=\"1\" class=\"dataframe\">\n  <thead>\n    <tr style=\"text-align: right;\">\n      <th></th>\n      <th>adult</th>\n      <th>budget</th>\n      <th>genres</th>\n      <th>imdb_id</th>\n      <th>original_language</th>\n      <th>overview</th>\n      <th>popularity</th>\n      <th>production_companies</th>\n      <th>production_countries</th>\n      <th>release_date</th>\n      <th>...</th>\n      <th>runtime</th>\n      <th>spoken_languages</th>\n      <th>tagline</th>\n      <th>title</th>\n      <th>vote_average</th>\n      <th>vote_count</th>\n      <th>revenue_percentage</th>\n      <th>cast</th>\n      <th>crew</th>\n      <th>directors</th>\n    </tr>\n    <tr>\n      <th>id</th>\n      <th></th>\n      <th></th>\n      <th></th>\n      <th></th>\n      <th></th>\n      <th></th>\n      <th></th>\n      <th></th>\n      <th></th>\n      <th></th>\n      <th></th>\n      <th></th>\n      <th></th>\n      <th></th>\n      <th></th>\n      <th></th>\n      <th></th>\n      <th></th>\n      <th></th>\n      <th></th>\n      <th></th>\n    </tr>\n  </thead>\n  <tbody>\n    <tr>\n      <th>5</th>\n      <td>False</td>\n      <td>4000000.0</td>\n      <td>[{'id': 80, 'name': 'Crime'}, {'id': 35, 'name...</td>\n      <td>tt0113101</td>\n      <td>en</td>\n      <td>It's Ted the Bellhop's first night on the job....</td>\n      <td>9.026586</td>\n      <td>[miramax films, a band apart]</td>\n      <td>[{'iso_3166_1': 'US', 'name': 'United States o...</td>\n      <td>1995-12-09</td>\n      <td>...</td>\n      <td>98.0</td>\n      <td>[{'iso_639_1': 'en', 'name': 'English'}]</td>\n      <td>Twelve outrageous guests. Four scandalous requ...</td>\n      <td>Four Rooms</td>\n      <td>6.5</td>\n      <td>539.0</td>\n      <td>1.075000</td>\n      <td>[{'cast_id': 42, 'character': 'Ted the Bellhop...</td>\n      <td>[{'credit_id': '52fe420dc3a36847f800011b', 'de...</td>\n      <td>[allison anders, alexandre rockwell, robert ro...</td>\n    </tr>\n    <tr>\n      <th>16</th>\n      <td>False</td>\n      <td>12800000.0</td>\n      <td>[{'id': 18, 'name': 'Drama'}, {'id': 80, 'name...</td>\n      <td>tt0168629</td>\n      <td>en</td>\n      <td>Selma, a Czech immigrant on the verge of blind...</td>\n      <td>10.684806</td>\n      <td>[fine line features, zentropa entertainments, ...</td>\n      <td>[{'iso_3166_1': 'AR', 'name': 'Argentina'}, {'...</td>\n      <td>2000-05-17</td>\n      <td>...</td>\n      <td>140.0</td>\n      <td>[{'iso_639_1': 'en', 'name': 'English'}]</td>\n      <td>You don't need eyes to see.</td>\n      <td>Dancer in the Dark</td>\n      <td>7.7</td>\n      <td>392.0</td>\n      <td>3.127491</td>\n      <td>[{'cast_id': 33, 'character': 'Selma Jezkova',...</td>\n      <td>[{'credit_id': '52fe420ec3a36847f8000981', 'de...</td>\n      <td>[lars von trier]</td>\n    </tr>\n    <tr>\n      <th>18</th>\n      <td>False</td>\n      <td>90000000.0</td>\n      <td>[{'id': 12, 'name': 'Adventure'}, {'id': 14, '...</td>\n      <td>tt0119116</td>\n      <td>en</td>\n      <td>In 2257, a taxi driver is unintentionally give...</td>\n      <td>24.30526</td>\n      <td>[columbia pictures, gaumont]</td>\n      <td>[{'iso_3166_1': 'FR', 'name': 'France'}]</td>\n      <td>1997-05-07</td>\n      <td>...</td>\n      <td>126.0</td>\n      <td>[{'iso_639_1': 'en', 'name': 'English'}, {'iso...</td>\n      <td>There is no future without it.</td>\n      <td>The Fifth Element</td>\n      <td>7.3</td>\n      <td>3962.0</td>\n      <td>2.932446</td>\n      <td>[{'cast_id': 5, 'character': 'Korben Dallas', ...</td>\n      <td>[{'credit_id': '52fe420fc3a36847f8000c09', 'de...</td>\n      <td>[luc besson]</td>\n    </tr>\n    <tr>\n      <th>19</th>\n      <td>False</td>\n      <td>92620000.0</td>\n      <td>[{'id': 18, 'name': 'Drama'}, {'id': 878, 'nam...</td>\n      <td>tt0017136</td>\n      <td>de</td>\n      <td>In a futuristic city sharply divided between t...</td>\n      <td>14.487867</td>\n      <td>[paramount pictures, universum film (ufa)]</td>\n      <td>[{'iso_3166_1': 'DE', 'name': 'Germany'}]</td>\n      <td>1927-01-10</td>\n      <td>...</td>\n      <td>153.0</td>\n      <td>[{'iso_639_1': 'xx', 'name': 'No Language'}]</td>\n      <td>There can be no understanding between the hand...</td>\n      <td>Metropolis</td>\n      <td>8.0</td>\n      <td>666.0</td>\n      <td>0.007022</td>\n      <td>[{'cast_id': 10, 'character': 'Maria', 'credit...</td>\n      <td>[{'credit_id': '52fe420fc3a36847f8000c55', 'de...</td>\n      <td>[fritz lang]</td>\n    </tr>\n    <tr>\n      <th>22</th>\n      <td>False</td>\n      <td>140000000.0</td>\n      <td>[{'id': 12, 'name': 'Adventure'}, {'id': 14, '...</td>\n      <td>tt0325980</td>\n      <td>en</td>\n      <td>Jack Sparrow, a freewheeling 17th-century pira...</td>\n      <td>47.326665</td>\n      <td>[walt disney pictures, jerry bruckheimer films]</td>\n      <td>[{'iso_3166_1': 'US', 'name': 'United States o...</td>\n      <td>2003-07-09</td>\n      <td>...</td>\n      <td>143.0</td>\n      <td>[{'iso_639_1': 'en', 'name': 'English'}]</td>\n      <td>Prepare to be blown out of the water.</td>\n      <td>Pirates of the Caribbean: The Curse of the Bla...</td>\n      <td>7.5</td>\n      <td>7191.0</td>\n      <td>4.678652</td>\n      <td>[{'cast_id': 12, 'character': 'Captain Jack Sp...</td>\n      <td>[{'credit_id': '52fe420fc3a36847f8000e95', 'de...</td>\n      <td>[gore verbinski]</td>\n    </tr>\n    <tr>\n      <th>...</th>\n      <td>...</td>\n      <td>...</td>\n      <td>...</td>\n      <td>...</td>\n      <td>...</td>\n      <td>...</td>\n      <td>...</td>\n      <td>...</td>\n      <td>...</td>\n      <td>...</td>\n      <td>...</td>\n      <td>...</td>\n      <td>...</td>\n      <td>...</td>\n      <td>...</td>\n      <td>...</td>\n      <td>...</td>\n      <td>...</td>\n      <td>...</td>\n      <td>...</td>\n      <td>...</td>\n    </tr>\n    <tr>\n      <th>422603</th>\n      <td>False</td>\n      <td>450000.0</td>\n      <td>[{'id': 12, 'name': 'Adventure'}, {'id': 35, '...</td>\n      <td>tt5998104</td>\n      <td>ml</td>\n      <td>Aanandam is a 2016 Indian Malayalam campus mus...</td>\n      <td>0.354748</td>\n      <td>[cast n' crew, habit of life]</td>\n      <td>[{'iso_3166_1': 'IN', 'name': 'India'}]</td>\n      <td>2016-10-21</td>\n      <td>...</td>\n      <td>134.0</td>\n      <td>[{'iso_639_1': 'en', 'name': 'English'}, {'iso...</td>\n      <td>NaN</td>\n      <td>Aanandam</td>\n      <td>6.4</td>\n      <td>7.0</td>\n      <td>5.111111</td>\n      <td>[{'cast_id': 9, 'character': 'Diaa', 'credit_i...</td>\n      <td>[{'credit_id': '580e4dc8c3a368599e001c50', 'de...</td>\n      <td>[ganesh raj]</td>\n    </tr>\n    <tr>\n      <th>425942</th>\n      <td>False</td>\n      <td>4000000.0</td>\n      <td>[{'id': 9648, 'name': 'Mystery'}, {'id': 18, '...</td>\n      <td>tt5614612</td>\n      <td>es</td>\n      <td>Accused of killing his brother during adolesce...</td>\n      <td>10.067238</td>\n      <td>[telefe, a contracorriente films, pampa films,...</td>\n      <td>[{'iso_3166_1': 'ES', 'name': 'Spain'}, {'iso_...</td>\n      <td>2017-01-19</td>\n      <td>...</td>\n      <td>90.0</td>\n      <td>[{'iso_639_1': 'es', 'name': 'Español'}]</td>\n      <td>Would you be able to keep a secret?</td>\n      <td>Black Snow</td>\n      <td>6.0</td>\n      <td>39.0</td>\n      <td>0.360000</td>\n      <td>[{'cast_id': 0, 'character': 'Salvador', 'cred...</td>\n      <td>[{'credit_id': '582933ec9251417b1a033e06', 'de...</td>\n      <td>[martín hodara]</td>\n    </tr>\n    <tr>\n      <th>433356</th>\n      <td>False</td>\n      <td>40000000.0</td>\n      <td>[{'id': 10749, 'name': 'Romance'}, {'id': 18, ...</td>\n      <td>tt4943322</td>\n      <td>en</td>\n      <td>Lillie, a determined American woman, ventures ...</td>\n      <td>13.256679</td>\n      <td>[eastern sunrise films]</td>\n      <td>[{'iso_3166_1': 'TR', 'name': 'Turkey'}, {'iso...</td>\n      <td>2017-03-10</td>\n      <td>...</td>\n      <td>111.0</td>\n      <td>[{'iso_639_1': 'en', 'name': 'English'}]</td>\n      <td>The Ottoman Lieutenant is a love story between...</td>\n      <td>The Ottoman Lieutenant</td>\n      <td>6.5</td>\n      <td>38.0</td>\n      <td>0.006024</td>\n      <td>[{'cast_id': 4, 'character': 'Ismail', 'credit...</td>\n      <td>[{'credit_id': '586e336292514129630067ca', 'de...</td>\n      <td>[joseph ruben]</td>\n    </tr>\n    <tr>\n      <th>440642</th>\n      <td>False</td>\n      <td>7075038.0</td>\n      <td>[{'id': 12, 'name': 'Adventure'}, {'id': 18, '...</td>\n      <td>tt6673840</td>\n      <td>ru</td>\n      <td>March 1965. In the heat of the Cold War, the U...</td>\n      <td>10.181</td>\n      <td>[bazelevs production]</td>\n      <td>[{'iso_3166_1': 'RU', 'name': 'Russia'}]</td>\n      <td>2017-04-12</td>\n      <td>...</td>\n      <td>140.0</td>\n      <td>[{'iso_639_1': 'ru', 'name': 'Pусский'}]</td>\n      <td>So far from home, so close to disaster</td>\n      <td>The Spacewalker</td>\n      <td>7.4</td>\n      <td>20.0</td>\n      <td>1.394896</td>\n      <td>[{'cast_id': 3, 'character': 'Alexey Leonov', ...</td>\n      <td>[{'credit_id': '589c5145c3a3684cde007fb5', 'de...</td>\n      <td>[dmitriy kiselev]</td>\n    </tr>\n    <tr>\n      <th>443319</th>\n      <td>False</td>\n      <td>2800000.0</td>\n      <td>[{'id': 27, 'name': 'Horror'}, {'id': 9648, 'n...</td>\n      <td>tt6574272</td>\n      <td>en</td>\n      <td>20 years after three teenagers disappeared in ...</td>\n      <td>12.560942</td>\n      <td>[scott free productions, cinelou films]</td>\n      <td>[{'iso_3166_1': 'US', 'name': 'United States o...</td>\n      <td>2017-04-21</td>\n      <td>...</td>\n      <td>80.0</td>\n      <td>[{'iso_639_1': 'en', 'name': 'English'}]</td>\n      <td>Based on Shocking Untold True Events</td>\n      <td>Phoenix Forgotten</td>\n      <td>5.7</td>\n      <td>52.0</td>\n      <td>1.285714</td>\n      <td>[{'cast_id': 2, 'character': 'Sophie', 'credit...</td>\n      <td>[{'credit_id': '58b30eca92514177a8006e71', 'de...</td>\n      <td>[justin barber]</td>\n    </tr>\n  </tbody>\n</table>\n<p>4329 rows × 21 columns</p>\n</div>"
     },
     "execution_count": 196,
     "metadata": {},
     "output_type": "execute_result"
    }
   ],
   "source": [
    "m_d"
   ],
   "metadata": {
    "collapsed": false,
    "pycharm": {
     "name": "#%%\n"
    }
   }
  },
  {
   "cell_type": "code",
   "execution_count": 197,
   "outputs": [],
   "source": [
    "def genres_col(row):\n",
    "    tmp=[]\n",
    "    row= ast.literal_eval(row)\n",
    "    for dics in row:\n",
    "        tmp.append(dics['name'].lower())\n",
    "    return tmp"
   ],
   "metadata": {
    "collapsed": false,
    "pycharm": {
     "name": "#%%\n"
    }
   }
  },
  {
   "cell_type": "code",
   "execution_count": 199,
   "outputs": [],
   "source": [
    "m_d['genres']= m_d['genres'].map( genres_col )"
   ],
   "metadata": {
    "collapsed": false,
    "pycharm": {
     "name": "#%%\n"
    }
   }
  },
  {
   "cell_type": "code",
   "execution_count": 200,
   "outputs": [],
   "source": [
    "def production_country(row):\n",
    "    tmp=[]\n",
    "    row= ast.literal_eval(row)\n",
    "    for dics in row:\n",
    "        tmp.append(dics['name'].lower())\n",
    "    return tmp\n",
    "m_d['production_countries']= m_d['production_countries'].map( production_country )"
   ],
   "metadata": {
    "collapsed": false,
    "pycharm": {
     "name": "#%%\n"
    }
   }
  },
  {
   "cell_type": "code",
   "execution_count": 201,
   "outputs": [],
   "source": [
    "def languages(row):\n",
    "    tmp=[]\n",
    "    row= ast.literal_eval(row)\n",
    "    for dics in row:\n",
    "        tmp.append(dics['name'].lower())\n",
    "    return tmp\n",
    "m_d['spoken_languages']= m_d['spoken_languages'].map( languages )"
   ],
   "metadata": {
    "collapsed": false,
    "pycharm": {
     "name": "#%%\n"
    }
   }
  },
  {
   "cell_type": "code",
   "execution_count": 206,
   "outputs": [],
   "source": [
    "m_d.drop(['cast','crew'], inplace=True, axis=1)"
   ],
   "metadata": {
    "collapsed": false,
    "pycharm": {
     "name": "#%%\n"
    }
   }
  },
  {
   "cell_type": "code",
   "execution_count": 209,
   "outputs": [
    {
     "data": {
      "text/plain": "        adult       budget                                             genres  \\\nid                                                                              \n5       False    4000000.0                                    [crime, comedy]   \n16      False   12800000.0                              [drama, crime, music]   \n18      False   90000000.0  [adventure, fantasy, action, thriller, science...   \n19      False   92620000.0                           [drama, science fiction]   \n22      False  140000000.0                       [adventure, fantasy, action]   \n...       ...          ...                                                ...   \n422603  False     450000.0                       [adventure, comedy, romance]   \n425942  False    4000000.0                  [mystery, drama, crime, thriller]   \n433356  False   40000000.0                              [romance, drama, war]   \n440642  False    7075038.0                        [adventure, drama, history]   \n443319  False    2800000.0                 [horror, mystery, science fiction]   \n\n          imdb_id original_language  \\\nid                                    \n5       tt0113101                en   \n16      tt0168629                en   \n18      tt0119116                en   \n19      tt0017136                de   \n22      tt0325980                en   \n...           ...               ...   \n422603  tt5998104                ml   \n425942  tt5614612                es   \n433356  tt4943322                en   \n440642  tt6673840                ru   \n443319  tt6574272                en   \n\n                                                 overview popularity  \\\nid                                                                     \n5       It's Ted the Bellhop's first night on the job....   9.026586   \n16      Selma, a Czech immigrant on the verge of blind...  10.684806   \n18      In 2257, a taxi driver is unintentionally give...   24.30526   \n19      In a futuristic city sharply divided between t...  14.487867   \n22      Jack Sparrow, a freewheeling 17th-century pira...  47.326665   \n...                                                   ...        ...   \n422603  Aanandam is a 2016 Indian Malayalam campus mus...   0.354748   \n425942  Accused of killing his brother during adolesce...  10.067238   \n433356  Lillie, a determined American woman, ventures ...  13.256679   \n440642  March 1965. In the heat of the Cold War, the U...     10.181   \n443319  20 years after three teenagers disappeared in ...  12.560942   \n\n                                     production_companies  \\\nid                                                          \n5                           [miramax films, a band apart]   \n16      [fine line features, zentropa entertainments, ...   \n18                           [columbia pictures, gaumont]   \n19             [paramount pictures, universum film (ufa)]   \n22        [walt disney pictures, jerry bruckheimer films]   \n...                                                   ...   \n422603                      [cast n' crew, habit of life]   \n425942  [telefe, a contracorriente films, pampa films,...   \n433356                            [eastern sunrise films]   \n440642                              [bazelevs production]   \n443319            [scott free productions, cinelou films]   \n\n                                     production_countries release_date  \\\nid                                                                       \n5                              [united states of america]   1995-12-09   \n16      [argentina, denmark, finland, france, germany,...   2000-05-17   \n18                                               [france]   1997-05-07   \n19                                              [germany]   1927-01-10   \n22                             [united states of america]   2003-07-09   \n...                                                   ...          ...   \n422603                                            [india]   2016-10-21   \n425942                                 [spain, argentina]   2017-01-19   \n433356                 [turkey, united states of america]   2017-03-10   \n440642                                           [russia]   2017-04-12   \n443319                         [united states of america]   2017-04-21   \n\n            revenue  runtime             spoken_languages  \\\nid                                                          \n5         4300000.0     98.0                    [english]   \n16       40031879.0    140.0                    [english]   \n18      263920180.0    126.0  [english, svenska, deutsch]   \n19         650422.0    153.0                [no language]   \n22      655011224.0    143.0                    [english]   \n...             ...      ...                          ...   \n422603    2300000.0    134.0                  [english, ]   \n425942    1440000.0     90.0                    [español]   \n433356     240978.0    111.0                    [english]   \n440642    9868942.0    140.0                    [pусский]   \n443319    3600000.0     80.0                    [english]   \n\n                                                  tagline  \\\nid                                                          \n5       Twelve outrageous guests. Four scandalous requ...   \n16                            You don't need eyes to see.   \n18                         There is no future without it.   \n19      There can be no understanding between the hand...   \n22                  Prepare to be blown out of the water.   \n...                                                   ...   \n422603                                                NaN   \n425942                Would you be able to keep a secret?   \n433356  The Ottoman Lieutenant is a love story between...   \n440642             So far from home, so close to disaster   \n443319               Based on Shocking Untold True Events   \n\n                                                    title  vote_average  \\\nid                                                                        \n5                                              Four Rooms           6.5   \n16                                     Dancer in the Dark           7.7   \n18                                      The Fifth Element           7.3   \n19                                             Metropolis           8.0   \n22      Pirates of the Caribbean: The Curse of the Bla...           7.5   \n...                                                   ...           ...   \n422603                                           Aanandam           6.4   \n425942                                         Black Snow           6.0   \n433356                             The Ottoman Lieutenant           6.5   \n440642                                    The Spacewalker           7.4   \n443319                                  Phoenix Forgotten           5.7   \n\n        vote_count  revenue_percentage  \\\nid                                       \n5            539.0            1.075000   \n16           392.0            3.127491   \n18          3962.0            2.932446   \n19           666.0            0.007022   \n22          7191.0            4.678652   \n...            ...                 ...   \n422603         7.0            5.111111   \n425942        39.0            0.360000   \n433356        38.0            0.006024   \n440642        20.0            1.394896   \n443319        52.0            1.285714   \n\n                                                directors  \nid                                                         \n5       [allison anders, alexandre rockwell, robert ro...  \n16                                       [lars von trier]  \n18                                           [luc besson]  \n19                                           [fritz lang]  \n22                                       [gore verbinski]  \n...                                                   ...  \n422603                                       [ganesh raj]  \n425942                                    [martín hodara]  \n433356                                     [joseph ruben]  \n440642                                  [dmitriy kiselev]  \n443319                                    [justin barber]  \n\n[4329 rows x 19 columns]",
      "text/html": "<div>\n<style scoped>\n    .dataframe tbody tr th:only-of-type {\n        vertical-align: middle;\n    }\n\n    .dataframe tbody tr th {\n        vertical-align: top;\n    }\n\n    .dataframe thead th {\n        text-align: right;\n    }\n</style>\n<table border=\"1\" class=\"dataframe\">\n  <thead>\n    <tr style=\"text-align: right;\">\n      <th></th>\n      <th>adult</th>\n      <th>budget</th>\n      <th>genres</th>\n      <th>imdb_id</th>\n      <th>original_language</th>\n      <th>overview</th>\n      <th>popularity</th>\n      <th>production_companies</th>\n      <th>production_countries</th>\n      <th>release_date</th>\n      <th>revenue</th>\n      <th>runtime</th>\n      <th>spoken_languages</th>\n      <th>tagline</th>\n      <th>title</th>\n      <th>vote_average</th>\n      <th>vote_count</th>\n      <th>revenue_percentage</th>\n      <th>directors</th>\n    </tr>\n    <tr>\n      <th>id</th>\n      <th></th>\n      <th></th>\n      <th></th>\n      <th></th>\n      <th></th>\n      <th></th>\n      <th></th>\n      <th></th>\n      <th></th>\n      <th></th>\n      <th></th>\n      <th></th>\n      <th></th>\n      <th></th>\n      <th></th>\n      <th></th>\n      <th></th>\n      <th></th>\n      <th></th>\n    </tr>\n  </thead>\n  <tbody>\n    <tr>\n      <th>5</th>\n      <td>False</td>\n      <td>4000000.0</td>\n      <td>[crime, comedy]</td>\n      <td>tt0113101</td>\n      <td>en</td>\n      <td>It's Ted the Bellhop's first night on the job....</td>\n      <td>9.026586</td>\n      <td>[miramax films, a band apart]</td>\n      <td>[united states of america]</td>\n      <td>1995-12-09</td>\n      <td>4300000.0</td>\n      <td>98.0</td>\n      <td>[english]</td>\n      <td>Twelve outrageous guests. Four scandalous requ...</td>\n      <td>Four Rooms</td>\n      <td>6.5</td>\n      <td>539.0</td>\n      <td>1.075000</td>\n      <td>[allison anders, alexandre rockwell, robert ro...</td>\n    </tr>\n    <tr>\n      <th>16</th>\n      <td>False</td>\n      <td>12800000.0</td>\n      <td>[drama, crime, music]</td>\n      <td>tt0168629</td>\n      <td>en</td>\n      <td>Selma, a Czech immigrant on the verge of blind...</td>\n      <td>10.684806</td>\n      <td>[fine line features, zentropa entertainments, ...</td>\n      <td>[argentina, denmark, finland, france, germany,...</td>\n      <td>2000-05-17</td>\n      <td>40031879.0</td>\n      <td>140.0</td>\n      <td>[english]</td>\n      <td>You don't need eyes to see.</td>\n      <td>Dancer in the Dark</td>\n      <td>7.7</td>\n      <td>392.0</td>\n      <td>3.127491</td>\n      <td>[lars von trier]</td>\n    </tr>\n    <tr>\n      <th>18</th>\n      <td>False</td>\n      <td>90000000.0</td>\n      <td>[adventure, fantasy, action, thriller, science...</td>\n      <td>tt0119116</td>\n      <td>en</td>\n      <td>In 2257, a taxi driver is unintentionally give...</td>\n      <td>24.30526</td>\n      <td>[columbia pictures, gaumont]</td>\n      <td>[france]</td>\n      <td>1997-05-07</td>\n      <td>263920180.0</td>\n      <td>126.0</td>\n      <td>[english, svenska, deutsch]</td>\n      <td>There is no future without it.</td>\n      <td>The Fifth Element</td>\n      <td>7.3</td>\n      <td>3962.0</td>\n      <td>2.932446</td>\n      <td>[luc besson]</td>\n    </tr>\n    <tr>\n      <th>19</th>\n      <td>False</td>\n      <td>92620000.0</td>\n      <td>[drama, science fiction]</td>\n      <td>tt0017136</td>\n      <td>de</td>\n      <td>In a futuristic city sharply divided between t...</td>\n      <td>14.487867</td>\n      <td>[paramount pictures, universum film (ufa)]</td>\n      <td>[germany]</td>\n      <td>1927-01-10</td>\n      <td>650422.0</td>\n      <td>153.0</td>\n      <td>[no language]</td>\n      <td>There can be no understanding between the hand...</td>\n      <td>Metropolis</td>\n      <td>8.0</td>\n      <td>666.0</td>\n      <td>0.007022</td>\n      <td>[fritz lang]</td>\n    </tr>\n    <tr>\n      <th>22</th>\n      <td>False</td>\n      <td>140000000.0</td>\n      <td>[adventure, fantasy, action]</td>\n      <td>tt0325980</td>\n      <td>en</td>\n      <td>Jack Sparrow, a freewheeling 17th-century pira...</td>\n      <td>47.326665</td>\n      <td>[walt disney pictures, jerry bruckheimer films]</td>\n      <td>[united states of america]</td>\n      <td>2003-07-09</td>\n      <td>655011224.0</td>\n      <td>143.0</td>\n      <td>[english]</td>\n      <td>Prepare to be blown out of the water.</td>\n      <td>Pirates of the Caribbean: The Curse of the Bla...</td>\n      <td>7.5</td>\n      <td>7191.0</td>\n      <td>4.678652</td>\n      <td>[gore verbinski]</td>\n    </tr>\n    <tr>\n      <th>...</th>\n      <td>...</td>\n      <td>...</td>\n      <td>...</td>\n      <td>...</td>\n      <td>...</td>\n      <td>...</td>\n      <td>...</td>\n      <td>...</td>\n      <td>...</td>\n      <td>...</td>\n      <td>...</td>\n      <td>...</td>\n      <td>...</td>\n      <td>...</td>\n      <td>...</td>\n      <td>...</td>\n      <td>...</td>\n      <td>...</td>\n      <td>...</td>\n    </tr>\n    <tr>\n      <th>422603</th>\n      <td>False</td>\n      <td>450000.0</td>\n      <td>[adventure, comedy, romance]</td>\n      <td>tt5998104</td>\n      <td>ml</td>\n      <td>Aanandam is a 2016 Indian Malayalam campus mus...</td>\n      <td>0.354748</td>\n      <td>[cast n' crew, habit of life]</td>\n      <td>[india]</td>\n      <td>2016-10-21</td>\n      <td>2300000.0</td>\n      <td>134.0</td>\n      <td>[english, ]</td>\n      <td>NaN</td>\n      <td>Aanandam</td>\n      <td>6.4</td>\n      <td>7.0</td>\n      <td>5.111111</td>\n      <td>[ganesh raj]</td>\n    </tr>\n    <tr>\n      <th>425942</th>\n      <td>False</td>\n      <td>4000000.0</td>\n      <td>[mystery, drama, crime, thriller]</td>\n      <td>tt5614612</td>\n      <td>es</td>\n      <td>Accused of killing his brother during adolesce...</td>\n      <td>10.067238</td>\n      <td>[telefe, a contracorriente films, pampa films,...</td>\n      <td>[spain, argentina]</td>\n      <td>2017-01-19</td>\n      <td>1440000.0</td>\n      <td>90.0</td>\n      <td>[español]</td>\n      <td>Would you be able to keep a secret?</td>\n      <td>Black Snow</td>\n      <td>6.0</td>\n      <td>39.0</td>\n      <td>0.360000</td>\n      <td>[martín hodara]</td>\n    </tr>\n    <tr>\n      <th>433356</th>\n      <td>False</td>\n      <td>40000000.0</td>\n      <td>[romance, drama, war]</td>\n      <td>tt4943322</td>\n      <td>en</td>\n      <td>Lillie, a determined American woman, ventures ...</td>\n      <td>13.256679</td>\n      <td>[eastern sunrise films]</td>\n      <td>[turkey, united states of america]</td>\n      <td>2017-03-10</td>\n      <td>240978.0</td>\n      <td>111.0</td>\n      <td>[english]</td>\n      <td>The Ottoman Lieutenant is a love story between...</td>\n      <td>The Ottoman Lieutenant</td>\n      <td>6.5</td>\n      <td>38.0</td>\n      <td>0.006024</td>\n      <td>[joseph ruben]</td>\n    </tr>\n    <tr>\n      <th>440642</th>\n      <td>False</td>\n      <td>7075038.0</td>\n      <td>[adventure, drama, history]</td>\n      <td>tt6673840</td>\n      <td>ru</td>\n      <td>March 1965. In the heat of the Cold War, the U...</td>\n      <td>10.181</td>\n      <td>[bazelevs production]</td>\n      <td>[russia]</td>\n      <td>2017-04-12</td>\n      <td>9868942.0</td>\n      <td>140.0</td>\n      <td>[pусский]</td>\n      <td>So far from home, so close to disaster</td>\n      <td>The Spacewalker</td>\n      <td>7.4</td>\n      <td>20.0</td>\n      <td>1.394896</td>\n      <td>[dmitriy kiselev]</td>\n    </tr>\n    <tr>\n      <th>443319</th>\n      <td>False</td>\n      <td>2800000.0</td>\n      <td>[horror, mystery, science fiction]</td>\n      <td>tt6574272</td>\n      <td>en</td>\n      <td>20 years after three teenagers disappeared in ...</td>\n      <td>12.560942</td>\n      <td>[scott free productions, cinelou films]</td>\n      <td>[united states of america]</td>\n      <td>2017-04-21</td>\n      <td>3600000.0</td>\n      <td>80.0</td>\n      <td>[english]</td>\n      <td>Based on Shocking Untold True Events</td>\n      <td>Phoenix Forgotten</td>\n      <td>5.7</td>\n      <td>52.0</td>\n      <td>1.285714</td>\n      <td>[justin barber]</td>\n    </tr>\n  </tbody>\n</table>\n<p>4329 rows × 19 columns</p>\n</div>"
     },
     "execution_count": 209,
     "metadata": {},
     "output_type": "execute_result"
    }
   ],
   "source": [
    "m_d"
   ],
   "metadata": {
    "collapsed": false,
    "pycharm": {
     "name": "#%%\n"
    }
   }
  },
  {
   "cell_type": "code",
   "execution_count": 208,
   "outputs": [
    {
     "name": "stdout",
     "output_type": "stream",
     "text": [
      "<class 'pandas.core.frame.DataFrame'>\n",
      "Int64Index: 4329 entries, 5 to 443319\n",
      "Data columns (total 19 columns):\n",
      " #   Column                Non-Null Count  Dtype  \n",
      "---  ------                --------------  -----  \n",
      " 0   adult                 4329 non-null   object \n",
      " 1   budget                4329 non-null   float64\n",
      " 2   genres                4329 non-null   object \n",
      " 3   imdb_id               4329 non-null   object \n",
      " 4   original_language     4329 non-null   object \n",
      " 5   overview              4319 non-null   object \n",
      " 6   popularity            4329 non-null   object \n",
      " 7   production_companies  4329 non-null   object \n",
      " 8   production_countries  4329 non-null   object \n",
      " 9   release_date          4329 non-null   object \n",
      " 10  revenue               4329 non-null   float64\n",
      " 11  runtime               4318 non-null   float64\n",
      " 12  spoken_languages      4329 non-null   object \n",
      " 13  tagline               3697 non-null   object \n",
      " 14  title                 4329 non-null   object \n",
      " 15  vote_average          4324 non-null   float64\n",
      " 16  vote_count            4324 non-null   float64\n",
      " 17  revenue_percentage    4329 non-null   float64\n",
      " 18  directors             4329 non-null   object \n",
      "dtypes: float64(6), object(13)\n",
      "memory usage: 805.4+ KB\n"
     ]
    }
   ],
   "source": [
    "m_d.info()"
   ],
   "metadata": {
    "collapsed": false,
    "pycharm": {
     "name": "#%%\n"
    }
   }
  },
  {
   "cell_type": "code",
   "execution_count": 229,
   "outputs": [],
   "source": [
    "m_d['popularity']= m_d['popularity'].astype(float)"
   ],
   "metadata": {
    "collapsed": false,
    "pycharm": {
     "name": "#%%\n"
    }
   }
  },
  {
   "cell_type": "code",
   "execution_count": 224,
   "outputs": [],
   "source": [
    "m_d['year']= m_d['release_date'].map( lambda x: x.split('-')[0] )"
   ],
   "metadata": {
    "collapsed": false,
    "pycharm": {
     "name": "#%%\n"
    }
   }
  },
  {
   "cell_type": "code",
   "execution_count": 226,
   "outputs": [],
   "source": [
    "m_d.drop(['release_date'], axis=1, inplace=True)"
   ],
   "metadata": {
    "collapsed": false,
    "pycharm": {
     "name": "#%%\n"
    }
   }
  },
  {
   "cell_type": "code",
   "execution_count": 230,
   "outputs": [
    {
     "data": {
      "text/plain": "        adult       budget                                             genres  \\\nid                                                                              \n5       False    4000000.0                                    [crime, comedy]   \n16      False   12800000.0                              [drama, crime, music]   \n18      False   90000000.0  [adventure, fantasy, action, thriller, science...   \n19      False   92620000.0                           [drama, science fiction]   \n22      False  140000000.0                       [adventure, fantasy, action]   \n...       ...          ...                                                ...   \n422603  False     450000.0                       [adventure, comedy, romance]   \n425942  False    4000000.0                  [mystery, drama, crime, thriller]   \n433356  False   40000000.0                              [romance, drama, war]   \n440642  False    7075038.0                        [adventure, drama, history]   \n443319  False    2800000.0                 [horror, mystery, science fiction]   \n\n          imdb_id original_language  \\\nid                                    \n5       tt0113101                en   \n16      tt0168629                en   \n18      tt0119116                en   \n19      tt0017136                de   \n22      tt0325980                en   \n...           ...               ...   \n422603  tt5998104                ml   \n425942  tt5614612                es   \n433356  tt4943322                en   \n440642  tt6673840                ru   \n443319  tt6574272                en   \n\n                                                 overview  popularity  \\\nid                                                                      \n5       It's Ted the Bellhop's first night on the job....    9.026586   \n16      Selma, a Czech immigrant on the verge of blind...   10.684806   \n18      In 2257, a taxi driver is unintentionally give...   24.305260   \n19      In a futuristic city sharply divided between t...   14.487867   \n22      Jack Sparrow, a freewheeling 17th-century pira...   47.326665   \n...                                                   ...         ...   \n422603  Aanandam is a 2016 Indian Malayalam campus mus...    0.354748   \n425942  Accused of killing his brother during adolesce...   10.067238   \n433356  Lillie, a determined American woman, ventures ...   13.256679   \n440642  March 1965. In the heat of the Cold War, the U...   10.181000   \n443319  20 years after three teenagers disappeared in ...   12.560942   \n\n                                     production_companies  \\\nid                                                          \n5                           [miramax films, a band apart]   \n16      [fine line features, zentropa entertainments, ...   \n18                           [columbia pictures, gaumont]   \n19             [paramount pictures, universum film (ufa)]   \n22        [walt disney pictures, jerry bruckheimer films]   \n...                                                   ...   \n422603                      [cast n' crew, habit of life]   \n425942  [telefe, a contracorriente films, pampa films,...   \n433356                            [eastern sunrise films]   \n440642                              [bazelevs production]   \n443319            [scott free productions, cinelou films]   \n\n                                     production_countries      revenue  \\\nid                                                                       \n5                              [united states of america]    4300000.0   \n16      [argentina, denmark, finland, france, germany,...   40031879.0   \n18                                               [france]  263920180.0   \n19                                              [germany]     650422.0   \n22                             [united states of america]  655011224.0   \n...                                                   ...          ...   \n422603                                            [india]    2300000.0   \n425942                                 [spain, argentina]    1440000.0   \n433356                 [turkey, united states of america]     240978.0   \n440642                                           [russia]    9868942.0   \n443319                         [united states of america]    3600000.0   \n\n        runtime             spoken_languages  \\\nid                                             \n5          98.0                    [english]   \n16        140.0                    [english]   \n18        126.0  [english, svenska, deutsch]   \n19        153.0                [no language]   \n22        143.0                    [english]   \n...         ...                          ...   \n422603    134.0                  [english, ]   \n425942     90.0                    [español]   \n433356    111.0                    [english]   \n440642    140.0                    [pусский]   \n443319     80.0                    [english]   \n\n                                                  tagline  \\\nid                                                          \n5       Twelve outrageous guests. Four scandalous requ...   \n16                            You don't need eyes to see.   \n18                         There is no future without it.   \n19      There can be no understanding between the hand...   \n22                  Prepare to be blown out of the water.   \n...                                                   ...   \n422603                                                NaN   \n425942                Would you be able to keep a secret?   \n433356  The Ottoman Lieutenant is a love story between...   \n440642             So far from home, so close to disaster   \n443319               Based on Shocking Untold True Events   \n\n                                                    title  vote_average  \\\nid                                                                        \n5                                              Four Rooms           6.5   \n16                                     Dancer in the Dark           7.7   \n18                                      The Fifth Element           7.3   \n19                                             Metropolis           8.0   \n22      Pirates of the Caribbean: The Curse of the Bla...           7.5   \n...                                                   ...           ...   \n422603                                           Aanandam           6.4   \n425942                                         Black Snow           6.0   \n433356                             The Ottoman Lieutenant           6.5   \n440642                                    The Spacewalker           7.4   \n443319                                  Phoenix Forgotten           5.7   \n\n        vote_count  revenue_percentage  \\\nid                                       \n5            539.0            1.075000   \n16           392.0            3.127491   \n18          3962.0            2.932446   \n19           666.0            0.007022   \n22          7191.0            4.678652   \n...            ...                 ...   \n422603         7.0            5.111111   \n425942        39.0            0.360000   \n433356        38.0            0.006024   \n440642        20.0            1.394896   \n443319        52.0            1.285714   \n\n                                                directors  year  \nid                                                               \n5       [allison anders, alexandre rockwell, robert ro...  1995  \n16                                       [lars von trier]  2000  \n18                                           [luc besson]  1997  \n19                                           [fritz lang]  1927  \n22                                       [gore verbinski]  2003  \n...                                                   ...   ...  \n422603                                       [ganesh raj]  2016  \n425942                                    [martín hodara]  2017  \n433356                                     [joseph ruben]  2017  \n440642                                  [dmitriy kiselev]  2017  \n443319                                    [justin barber]  2017  \n\n[4329 rows x 19 columns]",
      "text/html": "<div>\n<style scoped>\n    .dataframe tbody tr th:only-of-type {\n        vertical-align: middle;\n    }\n\n    .dataframe tbody tr th {\n        vertical-align: top;\n    }\n\n    .dataframe thead th {\n        text-align: right;\n    }\n</style>\n<table border=\"1\" class=\"dataframe\">\n  <thead>\n    <tr style=\"text-align: right;\">\n      <th></th>\n      <th>adult</th>\n      <th>budget</th>\n      <th>genres</th>\n      <th>imdb_id</th>\n      <th>original_language</th>\n      <th>overview</th>\n      <th>popularity</th>\n      <th>production_companies</th>\n      <th>production_countries</th>\n      <th>revenue</th>\n      <th>runtime</th>\n      <th>spoken_languages</th>\n      <th>tagline</th>\n      <th>title</th>\n      <th>vote_average</th>\n      <th>vote_count</th>\n      <th>revenue_percentage</th>\n      <th>directors</th>\n      <th>year</th>\n    </tr>\n    <tr>\n      <th>id</th>\n      <th></th>\n      <th></th>\n      <th></th>\n      <th></th>\n      <th></th>\n      <th></th>\n      <th></th>\n      <th></th>\n      <th></th>\n      <th></th>\n      <th></th>\n      <th></th>\n      <th></th>\n      <th></th>\n      <th></th>\n      <th></th>\n      <th></th>\n      <th></th>\n      <th></th>\n    </tr>\n  </thead>\n  <tbody>\n    <tr>\n      <th>5</th>\n      <td>False</td>\n      <td>4000000.0</td>\n      <td>[crime, comedy]</td>\n      <td>tt0113101</td>\n      <td>en</td>\n      <td>It's Ted the Bellhop's first night on the job....</td>\n      <td>9.026586</td>\n      <td>[miramax films, a band apart]</td>\n      <td>[united states of america]</td>\n      <td>4300000.0</td>\n      <td>98.0</td>\n      <td>[english]</td>\n      <td>Twelve outrageous guests. Four scandalous requ...</td>\n      <td>Four Rooms</td>\n      <td>6.5</td>\n      <td>539.0</td>\n      <td>1.075000</td>\n      <td>[allison anders, alexandre rockwell, robert ro...</td>\n      <td>1995</td>\n    </tr>\n    <tr>\n      <th>16</th>\n      <td>False</td>\n      <td>12800000.0</td>\n      <td>[drama, crime, music]</td>\n      <td>tt0168629</td>\n      <td>en</td>\n      <td>Selma, a Czech immigrant on the verge of blind...</td>\n      <td>10.684806</td>\n      <td>[fine line features, zentropa entertainments, ...</td>\n      <td>[argentina, denmark, finland, france, germany,...</td>\n      <td>40031879.0</td>\n      <td>140.0</td>\n      <td>[english]</td>\n      <td>You don't need eyes to see.</td>\n      <td>Dancer in the Dark</td>\n      <td>7.7</td>\n      <td>392.0</td>\n      <td>3.127491</td>\n      <td>[lars von trier]</td>\n      <td>2000</td>\n    </tr>\n    <tr>\n      <th>18</th>\n      <td>False</td>\n      <td>90000000.0</td>\n      <td>[adventure, fantasy, action, thriller, science...</td>\n      <td>tt0119116</td>\n      <td>en</td>\n      <td>In 2257, a taxi driver is unintentionally give...</td>\n      <td>24.305260</td>\n      <td>[columbia pictures, gaumont]</td>\n      <td>[france]</td>\n      <td>263920180.0</td>\n      <td>126.0</td>\n      <td>[english, svenska, deutsch]</td>\n      <td>There is no future without it.</td>\n      <td>The Fifth Element</td>\n      <td>7.3</td>\n      <td>3962.0</td>\n      <td>2.932446</td>\n      <td>[luc besson]</td>\n      <td>1997</td>\n    </tr>\n    <tr>\n      <th>19</th>\n      <td>False</td>\n      <td>92620000.0</td>\n      <td>[drama, science fiction]</td>\n      <td>tt0017136</td>\n      <td>de</td>\n      <td>In a futuristic city sharply divided between t...</td>\n      <td>14.487867</td>\n      <td>[paramount pictures, universum film (ufa)]</td>\n      <td>[germany]</td>\n      <td>650422.0</td>\n      <td>153.0</td>\n      <td>[no language]</td>\n      <td>There can be no understanding between the hand...</td>\n      <td>Metropolis</td>\n      <td>8.0</td>\n      <td>666.0</td>\n      <td>0.007022</td>\n      <td>[fritz lang]</td>\n      <td>1927</td>\n    </tr>\n    <tr>\n      <th>22</th>\n      <td>False</td>\n      <td>140000000.0</td>\n      <td>[adventure, fantasy, action]</td>\n      <td>tt0325980</td>\n      <td>en</td>\n      <td>Jack Sparrow, a freewheeling 17th-century pira...</td>\n      <td>47.326665</td>\n      <td>[walt disney pictures, jerry bruckheimer films]</td>\n      <td>[united states of america]</td>\n      <td>655011224.0</td>\n      <td>143.0</td>\n      <td>[english]</td>\n      <td>Prepare to be blown out of the water.</td>\n      <td>Pirates of the Caribbean: The Curse of the Bla...</td>\n      <td>7.5</td>\n      <td>7191.0</td>\n      <td>4.678652</td>\n      <td>[gore verbinski]</td>\n      <td>2003</td>\n    </tr>\n    <tr>\n      <th>...</th>\n      <td>...</td>\n      <td>...</td>\n      <td>...</td>\n      <td>...</td>\n      <td>...</td>\n      <td>...</td>\n      <td>...</td>\n      <td>...</td>\n      <td>...</td>\n      <td>...</td>\n      <td>...</td>\n      <td>...</td>\n      <td>...</td>\n      <td>...</td>\n      <td>...</td>\n      <td>...</td>\n      <td>...</td>\n      <td>...</td>\n      <td>...</td>\n    </tr>\n    <tr>\n      <th>422603</th>\n      <td>False</td>\n      <td>450000.0</td>\n      <td>[adventure, comedy, romance]</td>\n      <td>tt5998104</td>\n      <td>ml</td>\n      <td>Aanandam is a 2016 Indian Malayalam campus mus...</td>\n      <td>0.354748</td>\n      <td>[cast n' crew, habit of life]</td>\n      <td>[india]</td>\n      <td>2300000.0</td>\n      <td>134.0</td>\n      <td>[english, ]</td>\n      <td>NaN</td>\n      <td>Aanandam</td>\n      <td>6.4</td>\n      <td>7.0</td>\n      <td>5.111111</td>\n      <td>[ganesh raj]</td>\n      <td>2016</td>\n    </tr>\n    <tr>\n      <th>425942</th>\n      <td>False</td>\n      <td>4000000.0</td>\n      <td>[mystery, drama, crime, thriller]</td>\n      <td>tt5614612</td>\n      <td>es</td>\n      <td>Accused of killing his brother during adolesce...</td>\n      <td>10.067238</td>\n      <td>[telefe, a contracorriente films, pampa films,...</td>\n      <td>[spain, argentina]</td>\n      <td>1440000.0</td>\n      <td>90.0</td>\n      <td>[español]</td>\n      <td>Would you be able to keep a secret?</td>\n      <td>Black Snow</td>\n      <td>6.0</td>\n      <td>39.0</td>\n      <td>0.360000</td>\n      <td>[martín hodara]</td>\n      <td>2017</td>\n    </tr>\n    <tr>\n      <th>433356</th>\n      <td>False</td>\n      <td>40000000.0</td>\n      <td>[romance, drama, war]</td>\n      <td>tt4943322</td>\n      <td>en</td>\n      <td>Lillie, a determined American woman, ventures ...</td>\n      <td>13.256679</td>\n      <td>[eastern sunrise films]</td>\n      <td>[turkey, united states of america]</td>\n      <td>240978.0</td>\n      <td>111.0</td>\n      <td>[english]</td>\n      <td>The Ottoman Lieutenant is a love story between...</td>\n      <td>The Ottoman Lieutenant</td>\n      <td>6.5</td>\n      <td>38.0</td>\n      <td>0.006024</td>\n      <td>[joseph ruben]</td>\n      <td>2017</td>\n    </tr>\n    <tr>\n      <th>440642</th>\n      <td>False</td>\n      <td>7075038.0</td>\n      <td>[adventure, drama, history]</td>\n      <td>tt6673840</td>\n      <td>ru</td>\n      <td>March 1965. In the heat of the Cold War, the U...</td>\n      <td>10.181000</td>\n      <td>[bazelevs production]</td>\n      <td>[russia]</td>\n      <td>9868942.0</td>\n      <td>140.0</td>\n      <td>[pусский]</td>\n      <td>So far from home, so close to disaster</td>\n      <td>The Spacewalker</td>\n      <td>7.4</td>\n      <td>20.0</td>\n      <td>1.394896</td>\n      <td>[dmitriy kiselev]</td>\n      <td>2017</td>\n    </tr>\n    <tr>\n      <th>443319</th>\n      <td>False</td>\n      <td>2800000.0</td>\n      <td>[horror, mystery, science fiction]</td>\n      <td>tt6574272</td>\n      <td>en</td>\n      <td>20 years after three teenagers disappeared in ...</td>\n      <td>12.560942</td>\n      <td>[scott free productions, cinelou films]</td>\n      <td>[united states of america]</td>\n      <td>3600000.0</td>\n      <td>80.0</td>\n      <td>[english]</td>\n      <td>Based on Shocking Untold True Events</td>\n      <td>Phoenix Forgotten</td>\n      <td>5.7</td>\n      <td>52.0</td>\n      <td>1.285714</td>\n      <td>[justin barber]</td>\n      <td>2017</td>\n    </tr>\n  </tbody>\n</table>\n<p>4329 rows × 19 columns</p>\n</div>"
     },
     "execution_count": 230,
     "metadata": {},
     "output_type": "execute_result"
    }
   ],
   "source": [
    "m_d"
   ],
   "metadata": {
    "collapsed": false,
    "pycharm": {
     "name": "#%%\n"
    }
   }
  },
  {
   "cell_type": "code",
   "execution_count": 232,
   "outputs": [],
   "source": [
    "m_d.to_csv('new set of data/kaggle data/movies_data_v1.csv')"
   ],
   "metadata": {
    "collapsed": false,
    "pycharm": {
     "name": "#%%\n"
    }
   }
  },
  {
   "cell_type": "code",
   "execution_count": null,
   "outputs": [],
   "source": [],
   "metadata": {
    "collapsed": false,
    "pycharm": {
     "name": "#%%\n"
    }
   }
  }
 ],
 "metadata": {
  "kernelspec": {
   "display_name": "Python 3",
   "language": "python",
   "name": "python3"
  },
  "language_info": {
   "codemirror_mode": {
    "name": "ipython",
    "version": 2
   },
   "file_extension": ".py",
   "mimetype": "text/x-python",
   "name": "python",
   "nbconvert_exporter": "python",
   "pygments_lexer": "ipython2",
   "version": "2.7.6"
  }
 },
 "nbformat": 4,
 "nbformat_minor": 0
}