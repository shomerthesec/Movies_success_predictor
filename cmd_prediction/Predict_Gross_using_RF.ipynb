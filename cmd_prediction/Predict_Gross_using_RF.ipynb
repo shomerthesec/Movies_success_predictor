{
 "cells": [
  {
   "cell_type": "code",
   "execution_count": 1,
   "id": "06181b03-e889-4c00-915b-b11bacb0353b",
   "metadata": {},
   "outputs": [],
   "source": [
    "import pandas as pd\n",
    "import numpy as np\n",
    "from sklearn.model_selection import train_test_split\n",
    "from sklearn.ensemble import RandomForestRegressor\n",
    "from sklearn.decomposition import PCA\n",
    "from sklearn.preprocessing import PowerTransformer, MinMaxScaler\n"
   ]
  },
  {
   "cell_type": "code",
   "execution_count": 2,
   "id": "48b8589c-44e2-4402-9e22-b9be8f1cc127",
   "metadata": {},
   "outputs": [],
   "source": [
    "def full_genres(given):\n",
    "    genres = np.array(['action', 'adventure', 'aniimation', 'biography', 'comedy',\n",
    "                       'crime', 'drama', 'family', 'fantasy', 'history', 'horror',\n",
    "                       'music', 'musical', 'mystery', 'romance', 'sci-fi', 'sport',\n",
    "                       'thriller', 'war', 'western'])\n",
    "    genre_ip = np.zeros_like(genres, dtype=int)\n",
    "\n",
    "    idx = [np.where(genres == g.lower())[0].tolist()[0]\n",
    "           for g in given]  # returns the idx for the given genres\n",
    "\n",
    "    genre_ip[idx] = 1\n",
    "\n",
    "    return genre_ip"
   ]
  },
  {
   "cell_type": "code",
   "execution_count": 3,
   "id": "7ce958b9-579c-47b1-b7b8-12508edb8646",
   "metadata": {},
   "outputs": [],
   "source": [
    "def predict_gross(data):\n",
    "\n",
    "    df = pd.read_csv('provided_data_with_budget.csv',\n",
    "                     index_col=0)\n",
    "    df.drop(index=df.query('DomesticGross==0').index,\n",
    "            inplace=True)\n",
    "    df.drop('Success', axis=1, inplace=True)\n",
    "    df, _ = train_test_split(df, test_size=0.2, random_state=0)\n",
    "\n",
    "    boxcox_production = PowerTransformer(method='box-cox')\n",
    "    boxcox_gross = PowerTransformer(method='box-cox')\n",
    "    minmax = MinMaxScaler()\n",
    "    pca = PCA(n_components=3)\n",
    "\n",
    "    boxcox_production.fit(df.loc[:, 'ProductionBudget'].values.reshape(-1, 1))\n",
    "    boxcox_gross.fit(df.loc[:, 'DomesticGross'].values.reshape(-1, 1))\n",
    "    minmax.fit(df.loc[:, 'Runtime (Minutes)'].values.reshape(-1, 1))\n",
    "    pca.fit(df.iloc[:, 5:25])\n",
    "\n",
    "    model = RandomForestRegressor(10)\n",
    "\n",
    "    df = pd.read_csv(\n",
    "        'S:/Movie_success_predictor/data/train_budget_numerical.csv', index_col=0)\n",
    "    model.fit(X=df.drop('DomesticGross', axis=1),  y=df.DomesticGross)\n",
    "\n",
    "    data['runtime'] = minmax.transform(\n",
    "        np.array(data['runtime']).reshape(1, -1))[0]\n",
    "    data['production'] = boxcox_production.transform(\n",
    "        np.array(data['production']).reshape(1, -1))[0]\n",
    "    data['c1'], data['c2'], data['c3'] = zip(\n",
    "        *pca.transform(full_genres(data['genre']).reshape(1, -1).tolist()))\n",
    "\n",
    "    #zip( *pca.transform( np.array( data['genre']).reshape(1, -1) ))\n",
    "\n",
    "    del data['genre']\n",
    "\n",
    "    return boxcox_gross.inverse_transform(model.predict(pd.DataFrame(data)).reshape(1, -1)).tolist()[0][0]"
   ]
  },
  {
   "cell_type": "code",
   "execution_count": null,
   "id": "7a70520c-9e12-451f-a336-55da65afa61d",
   "metadata": {},
   "outputs": [],
   "source": [
    "data = {}\n",
    "data['runtime'] = input('Enter runtime\\n')\n",
    "data['production'] = input('Enter production price\\n')\n",
    "print('\\nEnter genres carefully from here: \\naction, adventure, aniimation, biography,\\ncomedy, crime, drama, family, \\nfantasy, history, horror, musis, \\nmusical, mystery, romance, sci-fi, \\nsport,thriller, war, western\\n')\n",
    "data['genre'] = [input('Enter genre\\n') for i in range(3)]\n",
    "\n",
    "print(f'\\nPredicted gross= {np.floor(predict_gross(data))} $')"
   ]
  },
  {
   "cell_type": "code",
   "execution_count": null,
   "id": "f71785a8-5ccb-4178-9ed5-31f8e12241cb",
   "metadata": {},
   "outputs": [],
   "source": []
  }
 ],
 "metadata": {
  "kernelspec": {
   "display_name": "Python 3 (ipykernel)",
   "language": "python",
   "name": "python3"
  },
  "language_info": {
   "codemirror_mode": {
    "name": "ipython",
    "version": 3
   },
   "file_extension": ".py",
   "mimetype": "text/x-python",
   "name": "python",
   "nbconvert_exporter": "python",
   "pygments_lexer": "ipython3",
   "version": "3.8.8"
  }
 },
 "nbformat": 4,
 "nbformat_minor": 5
}
