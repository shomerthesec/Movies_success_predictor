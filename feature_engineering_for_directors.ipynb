{
 "cells": [
  {
   "cell_type": "code",
   "execution_count": 26,
   "metadata": {
    "collapsed": true
   },
   "outputs": [],
   "source": [
    "import numpy as np\n",
    "import pandas as pd"
   ]
  },
  {
   "cell_type": "code",
   "execution_count": 2,
   "outputs": [],
   "source": [
    "df= pd.read_csv('kaggle_data/movies_data_v1.csv')"
   ],
   "metadata": {
    "collapsed": false,
    "pycharm": {
     "name": "#%%\n"
    }
   }
  },
  {
   "cell_type": "code",
   "execution_count": 3,
   "outputs": [
    {
     "data": {
      "text/plain": "          id  adult       budget  \\\n0          5  False    4000000.0   \n1         16  False   12800000.0   \n2         18  False   90000000.0   \n3         19  False   92620000.0   \n4         22  False  140000000.0   \n...      ...    ...          ...   \n4324  422603  False     450000.0   \n4325  425942  False    4000000.0   \n4326  433356  False   40000000.0   \n4327  440642  False    7075038.0   \n4328  443319  False    2800000.0   \n\n                                                 genres    imdb_id  \\\n0                                   ['crime', 'comedy']  tt0113101   \n1                           ['drama', 'crime', 'music']  tt0168629   \n2     ['adventure', 'fantasy', 'action', 'thriller',...  tt0119116   \n3                          ['drama', 'science fiction']  tt0017136   \n4                    ['adventure', 'fantasy', 'action']  tt0325980   \n...                                                 ...        ...   \n4324                 ['adventure', 'comedy', 'romance']  tt5998104   \n4325          ['mystery', 'drama', 'crime', 'thriller']  tt5614612   \n4326                        ['romance', 'drama', 'war']  tt4943322   \n4327                  ['adventure', 'drama', 'history']  tt6673840   \n4328           ['horror', 'mystery', 'science fiction']  tt6574272   \n\n     original_language                                           overview  \\\n0                   en  It's Ted the Bellhop's first night on the job....   \n1                   en  Selma, a Czech immigrant on the verge of blind...   \n2                   en  In 2257, a taxi driver is unintentionally give...   \n3                   de  In a futuristic city sharply divided between t...   \n4                   en  Jack Sparrow, a freewheeling 17th-century pira...   \n...                ...                                                ...   \n4324                ml  Aanandam is a 2016 Indian Malayalam campus mus...   \n4325                es  Accused of killing his brother during adolesce...   \n4326                en  Lillie, a determined American woman, ventures ...   \n4327                ru  March 1965. In the heat of the Cold War, the U...   \n4328                en  20 years after three teenagers disappeared in ...   \n\n      popularity                               production_companies  \\\n0       9.026586                  ['miramax films', 'a band apart']   \n1      10.684806  ['fine line features', 'zentropa entertainment...   \n2      24.305260                   ['columbia pictures', 'gaumont']   \n3      14.487867     ['paramount pictures', 'universum film (ufa)']   \n4      47.326665  ['walt disney pictures', 'jerry bruckheimer fi...   \n...          ...                                                ...   \n4324    0.354748                  [\"cast n' crew\", 'habit of life']   \n4325   10.067238  ['telefe', 'a contracorriente films', 'pampa f...   \n4326   13.256679                          ['eastern sunrise films']   \n4327   10.181000                            ['bazelevs production']   \n4328   12.560942        ['scott free productions', 'cinelou films']   \n\n                                   production_countries      revenue  runtime  \\\n0                          ['united states of america']    4300000.0     98.0   \n1     ['argentina', 'denmark', 'finland', 'france', ...   40031879.0    140.0   \n2                                            ['france']  263920180.0    126.0   \n3                                           ['germany']     650422.0    153.0   \n4                          ['united states of america']  655011224.0    143.0   \n...                                                 ...          ...      ...   \n4324                                          ['india']    2300000.0    134.0   \n4325                             ['spain', 'argentina']    1440000.0     90.0   \n4326             ['turkey', 'united states of america']     240978.0    111.0   \n4327                                         ['russia']    9868942.0    140.0   \n4328                       ['united states of america']    3600000.0     80.0   \n\n                       spoken_languages  \\\n0                           ['english']   \n1                           ['english']   \n2     ['english', 'svenska', 'deutsch']   \n3                       ['no language']   \n4                           ['english']   \n...                                 ...   \n4324                    ['english', '']   \n4325                        ['español']   \n4326                        ['english']   \n4327                        ['pусский']   \n4328                        ['english']   \n\n                                                tagline  \\\n0     Twelve outrageous guests. Four scandalous requ...   \n1                           You don't need eyes to see.   \n2                        There is no future without it.   \n3     There can be no understanding between the hand...   \n4                 Prepare to be blown out of the water.   \n...                                                 ...   \n4324                                                NaN   \n4325                Would you be able to keep a secret?   \n4326  The Ottoman Lieutenant is a love story between...   \n4327             So far from home, so close to disaster   \n4328               Based on Shocking Untold True Events   \n\n                                                  title  vote_average  \\\n0                                            Four Rooms           6.5   \n1                                    Dancer in the Dark           7.7   \n2                                     The Fifth Element           7.3   \n3                                            Metropolis           8.0   \n4     Pirates of the Caribbean: The Curse of the Bla...           7.5   \n...                                                 ...           ...   \n4324                                           Aanandam           6.4   \n4325                                         Black Snow           6.0   \n4326                             The Ottoman Lieutenant           6.5   \n4327                                    The Spacewalker           7.4   \n4328                                  Phoenix Forgotten           5.7   \n\n      vote_count  revenue_percentage  \\\n0          539.0            1.075000   \n1          392.0            3.127491   \n2         3962.0            2.932446   \n3          666.0            0.007022   \n4         7191.0            4.678652   \n...          ...                 ...   \n4324         7.0            5.111111   \n4325        39.0            0.360000   \n4326        38.0            0.006024   \n4327        20.0            1.394896   \n4328        52.0            1.285714   \n\n                                              directors  year  \n0     ['allison anders', 'alexandre rockwell', 'robe...  1995  \n1                                    ['lars von trier']  2000  \n2                                        ['luc besson']  1997  \n3                                        ['fritz lang']  1927  \n4                                    ['gore verbinski']  2003  \n...                                                 ...   ...  \n4324                                     ['ganesh raj']  2016  \n4325                                  ['martín hodara']  2017  \n4326                                   ['joseph ruben']  2017  \n4327                                ['dmitriy kiselev']  2017  \n4328                                  ['justin barber']  2017  \n\n[4329 rows x 20 columns]",
      "text/html": "<div>\n<style scoped>\n    .dataframe tbody tr th:only-of-type {\n        vertical-align: middle;\n    }\n\n    .dataframe tbody tr th {\n        vertical-align: top;\n    }\n\n    .dataframe thead th {\n        text-align: right;\n    }\n</style>\n<table border=\"1\" class=\"dataframe\">\n  <thead>\n    <tr style=\"text-align: right;\">\n      <th></th>\n      <th>id</th>\n      <th>adult</th>\n      <th>budget</th>\n      <th>genres</th>\n      <th>imdb_id</th>\n      <th>original_language</th>\n      <th>overview</th>\n      <th>popularity</th>\n      <th>production_companies</th>\n      <th>production_countries</th>\n      <th>revenue</th>\n      <th>runtime</th>\n      <th>spoken_languages</th>\n      <th>tagline</th>\n      <th>title</th>\n      <th>vote_average</th>\n      <th>vote_count</th>\n      <th>revenue_percentage</th>\n      <th>directors</th>\n      <th>year</th>\n    </tr>\n  </thead>\n  <tbody>\n    <tr>\n      <th>0</th>\n      <td>5</td>\n      <td>False</td>\n      <td>4000000.0</td>\n      <td>['crime', 'comedy']</td>\n      <td>tt0113101</td>\n      <td>en</td>\n      <td>It's Ted the Bellhop's first night on the job....</td>\n      <td>9.026586</td>\n      <td>['miramax films', 'a band apart']</td>\n      <td>['united states of america']</td>\n      <td>4300000.0</td>\n      <td>98.0</td>\n      <td>['english']</td>\n      <td>Twelve outrageous guests. Four scandalous requ...</td>\n      <td>Four Rooms</td>\n      <td>6.5</td>\n      <td>539.0</td>\n      <td>1.075000</td>\n      <td>['allison anders', 'alexandre rockwell', 'robe...</td>\n      <td>1995</td>\n    </tr>\n    <tr>\n      <th>1</th>\n      <td>16</td>\n      <td>False</td>\n      <td>12800000.0</td>\n      <td>['drama', 'crime', 'music']</td>\n      <td>tt0168629</td>\n      <td>en</td>\n      <td>Selma, a Czech immigrant on the verge of blind...</td>\n      <td>10.684806</td>\n      <td>['fine line features', 'zentropa entertainment...</td>\n      <td>['argentina', 'denmark', 'finland', 'france', ...</td>\n      <td>40031879.0</td>\n      <td>140.0</td>\n      <td>['english']</td>\n      <td>You don't need eyes to see.</td>\n      <td>Dancer in the Dark</td>\n      <td>7.7</td>\n      <td>392.0</td>\n      <td>3.127491</td>\n      <td>['lars von trier']</td>\n      <td>2000</td>\n    </tr>\n    <tr>\n      <th>2</th>\n      <td>18</td>\n      <td>False</td>\n      <td>90000000.0</td>\n      <td>['adventure', 'fantasy', 'action', 'thriller',...</td>\n      <td>tt0119116</td>\n      <td>en</td>\n      <td>In 2257, a taxi driver is unintentionally give...</td>\n      <td>24.305260</td>\n      <td>['columbia pictures', 'gaumont']</td>\n      <td>['france']</td>\n      <td>263920180.0</td>\n      <td>126.0</td>\n      <td>['english', 'svenska', 'deutsch']</td>\n      <td>There is no future without it.</td>\n      <td>The Fifth Element</td>\n      <td>7.3</td>\n      <td>3962.0</td>\n      <td>2.932446</td>\n      <td>['luc besson']</td>\n      <td>1997</td>\n    </tr>\n    <tr>\n      <th>3</th>\n      <td>19</td>\n      <td>False</td>\n      <td>92620000.0</td>\n      <td>['drama', 'science fiction']</td>\n      <td>tt0017136</td>\n      <td>de</td>\n      <td>In a futuristic city sharply divided between t...</td>\n      <td>14.487867</td>\n      <td>['paramount pictures', 'universum film (ufa)']</td>\n      <td>['germany']</td>\n      <td>650422.0</td>\n      <td>153.0</td>\n      <td>['no language']</td>\n      <td>There can be no understanding between the hand...</td>\n      <td>Metropolis</td>\n      <td>8.0</td>\n      <td>666.0</td>\n      <td>0.007022</td>\n      <td>['fritz lang']</td>\n      <td>1927</td>\n    </tr>\n    <tr>\n      <th>4</th>\n      <td>22</td>\n      <td>False</td>\n      <td>140000000.0</td>\n      <td>['adventure', 'fantasy', 'action']</td>\n      <td>tt0325980</td>\n      <td>en</td>\n      <td>Jack Sparrow, a freewheeling 17th-century pira...</td>\n      <td>47.326665</td>\n      <td>['walt disney pictures', 'jerry bruckheimer fi...</td>\n      <td>['united states of america']</td>\n      <td>655011224.0</td>\n      <td>143.0</td>\n      <td>['english']</td>\n      <td>Prepare to be blown out of the water.</td>\n      <td>Pirates of the Caribbean: The Curse of the Bla...</td>\n      <td>7.5</td>\n      <td>7191.0</td>\n      <td>4.678652</td>\n      <td>['gore verbinski']</td>\n      <td>2003</td>\n    </tr>\n    <tr>\n      <th>...</th>\n      <td>...</td>\n      <td>...</td>\n      <td>...</td>\n      <td>...</td>\n      <td>...</td>\n      <td>...</td>\n      <td>...</td>\n      <td>...</td>\n      <td>...</td>\n      <td>...</td>\n      <td>...</td>\n      <td>...</td>\n      <td>...</td>\n      <td>...</td>\n      <td>...</td>\n      <td>...</td>\n      <td>...</td>\n      <td>...</td>\n      <td>...</td>\n      <td>...</td>\n    </tr>\n    <tr>\n      <th>4324</th>\n      <td>422603</td>\n      <td>False</td>\n      <td>450000.0</td>\n      <td>['adventure', 'comedy', 'romance']</td>\n      <td>tt5998104</td>\n      <td>ml</td>\n      <td>Aanandam is a 2016 Indian Malayalam campus mus...</td>\n      <td>0.354748</td>\n      <td>[\"cast n' crew\", 'habit of life']</td>\n      <td>['india']</td>\n      <td>2300000.0</td>\n      <td>134.0</td>\n      <td>['english', '']</td>\n      <td>NaN</td>\n      <td>Aanandam</td>\n      <td>6.4</td>\n      <td>7.0</td>\n      <td>5.111111</td>\n      <td>['ganesh raj']</td>\n      <td>2016</td>\n    </tr>\n    <tr>\n      <th>4325</th>\n      <td>425942</td>\n      <td>False</td>\n      <td>4000000.0</td>\n      <td>['mystery', 'drama', 'crime', 'thriller']</td>\n      <td>tt5614612</td>\n      <td>es</td>\n      <td>Accused of killing his brother during adolesce...</td>\n      <td>10.067238</td>\n      <td>['telefe', 'a contracorriente films', 'pampa f...</td>\n      <td>['spain', 'argentina']</td>\n      <td>1440000.0</td>\n      <td>90.0</td>\n      <td>['español']</td>\n      <td>Would you be able to keep a secret?</td>\n      <td>Black Snow</td>\n      <td>6.0</td>\n      <td>39.0</td>\n      <td>0.360000</td>\n      <td>['martín hodara']</td>\n      <td>2017</td>\n    </tr>\n    <tr>\n      <th>4326</th>\n      <td>433356</td>\n      <td>False</td>\n      <td>40000000.0</td>\n      <td>['romance', 'drama', 'war']</td>\n      <td>tt4943322</td>\n      <td>en</td>\n      <td>Lillie, a determined American woman, ventures ...</td>\n      <td>13.256679</td>\n      <td>['eastern sunrise films']</td>\n      <td>['turkey', 'united states of america']</td>\n      <td>240978.0</td>\n      <td>111.0</td>\n      <td>['english']</td>\n      <td>The Ottoman Lieutenant is a love story between...</td>\n      <td>The Ottoman Lieutenant</td>\n      <td>6.5</td>\n      <td>38.0</td>\n      <td>0.006024</td>\n      <td>['joseph ruben']</td>\n      <td>2017</td>\n    </tr>\n    <tr>\n      <th>4327</th>\n      <td>440642</td>\n      <td>False</td>\n      <td>7075038.0</td>\n      <td>['adventure', 'drama', 'history']</td>\n      <td>tt6673840</td>\n      <td>ru</td>\n      <td>March 1965. In the heat of the Cold War, the U...</td>\n      <td>10.181000</td>\n      <td>['bazelevs production']</td>\n      <td>['russia']</td>\n      <td>9868942.0</td>\n      <td>140.0</td>\n      <td>['pусский']</td>\n      <td>So far from home, so close to disaster</td>\n      <td>The Spacewalker</td>\n      <td>7.4</td>\n      <td>20.0</td>\n      <td>1.394896</td>\n      <td>['dmitriy kiselev']</td>\n      <td>2017</td>\n    </tr>\n    <tr>\n      <th>4328</th>\n      <td>443319</td>\n      <td>False</td>\n      <td>2800000.0</td>\n      <td>['horror', 'mystery', 'science fiction']</td>\n      <td>tt6574272</td>\n      <td>en</td>\n      <td>20 years after three teenagers disappeared in ...</td>\n      <td>12.560942</td>\n      <td>['scott free productions', 'cinelou films']</td>\n      <td>['united states of america']</td>\n      <td>3600000.0</td>\n      <td>80.0</td>\n      <td>['english']</td>\n      <td>Based on Shocking Untold True Events</td>\n      <td>Phoenix Forgotten</td>\n      <td>5.7</td>\n      <td>52.0</td>\n      <td>1.285714</td>\n      <td>['justin barber']</td>\n      <td>2017</td>\n    </tr>\n  </tbody>\n</table>\n<p>4329 rows × 20 columns</p>\n</div>"
     },
     "execution_count": 3,
     "metadata": {},
     "output_type": "execute_result"
    }
   ],
   "source": [
    "df"
   ],
   "metadata": {
    "collapsed": false,
    "pycharm": {
     "name": "#%%\n"
    }
   }
  },
  {
   "cell_type": "code",
   "execution_count": 4,
   "outputs": [
    {
     "data": {
      "text/plain": "array([\"['allison anders', 'alexandre rockwell', 'robert rodriguez', 'quentin tarantino']\",\n       \"['lars von trier']\", \"['luc besson']\", ..., \"['martín hodara']\",\n       \"['dmitriy kiselev']\", \"['justin barber']\"], dtype=object)"
     },
     "execution_count": 4,
     "metadata": {},
     "output_type": "execute_result"
    }
   ],
   "source": [
    "df['directors'].unique()"
   ],
   "metadata": {
    "collapsed": false,
    "pycharm": {
     "name": "#%%\n"
    }
   }
  },
  {
   "cell_type": "markdown",
   "source": [],
   "metadata": {
    "collapsed": false
   }
  },
  {
   "cell_type": "code",
   "execution_count": 15,
   "outputs": [],
   "source": [
    "dir_perc= dict( df['directors'].value_counts(normalize=True) )"
   ],
   "metadata": {
    "collapsed": false,
    "pycharm": {
     "name": "#%%\n"
    }
   }
  },
  {
   "cell_type": "code",
   "execution_count": 16,
   "outputs": [],
   "source": [
    "df['dir_perc'] = df['directors'].map(dir_perc)"
   ],
   "metadata": {
    "collapsed": false,
    "pycharm": {
     "name": "#%%\n"
    }
   }
  },
  {
   "cell_type": "code",
   "execution_count": 17,
   "outputs": [
    {
     "data": {
      "text/plain": "          id  adult       budget  \\\n0          5  False    4000000.0   \n1         16  False   12800000.0   \n2         18  False   90000000.0   \n3         19  False   92620000.0   \n4         22  False  140000000.0   \n...      ...    ...          ...   \n4324  422603  False     450000.0   \n4325  425942  False    4000000.0   \n4326  433356  False   40000000.0   \n4327  440642  False    7075038.0   \n4328  443319  False    2800000.0   \n\n                                                 genres    imdb_id  \\\n0                                   ['crime', 'comedy']  tt0113101   \n1                           ['drama', 'crime', 'music']  tt0168629   \n2     ['adventure', 'fantasy', 'action', 'thriller',...  tt0119116   \n3                          ['drama', 'science fiction']  tt0017136   \n4                    ['adventure', 'fantasy', 'action']  tt0325980   \n...                                                 ...        ...   \n4324                 ['adventure', 'comedy', 'romance']  tt5998104   \n4325          ['mystery', 'drama', 'crime', 'thriller']  tt5614612   \n4326                        ['romance', 'drama', 'war']  tt4943322   \n4327                  ['adventure', 'drama', 'history']  tt6673840   \n4328           ['horror', 'mystery', 'science fiction']  tt6574272   \n\n     original_language                                           overview  \\\n0                   en  It's Ted the Bellhop's first night on the job....   \n1                   en  Selma, a Czech immigrant on the verge of blind...   \n2                   en  In 2257, a taxi driver is unintentionally give...   \n3                   de  In a futuristic city sharply divided between t...   \n4                   en  Jack Sparrow, a freewheeling 17th-century pira...   \n...                ...                                                ...   \n4324                ml  Aanandam is a 2016 Indian Malayalam campus mus...   \n4325                es  Accused of killing his brother during adolesce...   \n4326                en  Lillie, a determined American woman, ventures ...   \n4327                ru  March 1965. In the heat of the Cold War, the U...   \n4328                en  20 years after three teenagers disappeared in ...   \n\n      popularity                               production_companies  \\\n0       9.026586                  ['miramax films', 'a band apart']   \n1      10.684806  ['fine line features', 'zentropa entertainment...   \n2      24.305260                   ['columbia pictures', 'gaumont']   \n3      14.487867     ['paramount pictures', 'universum film (ufa)']   \n4      47.326665  ['walt disney pictures', 'jerry bruckheimer fi...   \n...          ...                                                ...   \n4324    0.354748                  [\"cast n' crew\", 'habit of life']   \n4325   10.067238  ['telefe', 'a contracorriente films', 'pampa f...   \n4326   13.256679                          ['eastern sunrise films']   \n4327   10.181000                            ['bazelevs production']   \n4328   12.560942        ['scott free productions', 'cinelou films']   \n\n                                   production_countries  ...  runtime  \\\n0                          ['united states of america']  ...     98.0   \n1     ['argentina', 'denmark', 'finland', 'france', ...  ...    140.0   \n2                                            ['france']  ...    126.0   \n3                                           ['germany']  ...    153.0   \n4                          ['united states of america']  ...    143.0   \n...                                                 ...  ...      ...   \n4324                                          ['india']  ...    134.0   \n4325                             ['spain', 'argentina']  ...     90.0   \n4326             ['turkey', 'united states of america']  ...    111.0   \n4327                                         ['russia']  ...    140.0   \n4328                       ['united states of america']  ...     80.0   \n\n                       spoken_languages  \\\n0                           ['english']   \n1                           ['english']   \n2     ['english', 'svenska', 'deutsch']   \n3                       ['no language']   \n4                           ['english']   \n...                                 ...   \n4324                    ['english', '']   \n4325                        ['español']   \n4326                        ['english']   \n4327                        ['pусский']   \n4328                        ['english']   \n\n                                                tagline  \\\n0     Twelve outrageous guests. Four scandalous requ...   \n1                           You don't need eyes to see.   \n2                        There is no future without it.   \n3     There can be no understanding between the hand...   \n4                 Prepare to be blown out of the water.   \n...                                                 ...   \n4324                                                NaN   \n4325                Would you be able to keep a secret?   \n4326  The Ottoman Lieutenant is a love story between...   \n4327             So far from home, so close to disaster   \n4328               Based on Shocking Untold True Events   \n\n                                                  title vote_average  \\\n0                                            Four Rooms          6.5   \n1                                    Dancer in the Dark          7.7   \n2                                     The Fifth Element          7.3   \n3                                            Metropolis          8.0   \n4     Pirates of the Caribbean: The Curse of the Bla...          7.5   \n...                                                 ...          ...   \n4324                                           Aanandam          6.4   \n4325                                         Black Snow          6.0   \n4326                             The Ottoman Lieutenant          6.5   \n4327                                    The Spacewalker          7.4   \n4328                                  Phoenix Forgotten          5.7   \n\n      vote_count  revenue_percentage  \\\n0          539.0            1.075000   \n1          392.0            3.127491   \n2         3962.0            2.932446   \n3          666.0            0.007022   \n4         7191.0            4.678652   \n...          ...                 ...   \n4324         7.0            5.111111   \n4325        39.0            0.360000   \n4326        38.0            0.006024   \n4327        20.0            1.394896   \n4328        52.0            1.285714   \n\n                                              directors  year  dir_perc  \n0     ['allison anders', 'alexandre rockwell', 'robe...  1995  0.000231  \n1                                    ['lars von trier']  2000  0.001386  \n2                                        ['luc besson']  1997  0.002079  \n3                                        ['fritz lang']  1927  0.000462  \n4                                    ['gore verbinski']  2003  0.001848  \n...                                                 ...   ...       ...  \n4324                                     ['ganesh raj']  2016  0.000231  \n4325                                  ['martín hodara']  2017  0.000231  \n4326                                   ['joseph ruben']  2017  0.000924  \n4327                                ['dmitriy kiselev']  2017  0.000231  \n4328                                  ['justin barber']  2017  0.000231  \n\n[4329 rows x 21 columns]",
      "text/html": "<div>\n<style scoped>\n    .dataframe tbody tr th:only-of-type {\n        vertical-align: middle;\n    }\n\n    .dataframe tbody tr th {\n        vertical-align: top;\n    }\n\n    .dataframe thead th {\n        text-align: right;\n    }\n</style>\n<table border=\"1\" class=\"dataframe\">\n  <thead>\n    <tr style=\"text-align: right;\">\n      <th></th>\n      <th>id</th>\n      <th>adult</th>\n      <th>budget</th>\n      <th>genres</th>\n      <th>imdb_id</th>\n      <th>original_language</th>\n      <th>overview</th>\n      <th>popularity</th>\n      <th>production_companies</th>\n      <th>production_countries</th>\n      <th>...</th>\n      <th>runtime</th>\n      <th>spoken_languages</th>\n      <th>tagline</th>\n      <th>title</th>\n      <th>vote_average</th>\n      <th>vote_count</th>\n      <th>revenue_percentage</th>\n      <th>directors</th>\n      <th>year</th>\n      <th>dir_perc</th>\n    </tr>\n  </thead>\n  <tbody>\n    <tr>\n      <th>0</th>\n      <td>5</td>\n      <td>False</td>\n      <td>4000000.0</td>\n      <td>['crime', 'comedy']</td>\n      <td>tt0113101</td>\n      <td>en</td>\n      <td>It's Ted the Bellhop's first night on the job....</td>\n      <td>9.026586</td>\n      <td>['miramax films', 'a band apart']</td>\n      <td>['united states of america']</td>\n      <td>...</td>\n      <td>98.0</td>\n      <td>['english']</td>\n      <td>Twelve outrageous guests. Four scandalous requ...</td>\n      <td>Four Rooms</td>\n      <td>6.5</td>\n      <td>539.0</td>\n      <td>1.075000</td>\n      <td>['allison anders', 'alexandre rockwell', 'robe...</td>\n      <td>1995</td>\n      <td>0.000231</td>\n    </tr>\n    <tr>\n      <th>1</th>\n      <td>16</td>\n      <td>False</td>\n      <td>12800000.0</td>\n      <td>['drama', 'crime', 'music']</td>\n      <td>tt0168629</td>\n      <td>en</td>\n      <td>Selma, a Czech immigrant on the verge of blind...</td>\n      <td>10.684806</td>\n      <td>['fine line features', 'zentropa entertainment...</td>\n      <td>['argentina', 'denmark', 'finland', 'france', ...</td>\n      <td>...</td>\n      <td>140.0</td>\n      <td>['english']</td>\n      <td>You don't need eyes to see.</td>\n      <td>Dancer in the Dark</td>\n      <td>7.7</td>\n      <td>392.0</td>\n      <td>3.127491</td>\n      <td>['lars von trier']</td>\n      <td>2000</td>\n      <td>0.001386</td>\n    </tr>\n    <tr>\n      <th>2</th>\n      <td>18</td>\n      <td>False</td>\n      <td>90000000.0</td>\n      <td>['adventure', 'fantasy', 'action', 'thriller',...</td>\n      <td>tt0119116</td>\n      <td>en</td>\n      <td>In 2257, a taxi driver is unintentionally give...</td>\n      <td>24.305260</td>\n      <td>['columbia pictures', 'gaumont']</td>\n      <td>['france']</td>\n      <td>...</td>\n      <td>126.0</td>\n      <td>['english', 'svenska', 'deutsch']</td>\n      <td>There is no future without it.</td>\n      <td>The Fifth Element</td>\n      <td>7.3</td>\n      <td>3962.0</td>\n      <td>2.932446</td>\n      <td>['luc besson']</td>\n      <td>1997</td>\n      <td>0.002079</td>\n    </tr>\n    <tr>\n      <th>3</th>\n      <td>19</td>\n      <td>False</td>\n      <td>92620000.0</td>\n      <td>['drama', 'science fiction']</td>\n      <td>tt0017136</td>\n      <td>de</td>\n      <td>In a futuristic city sharply divided between t...</td>\n      <td>14.487867</td>\n      <td>['paramount pictures', 'universum film (ufa)']</td>\n      <td>['germany']</td>\n      <td>...</td>\n      <td>153.0</td>\n      <td>['no language']</td>\n      <td>There can be no understanding between the hand...</td>\n      <td>Metropolis</td>\n      <td>8.0</td>\n      <td>666.0</td>\n      <td>0.007022</td>\n      <td>['fritz lang']</td>\n      <td>1927</td>\n      <td>0.000462</td>\n    </tr>\n    <tr>\n      <th>4</th>\n      <td>22</td>\n      <td>False</td>\n      <td>140000000.0</td>\n      <td>['adventure', 'fantasy', 'action']</td>\n      <td>tt0325980</td>\n      <td>en</td>\n      <td>Jack Sparrow, a freewheeling 17th-century pira...</td>\n      <td>47.326665</td>\n      <td>['walt disney pictures', 'jerry bruckheimer fi...</td>\n      <td>['united states of america']</td>\n      <td>...</td>\n      <td>143.0</td>\n      <td>['english']</td>\n      <td>Prepare to be blown out of the water.</td>\n      <td>Pirates of the Caribbean: The Curse of the Bla...</td>\n      <td>7.5</td>\n      <td>7191.0</td>\n      <td>4.678652</td>\n      <td>['gore verbinski']</td>\n      <td>2003</td>\n      <td>0.001848</td>\n    </tr>\n    <tr>\n      <th>...</th>\n      <td>...</td>\n      <td>...</td>\n      <td>...</td>\n      <td>...</td>\n      <td>...</td>\n      <td>...</td>\n      <td>...</td>\n      <td>...</td>\n      <td>...</td>\n      <td>...</td>\n      <td>...</td>\n      <td>...</td>\n      <td>...</td>\n      <td>...</td>\n      <td>...</td>\n      <td>...</td>\n      <td>...</td>\n      <td>...</td>\n      <td>...</td>\n      <td>...</td>\n      <td>...</td>\n    </tr>\n    <tr>\n      <th>4324</th>\n      <td>422603</td>\n      <td>False</td>\n      <td>450000.0</td>\n      <td>['adventure', 'comedy', 'romance']</td>\n      <td>tt5998104</td>\n      <td>ml</td>\n      <td>Aanandam is a 2016 Indian Malayalam campus mus...</td>\n      <td>0.354748</td>\n      <td>[\"cast n' crew\", 'habit of life']</td>\n      <td>['india']</td>\n      <td>...</td>\n      <td>134.0</td>\n      <td>['english', '']</td>\n      <td>NaN</td>\n      <td>Aanandam</td>\n      <td>6.4</td>\n      <td>7.0</td>\n      <td>5.111111</td>\n      <td>['ganesh raj']</td>\n      <td>2016</td>\n      <td>0.000231</td>\n    </tr>\n    <tr>\n      <th>4325</th>\n      <td>425942</td>\n      <td>False</td>\n      <td>4000000.0</td>\n      <td>['mystery', 'drama', 'crime', 'thriller']</td>\n      <td>tt5614612</td>\n      <td>es</td>\n      <td>Accused of killing his brother during adolesce...</td>\n      <td>10.067238</td>\n      <td>['telefe', 'a contracorriente films', 'pampa f...</td>\n      <td>['spain', 'argentina']</td>\n      <td>...</td>\n      <td>90.0</td>\n      <td>['español']</td>\n      <td>Would you be able to keep a secret?</td>\n      <td>Black Snow</td>\n      <td>6.0</td>\n      <td>39.0</td>\n      <td>0.360000</td>\n      <td>['martín hodara']</td>\n      <td>2017</td>\n      <td>0.000231</td>\n    </tr>\n    <tr>\n      <th>4326</th>\n      <td>433356</td>\n      <td>False</td>\n      <td>40000000.0</td>\n      <td>['romance', 'drama', 'war']</td>\n      <td>tt4943322</td>\n      <td>en</td>\n      <td>Lillie, a determined American woman, ventures ...</td>\n      <td>13.256679</td>\n      <td>['eastern sunrise films']</td>\n      <td>['turkey', 'united states of america']</td>\n      <td>...</td>\n      <td>111.0</td>\n      <td>['english']</td>\n      <td>The Ottoman Lieutenant is a love story between...</td>\n      <td>The Ottoman Lieutenant</td>\n      <td>6.5</td>\n      <td>38.0</td>\n      <td>0.006024</td>\n      <td>['joseph ruben']</td>\n      <td>2017</td>\n      <td>0.000924</td>\n    </tr>\n    <tr>\n      <th>4327</th>\n      <td>440642</td>\n      <td>False</td>\n      <td>7075038.0</td>\n      <td>['adventure', 'drama', 'history']</td>\n      <td>tt6673840</td>\n      <td>ru</td>\n      <td>March 1965. In the heat of the Cold War, the U...</td>\n      <td>10.181000</td>\n      <td>['bazelevs production']</td>\n      <td>['russia']</td>\n      <td>...</td>\n      <td>140.0</td>\n      <td>['pусский']</td>\n      <td>So far from home, so close to disaster</td>\n      <td>The Spacewalker</td>\n      <td>7.4</td>\n      <td>20.0</td>\n      <td>1.394896</td>\n      <td>['dmitriy kiselev']</td>\n      <td>2017</td>\n      <td>0.000231</td>\n    </tr>\n    <tr>\n      <th>4328</th>\n      <td>443319</td>\n      <td>False</td>\n      <td>2800000.0</td>\n      <td>['horror', 'mystery', 'science fiction']</td>\n      <td>tt6574272</td>\n      <td>en</td>\n      <td>20 years after three teenagers disappeared in ...</td>\n      <td>12.560942</td>\n      <td>['scott free productions', 'cinelou films']</td>\n      <td>['united states of america']</td>\n      <td>...</td>\n      <td>80.0</td>\n      <td>['english']</td>\n      <td>Based on Shocking Untold True Events</td>\n      <td>Phoenix Forgotten</td>\n      <td>5.7</td>\n      <td>52.0</td>\n      <td>1.285714</td>\n      <td>['justin barber']</td>\n      <td>2017</td>\n      <td>0.000231</td>\n    </tr>\n  </tbody>\n</table>\n<p>4329 rows × 21 columns</p>\n</div>"
     },
     "execution_count": 17,
     "metadata": {},
     "output_type": "execute_result"
    }
   ],
   "source": [
    "df"
   ],
   "metadata": {
    "collapsed": false,
    "pycharm": {
     "name": "#%%\n"
    }
   }
  },
  {
   "cell_type": "code",
   "execution_count": 18,
   "outputs": [
    {
     "data": {
      "text/plain": "                                              directors  revenue_percentage\n0     ['allison anders', 'alexandre rockwell', 'robe...            1.075000\n1                                    ['lars von trier']            3.127491\n2                                        ['luc besson']            2.932446\n3                                        ['fritz lang']            0.007022\n4                                    ['gore verbinski']            4.678652\n...                                                 ...                 ...\n4324                                     ['ganesh raj']            5.111111\n4325                                  ['martín hodara']            0.360000\n4326                                   ['joseph ruben']            0.006024\n4327                                ['dmitriy kiselev']            1.394896\n4328                                  ['justin barber']            1.285714\n\n[4329 rows x 2 columns]",
      "text/html": "<div>\n<style scoped>\n    .dataframe tbody tr th:only-of-type {\n        vertical-align: middle;\n    }\n\n    .dataframe tbody tr th {\n        vertical-align: top;\n    }\n\n    .dataframe thead th {\n        text-align: right;\n    }\n</style>\n<table border=\"1\" class=\"dataframe\">\n  <thead>\n    <tr style=\"text-align: right;\">\n      <th></th>\n      <th>directors</th>\n      <th>revenue_percentage</th>\n    </tr>\n  </thead>\n  <tbody>\n    <tr>\n      <th>0</th>\n      <td>['allison anders', 'alexandre rockwell', 'robe...</td>\n      <td>1.075000</td>\n    </tr>\n    <tr>\n      <th>1</th>\n      <td>['lars von trier']</td>\n      <td>3.127491</td>\n    </tr>\n    <tr>\n      <th>2</th>\n      <td>['luc besson']</td>\n      <td>2.932446</td>\n    </tr>\n    <tr>\n      <th>3</th>\n      <td>['fritz lang']</td>\n      <td>0.007022</td>\n    </tr>\n    <tr>\n      <th>4</th>\n      <td>['gore verbinski']</td>\n      <td>4.678652</td>\n    </tr>\n    <tr>\n      <th>...</th>\n      <td>...</td>\n      <td>...</td>\n    </tr>\n    <tr>\n      <th>4324</th>\n      <td>['ganesh raj']</td>\n      <td>5.111111</td>\n    </tr>\n    <tr>\n      <th>4325</th>\n      <td>['martín hodara']</td>\n      <td>0.360000</td>\n    </tr>\n    <tr>\n      <th>4326</th>\n      <td>['joseph ruben']</td>\n      <td>0.006024</td>\n    </tr>\n    <tr>\n      <th>4327</th>\n      <td>['dmitriy kiselev']</td>\n      <td>1.394896</td>\n    </tr>\n    <tr>\n      <th>4328</th>\n      <td>['justin barber']</td>\n      <td>1.285714</td>\n    </tr>\n  </tbody>\n</table>\n<p>4329 rows × 2 columns</p>\n</div>"
     },
     "execution_count": 18,
     "metadata": {},
     "output_type": "execute_result"
    }
   ],
   "source": [
    "df[['directors','revenue_percentage']]"
   ],
   "metadata": {
    "collapsed": false,
    "pycharm": {
     "name": "#%%\n"
    }
   }
  },
  {
   "cell_type": "code",
   "execution_count": 22,
   "outputs": [],
   "source": [
    "dir_rev_perc= dict( df.groupby('directors')['revenue_percentage'].mean() )"
   ],
   "metadata": {
    "collapsed": false,
    "pycharm": {
     "name": "#%%\n"
    }
   }
  },
  {
   "cell_type": "code",
   "execution_count": 23,
   "outputs": [],
   "source": [
    "df['dir_rev_perc']= df['directors'].map(dir_rev_perc)"
   ],
   "metadata": {
    "collapsed": false,
    "pycharm": {
     "name": "#%%\n"
    }
   }
  },
  {
   "cell_type": "code",
   "execution_count": 24,
   "outputs": [
    {
     "data": {
      "text/plain": "          id  adult       budget  \\\n0          5  False    4000000.0   \n1         16  False   12800000.0   \n2         18  False   90000000.0   \n3         19  False   92620000.0   \n4         22  False  140000000.0   \n...      ...    ...          ...   \n4324  422603  False     450000.0   \n4325  425942  False    4000000.0   \n4326  433356  False   40000000.0   \n4327  440642  False    7075038.0   \n4328  443319  False    2800000.0   \n\n                                                 genres    imdb_id  \\\n0                                   ['crime', 'comedy']  tt0113101   \n1                           ['drama', 'crime', 'music']  tt0168629   \n2     ['adventure', 'fantasy', 'action', 'thriller',...  tt0119116   \n3                          ['drama', 'science fiction']  tt0017136   \n4                    ['adventure', 'fantasy', 'action']  tt0325980   \n...                                                 ...        ...   \n4324                 ['adventure', 'comedy', 'romance']  tt5998104   \n4325          ['mystery', 'drama', 'crime', 'thriller']  tt5614612   \n4326                        ['romance', 'drama', 'war']  tt4943322   \n4327                  ['adventure', 'drama', 'history']  tt6673840   \n4328           ['horror', 'mystery', 'science fiction']  tt6574272   \n\n     original_language                                           overview  \\\n0                   en  It's Ted the Bellhop's first night on the job....   \n1                   en  Selma, a Czech immigrant on the verge of blind...   \n2                   en  In 2257, a taxi driver is unintentionally give...   \n3                   de  In a futuristic city sharply divided between t...   \n4                   en  Jack Sparrow, a freewheeling 17th-century pira...   \n...                ...                                                ...   \n4324                ml  Aanandam is a 2016 Indian Malayalam campus mus...   \n4325                es  Accused of killing his brother during adolesce...   \n4326                en  Lillie, a determined American woman, ventures ...   \n4327                ru  March 1965. In the heat of the Cold War, the U...   \n4328                en  20 years after three teenagers disappeared in ...   \n\n      popularity                               production_companies  \\\n0       9.026586                  ['miramax films', 'a band apart']   \n1      10.684806  ['fine line features', 'zentropa entertainment...   \n2      24.305260                   ['columbia pictures', 'gaumont']   \n3      14.487867     ['paramount pictures', 'universum film (ufa)']   \n4      47.326665  ['walt disney pictures', 'jerry bruckheimer fi...   \n...          ...                                                ...   \n4324    0.354748                  [\"cast n' crew\", 'habit of life']   \n4325   10.067238  ['telefe', 'a contracorriente films', 'pampa f...   \n4326   13.256679                          ['eastern sunrise films']   \n4327   10.181000                            ['bazelevs production']   \n4328   12.560942        ['scott free productions', 'cinelou films']   \n\n                                   production_countries  ...  \\\n0                          ['united states of america']  ...   \n1     ['argentina', 'denmark', 'finland', 'france', ...  ...   \n2                                            ['france']  ...   \n3                                           ['germany']  ...   \n4                          ['united states of america']  ...   \n...                                                 ...  ...   \n4324                                          ['india']  ...   \n4325                             ['spain', 'argentina']  ...   \n4326             ['turkey', 'united states of america']  ...   \n4327                                         ['russia']  ...   \n4328                       ['united states of america']  ...   \n\n                       spoken_languages  \\\n0                           ['english']   \n1                           ['english']   \n2     ['english', 'svenska', 'deutsch']   \n3                       ['no language']   \n4                           ['english']   \n...                                 ...   \n4324                    ['english', '']   \n4325                        ['español']   \n4326                        ['english']   \n4327                        ['pусский']   \n4328                        ['english']   \n\n                                                tagline  \\\n0     Twelve outrageous guests. Four scandalous requ...   \n1                           You don't need eyes to see.   \n2                        There is no future without it.   \n3     There can be no understanding between the hand...   \n4                 Prepare to be blown out of the water.   \n...                                                 ...   \n4324                                                NaN   \n4325                Would you be able to keep a secret?   \n4326  The Ottoman Lieutenant is a love story between...   \n4327             So far from home, so close to disaster   \n4328               Based on Shocking Untold True Events   \n\n                                                  title vote_average  \\\n0                                            Four Rooms          6.5   \n1                                    Dancer in the Dark          7.7   \n2                                     The Fifth Element          7.3   \n3                                            Metropolis          8.0   \n4     Pirates of the Caribbean: The Curse of the Bla...          7.5   \n...                                                 ...          ...   \n4324                                           Aanandam          6.4   \n4325                                         Black Snow          6.0   \n4326                             The Ottoman Lieutenant          6.5   \n4327                                    The Spacewalker          7.4   \n4328                                  Phoenix Forgotten          5.7   \n\n     vote_count  revenue_percentage  \\\n0         539.0            1.075000   \n1         392.0            3.127491   \n2        3962.0            2.932446   \n3         666.0            0.007022   \n4        7191.0            4.678652   \n...         ...                 ...   \n4324        7.0            5.111111   \n4325       39.0            0.360000   \n4326       38.0            0.006024   \n4327       20.0            1.394896   \n4328       52.0            1.285714   \n\n                                              directors  year  dir_perc  \\\n0     ['allison anders', 'alexandre rockwell', 'robe...  1995  0.000231   \n1                                    ['lars von trier']  2000  0.001386   \n2                                        ['luc besson']  1997  0.002079   \n3                                        ['fritz lang']  1927  0.000462   \n4                                    ['gore verbinski']  2003  0.001848   \n...                                                 ...   ...       ...   \n4324                                     ['ganesh raj']  2016  0.000231   \n4325                                  ['martín hodara']  2017  0.000231   \n4326                                   ['joseph ruben']  2017  0.000924   \n4327                                ['dmitriy kiselev']  2017  0.000231   \n4328                                  ['justin barber']  2017  0.000231   \n\n      dir_rev_perc  \n0         1.075000  \n1         1.311045  \n2         1.615876  \n3         1.229954  \n4         2.144467  \n...            ...  \n4324      5.111111  \n4325      0.360000  \n4326      1.502762  \n4327      1.394896  \n4328      1.285714  \n\n[4329 rows x 22 columns]",
      "text/html": "<div>\n<style scoped>\n    .dataframe tbody tr th:only-of-type {\n        vertical-align: middle;\n    }\n\n    .dataframe tbody tr th {\n        vertical-align: top;\n    }\n\n    .dataframe thead th {\n        text-align: right;\n    }\n</style>\n<table border=\"1\" class=\"dataframe\">\n  <thead>\n    <tr style=\"text-align: right;\">\n      <th></th>\n      <th>id</th>\n      <th>adult</th>\n      <th>budget</th>\n      <th>genres</th>\n      <th>imdb_id</th>\n      <th>original_language</th>\n      <th>overview</th>\n      <th>popularity</th>\n      <th>production_companies</th>\n      <th>production_countries</th>\n      <th>...</th>\n      <th>spoken_languages</th>\n      <th>tagline</th>\n      <th>title</th>\n      <th>vote_average</th>\n      <th>vote_count</th>\n      <th>revenue_percentage</th>\n      <th>directors</th>\n      <th>year</th>\n      <th>dir_perc</th>\n      <th>dir_rev_perc</th>\n    </tr>\n  </thead>\n  <tbody>\n    <tr>\n      <th>0</th>\n      <td>5</td>\n      <td>False</td>\n      <td>4000000.0</td>\n      <td>['crime', 'comedy']</td>\n      <td>tt0113101</td>\n      <td>en</td>\n      <td>It's Ted the Bellhop's first night on the job....</td>\n      <td>9.026586</td>\n      <td>['miramax films', 'a band apart']</td>\n      <td>['united states of america']</td>\n      <td>...</td>\n      <td>['english']</td>\n      <td>Twelve outrageous guests. Four scandalous requ...</td>\n      <td>Four Rooms</td>\n      <td>6.5</td>\n      <td>539.0</td>\n      <td>1.075000</td>\n      <td>['allison anders', 'alexandre rockwell', 'robe...</td>\n      <td>1995</td>\n      <td>0.000231</td>\n      <td>1.075000</td>\n    </tr>\n    <tr>\n      <th>1</th>\n      <td>16</td>\n      <td>False</td>\n      <td>12800000.0</td>\n      <td>['drama', 'crime', 'music']</td>\n      <td>tt0168629</td>\n      <td>en</td>\n      <td>Selma, a Czech immigrant on the verge of blind...</td>\n      <td>10.684806</td>\n      <td>['fine line features', 'zentropa entertainment...</td>\n      <td>['argentina', 'denmark', 'finland', 'france', ...</td>\n      <td>...</td>\n      <td>['english']</td>\n      <td>You don't need eyes to see.</td>\n      <td>Dancer in the Dark</td>\n      <td>7.7</td>\n      <td>392.0</td>\n      <td>3.127491</td>\n      <td>['lars von trier']</td>\n      <td>2000</td>\n      <td>0.001386</td>\n      <td>1.311045</td>\n    </tr>\n    <tr>\n      <th>2</th>\n      <td>18</td>\n      <td>False</td>\n      <td>90000000.0</td>\n      <td>['adventure', 'fantasy', 'action', 'thriller',...</td>\n      <td>tt0119116</td>\n      <td>en</td>\n      <td>In 2257, a taxi driver is unintentionally give...</td>\n      <td>24.305260</td>\n      <td>['columbia pictures', 'gaumont']</td>\n      <td>['france']</td>\n      <td>...</td>\n      <td>['english', 'svenska', 'deutsch']</td>\n      <td>There is no future without it.</td>\n      <td>The Fifth Element</td>\n      <td>7.3</td>\n      <td>3962.0</td>\n      <td>2.932446</td>\n      <td>['luc besson']</td>\n      <td>1997</td>\n      <td>0.002079</td>\n      <td>1.615876</td>\n    </tr>\n    <tr>\n      <th>3</th>\n      <td>19</td>\n      <td>False</td>\n      <td>92620000.0</td>\n      <td>['drama', 'science fiction']</td>\n      <td>tt0017136</td>\n      <td>de</td>\n      <td>In a futuristic city sharply divided between t...</td>\n      <td>14.487867</td>\n      <td>['paramount pictures', 'universum film (ufa)']</td>\n      <td>['germany']</td>\n      <td>...</td>\n      <td>['no language']</td>\n      <td>There can be no understanding between the hand...</td>\n      <td>Metropolis</td>\n      <td>8.0</td>\n      <td>666.0</td>\n      <td>0.007022</td>\n      <td>['fritz lang']</td>\n      <td>1927</td>\n      <td>0.000462</td>\n      <td>1.229954</td>\n    </tr>\n    <tr>\n      <th>4</th>\n      <td>22</td>\n      <td>False</td>\n      <td>140000000.0</td>\n      <td>['adventure', 'fantasy', 'action']</td>\n      <td>tt0325980</td>\n      <td>en</td>\n      <td>Jack Sparrow, a freewheeling 17th-century pira...</td>\n      <td>47.326665</td>\n      <td>['walt disney pictures', 'jerry bruckheimer fi...</td>\n      <td>['united states of america']</td>\n      <td>...</td>\n      <td>['english']</td>\n      <td>Prepare to be blown out of the water.</td>\n      <td>Pirates of the Caribbean: The Curse of the Bla...</td>\n      <td>7.5</td>\n      <td>7191.0</td>\n      <td>4.678652</td>\n      <td>['gore verbinski']</td>\n      <td>2003</td>\n      <td>0.001848</td>\n      <td>2.144467</td>\n    </tr>\n    <tr>\n      <th>...</th>\n      <td>...</td>\n      <td>...</td>\n      <td>...</td>\n      <td>...</td>\n      <td>...</td>\n      <td>...</td>\n      <td>...</td>\n      <td>...</td>\n      <td>...</td>\n      <td>...</td>\n      <td>...</td>\n      <td>...</td>\n      <td>...</td>\n      <td>...</td>\n      <td>...</td>\n      <td>...</td>\n      <td>...</td>\n      <td>...</td>\n      <td>...</td>\n      <td>...</td>\n      <td>...</td>\n    </tr>\n    <tr>\n      <th>4324</th>\n      <td>422603</td>\n      <td>False</td>\n      <td>450000.0</td>\n      <td>['adventure', 'comedy', 'romance']</td>\n      <td>tt5998104</td>\n      <td>ml</td>\n      <td>Aanandam is a 2016 Indian Malayalam campus mus...</td>\n      <td>0.354748</td>\n      <td>[\"cast n' crew\", 'habit of life']</td>\n      <td>['india']</td>\n      <td>...</td>\n      <td>['english', '']</td>\n      <td>NaN</td>\n      <td>Aanandam</td>\n      <td>6.4</td>\n      <td>7.0</td>\n      <td>5.111111</td>\n      <td>['ganesh raj']</td>\n      <td>2016</td>\n      <td>0.000231</td>\n      <td>5.111111</td>\n    </tr>\n    <tr>\n      <th>4325</th>\n      <td>425942</td>\n      <td>False</td>\n      <td>4000000.0</td>\n      <td>['mystery', 'drama', 'crime', 'thriller']</td>\n      <td>tt5614612</td>\n      <td>es</td>\n      <td>Accused of killing his brother during adolesce...</td>\n      <td>10.067238</td>\n      <td>['telefe', 'a contracorriente films', 'pampa f...</td>\n      <td>['spain', 'argentina']</td>\n      <td>...</td>\n      <td>['español']</td>\n      <td>Would you be able to keep a secret?</td>\n      <td>Black Snow</td>\n      <td>6.0</td>\n      <td>39.0</td>\n      <td>0.360000</td>\n      <td>['martín hodara']</td>\n      <td>2017</td>\n      <td>0.000231</td>\n      <td>0.360000</td>\n    </tr>\n    <tr>\n      <th>4326</th>\n      <td>433356</td>\n      <td>False</td>\n      <td>40000000.0</td>\n      <td>['romance', 'drama', 'war']</td>\n      <td>tt4943322</td>\n      <td>en</td>\n      <td>Lillie, a determined American woman, ventures ...</td>\n      <td>13.256679</td>\n      <td>['eastern sunrise films']</td>\n      <td>['turkey', 'united states of america']</td>\n      <td>...</td>\n      <td>['english']</td>\n      <td>The Ottoman Lieutenant is a love story between...</td>\n      <td>The Ottoman Lieutenant</td>\n      <td>6.5</td>\n      <td>38.0</td>\n      <td>0.006024</td>\n      <td>['joseph ruben']</td>\n      <td>2017</td>\n      <td>0.000924</td>\n      <td>1.502762</td>\n    </tr>\n    <tr>\n      <th>4327</th>\n      <td>440642</td>\n      <td>False</td>\n      <td>7075038.0</td>\n      <td>['adventure', 'drama', 'history']</td>\n      <td>tt6673840</td>\n      <td>ru</td>\n      <td>March 1965. In the heat of the Cold War, the U...</td>\n      <td>10.181000</td>\n      <td>['bazelevs production']</td>\n      <td>['russia']</td>\n      <td>...</td>\n      <td>['pусский']</td>\n      <td>So far from home, so close to disaster</td>\n      <td>The Spacewalker</td>\n      <td>7.4</td>\n      <td>20.0</td>\n      <td>1.394896</td>\n      <td>['dmitriy kiselev']</td>\n      <td>2017</td>\n      <td>0.000231</td>\n      <td>1.394896</td>\n    </tr>\n    <tr>\n      <th>4328</th>\n      <td>443319</td>\n      <td>False</td>\n      <td>2800000.0</td>\n      <td>['horror', 'mystery', 'science fiction']</td>\n      <td>tt6574272</td>\n      <td>en</td>\n      <td>20 years after three teenagers disappeared in ...</td>\n      <td>12.560942</td>\n      <td>['scott free productions', 'cinelou films']</td>\n      <td>['united states of america']</td>\n      <td>...</td>\n      <td>['english']</td>\n      <td>Based on Shocking Untold True Events</td>\n      <td>Phoenix Forgotten</td>\n      <td>5.7</td>\n      <td>52.0</td>\n      <td>1.285714</td>\n      <td>['justin barber']</td>\n      <td>2017</td>\n      <td>0.000231</td>\n      <td>1.285714</td>\n    </tr>\n  </tbody>\n</table>\n<p>4329 rows × 22 columns</p>\n</div>"
     },
     "execution_count": 24,
     "metadata": {},
     "output_type": "execute_result"
    }
   ],
   "source": [
    "df"
   ],
   "metadata": {
    "collapsed": false,
    "pycharm": {
     "name": "#%%\n"
    }
   }
  },
  {
   "cell_type": "code",
   "execution_count": 57,
   "outputs": [
    {
     "data": {
      "text/plain": "0                                     ['crime', 'comedy']\n1                             ['drama', 'crime', 'music']\n2       ['adventure', 'fantasy', 'action', 'thriller',...\n3                            ['drama', 'science fiction']\n4                      ['adventure', 'fantasy', 'action']\n                              ...                        \n4324                   ['adventure', 'comedy', 'romance']\n4325            ['mystery', 'drama', 'crime', 'thriller']\n4326                          ['romance', 'drama', 'war']\n4327                    ['adventure', 'drama', 'history']\n4328             ['horror', 'mystery', 'science fiction']\nName: genres, Length: 4329, dtype: object"
     },
     "execution_count": 57,
     "metadata": {},
     "output_type": "execute_result"
    }
   ],
   "source": [
    "df['genres']"
   ],
   "metadata": {
    "collapsed": false,
    "pycharm": {
     "name": "#%%\n"
    }
   }
  },
  {
   "cell_type": "code",
   "execution_count": 59,
   "outputs": [],
   "source": [
    "df.drop([3682,3990,3316,3736 ,3798,3418,4053],\n",
    "        axis=0, inplace=True)"
   ],
   "metadata": {
    "collapsed": false,
    "pycharm": {
     "name": "#%%\n"
    }
   }
  },
  {
   "cell_type": "code",
   "execution_count": 60,
   "outputs": [
    {
     "data": {
      "text/plain": "0                                     ['crime', 'comedy']\n1                             ['drama', 'crime', 'music']\n2       ['adventure', 'fantasy', 'action', 'thriller',...\n3                            ['drama', 'science fiction']\n4                      ['adventure', 'fantasy', 'action']\n                              ...                        \n4324                   ['adventure', 'comedy', 'romance']\n4325            ['mystery', 'drama', 'crime', 'thriller']\n4326                          ['romance', 'drama', 'war']\n4327                    ['adventure', 'drama', 'history']\n4328             ['horror', 'mystery', 'science fiction']\nName: genres, Length: 4322, dtype: object"
     },
     "execution_count": 60,
     "metadata": {},
     "output_type": "execute_result"
    }
   ],
   "source": [
    "df['genres']"
   ],
   "metadata": {
    "collapsed": false,
    "pycharm": {
     "name": "#%%\n"
    }
   }
  },
  {
   "cell_type": "code",
   "execution_count": 71,
   "outputs": [],
   "source": [
    "from ast import literal_eval\n",
    "df['genres']= df['genres'].map(literal_eval)"
   ],
   "metadata": {
    "collapsed": false,
    "pycharm": {
     "name": "#%%\n"
    }
   }
  },
  {
   "cell_type": "markdown",
   "source": [
    "## there are duplicates in the id, will drop them"
   ],
   "metadata": {
    "collapsed": false
   }
  },
  {
   "cell_type": "code",
   "execution_count": 120,
   "outputs": [],
   "source": [
    "df.drop_duplicates(subset=['id'], inplace=True)"
   ],
   "metadata": {
    "collapsed": false,
    "pycharm": {
     "name": "#%%\n"
    }
   }
  },
  {
   "cell_type": "code",
   "execution_count": 127,
   "outputs": [],
   "source": [
    "df.dropna(subset=['runtime'], inplace=True)"
   ],
   "metadata": {
    "collapsed": false,
    "pycharm": {
     "name": "#%%\n"
    }
   }
  },
  {
   "cell_type": "code",
   "execution_count": 128,
   "outputs": [
    {
     "data": {
      "text/plain": "id                        0\nadult                     0\nbudget                    0\ngenres                    0\nimdb_id                   0\noriginal_language         0\noverview                  2\npopularity                0\nproduction_companies      0\nproduction_countries      0\nrevenue                   0\nruntime                   0\nspoken_languages          0\ntagline                 610\ntitle                     0\nvote_average              4\nvote_count                4\nrevenue_percentage        0\ndirectors                 0\nyear                      0\ndir_perc                  0\ndir_rev_perc              0\ndtype: int64"
     },
     "execution_count": 128,
     "metadata": {},
     "output_type": "execute_result"
    }
   ],
   "source": [
    "df.isna().sum()"
   ],
   "metadata": {
    "collapsed": false,
    "pycharm": {
     "name": "#%%\n"
    }
   }
  },
  {
   "cell_type": "code",
   "execution_count": 137,
   "outputs": [],
   "source": [
    "df.to_csv('kaggle_data/movies_data_v2_no_NA_values.csv')"
   ],
   "metadata": {
    "collapsed": false,
    "pycharm": {
     "name": "#%%\n"
    }
   }
  },
  {
   "cell_type": "markdown",
   "source": [
    "## let's create genres df\n"
   ],
   "metadata": {
    "collapsed": false
   }
  },
  {
   "cell_type": "code",
   "execution_count": 138,
   "outputs": [],
   "source": [
    "unique_genres= []\n",
    "for g in df['genres']:\n",
    "    unique_genres.extend(g)"
   ],
   "metadata": {
    "collapsed": false,
    "pycharm": {
     "name": "#%%\n"
    }
   }
  },
  {
   "cell_type": "code",
   "execution_count": 139,
   "outputs": [],
   "source": [
    "unique_genres= set(unique_genres)"
   ],
   "metadata": {
    "collapsed": false,
    "pycharm": {
     "name": "#%%\n"
    }
   }
  },
  {
   "cell_type": "code",
   "execution_count": 140,
   "outputs": [
    {
     "data": {
      "text/plain": "{'action',\n 'adventure',\n 'animation',\n 'comedy',\n 'crime',\n 'documentary',\n 'drama',\n 'family',\n 'fantasy',\n 'foreign',\n 'history',\n 'horror',\n 'music',\n 'mystery',\n 'romance',\n 'science fiction',\n 'thriller',\n 'war',\n 'western'}"
     },
     "execution_count": 140,
     "metadata": {},
     "output_type": "execute_result"
    }
   ],
   "source": [
    "unique_genres"
   ],
   "metadata": {
    "collapsed": false,
    "pycharm": {
     "name": "#%%\n"
    }
   }
  },
  {
   "cell_type": "code",
   "execution_count": 141,
   "outputs": [
    {
     "data": {
      "text/plain": "19"
     },
     "execution_count": 141,
     "metadata": {},
     "output_type": "execute_result"
    }
   ],
   "source": [
    "len(unique_genres)"
   ],
   "metadata": {
    "collapsed": false,
    "pycharm": {
     "name": "#%%\n"
    }
   }
  },
  {
   "cell_type": "code",
   "execution_count": 142,
   "outputs": [],
   "source": [
    "g_df= pd.DataFrame( np.zeros( (len(df) , 19) ),\n",
    "              columns=unique_genres,\n",
    "                    index=df.id)"
   ],
   "metadata": {
    "collapsed": false,
    "pycharm": {
     "name": "#%%\n"
    }
   }
  },
  {
   "cell_type": "code",
   "execution_count": 143,
   "outputs": [
    {
     "data": {
      "text/plain": "        history  comedy  animation  action  romance  documentary  mystery  \\\nid                                                                          \n5           0.0     0.0        0.0     0.0      0.0          0.0      0.0   \n16          0.0     0.0        0.0     0.0      0.0          0.0      0.0   \n18          0.0     0.0        0.0     0.0      0.0          0.0      0.0   \n19          0.0     0.0        0.0     0.0      0.0          0.0      0.0   \n22          0.0     0.0        0.0     0.0      0.0          0.0      0.0   \n...         ...     ...        ...     ...      ...          ...      ...   \n422603      0.0     0.0        0.0     0.0      0.0          0.0      0.0   \n425942      0.0     0.0        0.0     0.0      0.0          0.0      0.0   \n433356      0.0     0.0        0.0     0.0      0.0          0.0      0.0   \n440642      0.0     0.0        0.0     0.0      0.0          0.0      0.0   \n443319      0.0     0.0        0.0     0.0      0.0          0.0      0.0   \n\n        crime  science fiction  fantasy  drama  western  horror  adventure  \\\nid                                                                           \n5         0.0              0.0      0.0    0.0      0.0     0.0        0.0   \n16        0.0              0.0      0.0    0.0      0.0     0.0        0.0   \n18        0.0              0.0      0.0    0.0      0.0     0.0        0.0   \n19        0.0              0.0      0.0    0.0      0.0     0.0        0.0   \n22        0.0              0.0      0.0    0.0      0.0     0.0        0.0   \n...       ...              ...      ...    ...      ...     ...        ...   \n422603    0.0              0.0      0.0    0.0      0.0     0.0        0.0   \n425942    0.0              0.0      0.0    0.0      0.0     0.0        0.0   \n433356    0.0              0.0      0.0    0.0      0.0     0.0        0.0   \n440642    0.0              0.0      0.0    0.0      0.0     0.0        0.0   \n443319    0.0              0.0      0.0    0.0      0.0     0.0        0.0   \n\n        family  thriller  music  foreign  war  \nid                                             \n5          0.0       0.0    0.0      0.0  0.0  \n16         0.0       0.0    0.0      0.0  0.0  \n18         0.0       0.0    0.0      0.0  0.0  \n19         0.0       0.0    0.0      0.0  0.0  \n22         0.0       0.0    0.0      0.0  0.0  \n...        ...       ...    ...      ...  ...  \n422603     0.0       0.0    0.0      0.0  0.0  \n425942     0.0       0.0    0.0      0.0  0.0  \n433356     0.0       0.0    0.0      0.0  0.0  \n440642     0.0       0.0    0.0      0.0  0.0  \n443319     0.0       0.0    0.0      0.0  0.0  \n\n[4296 rows x 19 columns]",
      "text/html": "<div>\n<style scoped>\n    .dataframe tbody tr th:only-of-type {\n        vertical-align: middle;\n    }\n\n    .dataframe tbody tr th {\n        vertical-align: top;\n    }\n\n    .dataframe thead th {\n        text-align: right;\n    }\n</style>\n<table border=\"1\" class=\"dataframe\">\n  <thead>\n    <tr style=\"text-align: right;\">\n      <th></th>\n      <th>history</th>\n      <th>comedy</th>\n      <th>animation</th>\n      <th>action</th>\n      <th>romance</th>\n      <th>documentary</th>\n      <th>mystery</th>\n      <th>crime</th>\n      <th>science fiction</th>\n      <th>fantasy</th>\n      <th>drama</th>\n      <th>western</th>\n      <th>horror</th>\n      <th>adventure</th>\n      <th>family</th>\n      <th>thriller</th>\n      <th>music</th>\n      <th>foreign</th>\n      <th>war</th>\n    </tr>\n    <tr>\n      <th>id</th>\n      <th></th>\n      <th></th>\n      <th></th>\n      <th></th>\n      <th></th>\n      <th></th>\n      <th></th>\n      <th></th>\n      <th></th>\n      <th></th>\n      <th></th>\n      <th></th>\n      <th></th>\n      <th></th>\n      <th></th>\n      <th></th>\n      <th></th>\n      <th></th>\n      <th></th>\n    </tr>\n  </thead>\n  <tbody>\n    <tr>\n      <th>5</th>\n      <td>0.0</td>\n      <td>0.0</td>\n      <td>0.0</td>\n      <td>0.0</td>\n      <td>0.0</td>\n      <td>0.0</td>\n      <td>0.0</td>\n      <td>0.0</td>\n      <td>0.0</td>\n      <td>0.0</td>\n      <td>0.0</td>\n      <td>0.0</td>\n      <td>0.0</td>\n      <td>0.0</td>\n      <td>0.0</td>\n      <td>0.0</td>\n      <td>0.0</td>\n      <td>0.0</td>\n      <td>0.0</td>\n    </tr>\n    <tr>\n      <th>16</th>\n      <td>0.0</td>\n      <td>0.0</td>\n      <td>0.0</td>\n      <td>0.0</td>\n      <td>0.0</td>\n      <td>0.0</td>\n      <td>0.0</td>\n      <td>0.0</td>\n      <td>0.0</td>\n      <td>0.0</td>\n      <td>0.0</td>\n      <td>0.0</td>\n      <td>0.0</td>\n      <td>0.0</td>\n      <td>0.0</td>\n      <td>0.0</td>\n      <td>0.0</td>\n      <td>0.0</td>\n      <td>0.0</td>\n    </tr>\n    <tr>\n      <th>18</th>\n      <td>0.0</td>\n      <td>0.0</td>\n      <td>0.0</td>\n      <td>0.0</td>\n      <td>0.0</td>\n      <td>0.0</td>\n      <td>0.0</td>\n      <td>0.0</td>\n      <td>0.0</td>\n      <td>0.0</td>\n      <td>0.0</td>\n      <td>0.0</td>\n      <td>0.0</td>\n      <td>0.0</td>\n      <td>0.0</td>\n      <td>0.0</td>\n      <td>0.0</td>\n      <td>0.0</td>\n      <td>0.0</td>\n    </tr>\n    <tr>\n      <th>19</th>\n      <td>0.0</td>\n      <td>0.0</td>\n      <td>0.0</td>\n      <td>0.0</td>\n      <td>0.0</td>\n      <td>0.0</td>\n      <td>0.0</td>\n      <td>0.0</td>\n      <td>0.0</td>\n      <td>0.0</td>\n      <td>0.0</td>\n      <td>0.0</td>\n      <td>0.0</td>\n      <td>0.0</td>\n      <td>0.0</td>\n      <td>0.0</td>\n      <td>0.0</td>\n      <td>0.0</td>\n      <td>0.0</td>\n    </tr>\n    <tr>\n      <th>22</th>\n      <td>0.0</td>\n      <td>0.0</td>\n      <td>0.0</td>\n      <td>0.0</td>\n      <td>0.0</td>\n      <td>0.0</td>\n      <td>0.0</td>\n      <td>0.0</td>\n      <td>0.0</td>\n      <td>0.0</td>\n      <td>0.0</td>\n      <td>0.0</td>\n      <td>0.0</td>\n      <td>0.0</td>\n      <td>0.0</td>\n      <td>0.0</td>\n      <td>0.0</td>\n      <td>0.0</td>\n      <td>0.0</td>\n    </tr>\n    <tr>\n      <th>...</th>\n      <td>...</td>\n      <td>...</td>\n      <td>...</td>\n      <td>...</td>\n      <td>...</td>\n      <td>...</td>\n      <td>...</td>\n      <td>...</td>\n      <td>...</td>\n      <td>...</td>\n      <td>...</td>\n      <td>...</td>\n      <td>...</td>\n      <td>...</td>\n      <td>...</td>\n      <td>...</td>\n      <td>...</td>\n      <td>...</td>\n      <td>...</td>\n    </tr>\n    <tr>\n      <th>422603</th>\n      <td>0.0</td>\n      <td>0.0</td>\n      <td>0.0</td>\n      <td>0.0</td>\n      <td>0.0</td>\n      <td>0.0</td>\n      <td>0.0</td>\n      <td>0.0</td>\n      <td>0.0</td>\n      <td>0.0</td>\n      <td>0.0</td>\n      <td>0.0</td>\n      <td>0.0</td>\n      <td>0.0</td>\n      <td>0.0</td>\n      <td>0.0</td>\n      <td>0.0</td>\n      <td>0.0</td>\n      <td>0.0</td>\n    </tr>\n    <tr>\n      <th>425942</th>\n      <td>0.0</td>\n      <td>0.0</td>\n      <td>0.0</td>\n      <td>0.0</td>\n      <td>0.0</td>\n      <td>0.0</td>\n      <td>0.0</td>\n      <td>0.0</td>\n      <td>0.0</td>\n      <td>0.0</td>\n      <td>0.0</td>\n      <td>0.0</td>\n      <td>0.0</td>\n      <td>0.0</td>\n      <td>0.0</td>\n      <td>0.0</td>\n      <td>0.0</td>\n      <td>0.0</td>\n      <td>0.0</td>\n    </tr>\n    <tr>\n      <th>433356</th>\n      <td>0.0</td>\n      <td>0.0</td>\n      <td>0.0</td>\n      <td>0.0</td>\n      <td>0.0</td>\n      <td>0.0</td>\n      <td>0.0</td>\n      <td>0.0</td>\n      <td>0.0</td>\n      <td>0.0</td>\n      <td>0.0</td>\n      <td>0.0</td>\n      <td>0.0</td>\n      <td>0.0</td>\n      <td>0.0</td>\n      <td>0.0</td>\n      <td>0.0</td>\n      <td>0.0</td>\n      <td>0.0</td>\n    </tr>\n    <tr>\n      <th>440642</th>\n      <td>0.0</td>\n      <td>0.0</td>\n      <td>0.0</td>\n      <td>0.0</td>\n      <td>0.0</td>\n      <td>0.0</td>\n      <td>0.0</td>\n      <td>0.0</td>\n      <td>0.0</td>\n      <td>0.0</td>\n      <td>0.0</td>\n      <td>0.0</td>\n      <td>0.0</td>\n      <td>0.0</td>\n      <td>0.0</td>\n      <td>0.0</td>\n      <td>0.0</td>\n      <td>0.0</td>\n      <td>0.0</td>\n    </tr>\n    <tr>\n      <th>443319</th>\n      <td>0.0</td>\n      <td>0.0</td>\n      <td>0.0</td>\n      <td>0.0</td>\n      <td>0.0</td>\n      <td>0.0</td>\n      <td>0.0</td>\n      <td>0.0</td>\n      <td>0.0</td>\n      <td>0.0</td>\n      <td>0.0</td>\n      <td>0.0</td>\n      <td>0.0</td>\n      <td>0.0</td>\n      <td>0.0</td>\n      <td>0.0</td>\n      <td>0.0</td>\n      <td>0.0</td>\n      <td>0.0</td>\n    </tr>\n  </tbody>\n</table>\n<p>4296 rows × 19 columns</p>\n</div>"
     },
     "execution_count": 143,
     "metadata": {},
     "output_type": "execute_result"
    }
   ],
   "source": [
    "g_df"
   ],
   "metadata": {
    "collapsed": false,
    "pycharm": {
     "name": "#%%\n"
    }
   }
  },
  {
   "cell_type": "code",
   "execution_count": 144,
   "outputs": [],
   "source": [
    "for idx, g_list in enumerate( df['genres'] ):\n",
    "    for g in g_list:\n",
    "        g_df.iloc[idx][g]= 1"
   ],
   "metadata": {
    "collapsed": false,
    "pycharm": {
     "name": "#%%\n"
    }
   }
  },
  {
   "cell_type": "code",
   "execution_count": 145,
   "outputs": [],
   "source": [
    "g_df= g_df.astype(int)"
   ],
   "metadata": {
    "collapsed": false,
    "pycharm": {
     "name": "#%%\n"
    }
   }
  },
  {
   "cell_type": "code",
   "execution_count": 146,
   "outputs": [
    {
     "data": {
      "text/plain": "        history  comedy  animation  action  romance  documentary  mystery  \\\nid                                                                          \n5             0       1          0       0        0            0        0   \n16            0       0          0       0        0            0        0   \n18            0       0          0       1        0            0        0   \n19            0       0          0       0        0            0        0   \n22            0       0          0       1        0            0        0   \n...         ...     ...        ...     ...      ...          ...      ...   \n422603        0       1          0       0        1            0        0   \n425942        0       0          0       0        0            0        1   \n433356        0       0          0       0        1            0        0   \n440642        1       0          0       0        0            0        0   \n443319        0       0          0       0        0            0        1   \n\n        crime  science fiction  fantasy  drama  western  horror  adventure  \\\nid                                                                           \n5           1                0        0      0        0       0          0   \n16          1                0        0      1        0       0          0   \n18          0                1        1      0        0       0          1   \n19          0                1        0      1        0       0          0   \n22          0                0        1      0        0       0          1   \n...       ...              ...      ...    ...      ...     ...        ...   \n422603      0                0        0      0        0       0          1   \n425942      1                0        0      1        0       0          0   \n433356      0                0        0      1        0       0          0   \n440642      0                0        0      1        0       0          1   \n443319      0                1        0      0        0       1          0   \n\n        family  thriller  music  foreign  war  \nid                                             \n5            0         0      0        0    0  \n16           0         0      1        0    0  \n18           0         1      0        0    0  \n19           0         0      0        0    0  \n22           0         0      0        0    0  \n...        ...       ...    ...      ...  ...  \n422603       0         0      0        0    0  \n425942       0         1      0        0    0  \n433356       0         0      0        0    1  \n440642       0         0      0        0    0  \n443319       0         0      0        0    0  \n\n[4296 rows x 19 columns]",
      "text/html": "<div>\n<style scoped>\n    .dataframe tbody tr th:only-of-type {\n        vertical-align: middle;\n    }\n\n    .dataframe tbody tr th {\n        vertical-align: top;\n    }\n\n    .dataframe thead th {\n        text-align: right;\n    }\n</style>\n<table border=\"1\" class=\"dataframe\">\n  <thead>\n    <tr style=\"text-align: right;\">\n      <th></th>\n      <th>history</th>\n      <th>comedy</th>\n      <th>animation</th>\n      <th>action</th>\n      <th>romance</th>\n      <th>documentary</th>\n      <th>mystery</th>\n      <th>crime</th>\n      <th>science fiction</th>\n      <th>fantasy</th>\n      <th>drama</th>\n      <th>western</th>\n      <th>horror</th>\n      <th>adventure</th>\n      <th>family</th>\n      <th>thriller</th>\n      <th>music</th>\n      <th>foreign</th>\n      <th>war</th>\n    </tr>\n    <tr>\n      <th>id</th>\n      <th></th>\n      <th></th>\n      <th></th>\n      <th></th>\n      <th></th>\n      <th></th>\n      <th></th>\n      <th></th>\n      <th></th>\n      <th></th>\n      <th></th>\n      <th></th>\n      <th></th>\n      <th></th>\n      <th></th>\n      <th></th>\n      <th></th>\n      <th></th>\n      <th></th>\n    </tr>\n  </thead>\n  <tbody>\n    <tr>\n      <th>5</th>\n      <td>0</td>\n      <td>1</td>\n      <td>0</td>\n      <td>0</td>\n      <td>0</td>\n      <td>0</td>\n      <td>0</td>\n      <td>1</td>\n      <td>0</td>\n      <td>0</td>\n      <td>0</td>\n      <td>0</td>\n      <td>0</td>\n      <td>0</td>\n      <td>0</td>\n      <td>0</td>\n      <td>0</td>\n      <td>0</td>\n      <td>0</td>\n    </tr>\n    <tr>\n      <th>16</th>\n      <td>0</td>\n      <td>0</td>\n      <td>0</td>\n      <td>0</td>\n      <td>0</td>\n      <td>0</td>\n      <td>0</td>\n      <td>1</td>\n      <td>0</td>\n      <td>0</td>\n      <td>1</td>\n      <td>0</td>\n      <td>0</td>\n      <td>0</td>\n      <td>0</td>\n      <td>0</td>\n      <td>1</td>\n      <td>0</td>\n      <td>0</td>\n    </tr>\n    <tr>\n      <th>18</th>\n      <td>0</td>\n      <td>0</td>\n      <td>0</td>\n      <td>1</td>\n      <td>0</td>\n      <td>0</td>\n      <td>0</td>\n      <td>0</td>\n      <td>1</td>\n      <td>1</td>\n      <td>0</td>\n      <td>0</td>\n      <td>0</td>\n      <td>1</td>\n      <td>0</td>\n      <td>1</td>\n      <td>0</td>\n      <td>0</td>\n      <td>0</td>\n    </tr>\n    <tr>\n      <th>19</th>\n      <td>0</td>\n      <td>0</td>\n      <td>0</td>\n      <td>0</td>\n      <td>0</td>\n      <td>0</td>\n      <td>0</td>\n      <td>0</td>\n      <td>1</td>\n      <td>0</td>\n      <td>1</td>\n      <td>0</td>\n      <td>0</td>\n      <td>0</td>\n      <td>0</td>\n      <td>0</td>\n      <td>0</td>\n      <td>0</td>\n      <td>0</td>\n    </tr>\n    <tr>\n      <th>22</th>\n      <td>0</td>\n      <td>0</td>\n      <td>0</td>\n      <td>1</td>\n      <td>0</td>\n      <td>0</td>\n      <td>0</td>\n      <td>0</td>\n      <td>0</td>\n      <td>1</td>\n      <td>0</td>\n      <td>0</td>\n      <td>0</td>\n      <td>1</td>\n      <td>0</td>\n      <td>0</td>\n      <td>0</td>\n      <td>0</td>\n      <td>0</td>\n    </tr>\n    <tr>\n      <th>...</th>\n      <td>...</td>\n      <td>...</td>\n      <td>...</td>\n      <td>...</td>\n      <td>...</td>\n      <td>...</td>\n      <td>...</td>\n      <td>...</td>\n      <td>...</td>\n      <td>...</td>\n      <td>...</td>\n      <td>...</td>\n      <td>...</td>\n      <td>...</td>\n      <td>...</td>\n      <td>...</td>\n      <td>...</td>\n      <td>...</td>\n      <td>...</td>\n    </tr>\n    <tr>\n      <th>422603</th>\n      <td>0</td>\n      <td>1</td>\n      <td>0</td>\n      <td>0</td>\n      <td>1</td>\n      <td>0</td>\n      <td>0</td>\n      <td>0</td>\n      <td>0</td>\n      <td>0</td>\n      <td>0</td>\n      <td>0</td>\n      <td>0</td>\n      <td>1</td>\n      <td>0</td>\n      <td>0</td>\n      <td>0</td>\n      <td>0</td>\n      <td>0</td>\n    </tr>\n    <tr>\n      <th>425942</th>\n      <td>0</td>\n      <td>0</td>\n      <td>0</td>\n      <td>0</td>\n      <td>0</td>\n      <td>0</td>\n      <td>1</td>\n      <td>1</td>\n      <td>0</td>\n      <td>0</td>\n      <td>1</td>\n      <td>0</td>\n      <td>0</td>\n      <td>0</td>\n      <td>0</td>\n      <td>1</td>\n      <td>0</td>\n      <td>0</td>\n      <td>0</td>\n    </tr>\n    <tr>\n      <th>433356</th>\n      <td>0</td>\n      <td>0</td>\n      <td>0</td>\n      <td>0</td>\n      <td>1</td>\n      <td>0</td>\n      <td>0</td>\n      <td>0</td>\n      <td>0</td>\n      <td>0</td>\n      <td>1</td>\n      <td>0</td>\n      <td>0</td>\n      <td>0</td>\n      <td>0</td>\n      <td>0</td>\n      <td>0</td>\n      <td>0</td>\n      <td>1</td>\n    </tr>\n    <tr>\n      <th>440642</th>\n      <td>1</td>\n      <td>0</td>\n      <td>0</td>\n      <td>0</td>\n      <td>0</td>\n      <td>0</td>\n      <td>0</td>\n      <td>0</td>\n      <td>0</td>\n      <td>0</td>\n      <td>1</td>\n      <td>0</td>\n      <td>0</td>\n      <td>1</td>\n      <td>0</td>\n      <td>0</td>\n      <td>0</td>\n      <td>0</td>\n      <td>0</td>\n    </tr>\n    <tr>\n      <th>443319</th>\n      <td>0</td>\n      <td>0</td>\n      <td>0</td>\n      <td>0</td>\n      <td>0</td>\n      <td>0</td>\n      <td>1</td>\n      <td>0</td>\n      <td>1</td>\n      <td>0</td>\n      <td>0</td>\n      <td>0</td>\n      <td>1</td>\n      <td>0</td>\n      <td>0</td>\n      <td>0</td>\n      <td>0</td>\n      <td>0</td>\n      <td>0</td>\n    </tr>\n  </tbody>\n</table>\n<p>4296 rows × 19 columns</p>\n</div>"
     },
     "execution_count": 146,
     "metadata": {},
     "output_type": "execute_result"
    }
   ],
   "source": [
    "g_df"
   ],
   "metadata": {
    "collapsed": false,
    "pycharm": {
     "name": "#%%\n"
    }
   }
  },
  {
   "cell_type": "code",
   "execution_count": 147,
   "outputs": [
    {
     "data": {
      "text/plain": "          id  adult       budget  \\\n0          5  False    4000000.0   \n1         16  False   12800000.0   \n2         18  False   90000000.0   \n3         19  False   92620000.0   \n4         22  False  140000000.0   \n...      ...    ...          ...   \n4324  422603  False     450000.0   \n4325  425942  False    4000000.0   \n4326  433356  False   40000000.0   \n4327  440642  False    7075038.0   \n4328  443319  False    2800000.0   \n\n                                                 genres    imdb_id  \\\n0                                       [crime, comedy]  tt0113101   \n1                                 [drama, crime, music]  tt0168629   \n2     [adventure, fantasy, action, thriller, science...  tt0119116   \n3                              [drama, science fiction]  tt0017136   \n4                          [adventure, fantasy, action]  tt0325980   \n...                                                 ...        ...   \n4324                       [adventure, comedy, romance]  tt5998104   \n4325                  [mystery, drama, crime, thriller]  tt5614612   \n4326                              [romance, drama, war]  tt4943322   \n4327                        [adventure, drama, history]  tt6673840   \n4328                 [horror, mystery, science fiction]  tt6574272   \n\n     original_language                                           overview  \\\n0                   en  It's Ted the Bellhop's first night on the job....   \n1                   en  Selma, a Czech immigrant on the verge of blind...   \n2                   en  In 2257, a taxi driver is unintentionally give...   \n3                   de  In a futuristic city sharply divided between t...   \n4                   en  Jack Sparrow, a freewheeling 17th-century pira...   \n...                ...                                                ...   \n4324                ml  Aanandam is a 2016 Indian Malayalam campus mus...   \n4325                es  Accused of killing his brother during adolesce...   \n4326                en  Lillie, a determined American woman, ventures ...   \n4327                ru  March 1965. In the heat of the Cold War, the U...   \n4328                en  20 years after three teenagers disappeared in ...   \n\n      popularity                               production_companies  \\\n0       9.026586                  ['miramax films', 'a band apart']   \n1      10.684806  ['fine line features', 'zentropa entertainment...   \n2      24.305260                   ['columbia pictures', 'gaumont']   \n3      14.487867     ['paramount pictures', 'universum film (ufa)']   \n4      47.326665  ['walt disney pictures', 'jerry bruckheimer fi...   \n...          ...                                                ...   \n4324    0.354748                  [\"cast n' crew\", 'habit of life']   \n4325   10.067238  ['telefe', 'a contracorriente films', 'pampa f...   \n4326   13.256679                          ['eastern sunrise films']   \n4327   10.181000                            ['bazelevs production']   \n4328   12.560942        ['scott free productions', 'cinelou films']   \n\n                                   production_countries  ...  fantasy  drama  \\\n0                          ['united states of america']  ...        0      0   \n1     ['argentina', 'denmark', 'finland', 'france', ...  ...        0      1   \n2                                            ['france']  ...        1      0   \n3                                           ['germany']  ...        0      1   \n4                          ['united states of america']  ...        1      0   \n...                                                 ...  ...      ...    ...   \n4324                                          ['india']  ...        0      0   \n4325                             ['spain', 'argentina']  ...        0      1   \n4326             ['turkey', 'united states of america']  ...        0      1   \n4327                                         ['russia']  ...        0      1   \n4328                       ['united states of america']  ...        0      0   \n\n     western horror adventure  family  thriller  music foreign  war  \n0          0      0         0       0         0      0       0    0  \n1          0      0         0       0         0      1       0    0  \n2          0      0         1       0         1      0       0    0  \n3          0      0         0       0         0      0       0    0  \n4          0      0         1       0         0      0       0    0  \n...      ...    ...       ...     ...       ...    ...     ...  ...  \n4324       0      0         1       0         0      0       0    0  \n4325       0      0         0       0         1      0       0    0  \n4326       0      0         0       0         0      0       0    1  \n4327       0      0         1       0         0      0       0    0  \n4328       0      1         0       0         0      0       0    0  \n\n[4296 rows x 41 columns]",
      "text/html": "<div>\n<style scoped>\n    .dataframe tbody tr th:only-of-type {\n        vertical-align: middle;\n    }\n\n    .dataframe tbody tr th {\n        vertical-align: top;\n    }\n\n    .dataframe thead th {\n        text-align: right;\n    }\n</style>\n<table border=\"1\" class=\"dataframe\">\n  <thead>\n    <tr style=\"text-align: right;\">\n      <th></th>\n      <th>id</th>\n      <th>adult</th>\n      <th>budget</th>\n      <th>genres</th>\n      <th>imdb_id</th>\n      <th>original_language</th>\n      <th>overview</th>\n      <th>popularity</th>\n      <th>production_companies</th>\n      <th>production_countries</th>\n      <th>...</th>\n      <th>fantasy</th>\n      <th>drama</th>\n      <th>western</th>\n      <th>horror</th>\n      <th>adventure</th>\n      <th>family</th>\n      <th>thriller</th>\n      <th>music</th>\n      <th>foreign</th>\n      <th>war</th>\n    </tr>\n  </thead>\n  <tbody>\n    <tr>\n      <th>0</th>\n      <td>5</td>\n      <td>False</td>\n      <td>4000000.0</td>\n      <td>[crime, comedy]</td>\n      <td>tt0113101</td>\n      <td>en</td>\n      <td>It's Ted the Bellhop's first night on the job....</td>\n      <td>9.026586</td>\n      <td>['miramax films', 'a band apart']</td>\n      <td>['united states of america']</td>\n      <td>...</td>\n      <td>0</td>\n      <td>0</td>\n      <td>0</td>\n      <td>0</td>\n      <td>0</td>\n      <td>0</td>\n      <td>0</td>\n      <td>0</td>\n      <td>0</td>\n      <td>0</td>\n    </tr>\n    <tr>\n      <th>1</th>\n      <td>16</td>\n      <td>False</td>\n      <td>12800000.0</td>\n      <td>[drama, crime, music]</td>\n      <td>tt0168629</td>\n      <td>en</td>\n      <td>Selma, a Czech immigrant on the verge of blind...</td>\n      <td>10.684806</td>\n      <td>['fine line features', 'zentropa entertainment...</td>\n      <td>['argentina', 'denmark', 'finland', 'france', ...</td>\n      <td>...</td>\n      <td>0</td>\n      <td>1</td>\n      <td>0</td>\n      <td>0</td>\n      <td>0</td>\n      <td>0</td>\n      <td>0</td>\n      <td>1</td>\n      <td>0</td>\n      <td>0</td>\n    </tr>\n    <tr>\n      <th>2</th>\n      <td>18</td>\n      <td>False</td>\n      <td>90000000.0</td>\n      <td>[adventure, fantasy, action, thriller, science...</td>\n      <td>tt0119116</td>\n      <td>en</td>\n      <td>In 2257, a taxi driver is unintentionally give...</td>\n      <td>24.305260</td>\n      <td>['columbia pictures', 'gaumont']</td>\n      <td>['france']</td>\n      <td>...</td>\n      <td>1</td>\n      <td>0</td>\n      <td>0</td>\n      <td>0</td>\n      <td>1</td>\n      <td>0</td>\n      <td>1</td>\n      <td>0</td>\n      <td>0</td>\n      <td>0</td>\n    </tr>\n    <tr>\n      <th>3</th>\n      <td>19</td>\n      <td>False</td>\n      <td>92620000.0</td>\n      <td>[drama, science fiction]</td>\n      <td>tt0017136</td>\n      <td>de</td>\n      <td>In a futuristic city sharply divided between t...</td>\n      <td>14.487867</td>\n      <td>['paramount pictures', 'universum film (ufa)']</td>\n      <td>['germany']</td>\n      <td>...</td>\n      <td>0</td>\n      <td>1</td>\n      <td>0</td>\n      <td>0</td>\n      <td>0</td>\n      <td>0</td>\n      <td>0</td>\n      <td>0</td>\n      <td>0</td>\n      <td>0</td>\n    </tr>\n    <tr>\n      <th>4</th>\n      <td>22</td>\n      <td>False</td>\n      <td>140000000.0</td>\n      <td>[adventure, fantasy, action]</td>\n      <td>tt0325980</td>\n      <td>en</td>\n      <td>Jack Sparrow, a freewheeling 17th-century pira...</td>\n      <td>47.326665</td>\n      <td>['walt disney pictures', 'jerry bruckheimer fi...</td>\n      <td>['united states of america']</td>\n      <td>...</td>\n      <td>1</td>\n      <td>0</td>\n      <td>0</td>\n      <td>0</td>\n      <td>1</td>\n      <td>0</td>\n      <td>0</td>\n      <td>0</td>\n      <td>0</td>\n      <td>0</td>\n    </tr>\n    <tr>\n      <th>...</th>\n      <td>...</td>\n      <td>...</td>\n      <td>...</td>\n      <td>...</td>\n      <td>...</td>\n      <td>...</td>\n      <td>...</td>\n      <td>...</td>\n      <td>...</td>\n      <td>...</td>\n      <td>...</td>\n      <td>...</td>\n      <td>...</td>\n      <td>...</td>\n      <td>...</td>\n      <td>...</td>\n      <td>...</td>\n      <td>...</td>\n      <td>...</td>\n      <td>...</td>\n      <td>...</td>\n    </tr>\n    <tr>\n      <th>4324</th>\n      <td>422603</td>\n      <td>False</td>\n      <td>450000.0</td>\n      <td>[adventure, comedy, romance]</td>\n      <td>tt5998104</td>\n      <td>ml</td>\n      <td>Aanandam is a 2016 Indian Malayalam campus mus...</td>\n      <td>0.354748</td>\n      <td>[\"cast n' crew\", 'habit of life']</td>\n      <td>['india']</td>\n      <td>...</td>\n      <td>0</td>\n      <td>0</td>\n      <td>0</td>\n      <td>0</td>\n      <td>1</td>\n      <td>0</td>\n      <td>0</td>\n      <td>0</td>\n      <td>0</td>\n      <td>0</td>\n    </tr>\n    <tr>\n      <th>4325</th>\n      <td>425942</td>\n      <td>False</td>\n      <td>4000000.0</td>\n      <td>[mystery, drama, crime, thriller]</td>\n      <td>tt5614612</td>\n      <td>es</td>\n      <td>Accused of killing his brother during adolesce...</td>\n      <td>10.067238</td>\n      <td>['telefe', 'a contracorriente films', 'pampa f...</td>\n      <td>['spain', 'argentina']</td>\n      <td>...</td>\n      <td>0</td>\n      <td>1</td>\n      <td>0</td>\n      <td>0</td>\n      <td>0</td>\n      <td>0</td>\n      <td>1</td>\n      <td>0</td>\n      <td>0</td>\n      <td>0</td>\n    </tr>\n    <tr>\n      <th>4326</th>\n      <td>433356</td>\n      <td>False</td>\n      <td>40000000.0</td>\n      <td>[romance, drama, war]</td>\n      <td>tt4943322</td>\n      <td>en</td>\n      <td>Lillie, a determined American woman, ventures ...</td>\n      <td>13.256679</td>\n      <td>['eastern sunrise films']</td>\n      <td>['turkey', 'united states of america']</td>\n      <td>...</td>\n      <td>0</td>\n      <td>1</td>\n      <td>0</td>\n      <td>0</td>\n      <td>0</td>\n      <td>0</td>\n      <td>0</td>\n      <td>0</td>\n      <td>0</td>\n      <td>1</td>\n    </tr>\n    <tr>\n      <th>4327</th>\n      <td>440642</td>\n      <td>False</td>\n      <td>7075038.0</td>\n      <td>[adventure, drama, history]</td>\n      <td>tt6673840</td>\n      <td>ru</td>\n      <td>March 1965. In the heat of the Cold War, the U...</td>\n      <td>10.181000</td>\n      <td>['bazelevs production']</td>\n      <td>['russia']</td>\n      <td>...</td>\n      <td>0</td>\n      <td>1</td>\n      <td>0</td>\n      <td>0</td>\n      <td>1</td>\n      <td>0</td>\n      <td>0</td>\n      <td>0</td>\n      <td>0</td>\n      <td>0</td>\n    </tr>\n    <tr>\n      <th>4328</th>\n      <td>443319</td>\n      <td>False</td>\n      <td>2800000.0</td>\n      <td>[horror, mystery, science fiction]</td>\n      <td>tt6574272</td>\n      <td>en</td>\n      <td>20 years after three teenagers disappeared in ...</td>\n      <td>12.560942</td>\n      <td>['scott free productions', 'cinelou films']</td>\n      <td>['united states of america']</td>\n      <td>...</td>\n      <td>0</td>\n      <td>0</td>\n      <td>0</td>\n      <td>1</td>\n      <td>0</td>\n      <td>0</td>\n      <td>0</td>\n      <td>0</td>\n      <td>0</td>\n      <td>0</td>\n    </tr>\n  </tbody>\n</table>\n<p>4296 rows × 41 columns</p>\n</div>"
     },
     "execution_count": 147,
     "metadata": {},
     "output_type": "execute_result"
    }
   ],
   "source": [
    "df.join(g_df, on='id', how='inner')"
   ],
   "metadata": {
    "collapsed": false,
    "pycharm": {
     "name": "#%%\n"
    }
   }
  },
  {
   "cell_type": "code",
   "execution_count": 148,
   "outputs": [],
   "source": [
    "g_df.to_csv('kaggle_data/genres_dataframe.csv')"
   ],
   "metadata": {
    "collapsed": false,
    "pycharm": {
     "name": "#%%\n"
    }
   }
  },
  {
   "cell_type": "code",
   "execution_count": 149,
   "outputs": [
    {
     "data": {
      "text/plain": "array([\"['miramax films', 'a band apart']\",\n       \"['fine line features', 'zentropa entertainments', 'danmarks radio (dr)', 'svt drama', 'arte', 'memfis film', 'france 3 cinéma', 'angel films', 'tv 1000', 'canal+', 'constantin film produktion', 'yleisradio (yle)', 'arte france cinéma', 'westdeutscher rundfunk (wdr)', 'blind spot pictures oy', 'vrijzinnig protestantse radio omroep (vpro)', 'film4', 'liberator productions', 'icelandic film', 'film i väst', 'pain unlimited gmbh filmproduktion', 'trust film svenska', 'cinematograph a/s', 'what else? b.v', 'filmek a/s', 'lantia cinema & audiovisivi']\",\n       \"['columbia pictures', 'gaumont']\", ...,\n       \"['telefe', 'a contracorriente films', 'pampa films', 'directv']\",\n       \"['eastern sunrise films']\",\n       \"['scott free productions', 'cinelou films']\"], dtype=object)"
     },
     "execution_count": 149,
     "metadata": {},
     "output_type": "execute_result"
    }
   ],
   "source": [
    "df['production_companies'].unique()"
   ],
   "metadata": {
    "collapsed": false,
    "pycharm": {
     "name": "#%%\n"
    }
   }
  },
  {
   "cell_type": "markdown",
   "source": [
    "unique production companies not that helpful, 3k companies will be so much sparsity"
   ],
   "metadata": {
    "collapsed": false
   }
  },
  {
   "cell_type": "code",
   "execution_count": 163,
   "outputs": [],
   "source": [
    "dir_related_df= df[['id',\n",
    "                    'title',\n",
    "                    'directors',\n",
    "                    'dir_rev_perc',\n",
    "                    'dir_perc',\n",
    "                    'revenue_percentage',\n",
    "                    'popularity',\n",
    "                    'budget',\n",
    "                    'revenue',\n",
    "                    'adult']]"
   ],
   "metadata": {
    "collapsed": false,
    "pycharm": {
     "name": "#%%\n"
    }
   }
  },
  {
   "cell_type": "code",
   "execution_count": 164,
   "outputs": [],
   "source": [
    "dir_related_df= dir_related_df.join(g_df,on='id', how='inner' )"
   ],
   "metadata": {
    "collapsed": false,
    "pycharm": {
     "name": "#%%\n"
    }
   }
  },
  {
   "cell_type": "code",
   "execution_count": 165,
   "outputs": [
    {
     "data": {
      "text/plain": "          id                                              title  \\\n0          5                                         Four Rooms   \n1         16                                 Dancer in the Dark   \n2         18                                  The Fifth Element   \n3         19                                         Metropolis   \n4         22  Pirates of the Caribbean: The Curse of the Bla...   \n...      ...                                                ...   \n4324  422603                                           Aanandam   \n4325  425942                                         Black Snow   \n4326  433356                             The Ottoman Lieutenant   \n4327  440642                                    The Spacewalker   \n4328  443319                                  Phoenix Forgotten   \n\n                                              directors  dir_rev_perc  \\\n0     ['allison anders', 'alexandre rockwell', 'robe...      1.075000   \n1                                    ['lars von trier']      1.311045   \n2                                        ['luc besson']      1.615876   \n3                                        ['fritz lang']      1.229954   \n4                                    ['gore verbinski']      2.144467   \n...                                                 ...           ...   \n4324                                     ['ganesh raj']      5.111111   \n4325                                  ['martín hodara']      0.360000   \n4326                                   ['joseph ruben']      1.502762   \n4327                                ['dmitriy kiselev']      1.394896   \n4328                                  ['justin barber']      1.285714   \n\n      dir_perc  revenue_percentage  popularity       budget      revenue  \\\n0     0.000231            1.075000    9.026586    4000000.0    4300000.0   \n1     0.001386            3.127491   10.684806   12800000.0   40031879.0   \n2     0.002079            2.932446   24.305260   90000000.0  263920180.0   \n3     0.000462            0.007022   14.487867   92620000.0     650422.0   \n4     0.001848            4.678652   47.326665  140000000.0  655011224.0   \n...        ...                 ...         ...          ...          ...   \n4324  0.000231            5.111111    0.354748     450000.0    2300000.0   \n4325  0.000231            0.360000   10.067238    4000000.0    1440000.0   \n4326  0.000924            0.006024   13.256679   40000000.0     240978.0   \n4327  0.000231            1.394896   10.181000    7075038.0    9868942.0   \n4328  0.000231            1.285714   12.560942    2800000.0    3600000.0   \n\n      adult  ...  fantasy  drama  western  horror  adventure  family  \\\n0     False  ...        0      0        0       0          0       0   \n1     False  ...        0      1        0       0          0       0   \n2     False  ...        1      0        0       0          1       0   \n3     False  ...        0      1        0       0          0       0   \n4     False  ...        1      0        0       0          1       0   \n...     ...  ...      ...    ...      ...     ...        ...     ...   \n4324  False  ...        0      0        0       0          1       0   \n4325  False  ...        0      1        0       0          0       0   \n4326  False  ...        0      1        0       0          0       0   \n4327  False  ...        0      1        0       0          1       0   \n4328  False  ...        0      0        0       1          0       0   \n\n      thriller  music  foreign  war  \n0            0      0        0    0  \n1            0      1        0    0  \n2            1      0        0    0  \n3            0      0        0    0  \n4            0      0        0    0  \n...        ...    ...      ...  ...  \n4324         0      0        0    0  \n4325         1      0        0    0  \n4326         0      0        0    1  \n4327         0      0        0    0  \n4328         0      0        0    0  \n\n[4296 rows x 29 columns]",
      "text/html": "<div>\n<style scoped>\n    .dataframe tbody tr th:only-of-type {\n        vertical-align: middle;\n    }\n\n    .dataframe tbody tr th {\n        vertical-align: top;\n    }\n\n    .dataframe thead th {\n        text-align: right;\n    }\n</style>\n<table border=\"1\" class=\"dataframe\">\n  <thead>\n    <tr style=\"text-align: right;\">\n      <th></th>\n      <th>id</th>\n      <th>title</th>\n      <th>directors</th>\n      <th>dir_rev_perc</th>\n      <th>dir_perc</th>\n      <th>revenue_percentage</th>\n      <th>popularity</th>\n      <th>budget</th>\n      <th>revenue</th>\n      <th>adult</th>\n      <th>...</th>\n      <th>fantasy</th>\n      <th>drama</th>\n      <th>western</th>\n      <th>horror</th>\n      <th>adventure</th>\n      <th>family</th>\n      <th>thriller</th>\n      <th>music</th>\n      <th>foreign</th>\n      <th>war</th>\n    </tr>\n  </thead>\n  <tbody>\n    <tr>\n      <th>0</th>\n      <td>5</td>\n      <td>Four Rooms</td>\n      <td>['allison anders', 'alexandre rockwell', 'robe...</td>\n      <td>1.075000</td>\n      <td>0.000231</td>\n      <td>1.075000</td>\n      <td>9.026586</td>\n      <td>4000000.0</td>\n      <td>4300000.0</td>\n      <td>False</td>\n      <td>...</td>\n      <td>0</td>\n      <td>0</td>\n      <td>0</td>\n      <td>0</td>\n      <td>0</td>\n      <td>0</td>\n      <td>0</td>\n      <td>0</td>\n      <td>0</td>\n      <td>0</td>\n    </tr>\n    <tr>\n      <th>1</th>\n      <td>16</td>\n      <td>Dancer in the Dark</td>\n      <td>['lars von trier']</td>\n      <td>1.311045</td>\n      <td>0.001386</td>\n      <td>3.127491</td>\n      <td>10.684806</td>\n      <td>12800000.0</td>\n      <td>40031879.0</td>\n      <td>False</td>\n      <td>...</td>\n      <td>0</td>\n      <td>1</td>\n      <td>0</td>\n      <td>0</td>\n      <td>0</td>\n      <td>0</td>\n      <td>0</td>\n      <td>1</td>\n      <td>0</td>\n      <td>0</td>\n    </tr>\n    <tr>\n      <th>2</th>\n      <td>18</td>\n      <td>The Fifth Element</td>\n      <td>['luc besson']</td>\n      <td>1.615876</td>\n      <td>0.002079</td>\n      <td>2.932446</td>\n      <td>24.305260</td>\n      <td>90000000.0</td>\n      <td>263920180.0</td>\n      <td>False</td>\n      <td>...</td>\n      <td>1</td>\n      <td>0</td>\n      <td>0</td>\n      <td>0</td>\n      <td>1</td>\n      <td>0</td>\n      <td>1</td>\n      <td>0</td>\n      <td>0</td>\n      <td>0</td>\n    </tr>\n    <tr>\n      <th>3</th>\n      <td>19</td>\n      <td>Metropolis</td>\n      <td>['fritz lang']</td>\n      <td>1.229954</td>\n      <td>0.000462</td>\n      <td>0.007022</td>\n      <td>14.487867</td>\n      <td>92620000.0</td>\n      <td>650422.0</td>\n      <td>False</td>\n      <td>...</td>\n      <td>0</td>\n      <td>1</td>\n      <td>0</td>\n      <td>0</td>\n      <td>0</td>\n      <td>0</td>\n      <td>0</td>\n      <td>0</td>\n      <td>0</td>\n      <td>0</td>\n    </tr>\n    <tr>\n      <th>4</th>\n      <td>22</td>\n      <td>Pirates of the Caribbean: The Curse of the Bla...</td>\n      <td>['gore verbinski']</td>\n      <td>2.144467</td>\n      <td>0.001848</td>\n      <td>4.678652</td>\n      <td>47.326665</td>\n      <td>140000000.0</td>\n      <td>655011224.0</td>\n      <td>False</td>\n      <td>...</td>\n      <td>1</td>\n      <td>0</td>\n      <td>0</td>\n      <td>0</td>\n      <td>1</td>\n      <td>0</td>\n      <td>0</td>\n      <td>0</td>\n      <td>0</td>\n      <td>0</td>\n    </tr>\n    <tr>\n      <th>...</th>\n      <td>...</td>\n      <td>...</td>\n      <td>...</td>\n      <td>...</td>\n      <td>...</td>\n      <td>...</td>\n      <td>...</td>\n      <td>...</td>\n      <td>...</td>\n      <td>...</td>\n      <td>...</td>\n      <td>...</td>\n      <td>...</td>\n      <td>...</td>\n      <td>...</td>\n      <td>...</td>\n      <td>...</td>\n      <td>...</td>\n      <td>...</td>\n      <td>...</td>\n      <td>...</td>\n    </tr>\n    <tr>\n      <th>4324</th>\n      <td>422603</td>\n      <td>Aanandam</td>\n      <td>['ganesh raj']</td>\n      <td>5.111111</td>\n      <td>0.000231</td>\n      <td>5.111111</td>\n      <td>0.354748</td>\n      <td>450000.0</td>\n      <td>2300000.0</td>\n      <td>False</td>\n      <td>...</td>\n      <td>0</td>\n      <td>0</td>\n      <td>0</td>\n      <td>0</td>\n      <td>1</td>\n      <td>0</td>\n      <td>0</td>\n      <td>0</td>\n      <td>0</td>\n      <td>0</td>\n    </tr>\n    <tr>\n      <th>4325</th>\n      <td>425942</td>\n      <td>Black Snow</td>\n      <td>['martín hodara']</td>\n      <td>0.360000</td>\n      <td>0.000231</td>\n      <td>0.360000</td>\n      <td>10.067238</td>\n      <td>4000000.0</td>\n      <td>1440000.0</td>\n      <td>False</td>\n      <td>...</td>\n      <td>0</td>\n      <td>1</td>\n      <td>0</td>\n      <td>0</td>\n      <td>0</td>\n      <td>0</td>\n      <td>1</td>\n      <td>0</td>\n      <td>0</td>\n      <td>0</td>\n    </tr>\n    <tr>\n      <th>4326</th>\n      <td>433356</td>\n      <td>The Ottoman Lieutenant</td>\n      <td>['joseph ruben']</td>\n      <td>1.502762</td>\n      <td>0.000924</td>\n      <td>0.006024</td>\n      <td>13.256679</td>\n      <td>40000000.0</td>\n      <td>240978.0</td>\n      <td>False</td>\n      <td>...</td>\n      <td>0</td>\n      <td>1</td>\n      <td>0</td>\n      <td>0</td>\n      <td>0</td>\n      <td>0</td>\n      <td>0</td>\n      <td>0</td>\n      <td>0</td>\n      <td>1</td>\n    </tr>\n    <tr>\n      <th>4327</th>\n      <td>440642</td>\n      <td>The Spacewalker</td>\n      <td>['dmitriy kiselev']</td>\n      <td>1.394896</td>\n      <td>0.000231</td>\n      <td>1.394896</td>\n      <td>10.181000</td>\n      <td>7075038.0</td>\n      <td>9868942.0</td>\n      <td>False</td>\n      <td>...</td>\n      <td>0</td>\n      <td>1</td>\n      <td>0</td>\n      <td>0</td>\n      <td>1</td>\n      <td>0</td>\n      <td>0</td>\n      <td>0</td>\n      <td>0</td>\n      <td>0</td>\n    </tr>\n    <tr>\n      <th>4328</th>\n      <td>443319</td>\n      <td>Phoenix Forgotten</td>\n      <td>['justin barber']</td>\n      <td>1.285714</td>\n      <td>0.000231</td>\n      <td>1.285714</td>\n      <td>12.560942</td>\n      <td>2800000.0</td>\n      <td>3600000.0</td>\n      <td>False</td>\n      <td>...</td>\n      <td>0</td>\n      <td>0</td>\n      <td>0</td>\n      <td>1</td>\n      <td>0</td>\n      <td>0</td>\n      <td>0</td>\n      <td>0</td>\n      <td>0</td>\n      <td>0</td>\n    </tr>\n  </tbody>\n</table>\n<p>4296 rows × 29 columns</p>\n</div>"
     },
     "execution_count": 165,
     "metadata": {},
     "output_type": "execute_result"
    }
   ],
   "source": [
    "dir_related_df"
   ],
   "metadata": {
    "collapsed": false,
    "pycharm": {
     "name": "#%%\n"
    }
   }
  },
  {
   "cell_type": "code",
   "execution_count": 166,
   "outputs": [
    {
     "data": {
      "text/plain": "False    4296\nName: adult, dtype: int64"
     },
     "execution_count": 166,
     "metadata": {},
     "output_type": "execute_result"
    }
   ],
   "source": [
    "dir_related_df['adult'].value_counts()"
   ],
   "metadata": {
    "collapsed": false,
    "pycharm": {
     "name": "#%%\n"
    }
   }
  },
  {
   "cell_type": "code",
   "execution_count": 167,
   "outputs": [],
   "source": [
    "dir_related_df.drop(columns=['adult'],\n",
    "                    inplace=True)"
   ],
   "metadata": {
    "collapsed": false,
    "pycharm": {
     "name": "#%%\n"
    }
   }
  },
  {
   "cell_type": "code",
   "execution_count": 168,
   "outputs": [
    {
     "data": {
      "text/plain": "          id                                              title  \\\n0          5                                         Four Rooms   \n1         16                                 Dancer in the Dark   \n2         18                                  The Fifth Element   \n3         19                                         Metropolis   \n4         22  Pirates of the Caribbean: The Curse of the Bla...   \n...      ...                                                ...   \n4324  422603                                           Aanandam   \n4325  425942                                         Black Snow   \n4326  433356                             The Ottoman Lieutenant   \n4327  440642                                    The Spacewalker   \n4328  443319                                  Phoenix Forgotten   \n\n                                              directors  dir_rev_perc  \\\n0     ['allison anders', 'alexandre rockwell', 'robe...      1.075000   \n1                                    ['lars von trier']      1.311045   \n2                                        ['luc besson']      1.615876   \n3                                        ['fritz lang']      1.229954   \n4                                    ['gore verbinski']      2.144467   \n...                                                 ...           ...   \n4324                                     ['ganesh raj']      5.111111   \n4325                                  ['martín hodara']      0.360000   \n4326                                   ['joseph ruben']      1.502762   \n4327                                ['dmitriy kiselev']      1.394896   \n4328                                  ['justin barber']      1.285714   \n\n      dir_perc  revenue_percentage  popularity       budget      revenue  \\\n0     0.000231            1.075000    9.026586    4000000.0    4300000.0   \n1     0.001386            3.127491   10.684806   12800000.0   40031879.0   \n2     0.002079            2.932446   24.305260   90000000.0  263920180.0   \n3     0.000462            0.007022   14.487867   92620000.0     650422.0   \n4     0.001848            4.678652   47.326665  140000000.0  655011224.0   \n...        ...                 ...         ...          ...          ...   \n4324  0.000231            5.111111    0.354748     450000.0    2300000.0   \n4325  0.000231            0.360000   10.067238    4000000.0    1440000.0   \n4326  0.000924            0.006024   13.256679   40000000.0     240978.0   \n4327  0.000231            1.394896   10.181000    7075038.0    9868942.0   \n4328  0.000231            1.285714   12.560942    2800000.0    3600000.0   \n\n      history  ...  fantasy  drama  western  horror  adventure  family  \\\n0           0  ...        0      0        0       0          0       0   \n1           0  ...        0      1        0       0          0       0   \n2           0  ...        1      0        0       0          1       0   \n3           0  ...        0      1        0       0          0       0   \n4           0  ...        1      0        0       0          1       0   \n...       ...  ...      ...    ...      ...     ...        ...     ...   \n4324        0  ...        0      0        0       0          1       0   \n4325        0  ...        0      1        0       0          0       0   \n4326        0  ...        0      1        0       0          0       0   \n4327        1  ...        0      1        0       0          1       0   \n4328        0  ...        0      0        0       1          0       0   \n\n      thriller  music  foreign  war  \n0            0      0        0    0  \n1            0      1        0    0  \n2            1      0        0    0  \n3            0      0        0    0  \n4            0      0        0    0  \n...        ...    ...      ...  ...  \n4324         0      0        0    0  \n4325         1      0        0    0  \n4326         0      0        0    1  \n4327         0      0        0    0  \n4328         0      0        0    0  \n\n[4296 rows x 28 columns]",
      "text/html": "<div>\n<style scoped>\n    .dataframe tbody tr th:only-of-type {\n        vertical-align: middle;\n    }\n\n    .dataframe tbody tr th {\n        vertical-align: top;\n    }\n\n    .dataframe thead th {\n        text-align: right;\n    }\n</style>\n<table border=\"1\" class=\"dataframe\">\n  <thead>\n    <tr style=\"text-align: right;\">\n      <th></th>\n      <th>id</th>\n      <th>title</th>\n      <th>directors</th>\n      <th>dir_rev_perc</th>\n      <th>dir_perc</th>\n      <th>revenue_percentage</th>\n      <th>popularity</th>\n      <th>budget</th>\n      <th>revenue</th>\n      <th>history</th>\n      <th>...</th>\n      <th>fantasy</th>\n      <th>drama</th>\n      <th>western</th>\n      <th>horror</th>\n      <th>adventure</th>\n      <th>family</th>\n      <th>thriller</th>\n      <th>music</th>\n      <th>foreign</th>\n      <th>war</th>\n    </tr>\n  </thead>\n  <tbody>\n    <tr>\n      <th>0</th>\n      <td>5</td>\n      <td>Four Rooms</td>\n      <td>['allison anders', 'alexandre rockwell', 'robe...</td>\n      <td>1.075000</td>\n      <td>0.000231</td>\n      <td>1.075000</td>\n      <td>9.026586</td>\n      <td>4000000.0</td>\n      <td>4300000.0</td>\n      <td>0</td>\n      <td>...</td>\n      <td>0</td>\n      <td>0</td>\n      <td>0</td>\n      <td>0</td>\n      <td>0</td>\n      <td>0</td>\n      <td>0</td>\n      <td>0</td>\n      <td>0</td>\n      <td>0</td>\n    </tr>\n    <tr>\n      <th>1</th>\n      <td>16</td>\n      <td>Dancer in the Dark</td>\n      <td>['lars von trier']</td>\n      <td>1.311045</td>\n      <td>0.001386</td>\n      <td>3.127491</td>\n      <td>10.684806</td>\n      <td>12800000.0</td>\n      <td>40031879.0</td>\n      <td>0</td>\n      <td>...</td>\n      <td>0</td>\n      <td>1</td>\n      <td>0</td>\n      <td>0</td>\n      <td>0</td>\n      <td>0</td>\n      <td>0</td>\n      <td>1</td>\n      <td>0</td>\n      <td>0</td>\n    </tr>\n    <tr>\n      <th>2</th>\n      <td>18</td>\n      <td>The Fifth Element</td>\n      <td>['luc besson']</td>\n      <td>1.615876</td>\n      <td>0.002079</td>\n      <td>2.932446</td>\n      <td>24.305260</td>\n      <td>90000000.0</td>\n      <td>263920180.0</td>\n      <td>0</td>\n      <td>...</td>\n      <td>1</td>\n      <td>0</td>\n      <td>0</td>\n      <td>0</td>\n      <td>1</td>\n      <td>0</td>\n      <td>1</td>\n      <td>0</td>\n      <td>0</td>\n      <td>0</td>\n    </tr>\n    <tr>\n      <th>3</th>\n      <td>19</td>\n      <td>Metropolis</td>\n      <td>['fritz lang']</td>\n      <td>1.229954</td>\n      <td>0.000462</td>\n      <td>0.007022</td>\n      <td>14.487867</td>\n      <td>92620000.0</td>\n      <td>650422.0</td>\n      <td>0</td>\n      <td>...</td>\n      <td>0</td>\n      <td>1</td>\n      <td>0</td>\n      <td>0</td>\n      <td>0</td>\n      <td>0</td>\n      <td>0</td>\n      <td>0</td>\n      <td>0</td>\n      <td>0</td>\n    </tr>\n    <tr>\n      <th>4</th>\n      <td>22</td>\n      <td>Pirates of the Caribbean: The Curse of the Bla...</td>\n      <td>['gore verbinski']</td>\n      <td>2.144467</td>\n      <td>0.001848</td>\n      <td>4.678652</td>\n      <td>47.326665</td>\n      <td>140000000.0</td>\n      <td>655011224.0</td>\n      <td>0</td>\n      <td>...</td>\n      <td>1</td>\n      <td>0</td>\n      <td>0</td>\n      <td>0</td>\n      <td>1</td>\n      <td>0</td>\n      <td>0</td>\n      <td>0</td>\n      <td>0</td>\n      <td>0</td>\n    </tr>\n    <tr>\n      <th>...</th>\n      <td>...</td>\n      <td>...</td>\n      <td>...</td>\n      <td>...</td>\n      <td>...</td>\n      <td>...</td>\n      <td>...</td>\n      <td>...</td>\n      <td>...</td>\n      <td>...</td>\n      <td>...</td>\n      <td>...</td>\n      <td>...</td>\n      <td>...</td>\n      <td>...</td>\n      <td>...</td>\n      <td>...</td>\n      <td>...</td>\n      <td>...</td>\n      <td>...</td>\n      <td>...</td>\n    </tr>\n    <tr>\n      <th>4324</th>\n      <td>422603</td>\n      <td>Aanandam</td>\n      <td>['ganesh raj']</td>\n      <td>5.111111</td>\n      <td>0.000231</td>\n      <td>5.111111</td>\n      <td>0.354748</td>\n      <td>450000.0</td>\n      <td>2300000.0</td>\n      <td>0</td>\n      <td>...</td>\n      <td>0</td>\n      <td>0</td>\n      <td>0</td>\n      <td>0</td>\n      <td>1</td>\n      <td>0</td>\n      <td>0</td>\n      <td>0</td>\n      <td>0</td>\n      <td>0</td>\n    </tr>\n    <tr>\n      <th>4325</th>\n      <td>425942</td>\n      <td>Black Snow</td>\n      <td>['martín hodara']</td>\n      <td>0.360000</td>\n      <td>0.000231</td>\n      <td>0.360000</td>\n      <td>10.067238</td>\n      <td>4000000.0</td>\n      <td>1440000.0</td>\n      <td>0</td>\n      <td>...</td>\n      <td>0</td>\n      <td>1</td>\n      <td>0</td>\n      <td>0</td>\n      <td>0</td>\n      <td>0</td>\n      <td>1</td>\n      <td>0</td>\n      <td>0</td>\n      <td>0</td>\n    </tr>\n    <tr>\n      <th>4326</th>\n      <td>433356</td>\n      <td>The Ottoman Lieutenant</td>\n      <td>['joseph ruben']</td>\n      <td>1.502762</td>\n      <td>0.000924</td>\n      <td>0.006024</td>\n      <td>13.256679</td>\n      <td>40000000.0</td>\n      <td>240978.0</td>\n      <td>0</td>\n      <td>...</td>\n      <td>0</td>\n      <td>1</td>\n      <td>0</td>\n      <td>0</td>\n      <td>0</td>\n      <td>0</td>\n      <td>0</td>\n      <td>0</td>\n      <td>0</td>\n      <td>1</td>\n    </tr>\n    <tr>\n      <th>4327</th>\n      <td>440642</td>\n      <td>The Spacewalker</td>\n      <td>['dmitriy kiselev']</td>\n      <td>1.394896</td>\n      <td>0.000231</td>\n      <td>1.394896</td>\n      <td>10.181000</td>\n      <td>7075038.0</td>\n      <td>9868942.0</td>\n      <td>1</td>\n      <td>...</td>\n      <td>0</td>\n      <td>1</td>\n      <td>0</td>\n      <td>0</td>\n      <td>1</td>\n      <td>0</td>\n      <td>0</td>\n      <td>0</td>\n      <td>0</td>\n      <td>0</td>\n    </tr>\n    <tr>\n      <th>4328</th>\n      <td>443319</td>\n      <td>Phoenix Forgotten</td>\n      <td>['justin barber']</td>\n      <td>1.285714</td>\n      <td>0.000231</td>\n      <td>1.285714</td>\n      <td>12.560942</td>\n      <td>2800000.0</td>\n      <td>3600000.0</td>\n      <td>0</td>\n      <td>...</td>\n      <td>0</td>\n      <td>0</td>\n      <td>0</td>\n      <td>1</td>\n      <td>0</td>\n      <td>0</td>\n      <td>0</td>\n      <td>0</td>\n      <td>0</td>\n      <td>0</td>\n    </tr>\n  </tbody>\n</table>\n<p>4296 rows × 28 columns</p>\n</div>"
     },
     "execution_count": 168,
     "metadata": {},
     "output_type": "execute_result"
    }
   ],
   "source": [
    "dir_related_df"
   ],
   "metadata": {
    "collapsed": false,
    "pycharm": {
     "name": "#%%\n"
    }
   }
  },
  {
   "cell_type": "code",
   "execution_count": 169,
   "outputs": [],
   "source": [
    "dir_related_df.to_csv('kaggle_data/director_related_data.csv')"
   ],
   "metadata": {
    "collapsed": false,
    "pycharm": {
     "name": "#%%\n"
    }
   }
  },
  {
   "cell_type": "code",
   "execution_count": null,
   "outputs": [],
   "source": [],
   "metadata": {
    "collapsed": false,
    "pycharm": {
     "name": "#%%\n"
    }
   }
  }
 ],
 "metadata": {
  "kernelspec": {
   "display_name": "Python 3",
   "language": "python",
   "name": "python3"
  },
  "language_info": {
   "codemirror_mode": {
    "name": "ipython",
    "version": 2
   },
   "file_extension": ".py",
   "mimetype": "text/x-python",
   "name": "python",
   "nbconvert_exporter": "python",
   "pygments_lexer": "ipython2",
   "version": "2.7.6"
  }
 },
 "nbformat": 4,
 "nbformat_minor": 0
}