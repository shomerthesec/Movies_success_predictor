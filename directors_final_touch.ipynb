{
 "cells": [
  {
   "cell_type": "code",
   "execution_count": null,
   "outputs": [],
   "source": [
    "import pandas as pd\n",
    "import numpy as np\n",
    "import matplotlib as plt\n",
    "import seaborn as sns"
   ],
   "metadata": {
    "collapsed": false,
    "pycharm": {
     "name": "#%%\n"
    }
   }
  },
  {
   "cell_type": "code",
   "execution_count": 23,
   "outputs": [],
   "source": [
    "df= pd.read_csv('kaggle_data/director_related_data.csv', index_col='id').drop('Unnamed: 0' , axis=1)"
   ],
   "metadata": {
    "collapsed": false,
    "pycharm": {
     "name": "#%%\n"
    }
   }
  },
  {
   "cell_type": "code",
   "execution_count": 24,
   "outputs": [
    {
     "data": {
      "text/plain": "                                                    title  \\\nid                                                          \n5                                              Four Rooms   \n16                                     Dancer in the Dark   \n18                                      The Fifth Element   \n19                                             Metropolis   \n22      Pirates of the Caribbean: The Curse of the Bla...   \n...                                                   ...   \n422603                                           Aanandam   \n425942                                         Black Snow   \n433356                             The Ottoman Lieutenant   \n440642                                    The Spacewalker   \n443319                                  Phoenix Forgotten   \n\n                                                directors  dir_rev_perc  \\\nid                                                                        \n5       ['allison anders', 'alexandre rockwell', 'robe...      1.075000   \n16                                     ['lars von trier']      1.311045   \n18                                         ['luc besson']      1.615876   \n19                                         ['fritz lang']      1.229954   \n22                                     ['gore verbinski']      2.144467   \n...                                                   ...           ...   \n422603                                     ['ganesh raj']      5.111111   \n425942                                  ['martín hodara']      0.360000   \n433356                                   ['joseph ruben']      1.502762   \n440642                                ['dmitriy kiselev']      1.394896   \n443319                                  ['justin barber']      1.285714   \n\n        dir_perc  revenue_percentage  popularity       budget      revenue  \\\nid                                                                           \n5       0.000231            1.075000    9.026586    4000000.0    4300000.0   \n16      0.001386            3.127491   10.684806   12800000.0   40031879.0   \n18      0.002079            2.932446   24.305260   90000000.0  263920180.0   \n19      0.000462            0.007022   14.487867   92620000.0     650422.0   \n22      0.001848            4.678652   47.326665  140000000.0  655011224.0   \n...          ...                 ...         ...          ...          ...   \n422603  0.000231            5.111111    0.354748     450000.0    2300000.0   \n425942  0.000231            0.360000   10.067238    4000000.0    1440000.0   \n433356  0.000924            0.006024   13.256679   40000000.0     240978.0   \n440642  0.000231            1.394896   10.181000    7075038.0    9868942.0   \n443319  0.000231            1.285714   12.560942    2800000.0    3600000.0   \n\n        history  comedy  ...  fantasy  drama  western  horror  adventure  \\\nid                       ...                                               \n5             0       1  ...        0      0        0       0          0   \n16            0       0  ...        0      1        0       0          0   \n18            0       0  ...        1      0        0       0          1   \n19            0       0  ...        0      1        0       0          0   \n22            0       0  ...        1      0        0       0          1   \n...         ...     ...  ...      ...    ...      ...     ...        ...   \n422603        0       1  ...        0      0        0       0          1   \n425942        0       0  ...        0      1        0       0          0   \n433356        0       0  ...        0      1        0       0          0   \n440642        1       0  ...        0      1        0       0          1   \n443319        0       0  ...        0      0        0       1          0   \n\n        family  thriller  music  foreign  war  \nid                                             \n5            0         0      0        0    0  \n16           0         0      1        0    0  \n18           0         1      0        0    0  \n19           0         0      0        0    0  \n22           0         0      0        0    0  \n...        ...       ...    ...      ...  ...  \n422603       0         0      0        0    0  \n425942       0         1      0        0    0  \n433356       0         0      0        0    1  \n440642       0         0      0        0    0  \n443319       0         0      0        0    0  \n\n[4296 rows x 27 columns]",
      "text/html": "<div>\n<style scoped>\n    .dataframe tbody tr th:only-of-type {\n        vertical-align: middle;\n    }\n\n    .dataframe tbody tr th {\n        vertical-align: top;\n    }\n\n    .dataframe thead th {\n        text-align: right;\n    }\n</style>\n<table border=\"1\" class=\"dataframe\">\n  <thead>\n    <tr style=\"text-align: right;\">\n      <th></th>\n      <th>title</th>\n      <th>directors</th>\n      <th>dir_rev_perc</th>\n      <th>dir_perc</th>\n      <th>revenue_percentage</th>\n      <th>popularity</th>\n      <th>budget</th>\n      <th>revenue</th>\n      <th>history</th>\n      <th>comedy</th>\n      <th>...</th>\n      <th>fantasy</th>\n      <th>drama</th>\n      <th>western</th>\n      <th>horror</th>\n      <th>adventure</th>\n      <th>family</th>\n      <th>thriller</th>\n      <th>music</th>\n      <th>foreign</th>\n      <th>war</th>\n    </tr>\n    <tr>\n      <th>id</th>\n      <th></th>\n      <th></th>\n      <th></th>\n      <th></th>\n      <th></th>\n      <th></th>\n      <th></th>\n      <th></th>\n      <th></th>\n      <th></th>\n      <th></th>\n      <th></th>\n      <th></th>\n      <th></th>\n      <th></th>\n      <th></th>\n      <th></th>\n      <th></th>\n      <th></th>\n      <th></th>\n      <th></th>\n    </tr>\n  </thead>\n  <tbody>\n    <tr>\n      <th>5</th>\n      <td>Four Rooms</td>\n      <td>['allison anders', 'alexandre rockwell', 'robe...</td>\n      <td>1.075000</td>\n      <td>0.000231</td>\n      <td>1.075000</td>\n      <td>9.026586</td>\n      <td>4000000.0</td>\n      <td>4300000.0</td>\n      <td>0</td>\n      <td>1</td>\n      <td>...</td>\n      <td>0</td>\n      <td>0</td>\n      <td>0</td>\n      <td>0</td>\n      <td>0</td>\n      <td>0</td>\n      <td>0</td>\n      <td>0</td>\n      <td>0</td>\n      <td>0</td>\n    </tr>\n    <tr>\n      <th>16</th>\n      <td>Dancer in the Dark</td>\n      <td>['lars von trier']</td>\n      <td>1.311045</td>\n      <td>0.001386</td>\n      <td>3.127491</td>\n      <td>10.684806</td>\n      <td>12800000.0</td>\n      <td>40031879.0</td>\n      <td>0</td>\n      <td>0</td>\n      <td>...</td>\n      <td>0</td>\n      <td>1</td>\n      <td>0</td>\n      <td>0</td>\n      <td>0</td>\n      <td>0</td>\n      <td>0</td>\n      <td>1</td>\n      <td>0</td>\n      <td>0</td>\n    </tr>\n    <tr>\n      <th>18</th>\n      <td>The Fifth Element</td>\n      <td>['luc besson']</td>\n      <td>1.615876</td>\n      <td>0.002079</td>\n      <td>2.932446</td>\n      <td>24.305260</td>\n      <td>90000000.0</td>\n      <td>263920180.0</td>\n      <td>0</td>\n      <td>0</td>\n      <td>...</td>\n      <td>1</td>\n      <td>0</td>\n      <td>0</td>\n      <td>0</td>\n      <td>1</td>\n      <td>0</td>\n      <td>1</td>\n      <td>0</td>\n      <td>0</td>\n      <td>0</td>\n    </tr>\n    <tr>\n      <th>19</th>\n      <td>Metropolis</td>\n      <td>['fritz lang']</td>\n      <td>1.229954</td>\n      <td>0.000462</td>\n      <td>0.007022</td>\n      <td>14.487867</td>\n      <td>92620000.0</td>\n      <td>650422.0</td>\n      <td>0</td>\n      <td>0</td>\n      <td>...</td>\n      <td>0</td>\n      <td>1</td>\n      <td>0</td>\n      <td>0</td>\n      <td>0</td>\n      <td>0</td>\n      <td>0</td>\n      <td>0</td>\n      <td>0</td>\n      <td>0</td>\n    </tr>\n    <tr>\n      <th>22</th>\n      <td>Pirates of the Caribbean: The Curse of the Bla...</td>\n      <td>['gore verbinski']</td>\n      <td>2.144467</td>\n      <td>0.001848</td>\n      <td>4.678652</td>\n      <td>47.326665</td>\n      <td>140000000.0</td>\n      <td>655011224.0</td>\n      <td>0</td>\n      <td>0</td>\n      <td>...</td>\n      <td>1</td>\n      <td>0</td>\n      <td>0</td>\n      <td>0</td>\n      <td>1</td>\n      <td>0</td>\n      <td>0</td>\n      <td>0</td>\n      <td>0</td>\n      <td>0</td>\n    </tr>\n    <tr>\n      <th>...</th>\n      <td>...</td>\n      <td>...</td>\n      <td>...</td>\n      <td>...</td>\n      <td>...</td>\n      <td>...</td>\n      <td>...</td>\n      <td>...</td>\n      <td>...</td>\n      <td>...</td>\n      <td>...</td>\n      <td>...</td>\n      <td>...</td>\n      <td>...</td>\n      <td>...</td>\n      <td>...</td>\n      <td>...</td>\n      <td>...</td>\n      <td>...</td>\n      <td>...</td>\n      <td>...</td>\n    </tr>\n    <tr>\n      <th>422603</th>\n      <td>Aanandam</td>\n      <td>['ganesh raj']</td>\n      <td>5.111111</td>\n      <td>0.000231</td>\n      <td>5.111111</td>\n      <td>0.354748</td>\n      <td>450000.0</td>\n      <td>2300000.0</td>\n      <td>0</td>\n      <td>1</td>\n      <td>...</td>\n      <td>0</td>\n      <td>0</td>\n      <td>0</td>\n      <td>0</td>\n      <td>1</td>\n      <td>0</td>\n      <td>0</td>\n      <td>0</td>\n      <td>0</td>\n      <td>0</td>\n    </tr>\n    <tr>\n      <th>425942</th>\n      <td>Black Snow</td>\n      <td>['martín hodara']</td>\n      <td>0.360000</td>\n      <td>0.000231</td>\n      <td>0.360000</td>\n      <td>10.067238</td>\n      <td>4000000.0</td>\n      <td>1440000.0</td>\n      <td>0</td>\n      <td>0</td>\n      <td>...</td>\n      <td>0</td>\n      <td>1</td>\n      <td>0</td>\n      <td>0</td>\n      <td>0</td>\n      <td>0</td>\n      <td>1</td>\n      <td>0</td>\n      <td>0</td>\n      <td>0</td>\n    </tr>\n    <tr>\n      <th>433356</th>\n      <td>The Ottoman Lieutenant</td>\n      <td>['joseph ruben']</td>\n      <td>1.502762</td>\n      <td>0.000924</td>\n      <td>0.006024</td>\n      <td>13.256679</td>\n      <td>40000000.0</td>\n      <td>240978.0</td>\n      <td>0</td>\n      <td>0</td>\n      <td>...</td>\n      <td>0</td>\n      <td>1</td>\n      <td>0</td>\n      <td>0</td>\n      <td>0</td>\n      <td>0</td>\n      <td>0</td>\n      <td>0</td>\n      <td>0</td>\n      <td>1</td>\n    </tr>\n    <tr>\n      <th>440642</th>\n      <td>The Spacewalker</td>\n      <td>['dmitriy kiselev']</td>\n      <td>1.394896</td>\n      <td>0.000231</td>\n      <td>1.394896</td>\n      <td>10.181000</td>\n      <td>7075038.0</td>\n      <td>9868942.0</td>\n      <td>1</td>\n      <td>0</td>\n      <td>...</td>\n      <td>0</td>\n      <td>1</td>\n      <td>0</td>\n      <td>0</td>\n      <td>1</td>\n      <td>0</td>\n      <td>0</td>\n      <td>0</td>\n      <td>0</td>\n      <td>0</td>\n    </tr>\n    <tr>\n      <th>443319</th>\n      <td>Phoenix Forgotten</td>\n      <td>['justin barber']</td>\n      <td>1.285714</td>\n      <td>0.000231</td>\n      <td>1.285714</td>\n      <td>12.560942</td>\n      <td>2800000.0</td>\n      <td>3600000.0</td>\n      <td>0</td>\n      <td>0</td>\n      <td>...</td>\n      <td>0</td>\n      <td>0</td>\n      <td>0</td>\n      <td>1</td>\n      <td>0</td>\n      <td>0</td>\n      <td>0</td>\n      <td>0</td>\n      <td>0</td>\n      <td>0</td>\n    </tr>\n  </tbody>\n</table>\n<p>4296 rows × 27 columns</p>\n</div>"
     },
     "execution_count": 24,
     "metadata": {},
     "output_type": "execute_result"
    }
   ],
   "source": [
    "df"
   ],
   "metadata": {
    "collapsed": false,
    "pycharm": {
     "name": "#%%\n"
    }
   }
  },
  {
   "cell_type": "markdown",
   "source": [
    "## adding the average popularity for each director based on his films"
   ],
   "metadata": {
    "collapsed": false
   }
  },
  {
   "cell_type": "code",
   "execution_count": 25,
   "outputs": [],
   "source": [
    "avg_pop_dict= dict( df.groupby('directors')['popularity'].mean())"
   ],
   "metadata": {
    "collapsed": false,
    "pycharm": {
     "name": "#%%\n"
    }
   }
  },
  {
   "cell_type": "code",
   "execution_count": 26,
   "outputs": [],
   "source": [
    "df['avg_dir_pop'] = df['directors'].map( avg_pop_dict )"
   ],
   "metadata": {
    "collapsed": false,
    "pycharm": {
     "name": "#%%\n"
    }
   }
  },
  {
   "cell_type": "code",
   "execution_count": 27,
   "outputs": [
    {
     "data": {
      "text/plain": "                                                    title  \\\nid                                                          \n5                                              Four Rooms   \n16                                     Dancer in the Dark   \n18                                      The Fifth Element   \n19                                             Metropolis   \n22      Pirates of the Caribbean: The Curse of the Bla...   \n...                                                   ...   \n422603                                           Aanandam   \n425942                                         Black Snow   \n433356                             The Ottoman Lieutenant   \n440642                                    The Spacewalker   \n443319                                  Phoenix Forgotten   \n\n                                                directors  dir_rev_perc  \\\nid                                                                        \n5       ['allison anders', 'alexandre rockwell', 'robe...      1.075000   \n16                                     ['lars von trier']      1.311045   \n18                                         ['luc besson']      1.615876   \n19                                         ['fritz lang']      1.229954   \n22                                     ['gore verbinski']      2.144467   \n...                                                   ...           ...   \n422603                                     ['ganesh raj']      5.111111   \n425942                                  ['martín hodara']      0.360000   \n433356                                   ['joseph ruben']      1.502762   \n440642                                ['dmitriy kiselev']      1.394896   \n443319                                  ['justin barber']      1.285714   \n\n        dir_perc  revenue_percentage  popularity       budget      revenue  \\\nid                                                                           \n5       0.000231            1.075000    9.026586    4000000.0    4300000.0   \n16      0.001386            3.127491   10.684806   12800000.0   40031879.0   \n18      0.002079            2.932446   24.305260   90000000.0  263920180.0   \n19      0.000462            0.007022   14.487867   92620000.0     650422.0   \n22      0.001848            4.678652   47.326665  140000000.0  655011224.0   \n...          ...                 ...         ...          ...          ...   \n422603  0.000231            5.111111    0.354748     450000.0    2300000.0   \n425942  0.000231            0.360000   10.067238    4000000.0    1440000.0   \n433356  0.000924            0.006024   13.256679   40000000.0     240978.0   \n440642  0.000231            1.394896   10.181000    7075038.0    9868942.0   \n443319  0.000231            1.285714   12.560942    2800000.0    3600000.0   \n\n        history  comedy  ...  drama  western  horror  adventure  family  \\\nid                       ...                                              \n5             0       1  ...      0        0       0          0       0   \n16            0       0  ...      1        0       0          0       0   \n18            0       0  ...      0        0       0          1       0   \n19            0       0  ...      1        0       0          0       0   \n22            0       0  ...      0        0       0          1       0   \n...         ...     ...  ...    ...      ...     ...        ...     ...   \n422603        0       1  ...      0        0       0          1       0   \n425942        0       0  ...      1        0       0          0       0   \n433356        0       0  ...      1        0       0          0       0   \n440642        1       0  ...      1        0       0          1       0   \n443319        0       0  ...      0        0       1          0       0   \n\n        thriller  music  foreign  war  avg_dir_pop  \nid                                                  \n5              0      0        0    0     9.026586  \n16             0      1        0    0     8.355166  \n18             1      0        0    0    15.601252  \n19             0      0        0    0    10.424307  \n22             0      0        0    0    17.505778  \n...          ...    ...      ...  ...          ...  \n422603         0      0        0    0     0.354748  \n425942         1      0        0    0    10.067238  \n433356         0      0        0    1     8.717460  \n440642         0      0        0    0    10.181000  \n443319         0      0        0    0    12.560942  \n\n[4296 rows x 28 columns]",
      "text/html": "<div>\n<style scoped>\n    .dataframe tbody tr th:only-of-type {\n        vertical-align: middle;\n    }\n\n    .dataframe tbody tr th {\n        vertical-align: top;\n    }\n\n    .dataframe thead th {\n        text-align: right;\n    }\n</style>\n<table border=\"1\" class=\"dataframe\">\n  <thead>\n    <tr style=\"text-align: right;\">\n      <th></th>\n      <th>title</th>\n      <th>directors</th>\n      <th>dir_rev_perc</th>\n      <th>dir_perc</th>\n      <th>revenue_percentage</th>\n      <th>popularity</th>\n      <th>budget</th>\n      <th>revenue</th>\n      <th>history</th>\n      <th>comedy</th>\n      <th>...</th>\n      <th>drama</th>\n      <th>western</th>\n      <th>horror</th>\n      <th>adventure</th>\n      <th>family</th>\n      <th>thriller</th>\n      <th>music</th>\n      <th>foreign</th>\n      <th>war</th>\n      <th>avg_dir_pop</th>\n    </tr>\n    <tr>\n      <th>id</th>\n      <th></th>\n      <th></th>\n      <th></th>\n      <th></th>\n      <th></th>\n      <th></th>\n      <th></th>\n      <th></th>\n      <th></th>\n      <th></th>\n      <th></th>\n      <th></th>\n      <th></th>\n      <th></th>\n      <th></th>\n      <th></th>\n      <th></th>\n      <th></th>\n      <th></th>\n      <th></th>\n      <th></th>\n    </tr>\n  </thead>\n  <tbody>\n    <tr>\n      <th>5</th>\n      <td>Four Rooms</td>\n      <td>['allison anders', 'alexandre rockwell', 'robe...</td>\n      <td>1.075000</td>\n      <td>0.000231</td>\n      <td>1.075000</td>\n      <td>9.026586</td>\n      <td>4000000.0</td>\n      <td>4300000.0</td>\n      <td>0</td>\n      <td>1</td>\n      <td>...</td>\n      <td>0</td>\n      <td>0</td>\n      <td>0</td>\n      <td>0</td>\n      <td>0</td>\n      <td>0</td>\n      <td>0</td>\n      <td>0</td>\n      <td>0</td>\n      <td>9.026586</td>\n    </tr>\n    <tr>\n      <th>16</th>\n      <td>Dancer in the Dark</td>\n      <td>['lars von trier']</td>\n      <td>1.311045</td>\n      <td>0.001386</td>\n      <td>3.127491</td>\n      <td>10.684806</td>\n      <td>12800000.0</td>\n      <td>40031879.0</td>\n      <td>0</td>\n      <td>0</td>\n      <td>...</td>\n      <td>1</td>\n      <td>0</td>\n      <td>0</td>\n      <td>0</td>\n      <td>0</td>\n      <td>0</td>\n      <td>1</td>\n      <td>0</td>\n      <td>0</td>\n      <td>8.355166</td>\n    </tr>\n    <tr>\n      <th>18</th>\n      <td>The Fifth Element</td>\n      <td>['luc besson']</td>\n      <td>1.615876</td>\n      <td>0.002079</td>\n      <td>2.932446</td>\n      <td>24.305260</td>\n      <td>90000000.0</td>\n      <td>263920180.0</td>\n      <td>0</td>\n      <td>0</td>\n      <td>...</td>\n      <td>0</td>\n      <td>0</td>\n      <td>0</td>\n      <td>1</td>\n      <td>0</td>\n      <td>1</td>\n      <td>0</td>\n      <td>0</td>\n      <td>0</td>\n      <td>15.601252</td>\n    </tr>\n    <tr>\n      <th>19</th>\n      <td>Metropolis</td>\n      <td>['fritz lang']</td>\n      <td>1.229954</td>\n      <td>0.000462</td>\n      <td>0.007022</td>\n      <td>14.487867</td>\n      <td>92620000.0</td>\n      <td>650422.0</td>\n      <td>0</td>\n      <td>0</td>\n      <td>...</td>\n      <td>1</td>\n      <td>0</td>\n      <td>0</td>\n      <td>0</td>\n      <td>0</td>\n      <td>0</td>\n      <td>0</td>\n      <td>0</td>\n      <td>0</td>\n      <td>10.424307</td>\n    </tr>\n    <tr>\n      <th>22</th>\n      <td>Pirates of the Caribbean: The Curse of the Bla...</td>\n      <td>['gore verbinski']</td>\n      <td>2.144467</td>\n      <td>0.001848</td>\n      <td>4.678652</td>\n      <td>47.326665</td>\n      <td>140000000.0</td>\n      <td>655011224.0</td>\n      <td>0</td>\n      <td>0</td>\n      <td>...</td>\n      <td>0</td>\n      <td>0</td>\n      <td>0</td>\n      <td>1</td>\n      <td>0</td>\n      <td>0</td>\n      <td>0</td>\n      <td>0</td>\n      <td>0</td>\n      <td>17.505778</td>\n    </tr>\n    <tr>\n      <th>...</th>\n      <td>...</td>\n      <td>...</td>\n      <td>...</td>\n      <td>...</td>\n      <td>...</td>\n      <td>...</td>\n      <td>...</td>\n      <td>...</td>\n      <td>...</td>\n      <td>...</td>\n      <td>...</td>\n      <td>...</td>\n      <td>...</td>\n      <td>...</td>\n      <td>...</td>\n      <td>...</td>\n      <td>...</td>\n      <td>...</td>\n      <td>...</td>\n      <td>...</td>\n      <td>...</td>\n    </tr>\n    <tr>\n      <th>422603</th>\n      <td>Aanandam</td>\n      <td>['ganesh raj']</td>\n      <td>5.111111</td>\n      <td>0.000231</td>\n      <td>5.111111</td>\n      <td>0.354748</td>\n      <td>450000.0</td>\n      <td>2300000.0</td>\n      <td>0</td>\n      <td>1</td>\n      <td>...</td>\n      <td>0</td>\n      <td>0</td>\n      <td>0</td>\n      <td>1</td>\n      <td>0</td>\n      <td>0</td>\n      <td>0</td>\n      <td>0</td>\n      <td>0</td>\n      <td>0.354748</td>\n    </tr>\n    <tr>\n      <th>425942</th>\n      <td>Black Snow</td>\n      <td>['martín hodara']</td>\n      <td>0.360000</td>\n      <td>0.000231</td>\n      <td>0.360000</td>\n      <td>10.067238</td>\n      <td>4000000.0</td>\n      <td>1440000.0</td>\n      <td>0</td>\n      <td>0</td>\n      <td>...</td>\n      <td>1</td>\n      <td>0</td>\n      <td>0</td>\n      <td>0</td>\n      <td>0</td>\n      <td>1</td>\n      <td>0</td>\n      <td>0</td>\n      <td>0</td>\n      <td>10.067238</td>\n    </tr>\n    <tr>\n      <th>433356</th>\n      <td>The Ottoman Lieutenant</td>\n      <td>['joseph ruben']</td>\n      <td>1.502762</td>\n      <td>0.000924</td>\n      <td>0.006024</td>\n      <td>13.256679</td>\n      <td>40000000.0</td>\n      <td>240978.0</td>\n      <td>0</td>\n      <td>0</td>\n      <td>...</td>\n      <td>1</td>\n      <td>0</td>\n      <td>0</td>\n      <td>0</td>\n      <td>0</td>\n      <td>0</td>\n      <td>0</td>\n      <td>0</td>\n      <td>1</td>\n      <td>8.717460</td>\n    </tr>\n    <tr>\n      <th>440642</th>\n      <td>The Spacewalker</td>\n      <td>['dmitriy kiselev']</td>\n      <td>1.394896</td>\n      <td>0.000231</td>\n      <td>1.394896</td>\n      <td>10.181000</td>\n      <td>7075038.0</td>\n      <td>9868942.0</td>\n      <td>1</td>\n      <td>0</td>\n      <td>...</td>\n      <td>1</td>\n      <td>0</td>\n      <td>0</td>\n      <td>1</td>\n      <td>0</td>\n      <td>0</td>\n      <td>0</td>\n      <td>0</td>\n      <td>0</td>\n      <td>10.181000</td>\n    </tr>\n    <tr>\n      <th>443319</th>\n      <td>Phoenix Forgotten</td>\n      <td>['justin barber']</td>\n      <td>1.285714</td>\n      <td>0.000231</td>\n      <td>1.285714</td>\n      <td>12.560942</td>\n      <td>2800000.0</td>\n      <td>3600000.0</td>\n      <td>0</td>\n      <td>0</td>\n      <td>...</td>\n      <td>0</td>\n      <td>0</td>\n      <td>1</td>\n      <td>0</td>\n      <td>0</td>\n      <td>0</td>\n      <td>0</td>\n      <td>0</td>\n      <td>0</td>\n      <td>12.560942</td>\n    </tr>\n  </tbody>\n</table>\n<p>4296 rows × 28 columns</p>\n</div>"
     },
     "execution_count": 27,
     "metadata": {},
     "output_type": "execute_result"
    }
   ],
   "source": [
    "df"
   ],
   "metadata": {
    "collapsed": false,
    "pycharm": {
     "name": "#%%\n"
    }
   }
  },
  {
   "cell_type": "code",
   "execution_count": 28,
   "outputs": [
    {
     "data": {
      "text/plain": "directors\n[\"dan o'bannon\"]                        4.000000e+06\n[\"dean o'flaherty\"]                     1.500000e+06\n[\"dinesh d'souza\", 'bruce schooley']    5.000000e+06\n[\"gavin o'connor\"]                      2.538533e+07\n[\"matthew o'callaghan\"]                 5.000000e+07\n                                            ...     \n['zhang yimou', 'yasuo furuhata']       7.500000e+06\n['zhang yimou']                         8.196667e+07\n['zoya akhtar']                         1.300000e+07\n['álex de la iglesia']                  7.000000e+06\n['émile gaudreault']                    4.361898e+06\nName: budget, Length: 2178, dtype: float64"
     },
     "execution_count": 28,
     "metadata": {},
     "output_type": "execute_result"
    }
   ],
   "source": [
    "df.groupby('directors')['budget'].mean()"
   ],
   "metadata": {
    "collapsed": false,
    "pycharm": {
     "name": "#%%\n"
    }
   }
  },
  {
   "cell_type": "markdown",
   "source": [
    "we cannot use the budget as an indicator as it has dollar values, which change over decades"
   ],
   "metadata": {
    "collapsed": false
   }
  },
  {
   "cell_type": "code",
   "execution_count": 29,
   "outputs": [],
   "source": [
    "df.to_csv('kaggle_data/director_related_data_v2.cv')"
   ],
   "metadata": {
    "collapsed": false,
    "pycharm": {
     "name": "#%%\n"
    }
   }
  },
  {
   "cell_type": "code",
   "execution_count": null,
   "outputs": [],
   "source": [],
   "metadata": {
    "collapsed": false,
    "pycharm": {
     "name": "#%%\n"
    }
   }
  }
 ],
 "metadata": {
  "kernelspec": {
   "display_name": "Python 3",
   "language": "python",
   "name": "python3"
  },
  "language_info": {
   "codemirror_mode": {
    "name": "ipython",
    "version": 2
   },
   "file_extension": ".py",
   "mimetype": "text/x-python",
   "name": "python",
   "nbconvert_exporter": "python",
   "pygments_lexer": "ipython2",
   "version": "2.7.6"
  }
 },
 "nbformat": 4,
 "nbformat_minor": 0
}